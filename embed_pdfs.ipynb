{
 "cells": [
  {
   "cell_type": "markdown",
   "id": "3b887c1a",
   "metadata": {},
   "source": [
    "# Extract text from pdf files"
   ]
  },
  {
   "cell_type": "code",
   "execution_count": 2,
   "id": "e17d6b59",
   "metadata": {},
   "outputs": [],
   "source": [
    "import os\n",
    "from mistralai import Mistral\n",
    "import base64\n",
    "import requests\n",
    "import json"
   ]
  },
  {
   "cell_type": "markdown",
   "id": "7d89b164",
   "metadata": {},
   "source": [
    "Extract text from pdf files using Mistral OCR\n",
    "1. Get list of files in ./pdfs\n",
    "2. For each file, extract text using Mistral OCR\n"
   ]
  },
  {
   "cell_type": "code",
   "execution_count": null,
   "id": "1e159b74",
   "metadata": {},
   "outputs": [],
   "source": [
    "# get mistral_api_key from environment variable\n",
    "mistral_api_key = os.getenv(\"MISTRAL_API_KEY\")\n",
    "mistral_ocr_url = \"https://api.mistral.ai/v1/ocr\"\n",
    "ocr_model = \"mistral-ocr-latest\"\n",
    "client = Mistral(api_key=mistral_api_key)"
   ]
  },
  {
   "cell_type": "code",
   "execution_count": 3,
   "id": "655b4414",
   "metadata": {},
   "outputs": [],
   "source": [
    "def encode_pdf(pdf_path):\n",
    "    \"\"\"Encode the pdf to base64.\"\"\"\n",
    "    try:\n",
    "        with open(pdf_path, \"rb\") as pdf_file:\n",
    "            return base64.b64encode(pdf_file.read()).decode('utf-8')\n",
    "    except FileNotFoundError:\n",
    "        print(f\"Error: The file {pdf_path} was not found.\")\n",
    "        return None\n",
    "    except Exception as e:  # Added general exception handling\n",
    "        print(f\"Error: {e}\")\n",
    "        return None\n"
   ]
  },
  {
   "cell_type": "code",
   "execution_count": 4,
   "id": "e432dcab",
   "metadata": {},
   "outputs": [
    {
     "name": "stdout",
     "output_type": "stream",
     "text": [
      "sending request\n",
      "request sent\n"
     ]
    }
   ],
   "source": [
    "# read a file from ./pdfs\n",
    "pdf_path = \"./pdfs/0-666-676-684-696-chatham-street-west/Acoustical and Vibration Report.pdf\"\n",
    "pdf_path = \"./pdfs/8607-8649-8675-8699-McHugh-Street/Application Form Plan of Subdivision or Condominium.pdf\"\n",
    "if not os.path.exists(pdf_path):\n",
    "    raise FileNotFoundError(f\"File not found: {pdf_path}\")\n",
    "\n",
    "# encode the pdf to base64\n",
    "base64_pdf = encode_pdf(pdf_path)\n",
    "print(\"sending request\")\n",
    "ocr_response = client.ocr.process(\n",
    "    model=\"mistral-ocr-latest\",\n",
    "    document={\n",
    "        \"type\": \"document_url\",\n",
    "        \"document_url\": f\"data:application/pdf;base64,{base64_pdf}\" \n",
    "    }\n",
    ")\n",
    "print(\"request sent\")"
   ]
  },
  {
   "cell_type": "code",
   "execution_count": 5,
   "id": "6333c2a3",
   "metadata": {},
   "outputs": [
    {
     "name": "stdout",
     "output_type": "stream",
     "text": [
      "sending request\n",
      "request sent\n"
     ]
    }
   ],
   "source": [
    "pdf_path = \"./pdfs/8607-8649-8675-8699-McHugh-Street/Application Form Plan of Subdivision or Condominium.pdf\"\n",
    "if not os.path.exists(pdf_path):\n",
    "    raise FileNotFoundError(f\"File not found: {pdf_path}\")\n",
    "\n",
    "# encode the pdf to base64\n",
    "base64_pdf = encode_pdf(pdf_path)\n",
    "\n",
    "print(\"sending request\")\n",
    "# make a post request to the mistral url\n",
    "mistral_response = requests.post(\n",
    "    mistral_ocr_url,\n",
    "    headers={\n",
    "        \"Authorization\": f\"Bearer {mistral_api_key}\",\n",
    "        \"Content-Type\": \"application/json\"\n",
    "    },\n",
    "    json={\n",
    "        \"model\": ocr_model,\n",
    "        \"document\": {\n",
    "            \"type\": \"document_url\",\n",
    "            \"document_url\": f\"data:application/pdf;base64,{base64_pdf}\"\n",
    "        }\n",
    "    }\n",
    ")\n",
    "print(\"request sent\")"
   ]
  },
  {
   "cell_type": "code",
   "execution_count": 8,
   "id": "455b0590",
   "metadata": {},
   "outputs": [
    {
     "name": "stdout",
     "output_type": "stream",
     "text": [
      "File already exists: ./jsons/8607-8649-8675-8699-McHugh-Street/Application Form Plan of Subdivision or Condominium.pdf.json\n",
      "File is valid: ./jsons/8607-8649-8675-8699-McHugh-Street/Application Form Plan of Subdivision or Condominium.pdf.json\n",
      "File already exists: ./jsons/8607-8649-8675-8699-McHugh-Street/Condominium Drawings.pdf.json\n",
      "File is valid: ./jsons/8607-8649-8675-8699-McHugh-Street/Condominium Drawings.pdf.json\n",
      "File already exists: ./jsons/8607-8649-8675-8699-McHugh-Street/DPC Exemption Cover Letter (December 2021).pdf.json\n",
      "File is valid: ./jsons/8607-8649-8675-8699-McHugh-Street/DPC Exemption Cover Letter (December 2021).pdf.json\n",
      "File already exists: ./jsons/0-1095-1185-North-Talbot-Road/SDN-001_21 - Drawings.pdf.json\n",
      "Error in file: ./jsons/0-1095-1185-North-Talbot-Road/SDN-001_21 - Drawings.pdf.json\n",
      "File already exists: ./jsons/0-1095-1185-North-Talbot-Road/SDN-001_21 - Storm Water Management Report (updated).pdf.json\n",
      "Error in file: ./jsons/0-1095-1185-North-Talbot-Road/SDN-001_21 - Storm Water Management Report (updated).pdf.json\n",
      "File already exists: ./jsons/0-1095-1185-North-Talbot-Road/SDN-001_21 - Storm Water Management Report.pdf.json\n",
      "Error in file: ./jsons/0-1095-1185-North-Talbot-Road/SDN-001_21 - Storm Water Management Report.pdf.json\n",
      "File already exists: ./jsons/0-1095-1185-North-Talbot-Road/SDN-001_21 - 1095 and 1185 North Talbot Survey.pdf.json\n",
      "File is valid: ./jsons/0-1095-1185-North-Talbot-Road/SDN-001_21 - 1095 and 1185 North Talbot Survey.pdf.json\n",
      "File already exists: ./jsons/0-1095-1185-North-Talbot-Road/SDN-001_21 - Acoustical Report.pdf.json\n",
      "File is valid: ./jsons/0-1095-1185-North-Talbot-Road/SDN-001_21 - Acoustical Report.pdf.json\n",
      "File already exists: ./jsons/0-1095-1185-North-Talbot-Road/SDN-001_21 - Bellocorp Development - North Talbot Tree Report.pdf.json\n",
      "File is valid: ./jsons/0-1095-1185-North-Talbot-Road/SDN-001_21 - Bellocorp Development - North Talbot Tree Report.pdf.json\n",
      "File already exists: ./jsons/0-1095-1185-North-Talbot-Road/SDN-001_21 - Draft Plan.pdf.json\n",
      "File is valid: ./jsons/0-1095-1185-North-Talbot-Road/SDN-001_21 - Draft Plan.pdf.json\n",
      "File already exists: ./jsons/0-1095-1185-North-Talbot-Road/SDN-001_21 - Endangered Species Act Study.pdf.json\n",
      "File is valid: ./jsons/0-1095-1185-North-Talbot-Road/SDN-001_21 - Endangered Species Act Study.pdf.json\n",
      "File already exists: ./jsons/0-1095-1185-North-Talbot-Road/SDN-001_21 - Phase 1 Environmental Site Assessment.pdf.json\n",
      "Error in file: ./jsons/0-1095-1185-North-Talbot-Road/SDN-001_21 - Phase 1 Environmental Site Assessment.pdf.json\n",
      "File already exists: ./jsons/0-1095-1185-North-Talbot-Road/SDN-001_21 - Planning Rationale Report.pdf.json\n",
      "File is valid: ./jsons/0-1095-1185-North-Talbot-Road/SDN-001_21 - Planning Rationale Report.pdf.json\n",
      "File already exists: ./jsons/0-1095-1185-North-Talbot-Road/SDN-001_21 - Species At Risk (SAR).pdf.json\n",
      "File is valid: ./jsons/0-1095-1185-North-Talbot-Road/SDN-001_21 - Species At Risk (SAR).pdf.json\n",
      "File already exists: ./jsons/0-1095-1185-North-Talbot-Road/SDN-001_21 - Subdivision Application Signed Commissioned.pdf.json\n",
      "File is valid: ./jsons/0-1095-1185-North-Talbot-Road/SDN-001_21 - Subdivision Application Signed Commissioned.pdf.json\n",
      "File already exists: ./jsons/1500-Ouellette-Avenue/Land transfer information.pdf.json\n",
      "File is valid: ./jsons/1500-Ouellette-Avenue/Land transfer information.pdf.json\n",
      "File already exists: ./jsons/1500-Ouellette-Avenue/Application for Plan of Condo.pdf.json\n",
      "File is valid: ./jsons/1500-Ouellette-Avenue/Application for Plan of Condo.pdf.json\n",
      "File already exists: ./jsons/1500-Ouellette-Avenue/Architectural drawings.pdf.json\n",
      "File is valid: ./jsons/1500-Ouellette-Avenue/Architectural drawings.pdf.json\n",
      "File already exists: ./jsons/1500-Ouellette-Avenue/Draft Plan of Condo.pdf.json\n",
      "File is valid: ./jsons/1500-Ouellette-Avenue/Draft Plan of Condo.pdf.json\n",
      "File already exists: ./jsons/1500-Ouellette-Avenue/Structural Integrity Report.pdf.json\n",
      "Error in file: ./jsons/1500-Ouellette-Avenue/Structural Integrity Report.pdf.json\n",
      "File already exists: ./jsons/1500-Ouellette-Avenue/Survey.pdf.json\n",
      "File is valid: ./jsons/1500-Ouellette-Avenue/Survey.pdf.json\n",
      "File already exists: ./jsons/0-Wyandotte-Sreet-East-Ganatchio-Gardens-Inc/Archaeological Assessment.pdf.json\n",
      "File is valid: ./jsons/0-Wyandotte-Sreet-East-Ganatchio-Gardens-Inc/Archaeological Assessment.pdf.json\n",
      "File already exists: ./jsons/0-Wyandotte-Sreet-East-Ganatchio-Gardens-Inc/Archaeological Supplementary Report.pdf.json\n",
      "File is valid: ./jsons/0-Wyandotte-Sreet-East-Ganatchio-Gardens-Inc/Archaeological Supplementary Report.pdf.json\n",
      "File already exists: ./jsons/0-Wyandotte-Sreet-East-Ganatchio-Gardens-Inc/Concept Plan.pdf.json\n",
      "File is valid: ./jsons/0-Wyandotte-Sreet-East-Ganatchio-Gardens-Inc/Concept Plan.pdf.json\n",
      "File already exists: ./jsons/0-Wyandotte-Sreet-East-Ganatchio-Gardens-Inc/Environmental Evaluation Report Terms of Reference.pdf.json\n",
      "File is valid: ./jsons/0-Wyandotte-Sreet-East-Ganatchio-Gardens-Inc/Environmental Evaluation Report Terms of Reference.pdf.json\n",
      "File already exists: ./jsons/0-Wyandotte-Sreet-East-Ganatchio-Gardens-Inc/Environmental Evaluation Report.pdf.json\n",
      "File is valid: ./jsons/0-Wyandotte-Sreet-East-Ganatchio-Gardens-Inc/Environmental Evaluation Report.pdf.json\n",
      "File already exists: ./jsons/0-Wyandotte-Sreet-East-Ganatchio-Gardens-Inc/Functional Servicing Report.pdf.json\n",
      "File is valid: ./jsons/0-Wyandotte-Sreet-East-Ganatchio-Gardens-Inc/Functional Servicing Report.pdf.json\n",
      "File already exists: ./jsons/0-Wyandotte-Sreet-East-Ganatchio-Gardens-Inc/Ganatchio Gardens Energy Strategy Report.pdf.json\n",
      "File is valid: ./jsons/0-Wyandotte-Sreet-East-Ganatchio-Gardens-Inc/Ganatchio Gardens Energy Strategy Report.pdf.json\n",
      "File already exists: ./jsons/0-Wyandotte-Sreet-East-Ganatchio-Gardens-Inc/Location Map.pdf.json\n",
      "File is valid: ./jsons/0-Wyandotte-Sreet-East-Ganatchio-Gardens-Inc/Location Map.pdf.json\n",
      "File already exists: ./jsons/0-Wyandotte-Sreet-East-Ganatchio-Gardens-Inc/Natural Site Features Inventory and Preservation Study.pdf.json\n",
      "File is valid: ./jsons/0-Wyandotte-Sreet-East-Ganatchio-Gardens-Inc/Natural Site Features Inventory and Preservation Study.pdf.json\n",
      "File already exists: ./jsons/0-Wyandotte-Sreet-East-Ganatchio-Gardens-Inc/Odour Assessment.pdf.json\n",
      "File is valid: ./jsons/0-Wyandotte-Sreet-East-Ganatchio-Gardens-Inc/Odour Assessment.pdf.json\n",
      "File already exists: ./jsons/0-Wyandotte-Sreet-East-Ganatchio-Gardens-Inc/Official Plan Amendment Application.pdf.json\n",
      "File is valid: ./jsons/0-Wyandotte-Sreet-East-Ganatchio-Gardens-Inc/Official Plan Amendment Application.pdf.json\n",
      "File already exists: ./jsons/0-Wyandotte-Sreet-East-Ganatchio-Gardens-Inc/Parking Plan.pdf.json\n",
      "File is valid: ./jsons/0-Wyandotte-Sreet-East-Ganatchio-Gardens-Inc/Parking Plan.pdf.json\n",
      "File already exists: ./jsons/0-Wyandotte-Sreet-East-Ganatchio-Gardens-Inc/Phase I Environmental Site Assessment.pdf.json\n",
      "File is valid: ./jsons/0-Wyandotte-Sreet-East-Ganatchio-Gardens-Inc/Phase I Environmental Site Assessment.pdf.json\n",
      "File already exists: ./jsons/0-Wyandotte-Sreet-East-Ganatchio-Gardens-Inc/Planning Justification Report.pdf.json\n",
      "File is valid: ./jsons/0-Wyandotte-Sreet-East-Ganatchio-Gardens-Inc/Planning Justification Report.pdf.json\n",
      "File already exists: ./jsons/0-Wyandotte-Sreet-East-Ganatchio-Gardens-Inc/Planning Justification Report - Updated.pdf.json\n",
      "File is valid: ./jsons/0-Wyandotte-Sreet-East-Ganatchio-Gardens-Inc/Planning Justification Report - Updated.pdf.json\n",
      "File already exists: ./jsons/0-Wyandotte-Sreet-East-Ganatchio-Gardens-Inc/Public Information Centre Engagement Summary.pdf.json\n",
      "File is valid: ./jsons/0-Wyandotte-Sreet-East-Ganatchio-Gardens-Inc/Public Information Centre Engagement Summary.pdf.json\n",
      "File already exists: ./jsons/0-Wyandotte-Sreet-East-Ganatchio-Gardens-Inc/Shadow Impact Study.pdf.json\n",
      "File is valid: ./jsons/0-Wyandotte-Sreet-East-Ganatchio-Gardens-Inc/Shadow Impact Study.pdf.json\n",
      "File already exists: ./jsons/0-Wyandotte-Sreet-East-Ganatchio-Gardens-Inc/Soil Characterization Report.pdf.json\n",
      "File is valid: ./jsons/0-Wyandotte-Sreet-East-Ganatchio-Gardens-Inc/Soil Characterization Report.pdf.json\n",
      "File already exists: ./jsons/0-Wyandotte-Sreet-East-Ganatchio-Gardens-Inc/Stormwater Management Report.pdf.json\n",
      "File is valid: ./jsons/0-Wyandotte-Sreet-East-Ganatchio-Gardens-Inc/Stormwater Management Report.pdf.json\n",
      "File already exists: ./jsons/0-Wyandotte-Sreet-East-Ganatchio-Gardens-Inc/Topographic Survey.pdf.json\n",
      "File is valid: ./jsons/0-Wyandotte-Sreet-East-Ganatchio-Gardens-Inc/Topographic Survey.pdf.json\n",
      "File already exists: ./jsons/0-Wyandotte-Sreet-East-Ganatchio-Gardens-Inc/Traffic Impact Study.pdf.json\n",
      "File is valid: ./jsons/0-Wyandotte-Sreet-East-Ganatchio-Gardens-Inc/Traffic Impact Study.pdf.json\n",
      "File already exists: ./jsons/0-Wyandotte-Sreet-East-Ganatchio-Gardens-Inc/Tree Inventory and Preservation Report.pdf.json\n",
      "File is valid: ./jsons/0-Wyandotte-Sreet-East-Ganatchio-Gardens-Inc/Tree Inventory and Preservation Report.pdf.json\n",
      "File already exists: ./jsons/0-Wyandotte-Sreet-East-Ganatchio-Gardens-Inc/Zoning By-law Amendment Application.pdf.json\n",
      "File is valid: ./jsons/0-Wyandotte-Sreet-East-Ganatchio-Gardens-Inc/Zoning By-law Amendment Application.pdf.json\n",
      "File already exists: ./jsons/0-Wyandotte-Sreet-East-Ganatchio-Gardens-Inc/Zoning By-law Amendment Application - Update.pdf.json\n",
      "File is valid: ./jsons/0-Wyandotte-Sreet-East-Ganatchio-Gardens-Inc/Zoning By-law Amendment Application - Update.pdf.json\n",
      "File already exists: ./jsons/1460-Lauzon-Road/Elevations.pdf.json\n",
      "File is valid: ./jsons/1460-Lauzon-Road/Elevations.pdf.json\n",
      "File already exists: ./jsons/1460-Lauzon-Road/Planning Rationale Report.pdf.json\n",
      "File is valid: ./jsons/1460-Lauzon-Road/Planning Rationale Report.pdf.json\n",
      "File already exists: ./jsons/1460-Lauzon-Road/Rendering.pdf.json\n",
      "File is valid: ./jsons/1460-Lauzon-Road/Rendering.pdf.json\n",
      "File already exists: ./jsons/1460-Lauzon-Road/Site Plan.pdf.json\n",
      "File is valid: ./jsons/1460-Lauzon-Road/Site Plan.pdf.json\n",
      "File already exists: ./jsons/1460-Lauzon-Road/Traffic Impact Study Addendum.pdf.json\n",
      "File is valid: ./jsons/1460-Lauzon-Road/Traffic Impact Study Addendum.pdf.json\n",
      "File already exists: ./jsons/835-Tecumseh-Road-East-2148-Marentette-Avenue-and-2175-Parent-Avenue/Conceptual Elevations (North & East).pdf.json\n",
      "File is valid: ./jsons/835-Tecumseh-Road-East-2148-Marentette-Avenue-and-2175-Parent-Avenue/Conceptual Elevations (North & East).pdf.json\n",
      "File already exists: ./jsons/835-Tecumseh-Road-East-2148-Marentette-Avenue-and-2175-Parent-Avenue/Conceptual Elevations (South & West).pdf.json\n",
      "File is valid: ./jsons/835-Tecumseh-Road-East-2148-Marentette-Avenue-and-2175-Parent-Avenue/Conceptual Elevations (South & West).pdf.json\n",
      "File already exists: ./jsons/835-Tecumseh-Road-East-2148-Marentette-Avenue-and-2175-Parent-Avenue/Conceptual Floor Plan (1st).pdf.json\n",
      "File is valid: ./jsons/835-Tecumseh-Road-East-2148-Marentette-Avenue-and-2175-Parent-Avenue/Conceptual Floor Plan (1st).pdf.json\n",
      "File already exists: ./jsons/835-Tecumseh-Road-East-2148-Marentette-Avenue-and-2175-Parent-Avenue/Conceptual Floor Plans (2nd to 6th).pdf.json\n",
      "File is valid: ./jsons/835-Tecumseh-Road-East-2148-Marentette-Avenue-and-2175-Parent-Avenue/Conceptual Floor Plans (2nd to 6th).pdf.json\n",
      "File already exists: ./jsons/835-Tecumseh-Road-East-2148-Marentette-Avenue-and-2175-Parent-Avenue/Conceptual Site Plan.pdf.json\n",
      "File is valid: ./jsons/835-Tecumseh-Road-East-2148-Marentette-Avenue-and-2175-Parent-Avenue/Conceptual Site Plan.pdf.json\n",
      "File already exists: ./jsons/835-Tecumseh-Road-East-2148-Marentette-Avenue-and-2175-Parent-Avenue/Environmental Noise Assessment.pdf.json\n",
      "File is valid: ./jsons/835-Tecumseh-Road-East-2148-Marentette-Avenue-and-2175-Parent-Avenue/Environmental Noise Assessment.pdf.json\n",
      "File already exists: ./jsons/835-Tecumseh-Road-East-2148-Marentette-Avenue-and-2175-Parent-Avenue/Existing Tree Inventory & Preservation Plan.pdf.json\n",
      "File is valid: ./jsons/835-Tecumseh-Road-East-2148-Marentette-Avenue-and-2175-Parent-Avenue/Existing Tree Inventory & Preservation Plan.pdf.json\n",
      "File already exists: ./jsons/835-Tecumseh-Road-East-2148-Marentette-Avenue-and-2175-Parent-Avenue/Official Plan Amendment Application.pdf.json\n",
      "File is valid: ./jsons/835-Tecumseh-Road-East-2148-Marentette-Avenue-and-2175-Parent-Avenue/Official Plan Amendment Application.pdf.json\n",
      "File already exists: ./jsons/835-Tecumseh-Road-East-2148-Marentette-Avenue-and-2175-Parent-Avenue/Planning Rationale Report.pdf.json\n",
      "File is valid: ./jsons/835-Tecumseh-Road-East-2148-Marentette-Avenue-and-2175-Parent-Avenue/Planning Rationale Report.pdf.json\n",
      "File already exists: ./jsons/835-Tecumseh-Road-East-2148-Marentette-Avenue-and-2175-Parent-Avenue/Rendering.pdf.json\n",
      "File is valid: ./jsons/835-Tecumseh-Road-East-2148-Marentette-Avenue-and-2175-Parent-Avenue/Rendering.pdf.json\n",
      "File already exists: ./jsons/835-Tecumseh-Road-East-2148-Marentette-Avenue-and-2175-Parent-Avenue/Sanitary Sewer Study.pdf.json\n",
      "File is valid: ./jsons/835-Tecumseh-Road-East-2148-Marentette-Avenue-and-2175-Parent-Avenue/Sanitary Sewer Study.pdf.json\n",
      "File already exists: ./jsons/835-Tecumseh-Road-East-2148-Marentette-Avenue-and-2175-Parent-Avenue/Topographic Survey.pdf.json\n",
      "File is valid: ./jsons/835-Tecumseh-Road-East-2148-Marentette-Avenue-and-2175-Parent-Avenue/Topographic Survey.pdf.json\n",
      "File already exists: ./jsons/835-Tecumseh-Road-East-2148-Marentette-Avenue-and-2175-Parent-Avenue/Zoning By-law Amendment Application.pdf.json\n",
      "File is valid: ./jsons/835-Tecumseh-Road-East-2148-Marentette-Avenue-and-2175-Parent-Avenue/Zoning By-law Amendment Application.pdf.json\n",
      "File already exists: ./jsons/0-Clairview-Avenue/Archeological Assessment.pdf.json\n",
      "File is valid: ./jsons/0-Clairview-Avenue/Archeological Assessment.pdf.json\n",
      "File already exists: ./jsons/0-Clairview-Avenue/Transportation Impact Study.pdf.json\n",
      "File is valid: ./jsons/0-Clairview-Avenue/Transportation Impact Study.pdf.json\n",
      "File already exists: ./jsons/0-Clairview-Avenue/Conceptual Development Plan.pdf.json\n",
      "File is valid: ./jsons/0-Clairview-Avenue/Conceptual Development Plan.pdf.json\n",
      "File already exists: ./jsons/0-Clairview-Avenue/Environmental Evaluation Report.pdf.json\n",
      "Error in file: ./jsons/0-Clairview-Avenue/Environmental Evaluation Report.pdf.json\n",
      "File already exists: ./jsons/0-Clairview-Avenue/Functional Servicing Report.pdf.json\n",
      "Error in file: ./jsons/0-Clairview-Avenue/Functional Servicing Report.pdf.json\n",
      "File already exists: ./jsons/0-Clairview-Avenue/Natural Site Features Inventory and Preservation Study.pdf.json\n",
      "File is valid: ./jsons/0-Clairview-Avenue/Natural Site Features Inventory and Preservation Study.pdf.json\n",
      "File already exists: ./jsons/0-Clairview-Avenue/Official Plan Amendment Application.pdf.json\n",
      "File is valid: ./jsons/0-Clairview-Avenue/Official Plan Amendment Application.pdf.json\n",
      "File already exists: ./jsons/0-Clairview-Avenue/Planning Justification Report.pdf.json\n",
      "Error in file: ./jsons/0-Clairview-Avenue/Planning Justification Report.pdf.json\n",
      "File already exists: ./jsons/0-Clairview-Avenue/Public Information Centre Engagement Summary.pdf.json\n",
      "File is valid: ./jsons/0-Clairview-Avenue/Public Information Centre Engagement Summary.pdf.json\n",
      "File already exists: ./jsons/0-Clairview-Avenue/Shadow Impact Study.pdf.json\n",
      "File is valid: ./jsons/0-Clairview-Avenue/Shadow Impact Study.pdf.json\n",
      "File already exists: ./jsons/0-Clairview-Avenue/Species At Risk Considerations Memo.pdf.json\n",
      "Error in file: ./jsons/0-Clairview-Avenue/Species At Risk Considerations Memo.pdf.json\n",
      "File already exists: ./jsons/0-Clairview-Avenue/Stormwater Management Brief.pdf.json\n",
      "Error in file: ./jsons/0-Clairview-Avenue/Stormwater Management Brief.pdf.json\n",
      "File already exists: ./jsons/0-Clairview-Avenue/Zoning By-Law Amendment Application.pdf.json\n",
      "File is valid: ./jsons/0-Clairview-Avenue/Zoning By-Law Amendment Application.pdf.json\n",
      "File already exists: ./jsons/0-Wyandotte-Street-East/Application Form Official Plan Amendment.pdf.json\n",
      "File is valid: ./jsons/0-Wyandotte-Street-East/Application Form Official Plan Amendment.pdf.json\n",
      "File already exists: ./jsons/0-Wyandotte-Street-East/Application Form Zoning By-law Amendment.pdf.json\n",
      "File is valid: ./jsons/0-Wyandotte-Street-East/Application Form Zoning By-law Amendment.pdf.json\n",
      "File already exists: ./jsons/0-Wyandotte-Street-East/Archaeological Assessment.pdf.json\n",
      "File is valid: ./jsons/0-Wyandotte-Street-East/Archaeological Assessment.pdf.json\n",
      "File already exists: ./jsons/0-Wyandotte-Street-East/Concept Plan.pdf.json\n",
      "File is valid: ./jsons/0-Wyandotte-Street-East/Concept Plan.pdf.json\n",
      "File already exists: ./jsons/0-Wyandotte-Street-East/Environmental Evaluation Report.pdf.json\n",
      "Error in file: ./jsons/0-Wyandotte-Street-East/Environmental Evaluation Report.pdf.json\n",
      "File already exists: ./jsons/0-Wyandotte-Street-East/Functional Servicing Report.pdf.json\n",
      "Error in file: ./jsons/0-Wyandotte-Street-East/Functional Servicing Report.pdf.json\n",
      "File already exists: ./jsons/0-Wyandotte-Street-East/Location Map.pdf.json\n",
      "File is valid: ./jsons/0-Wyandotte-Street-East/Location Map.pdf.json\n",
      "File already exists: ./jsons/0-Wyandotte-Street-East/Natural Site Features Inventory and Preservation Study.pdf.json\n",
      "File is valid: ./jsons/0-Wyandotte-Street-East/Natural Site Features Inventory and Preservation Study.pdf.json\n",
      "File already exists: ./jsons/0-Wyandotte-Street-East/Planning Justification Report.pdf.json\n",
      "File is valid: ./jsons/0-Wyandotte-Street-East/Planning Justification Report.pdf.json\n",
      "File already exists: ./jsons/0-Wyandotte-Street-East/Public Information Centre Engagement Summary.pdf.json\n",
      "File is valid: ./jsons/0-Wyandotte-Street-East/Public Information Centre Engagement Summary.pdf.json\n",
      "File already exists: ./jsons/0-Wyandotte-Street-East/Shadow Impact Study.pdf.json\n",
      "File is valid: ./jsons/0-Wyandotte-Street-East/Shadow Impact Study.pdf.json\n",
      "File already exists: ./jsons/0-Wyandotte-Street-East/Storm Water Management.pdf.json\n",
      "Error in file: ./jsons/0-Wyandotte-Street-East/Storm Water Management.pdf.json\n",
      "File already exists: ./jsons/0-Wyandotte-Street-East/Transportation Impact Study.pdf.json\n",
      "File is valid: ./jsons/0-Wyandotte-Street-East/Transportation Impact Study.pdf.json\n",
      "File already exists: ./jsons/4170-4190-sixth-concession-road/Acoustical Study.pdf.json\n",
      "File is valid: ./jsons/4170-4190-sixth-concession-road/Acoustical Study.pdf.json\n",
      "File already exists: ./jsons/4170-4190-sixth-concession-road/Avani Homes 6th Concession Road Public Information Centre (PIC) Invitation.pdf.json\n",
      "File is valid: ./jsons/4170-4190-sixth-concession-road/Avani Homes 6th Concession Road Public Information Centre (PIC) Invitation.pdf.json\n",
      "File already exists: ./jsons/4170-4190-sixth-concession-road/Avani Homes PIC Comment Summary.pdf.json\n",
      "File is valid: ./jsons/4170-4190-sixth-concession-road/Avani Homes PIC Comment Summary.pdf.json\n",
      "File already exists: ./jsons/4170-4190-sixth-concession-road/Concept Development Plan.pdf.json\n",
      "File is valid: ./jsons/4170-4190-sixth-concession-road/Concept Development Plan.pdf.json\n",
      "File already exists: ./jsons/4170-4190-sixth-concession-road/Deeds - Avani Homes Transfers.pdf.json\n",
      "File is valid: ./jsons/4170-4190-sixth-concession-road/Deeds - Avani Homes Transfers.pdf.json\n",
      "File already exists: ./jsons/4170-4190-sixth-concession-road/Draft Plan.pdf.json\n",
      "File is valid: ./jsons/4170-4190-sixth-concession-road/Draft Plan.pdf.json\n",
      "File already exists: ./jsons/4170-4190-sixth-concession-road/Energy Strategy.pdf.json\n",
      "File is valid: ./jsons/4170-4190-sixth-concession-road/Energy Strategy.pdf.json\n",
      "File already exists: ./jsons/4170-4190-sixth-concession-road/Functional Servicing Report.pdf.json\n",
      "File is valid: ./jsons/4170-4190-sixth-concession-road/Functional Servicing Report.pdf.json\n",
      "File already exists: ./jsons/4170-4190-sixth-concession-road/Functional Servicing Report - Appendix A.pdf.json\n",
      "File is valid: ./jsons/4170-4190-sixth-concession-road/Functional Servicing Report - Appendix A.pdf.json\n",
      "File already exists: ./jsons/4170-4190-sixth-concession-road/Functional Servicing Report - Appendix B (1).pdf.json\n",
      "File is valid: ./jsons/4170-4190-sixth-concession-road/Functional Servicing Report - Appendix B (1).pdf.json\n",
      "File already exists: ./jsons/4170-4190-sixth-concession-road/Functional Servicing Report - Appendix B (2).pdf.json\n",
      "File is valid: ./jsons/4170-4190-sixth-concession-road/Functional Servicing Report - Appendix B (2).pdf.json\n",
      "File already exists: ./jsons/4170-4190-sixth-concession-road/Functional Servicing Report - Appendix C.pdf.json\n",
      "File is valid: ./jsons/4170-4190-sixth-concession-road/Functional Servicing Report - Appendix C.pdf.json\n",
      "File already exists: ./jsons/4170-4190-sixth-concession-road/.pdf.json\n",
      "File is valid: ./jsons/4170-4190-sixth-concession-road/.pdf.json\n",
      "File already exists: ./jsons/4170-4190-sixth-concession-road/Planning Justification Report.pdf.json\n",
      "File is valid: ./jsons/4170-4190-sixth-concession-road/Planning Justification Report.pdf.json\n",
      "File already exists: ./jsons/4170-4190-sixth-concession-road/Subdivision Application.pdf.json\n",
      "File is valid: ./jsons/4170-4190-sixth-concession-road/Subdivision Application.pdf.json\n",
      "File already exists: ./jsons/4170-4190-sixth-concession-road/Topographic Survey.pdf.json\n",
      "File is valid: ./jsons/4170-4190-sixth-concession-road/Topographic Survey.pdf.json\n",
      "File already exists: ./jsons/4170-4190-sixth-concession-road/Traffic Impact Assessment.pdf.json\n",
      "File is valid: ./jsons/4170-4190-sixth-concession-road/Traffic Impact Assessment.pdf.json\n",
      "File already exists: ./jsons/4170-4190-sixth-concession-road/Tree Inventory and Preservation Plan Report.pdf.json\n",
      "File is valid: ./jsons/4170-4190-sixth-concession-road/Tree Inventory and Preservation Plan Report.pdf.json\n",
      "File already exists: ./jsons/4170-4190-sixth-concession-road/Tree Preservation Plan.pdf.json\n",
      "File is valid: ./jsons/4170-4190-sixth-concession-road/Tree Preservation Plan.pdf.json\n",
      "File already exists: ./jsons/4170-4190-sixth-concession-road/Vibration Study.pdf.json\n",
      "File is valid: ./jsons/4170-4190-sixth-concession-road/Vibration Study.pdf.json\n",
      "File already exists: ./jsons/4170-4190-sixth-concession-road/Zoning By-law Amendment Application.pdf.json\n",
      "File is valid: ./jsons/4170-4190-sixth-concession-road/Zoning By-law Amendment Application.pdf.json\n",
      "File already exists: ./jsons/0-666-676-684-696-chatham-street-west/Official Plan Application.pdf.json\n",
      "File is valid: ./jsons/0-666-676-684-696-chatham-street-west/Official Plan Application.pdf.json\n",
      "File already exists: ./jsons/0-666-676-684-696-chatham-street-west/Zoning By-law Application.pdf.json\n",
      "File is valid: ./jsons/0-666-676-684-696-chatham-street-west/Zoning By-law Application.pdf.json\n",
      "File already exists: ./jsons/0-666-676-684-696-chatham-street-west/Concept Floor and Elevation Plans.pdf.json\n",
      "File is valid: ./jsons/0-666-676-684-696-chatham-street-west/Concept Floor and Elevation Plans.pdf.json\n",
      "File already exists: ./jsons/0-666-676-684-696-chatham-street-west/Concept Site Plan.pdf.json\n",
      "File is valid: ./jsons/0-666-676-684-696-chatham-street-west/Concept Site Plan.pdf.json\n",
      "File already exists: ./jsons/0-666-676-684-696-chatham-street-west/Preliminary Render.pdf.json\n",
      "File is valid: ./jsons/0-666-676-684-696-chatham-street-west/Preliminary Render.pdf.json\n",
      "File already exists: ./jsons/0-666-676-684-696-chatham-street-west/Planning Justification Report.pdf.json\n",
      "File is valid: ./jsons/0-666-676-684-696-chatham-street-west/Planning Justification Report.pdf.json\n",
      "File already exists: ./jsons/0-666-676-684-696-chatham-street-west/Urban Design Study.pdf.json\n",
      "File is valid: ./jsons/0-666-676-684-696-chatham-street-west/Urban Design Study.pdf.json\n",
      "File already exists: ./jsons/0-666-676-684-696-chatham-street-west/Acoustical and Vibration Report.pdf.json\n",
      "File is valid: ./jsons/0-666-676-684-696-chatham-street-west/Acoustical and Vibration Report.pdf.json\n",
      "File already exists: ./jsons/0-666-676-684-696-chatham-street-west/Micro-Climate Study.pdf.json\n",
      "File is valid: ./jsons/0-666-676-684-696-chatham-street-west/Micro-Climate Study.pdf.json\n",
      "File already exists: ./jsons/0-666-676-684-696-chatham-street-west/Energy Strategy.pdf.json\n",
      "File is valid: ./jsons/0-666-676-684-696-chatham-street-west/Energy Strategy.pdf.json\n",
      "File already exists: ./jsons/0-666-676-684-696-chatham-street-west/Heritage Overview Final Report.pdf.json\n",
      "File is valid: ./jsons/0-666-676-684-696-chatham-street-west/Heritage Overview Final Report.pdf.json\n",
      "File already exists: ./jsons/0-666-676-684-696-chatham-street-west/Stage 1-2 Archaeological Assessment.pdf.json\n",
      "File is valid: ./jsons/0-666-676-684-696-chatham-street-west/Stage 1-2 Archaeological Assessment.pdf.json\n",
      "File already exists: ./jsons/0-666-676-684-696-chatham-street-west/.pdf.json\n",
      "File is valid: ./jsons/0-666-676-684-696-chatham-street-west/.pdf.json\n",
      "File already exists: ./jsons/3589-victoria-boulevard/Zoning By-law Application.pdf.json\n",
      "File is valid: ./jsons/3589-victoria-boulevard/Zoning By-law Application.pdf.json\n",
      "File already exists: ./jsons/3589-victoria-boulevard/Neighbourhood Map.pdf.json\n",
      "File is valid: ./jsons/3589-victoria-boulevard/Neighbourhood Map.pdf.json\n",
      "File already exists: ./jsons/3589-victoria-boulevard/Conceptual Site Plan.pdf.json\n",
      "File is valid: ./jsons/3589-victoria-boulevard/Conceptual Site Plan.pdf.json\n",
      "File already exists: ./jsons/3589-victoria-boulevard/Rendering - Left.pdf.json\n",
      "File is valid: ./jsons/3589-victoria-boulevard/Rendering - Left.pdf.json\n",
      "File already exists: ./jsons/3589-victoria-boulevard/Rendering - Right.pdf.json\n",
      "File is valid: ./jsons/3589-victoria-boulevard/Rendering - Right.pdf.json\n",
      "File already exists: ./jsons/3589-victoria-boulevard/Floor Plans.pdf.json\n",
      "File is valid: ./jsons/3589-victoria-boulevard/Floor Plans.pdf.json\n",
      "File already exists: ./jsons/3589-victoria-boulevard/Proposed Building Height Comparison.pdf.json\n",
      "File is valid: ./jsons/3589-victoria-boulevard/Proposed Building Height Comparison.pdf.json\n",
      "File already exists: ./jsons/3589-victoria-boulevard/Proposed Building Height.pdf.json\n",
      "File is valid: ./jsons/3589-victoria-boulevard/Proposed Building Height.pdf.json\n",
      "File already exists: ./jsons/3589-victoria-boulevard/.pdf.json\n",
      "File is valid: ./jsons/3589-victoria-boulevard/.pdf.json\n",
      "File already exists: ./jsons/285-giles-boulevard-east/Zoning By-law Amendment Application.pdf.json\n",
      "File is valid: ./jsons/285-giles-boulevard-east/Zoning By-law Amendment Application.pdf.json\n",
      "File already exists: ./jsons/285-giles-boulevard-east/Concept Floor and Elevation Plans.pdf.json\n",
      "File is valid: ./jsons/285-giles-boulevard-east/Concept Floor and Elevation Plans.pdf.json\n",
      "File already exists: ./jsons/285-giles-boulevard-east/Concept Site Plan.pdf.json\n",
      "File is valid: ./jsons/285-giles-boulevard-east/Concept Site Plan.pdf.json\n",
      "File already exists: ./jsons/285-giles-boulevard-east/Rendering.pdf.json\n",
      "File is valid: ./jsons/285-giles-boulevard-east/Rendering.pdf.json\n",
      "File already exists: ./jsons/285-giles-boulevard-east/Sanitary Sewer Memo.pdf.json\n",
      "File is valid: ./jsons/285-giles-boulevard-east/Sanitary Sewer Memo.pdf.json\n",
      "File already exists: ./jsons/285-giles-boulevard-east/Existing Conditions Plan.pdf.json\n",
      "File is valid: ./jsons/285-giles-boulevard-east/Existing Conditions Plan.pdf.json\n",
      "File already exists: ./jsons/285-giles-boulevard-east/Open House Report.pdf.json\n",
      "File is valid: ./jsons/285-giles-boulevard-east/Open House Report.pdf.json\n",
      "File already exists: ./jsons/285-giles-boulevard-east/.pdf.json\n",
      "File is valid: ./jsons/285-giles-boulevard-east/.pdf.json\n",
      "File already exists: ./jsons/Windsor-Archaeological-Management-Plan/Official Plan Amendment No. 181 (Revised 2024-05-15).pdf.json\n",
      "File is valid: ./jsons/Windsor-Archaeological-Management-Plan/Official Plan Amendment No. 181 (Revised 2024-05-15).pdf.json\n",
      "File already exists: ./jsons/Windsor-Archaeological-Management-Plan/Official Plan Schedule C-1 - Archaeological Potential (Revised 2024-05-15).pdf.json\n",
      "File is valid: ./jsons/Windsor-Archaeological-Management-Plan/Official Plan Schedule C-1 - Archaeological Potential (Revised 2024-05-15).pdf.json\n",
      "File already exists: ./jsons/Windsor-Archaeological-Management-Plan/City of Windsor Archaeological Management Plan 2024 Update (Revised 2024-05-15).pdf.json\n",
      "File is valid: ./jsons/Windsor-Archaeological-Management-Plan/City of Windsor Archaeological Management Plan 2024 Update (Revised 2024-05-15).pdf.json\n",
      "File already exists: ./jsons/Windsor-Archaeological-Management-Plan/Appendix A_ Pre-contact Indigenous Archaeological Site Potential.pdf.json\n",
      "File is valid: ./jsons/Windsor-Archaeological-Management-Plan/Appendix A_ Pre-contact Indigenous Archaeological Site Potential.pdf.json\n",
      "File already exists: ./jsons/Windsor-Archaeological-Management-Plan/Appendix B_ Colonial Period Thematic History.pdf.json\n",
      "File is valid: ./jsons/Windsor-Archaeological-Management-Plan/Appendix B_ Colonial Period Thematic History.pdf.json\n",
      "File already exists: ./jsons/Windsor-Archaeological-Management-Plan/Appendix C_ Contingency Plan for the Protection of Archaeological Resources in Urgent Situations.pdf.json\n",
      "File is valid: ./jsons/Windsor-Archaeological-Management-Plan/Appendix C_ Contingency Plan for the Protection of Archaeological Resources in Urgent Situations.pdf.json\n",
      "File already exists: ./jsons/Windsor-Archaeological-Management-Plan/Appendix D_ Proposed Policy Revisions to the City of Windsor Official Plan.pdf.json\n",
      "File is valid: ./jsons/Windsor-Archaeological-Management-Plan/Appendix D_ Proposed Policy Revisions to the City of Windsor Official Plan.pdf.json\n",
      "File already exists: ./jsons/Windsor-Archaeological-Management-Plan/.pdf.json\n",
      "File is valid: ./jsons/Windsor-Archaeological-Management-Plan/.pdf.json\n",
      "File already exists: ./jsons/3990-loon-street/Clearance Letter.pdf.json\n",
      "File is valid: ./jsons/3990-loon-street/Clearance Letter.pdf.json\n",
      "File already exists: ./jsons/3990-loon-street/Data Matrix - 1.pdf.json\n",
      "File is valid: ./jsons/3990-loon-street/Data Matrix - 1.pdf.json\n",
      "File already exists: ./jsons/3990-loon-street/Data Matrix - 2.pdf.json\n",
      "File is valid: ./jsons/3990-loon-street/Data Matrix - 2.pdf.json\n",
      "File already exists: ./jsons/3990-loon-street/Data Matrix - 3.pdf.json\n",
      "File is valid: ./jsons/3990-loon-street/Data Matrix - 3.pdf.json\n",
      "File already exists: ./jsons/3990-loon-street/Data Matrix- 4 - Site Plan.pdf.json\n",
      "File is valid: ./jsons/3990-loon-street/Data Matrix- 4 - Site Plan.pdf.json\n",
      "File already exists: ./jsons/3990-loon-street/Draft Plan of Subdivision.pdf.json\n",
      "File is valid: ./jsons/3990-loon-street/Draft Plan of Subdivision.pdf.json\n",
      "File already exists: ./jsons/3990-loon-street/Fisheries Act Review.pdf.json\n",
      "File is valid: ./jsons/3990-loon-street/Fisheries Act Review.pdf.json\n",
      "File already exists: ./jsons/3990-loon-street/Municipal Servicing Report.pdf.json\n",
      "File is valid: ./jsons/3990-loon-street/Municipal Servicing Report.pdf.json\n",
      "File already exists: ./jsons/3990-loon-street/Notice.pdf.json\n",
      "File is valid: ./jsons/3990-loon-street/Notice.pdf.json\n",
      "File already exists: ./jsons/3990-loon-street/Plan of Survey.pdf.json\n",
      "File is valid: ./jsons/3990-loon-street/Plan of Survey.pdf.json\n",
      "File already exists: ./jsons/3990-loon-street/Planning Rationale Report.pdf.json\n",
      "File is valid: ./jsons/3990-loon-street/Planning Rationale Report.pdf.json\n",
      "File already exists: ./jsons/3990-loon-street/Planning Rationale Report Final.pdf.json\n",
      "File is valid: ./jsons/3990-loon-street/Planning Rationale Report Final.pdf.json\n",
      "File already exists: ./jsons/3990-loon-street/Planning Rationale Report (September 26, 2024, Revision).pdf.json\n",
      "File is valid: ./jsons/3990-loon-street/Planning Rationale Report (September 26, 2024, Revision).pdf.json\n",
      "File already exists: ./jsons/3990-loon-street/PreScreening.pdf.json\n",
      "File is valid: ./jsons/3990-loon-street/PreScreening.pdf.json\n",
      "File already exists: ./jsons/3990-loon-street/Presentation.pdf.json\n",
      "File is valid: ./jsons/3990-loon-street/Presentation.pdf.json\n",
      "File already exists: ./jsons/3990-loon-street/Public Consultation Summary.pdf.json\n",
      "File is valid: ./jsons/3990-loon-street/Public Consultation Summary.pdf.json\n",
      "File already exists: ./jsons/3990-loon-street/Secret Garden - Infrastructure Plan & Profile.pdf.json\n",
      "File is valid: ./jsons/3990-loon-street/Secret Garden - Infrastructure Plan & Profile.pdf.json\n",
      "File already exists: ./jsons/3990-loon-street/Secret Garden - Infrastructure Plan & Storm Sewer Easement.pdf.json\n",
      "File is valid: ./jsons/3990-loon-street/Secret Garden - Infrastructure Plan & Storm Sewer Easement.pdf.json\n",
      "File already exists: ./jsons/3990-loon-street/Secret Garden - Legend.pdf.json\n",
      "File is valid: ./jsons/3990-loon-street/Secret Garden - Legend.pdf.json\n",
      "File already exists: ./jsons/3990-loon-street/Secret Garden - Lot Grading.pdf.json\n",
      "File is valid: ./jsons/3990-loon-street/Secret Garden - Lot Grading.pdf.json\n",
      "File already exists: ./jsons/3990-loon-street/Secret Garden - Miscellaneous Notes & Details.pdf.json\n",
      "File is valid: ./jsons/3990-loon-street/Secret Garden - Miscellaneous Notes & Details.pdf.json\n",
      "File already exists: ./jsons/3990-loon-street/Secret Garden - Sanitary & Storm Drainage.pdf.json\n",
      "File is valid: ./jsons/3990-loon-street/Secret Garden - Sanitary & Storm Drainage.pdf.json\n",
      "File already exists: ./jsons/3990-loon-street/Secret Garden Subdivision.pdf.json\n",
      "File is valid: ./jsons/3990-loon-street/Secret Garden Subdivision.pdf.json\n",
      "File already exists: ./jsons/3990-loon-street/Subdivision Application.pdf.json\n",
      "File is valid: ./jsons/3990-loon-street/Subdivision Application.pdf.json\n",
      "File already exists: ./jsons/3990-loon-street/Topographic Plan.pdf.json\n",
      "File is valid: ./jsons/3990-loon-street/Topographic Plan.pdf.json\n",
      "File already exists: ./jsons/3990-loon-street/Tree Inventory Protection Plan.pdf.json\n",
      "File is valid: ./jsons/3990-loon-street/Tree Inventory Protection Plan.pdf.json\n",
      "File already exists: ./jsons/3990-loon-street/Zoning By-law Application.pdf.json\n",
      "File is valid: ./jsons/3990-loon-street/Zoning By-law Application.pdf.json\n",
      "File already exists: ./jsons/4088-and-4096-sixth-concession-road/Application Official Plan Amendment.pdf.json\n",
      "File is valid: ./jsons/4088-and-4096-sixth-concession-road/Application Official Plan Amendment.pdf.json\n",
      "File already exists: ./jsons/4088-and-4096-sixth-concession-road/Application Zoning By-law Amendment.pdf.json\n",
      "File is valid: ./jsons/4088-and-4096-sixth-concession-road/Application Zoning By-law Amendment.pdf.json\n",
      "File already exists: ./jsons/4088-and-4096-sixth-concession-road/Architectural Responses.pdf.json\n",
      "File is valid: ./jsons/4088-and-4096-sixth-concession-road/Architectural Responses.pdf.json\n",
      "File already exists: ./jsons/4088-and-4096-sixth-concession-road/Conceptual Site Plan.pdf.json\n",
      "File is valid: ./jsons/4088-and-4096-sixth-concession-road/Conceptual Site Plan.pdf.json\n",
      "File already exists: ./jsons/4088-and-4096-sixth-concession-road/Elevations.pdf.json\n",
      "File is valid: ./jsons/4088-and-4096-sixth-concession-road/Elevations.pdf.json\n",
      "File already exists: ./jsons/4088-and-4096-sixth-concession-road/Floor Plans.pdf.json\n",
      "File is valid: ./jsons/4088-and-4096-sixth-concession-road/Floor Plans.pdf.json\n",
      "File already exists: ./jsons/4088-and-4096-sixth-concession-road/Open House Presentation Package.pdf.json\n",
      "File is valid: ./jsons/4088-and-4096-sixth-concession-road/Open House Presentation Package.pdf.json\n",
      "File already exists: ./jsons/4088-and-4096-sixth-concession-road/Parking Study.pdf.json\n",
      "File is valid: ./jsons/4088-and-4096-sixth-concession-road/Parking Study.pdf.json\n",
      "File already exists: ./jsons/4088-and-4096-sixth-concession-road/Planning Rationale Report.pdf.json\n",
      "File is valid: ./jsons/4088-and-4096-sixth-concession-road/Planning Rationale Report.pdf.json\n",
      "File already exists: ./jsons/4088-and-4096-sixth-concession-road/Rendering Package.pdf.json\n",
      "File is valid: ./jsons/4088-and-4096-sixth-concession-road/Rendering Package.pdf.json\n",
      "File already exists: ./jsons/4088-and-4096-sixth-concession-road/Sanitary Sewer Study.pdf.json\n",
      "File is valid: ./jsons/4088-and-4096-sixth-concession-road/Sanitary Sewer Study.pdf.json\n",
      "File already exists: ./jsons/4088-and-4096-sixth-concession-road/Key Map.pdf.json\n",
      "File is valid: ./jsons/4088-and-4096-sixth-concession-road/Key Map.pdf.json\n",
      "File already exists: ./jsons/4088-and-4096-sixth-concession-road/Neighbourhood Map.pdf.json\n",
      "File is valid: ./jsons/4088-and-4096-sixth-concession-road/Neighbourhood Map.pdf.json\n",
      "File already exists: ./jsons/4088-and-4096-sixth-concession-road/Official Plan - Schedule A.pdf.json\n",
      "File is valid: ./jsons/4088-and-4096-sixth-concession-road/Official Plan - Schedule A.pdf.json\n",
      "File already exists: ./jsons/4088-and-4096-sixth-concession-road/Official Plan - Schedule D.pdf.json\n",
      "File is valid: ./jsons/4088-and-4096-sixth-concession-road/Official Plan - Schedule D.pdf.json\n",
      "File already exists: ./jsons/4088-and-4096-sixth-concession-road/Official Plan - Schedule NR2-7.pdf.json\n",
      "File is valid: ./jsons/4088-and-4096-sixth-concession-road/Official Plan - Schedule NR2-7.pdf.json\n",
      "File already exists: ./jsons/4088-and-4096-sixth-concession-road/Rezoning Map.pdf.json\n",
      "File is valid: ./jsons/4088-and-4096-sixth-concession-road/Rezoning Map.pdf.json\n",
      "File already exists: ./jsons/180-california-avenue/Key Map.pdf.json\n",
      "File is valid: ./jsons/180-california-avenue/Key Map.pdf.json\n",
      "File already exists: ./jsons/180-california-avenue/Rezoning.pdf.json\n",
      "File is valid: ./jsons/180-california-avenue/Rezoning.pdf.json\n",
      "File already exists: ./jsons/180-california-avenue/Conceptual Elevations.pdf.json\n",
      "File is valid: ./jsons/180-california-avenue/Conceptual Elevations.pdf.json\n",
      "File already exists: ./jsons/180-california-avenue/Conceptual Floor Plans.pdf.json\n",
      "File is valid: ./jsons/180-california-avenue/Conceptual Floor Plans.pdf.json\n",
      "File already exists: ./jsons/180-california-avenue/Conceptual Rendering.pdf.json\n",
      "File is valid: ./jsons/180-california-avenue/Conceptual Rendering.pdf.json\n",
      "File already exists: ./jsons/180-california-avenue/Conceptual Site Plan.pdf.json\n",
      "File is valid: ./jsons/180-california-avenue/Conceptual Site Plan.pdf.json\n",
      "File already exists: ./jsons/180-california-avenue/Planning Rationale Report.pdf.json\n",
      "File is valid: ./jsons/180-california-avenue/Planning Rationale Report.pdf.json\n",
      "File already exists: ./jsons/180-california-avenue/Topographic Survey.pdf.json\n",
      "File is valid: ./jsons/180-california-avenue/Topographic Survey.pdf.json\n",
      "File already exists: ./jsons/180-california-avenue/Zoning By-law Application.pdf.json\n",
      "File is valid: ./jsons/180-california-avenue/Zoning By-law Application.pdf.json\n",
      "File already exists: ./jsons/0-howard-avenue-howard-avenue-tuson-way-howard-place/.pdf.json\n",
      "File is valid: ./jsons/0-howard-avenue-howard-avenue-tuson-way-howard-place/.pdf.json\n",
      "File already exists: ./jsons/0-howard-avenue-howard-avenue-tuson-way-howard-place/Z-032_24, ZNG-7237 Notice of Public Meeting.pdf.json\n",
      "File is valid: ./jsons/0-howard-avenue-howard-avenue-tuson-way-howard-place/Z-032_24, ZNG-7237 Notice of Public Meeting.pdf.json\n",
      "File already exists: ./jsons/0-howard-avenue-howard-avenue-tuson-way-howard-place/Application Zoning By-law Amendment.pdf.json\n",
      "File is valid: ./jsons/0-howard-avenue-howard-avenue-tuson-way-howard-place/Application Zoning By-law Amendment.pdf.json\n",
      "File already exists: ./jsons/0-howard-avenue-howard-avenue-tuson-way-howard-place/Conceptual Architectural Package.pdf.json\n",
      "File is valid: ./jsons/0-howard-avenue-howard-avenue-tuson-way-howard-place/Conceptual Architectural Package.pdf.json\n",
      "File already exists: ./jsons/0-howard-avenue-howard-avenue-tuson-way-howard-place/Noise Impact Study.pdf.json\n",
      "File is valid: ./jsons/0-howard-avenue-howard-avenue-tuson-way-howard-place/Noise Impact Study.pdf.json\n",
      "File already exists: ./jsons/0-howard-avenue-howard-avenue-tuson-way-howard-place/Open House Report.pdf.json\n",
      "File is valid: ./jsons/0-howard-avenue-howard-avenue-tuson-way-howard-place/Open House Report.pdf.json\n",
      "File already exists: ./jsons/0-howard-avenue-howard-avenue-tuson-way-howard-place/Sanitary Sewer Study.pdf.json\n",
      "File is valid: ./jsons/0-howard-avenue-howard-avenue-tuson-way-howard-place/Sanitary Sewer Study.pdf.json\n",
      "File already exists: ./jsons/0-howard-avenue-howard-avenue-tuson-way-howard-place/Key Map.pdf.json\n",
      "File is valid: ./jsons/0-howard-avenue-howard-avenue-tuson-way-howard-place/Key Map.pdf.json\n",
      "File already exists: ./jsons/0-howard-avenue-howard-avenue-tuson-way-howard-place/Neighbourhood Map.pdf.json\n",
      "File is valid: ./jsons/0-howard-avenue-howard-avenue-tuson-way-howard-place/Neighbourhood Map.pdf.json\n",
      "File already exists: ./jsons/0-howard-avenue-howard-avenue-tuson-way-howard-place/Rezoning.pdf.json\n",
      "File is valid: ./jsons/0-howard-avenue-howard-avenue-tuson-way-howard-place/Rezoning.pdf.json\n",
      "File already exists: ./jsons/0-howard-avenue-howard-avenue-tuson-way-howard-place/Notice of Public Meeting.pdf.json\n",
      "File is valid: ./jsons/0-howard-avenue-howard-avenue-tuson-way-howard-place/Notice of Public Meeting.pdf.json\n",
      "File already exists: ./jsons/0-wyandotte-street-east-northeast-corner-wyandotte-watson/Application Zoning By-law Amendment.pdf.json\n",
      "File is valid: ./jsons/0-wyandotte-street-east-northeast-corner-wyandotte-watson/Application Zoning By-law Amendment.pdf.json\n",
      "File already exists: ./jsons/0-wyandotte-street-east-northeast-corner-wyandotte-watson/Conceptual Elevations Render Package.pdf.json\n",
      "File is valid: ./jsons/0-wyandotte-street-east-northeast-corner-wyandotte-watson/Conceptual Elevations Render Package.pdf.json\n",
      "File already exists: ./jsons/0-wyandotte-street-east-northeast-corner-wyandotte-watson/Conceptual Floor Plans.pdf.json\n",
      "File is valid: ./jsons/0-wyandotte-street-east-northeast-corner-wyandotte-watson/Conceptual Floor Plans.pdf.json\n",
      "File already exists: ./jsons/0-wyandotte-street-east-northeast-corner-wyandotte-watson/Conceptual Site Plan.pdf.json\n",
      "File is valid: ./jsons/0-wyandotte-street-east-northeast-corner-wyandotte-watson/Conceptual Site Plan.pdf.json\n",
      "File already exists: ./jsons/0-wyandotte-street-east-northeast-corner-wyandotte-watson/Open House Notice.pdf.json\n",
      "File is valid: ./jsons/0-wyandotte-street-east-northeast-corner-wyandotte-watson/Open House Notice.pdf.json\n",
      "File already exists: ./jsons/0-wyandotte-street-east-northeast-corner-wyandotte-watson/Open House Presentation.pdf.json\n",
      "File is valid: ./jsons/0-wyandotte-street-east-northeast-corner-wyandotte-watson/Open House Presentation.pdf.json\n",
      "File already exists: ./jsons/0-wyandotte-street-east-northeast-corner-wyandotte-watson/Planning Rationale Report Revised.pdf.json\n",
      "File is valid: ./jsons/0-wyandotte-street-east-northeast-corner-wyandotte-watson/Planning Rationale Report Revised.pdf.json\n",
      "File already exists: ./jsons/0-wyandotte-street-east-northeast-corner-wyandotte-watson/Sanitary Sewer Study.pdf.json\n",
      "File is valid: ./jsons/0-wyandotte-street-east-northeast-corner-wyandotte-watson/Sanitary Sewer Study.pdf.json\n",
      "File already exists: ./jsons/0-wyandotte-street-east-northeast-corner-wyandotte-watson/Key Map.pdf.json\n",
      "File is valid: ./jsons/0-wyandotte-street-east-northeast-corner-wyandotte-watson/Key Map.pdf.json\n",
      "File already exists: ./jsons/0-wyandotte-street-east-northeast-corner-wyandotte-watson/Neighbourhood Map.pdf.json\n",
      "File is valid: ./jsons/0-wyandotte-street-east-northeast-corner-wyandotte-watson/Neighbourhood Map.pdf.json\n",
      "File already exists: ./jsons/0-wyandotte-street-east-northeast-corner-wyandotte-watson/Rezoning.pdf.json\n",
      "File is valid: ./jsons/0-wyandotte-street-east-northeast-corner-wyandotte-watson/Rezoning.pdf.json\n",
      "File already exists: ./jsons/926-928-giles-boulevard-east/Key Map.pdf.json\n",
      "File is valid: ./jsons/926-928-giles-boulevard-east/Key Map.pdf.json\n",
      "File already exists: ./jsons/926-928-giles-boulevard-east/Neighbourhood Map.pdf.json\n",
      "File is valid: ./jsons/926-928-giles-boulevard-east/Neighbourhood Map.pdf.json\n",
      "File already exists: ./jsons/926-928-giles-boulevard-east/Parking Review.pdf.json\n",
      "File is valid: ./jsons/926-928-giles-boulevard-east/Parking Review.pdf.json\n",
      "File already exists: ./jsons/926-928-giles-boulevard-east/Rezoning.pdf.json\n",
      "File is valid: ./jsons/926-928-giles-boulevard-east/Rezoning.pdf.json\n",
      "File already exists: ./jsons/926-928-giles-boulevard-east/Site Plan.pdf.json\n",
      "File is valid: ./jsons/926-928-giles-boulevard-east/Site Plan.pdf.json\n",
      "File already exists: ./jsons/926-928-giles-boulevard-east/Survey.pdf.json\n",
      "File is valid: ./jsons/926-928-giles-boulevard-east/Survey.pdf.json\n",
      "File already exists: ./jsons/926-928-giles-boulevard-east/Zoning By-law Amendment Application.pdf.json\n",
      "File is valid: ./jsons/926-928-giles-boulevard-east/Zoning By-law Amendment Application.pdf.json\n",
      "File already exists: ./jsons/926-928-giles-boulevard-east/Rezoning Letter, June 20, 2024.pdf.json\n",
      "File is valid: ./jsons/926-928-giles-boulevard-east/Rezoning Letter, June 20, 2024.pdf.json\n",
      "File already exists: ./jsons/0-north-service-road/Official Plan Amendment Application.pdf.json\n",
      "File is valid: ./jsons/0-north-service-road/Official Plan Amendment Application.pdf.json\n",
      "File already exists: ./jsons/0-north-service-road/.pdf.json\n",
      "File is valid: ./jsons/0-north-service-road/.pdf.json\n",
      "File already exists: ./jsons/0-north-service-road/Open House Notice.pdf.json\n",
      "File is valid: ./jsons/0-north-service-road/Open House Notice.pdf.json\n",
      "File already exists: ./jsons/0-north-service-road/Planning Rationale Report.pdf.json\n",
      "File is valid: ./jsons/0-north-service-road/Planning Rationale Report.pdf.json\n",
      "File already exists: ./jsons/0-north-service-road/Planning Rationale Report (September 27, 2024, Revision).pdf.json\n",
      "File is valid: ./jsons/0-north-service-road/Planning Rationale Report (September 27, 2024, Revision).pdf.json\n",
      "File already exists: ./jsons/0-north-service-road/Planning Rationale Report (December 3, 2024, Revision 4).pdf.json\n",
      "File is valid: ./jsons/0-north-service-road/Planning Rationale Report (December 3, 2024, Revision 4).pdf.json\n",
      "File already exists: ./jsons/0-north-service-road/Presentation.pdf.json\n",
      "File is valid: ./jsons/0-north-service-road/Presentation.pdf.json\n",
      "File already exists: ./jsons/0-north-service-road/Registration Report.pdf.json\n",
      "File is valid: ./jsons/0-north-service-road/Registration Report.pdf.json\n",
      "File already exists: ./jsons/0-north-service-road/Sample Elevation.pdf.json\n",
      "File is valid: ./jsons/0-north-service-road/Sample Elevation.pdf.json\n",
      "File already exists: ./jsons/0-north-service-road/Sample Elevation 2.pdf.json\n",
      "File is valid: ./jsons/0-north-service-road/Sample Elevation 2.pdf.json\n",
      "File already exists: ./jsons/0-north-service-road/Site Plan.pdf.json\n",
      "File is valid: ./jsons/0-north-service-road/Site Plan.pdf.json\n",
      "File already exists: ./jsons/0-north-service-road/Survey.pdf.json\n",
      "File is valid: ./jsons/0-north-service-road/Survey.pdf.json\n",
      "File already exists: ./jsons/0-north-service-road/Tree Survey.pdf.json\n",
      "File is valid: ./jsons/0-north-service-road/Tree Survey.pdf.json\n",
      "File already exists: ./jsons/0-north-service-road/Zoning By-law Application.pdf.json\n",
      "File is valid: ./jsons/0-north-service-road/Zoning By-law Application.pdf.json\n",
      "File already exists: ./jsons/0-north-service-road/Zoning By-Law Application (Updated).pdf.json\n",
      "File is valid: ./jsons/0-north-service-road/Zoning By-Law Application (Updated).pdf.json\n",
      "File already exists: ./jsons/51/Conceptual Elevations Sidewall Detail.pdf.json\n",
      "File is valid: ./jsons/51/Conceptual Elevations Sidewall Detail.pdf.json\n",
      "File already exists: ./jsons/51/Conceptual Elevations.pdf.json\n",
      "File is valid: ./jsons/51/Conceptual Elevations.pdf.json\n",
      "File already exists: ./jsons/51/Conceptual Floor Plans.pdf.json\n",
      "File is valid: ./jsons/51/Conceptual Floor Plans.pdf.json\n",
      "File already exists: ./jsons/51/Conceptual Site Plan.pdf.json\n",
      "File is valid: ./jsons/51/Conceptual Site Plan.pdf.json\n",
      "File already exists: ./jsons/51/Key Map.pdf.json\n",
      "File is valid: ./jsons/51/Key Map.pdf.json\n",
      "File already exists: ./jsons/51/Neighbourhood Map.pdf.json\n",
      "File is valid: ./jsons/51/Neighbourhood Map.pdf.json\n",
      "File already exists: ./jsons/51/Rezoning.pdf.json\n",
      "File is valid: ./jsons/51/Rezoning.pdf.json\n",
      "File already exists: ./jsons/51/Zoning Bylaw Application.pdf.json\n",
      "File is valid: ./jsons/51/Zoning Bylaw Application.pdf.json\n",
      "File already exists: ./jsons/0-esplanade-drive/Application Form Zoning By-law Amendment.pdf.json\n",
      "File is valid: ./jsons/0-esplanade-drive/Application Form Zoning By-law Amendment.pdf.json\n",
      "File already exists: ./jsons/0-esplanade-drive/Conceptual Site Plan.pdf.json\n",
      "File is valid: ./jsons/0-esplanade-drive/Conceptual Site Plan.pdf.json\n",
      "File already exists: ./jsons/0-esplanade-drive/Noise Study.pdf.json\n",
      "File is valid: ./jsons/0-esplanade-drive/Noise Study.pdf.json\n",
      "File already exists: ./jsons/0-esplanade-drive/Planning Justification Report.pdf.json\n",
      "File is valid: ./jsons/0-esplanade-drive/Planning Justification Report.pdf.json\n",
      "File already exists: ./jsons/0-esplanade-drive/Site Renderings.pdf.json\n",
      "File is valid: ./jsons/0-esplanade-drive/Site Renderings.pdf.json\n",
      "File already exists: ./jsons/0-esplanade-drive/Stormwater Management and Sanitary Report.pdf.json\n",
      "File is valid: ./jsons/0-esplanade-drive/Stormwater Management and Sanitary Report.pdf.json\n",
      "File already exists: ./jsons/0-esplanade-drive/Transportation Impact Study.pdf.json\n",
      "File is valid: ./jsons/0-esplanade-drive/Transportation Impact Study.pdf.json\n",
      "File already exists: ./jsons/0-esplanade-drive/Tree Inventory and Preservation Study.pdf.json\n",
      "File is valid: ./jsons/0-esplanade-drive/Tree Inventory and Preservation Study.pdf.json\n",
      "File already exists: ./jsons/552-florence-avenue/Z-036_24, ZNG-7248 Notice of Public Meeting.pdf.json\n",
      "File is valid: ./jsons/552-florence-avenue/Z-036_24, ZNG-7248 Notice of Public Meeting.pdf.json\n",
      "File already exists: ./jsons/552-florence-avenue/.pdf.json\n",
      "File is valid: ./jsons/552-florence-avenue/.pdf.json\n",
      "File already exists: ./jsons/552-florence-avenue/Conceptual Site Plan, Floor Plans, Elevations.pdf.json\n",
      "File is valid: ./jsons/552-florence-avenue/Conceptual Site Plan, Floor Plans, Elevations.pdf.json\n",
      "File already exists: ./jsons/552-florence-avenue/Plan of Survey.pdf.json\n",
      "File is valid: ./jsons/552-florence-avenue/Plan of Survey.pdf.json\n",
      "File already exists: ./jsons/552-florence-avenue/Planning Rationale Report.pdf.json\n",
      "File is valid: ./jsons/552-florence-avenue/Planning Rationale Report.pdf.json\n",
      "File already exists: ./jsons/552-florence-avenue/Zoning By-law Application.pdf.json\n",
      "File is valid: ./jsons/552-florence-avenue/Zoning By-law Application.pdf.json\n",
      "File already exists: ./jsons/552-florence-avenue/Key Map.pdf.json\n",
      "File is valid: ./jsons/552-florence-avenue/Key Map.pdf.json\n",
      "File already exists: ./jsons/552-florence-avenue/Neighbourhood Map.pdf.json\n",
      "File is valid: ./jsons/552-florence-avenue/Neighbourhood Map.pdf.json\n",
      "File already exists: ./jsons/552-florence-avenue/Rezoning Map.pdf.json\n",
      "File is valid: ./jsons/552-florence-avenue/Rezoning Map.pdf.json\n",
      "File already exists: ./jsons/552-florence-avenue/Notice of Public Meeting.pdf.json\n",
      "File is valid: ./jsons/552-florence-avenue/Notice of Public Meeting.pdf.json\n",
      "File already exists: ./jsons/7100-cantelon-drive/Zoning By-law Amendment.pdf.json\n",
      "File is valid: ./jsons/7100-cantelon-drive/Zoning By-law Amendment.pdf.json\n",
      "File already exists: ./jsons/7100-cantelon-drive/Concept Elevation Hotel North Elevation.pdf.json\n",
      "File is valid: ./jsons/7100-cantelon-drive/Concept Elevation Hotel North Elevation.pdf.json\n",
      "File already exists: ./jsons/7100-cantelon-drive/Concept Elevation Public Hall North Elevation.pdf.json\n",
      "File is valid: ./jsons/7100-cantelon-drive/Concept Elevation Public Hall North Elevation.pdf.json\n",
      "File already exists: ./jsons/7100-cantelon-drive/Concept Floor Plan Hotel First Floor.pdf.json\n",
      "File is valid: ./jsons/7100-cantelon-drive/Concept Floor Plan Hotel First Floor.pdf.json\n",
      "File already exists: ./jsons/7100-cantelon-drive/Concept Floor Plan Hotel Typical.pdf.json\n",
      "File is valid: ./jsons/7100-cantelon-drive/Concept Floor Plan Hotel Typical.pdf.json\n",
      "File already exists: ./jsons/7100-cantelon-drive/Concept Floor Plan Motel Suite.pdf.json\n",
      "File is valid: ./jsons/7100-cantelon-drive/Concept Floor Plan Motel Suite.pdf.json\n",
      "File already exists: ./jsons/7100-cantelon-drive/Concept Floor Plan Public Hall.pdf.json\n",
      "File is valid: ./jsons/7100-cantelon-drive/Concept Floor Plan Public Hall.pdf.json\n",
      "File already exists: ./jsons/7100-cantelon-drive/Concept Site Plan.pdf.json\n",
      "File is valid: ./jsons/7100-cantelon-drive/Concept Site Plan.pdf.json\n",
      "File already exists: ./jsons/7100-cantelon-drive/Key Map.pdf.json\n",
      "File is valid: ./jsons/7100-cantelon-drive/Key Map.pdf.json\n",
      "File already exists: ./jsons/7100-cantelon-drive/Neighbourhood Map.pdf.json\n",
      "File is valid: ./jsons/7100-cantelon-drive/Neighbourhood Map.pdf.json\n",
      "File already exists: ./jsons/7100-cantelon-drive/Open House Notice.pdf.json\n",
      "File is valid: ./jsons/7100-cantelon-drive/Open House Notice.pdf.json\n",
      "File already exists: ./jsons/7100-cantelon-drive/Open House Presentation.pdf.json\n",
      "File is valid: ./jsons/7100-cantelon-drive/Open House Presentation.pdf.json\n",
      "File already exists: ./jsons/7100-cantelon-drive/Planning Rationale Report.pdf.json\n",
      "File is valid: ./jsons/7100-cantelon-drive/Planning Rationale Report.pdf.json\n",
      "File already exists: ./jsons/7100-cantelon-drive/Rezoning.pdf.json\n",
      "File is valid: ./jsons/7100-cantelon-drive/Rezoning.pdf.json\n",
      "File already exists: ./jsons/2275-wellesley-avenue/Z-026_24, ZNG-7229 Notice of Public Meeting.pdf.json\n",
      "File is valid: ./jsons/2275-wellesley-avenue/Z-026_24, ZNG-7229 Notice of Public Meeting.pdf.json\n",
      "File already exists: ./jsons/2275-wellesley-avenue/Notice of Public Meeting.pdf.json\n",
      "File is valid: ./jsons/2275-wellesley-avenue/Notice of Public Meeting.pdf.json\n",
      "File already exists: ./jsons/0-janette-avenue/Z-037_24, ZNG-7249 Notice of Public Meeting.pdf.json\n",
      "File is valid: ./jsons/0-janette-avenue/Z-037_24, ZNG-7249 Notice of Public Meeting.pdf.json\n",
      "File already exists: ./jsons/0-janette-avenue/Notice of Public Meeting.pdf.json\n",
      "File is valid: ./jsons/0-janette-avenue/Notice of Public Meeting.pdf.json\n",
      "File already exists: ./jsons/1110-tecumseh-road-west-northeast-corner-at-benjamin-avenue/Concept Plan.pdf.json\n",
      "File is valid: ./jsons/1110-tecumseh-road-west-northeast-corner-at-benjamin-avenue/Concept Plan.pdf.json\n",
      "File already exists: ./jsons/1110-tecumseh-road-west-northeast-corner-at-benjamin-avenue/Cover Letter.pdf.json\n",
      "File is valid: ./jsons/1110-tecumseh-road-west-northeast-corner-at-benjamin-avenue/Cover Letter.pdf.json\n",
      "File already exists: ./jsons/1110-tecumseh-road-west-northeast-corner-at-benjamin-avenue/Key Map.pdf.json\n",
      "File is valid: ./jsons/1110-tecumseh-road-west-northeast-corner-at-benjamin-avenue/Key Map.pdf.json\n",
      "File already exists: ./jsons/1110-tecumseh-road-west-northeast-corner-at-benjamin-avenue/Neighbourhood Map.pdf.json\n",
      "File is valid: ./jsons/1110-tecumseh-road-west-northeast-corner-at-benjamin-avenue/Neighbourhood Map.pdf.json\n",
      "File already exists: ./jsons/1110-tecumseh-road-west-northeast-corner-at-benjamin-avenue/Noise and Vibration Assessment.pdf.json\n",
      "File is valid: ./jsons/1110-tecumseh-road-west-northeast-corner-at-benjamin-avenue/Noise and Vibration Assessment.pdf.json\n",
      "File already exists: ./jsons/1110-tecumseh-road-west-northeast-corner-at-benjamin-avenue/Planning Justification Report.pdf.json\n",
      "File is valid: ./jsons/1110-tecumseh-road-west-northeast-corner-at-benjamin-avenue/Planning Justification Report.pdf.json\n",
      "File already exists: ./jsons/1110-tecumseh-road-west-northeast-corner-at-benjamin-avenue/Public Information Centre Engagement Summary.pdf.json\n",
      "File is valid: ./jsons/1110-tecumseh-road-west-northeast-corner-at-benjamin-avenue/Public Information Centre Engagement Summary.pdf.json\n",
      "File already exists: ./jsons/1110-tecumseh-road-west-northeast-corner-at-benjamin-avenue/Rezoning.pdf.json\n",
      "File is valid: ./jsons/1110-tecumseh-road-west-northeast-corner-at-benjamin-avenue/Rezoning.pdf.json\n",
      "File already exists: ./jsons/1110-tecumseh-road-west-northeast-corner-at-benjamin-avenue/Zoning By-law Amendment Application.pdf.json\n",
      "File is valid: ./jsons/1110-tecumseh-road-west-northeast-corner-at-benjamin-avenue/Zoning By-law Amendment Application.pdf.json\n",
      "File already exists: ./jsons/6412-6560-tecumseh-road-east-0-catherine-street/Application Official Plan Amendment.pdf.json\n",
      "File is valid: ./jsons/6412-6560-tecumseh-road-east-0-catherine-street/Application Official Plan Amendment.pdf.json\n",
      "File already exists: ./jsons/6412-6560-tecumseh-road-east-0-catherine-street/Application Zoning By-law Amendment.pdf.json\n",
      "File is valid: ./jsons/6412-6560-tecumseh-road-east-0-catherine-street/Application Zoning By-law Amendment.pdf.json\n",
      "File already exists: ./jsons/6412-6560-tecumseh-road-east-0-catherine-street/Archaeological Assessment Stage 1 Report.pdf.json\n",
      "File is valid: ./jsons/6412-6560-tecumseh-road-east-0-catherine-street/Archaeological Assessment Stage 1 Report.pdf.json\n",
      "File already exists: ./jsons/6412-6560-tecumseh-road-east-0-catherine-street/Archaeological Assessment Stage 2 Report.pdf.json\n",
      "File is valid: ./jsons/6412-6560-tecumseh-road-east-0-catherine-street/Archaeological Assessment Stage 2 Report.pdf.json\n",
      "File already exists: ./jsons/6412-6560-tecumseh-road-east-0-catherine-street/Concept Elevations.pdf.json\n",
      "File is valid: ./jsons/6412-6560-tecumseh-road-east-0-catherine-street/Concept Elevations.pdf.json\n",
      "File already exists: ./jsons/6412-6560-tecumseh-road-east-0-catherine-street/Concept Severance Plan.pdf.json\n",
      "File is valid: ./jsons/6412-6560-tecumseh-road-east-0-catherine-street/Concept Severance Plan.pdf.json\n",
      "File already exists: ./jsons/6412-6560-tecumseh-road-east-0-catherine-street/Concept Site Plan.pdf.json\n",
      "File is valid: ./jsons/6412-6560-tecumseh-road-east-0-catherine-street/Concept Site Plan.pdf.json\n",
      "File already exists: ./jsons/6412-6560-tecumseh-road-east-0-catherine-street/Environmental Evaluation Report.pdf.json\n",
      "File is valid: ./jsons/6412-6560-tecumseh-road-east-0-catherine-street/Environmental Evaluation Report.pdf.json\n",
      "File already exists: ./jsons/6412-6560-tecumseh-road-east-0-catherine-street/Environmental Site Assessment Phase II.pdf.json\n",
      "File is valid: ./jsons/6412-6560-tecumseh-road-east-0-catherine-street/Environmental Site Assessment Phase II.pdf.json\n",
      "File already exists: ./jsons/6412-6560-tecumseh-road-east-0-catherine-street/Functional Servicing Report.pdf.json\n",
      "File is valid: ./jsons/6412-6560-tecumseh-road-east-0-catherine-street/Functional Servicing Report.pdf.json\n",
      "File already exists: ./jsons/6412-6560-tecumseh-road-east-0-catherine-street/Geotechnical Investigation.pdf.json\n",
      "File is valid: ./jsons/6412-6560-tecumseh-road-east-0-catherine-street/Geotechnical Investigation.pdf.json\n",
      "File already exists: ./jsons/6412-6560-tecumseh-road-east-0-catherine-street/Key Map.pdf.json\n",
      "File is valid: ./jsons/6412-6560-tecumseh-road-east-0-catherine-street/Key Map.pdf.json\n",
      "File already exists: ./jsons/6412-6560-tecumseh-road-east-0-catherine-street/Neighbourhood Map.pdf.json\n",
      "File is valid: ./jsons/6412-6560-tecumseh-road-east-0-catherine-street/Neighbourhood Map.pdf.json\n",
      "File already exists: ./jsons/6412-6560-tecumseh-road-east-0-catherine-street/Open House Display Items.pdf.json\n",
      "File is valid: ./jsons/6412-6560-tecumseh-road-east-0-catherine-street/Open House Display Items.pdf.json\n",
      "File already exists: ./jsons/6412-6560-tecumseh-road-east-0-catherine-street/Open House Notice.pdf.json\n",
      "File is valid: ./jsons/6412-6560-tecumseh-road-east-0-catherine-street/Open House Notice.pdf.json\n",
      "File already exists: ./jsons/6412-6560-tecumseh-road-east-0-catherine-street/Ownership On Lands Map.pdf.json\n",
      "File is valid: ./jsons/6412-6560-tecumseh-road-east-0-catherine-street/Ownership On Lands Map.pdf.json\n",
      "File already exists: ./jsons/6412-6560-tecumseh-road-east-0-catherine-street/Plan of Survey 12R-26172.pdf.json\n",
      "File is valid: ./jsons/6412-6560-tecumseh-road-east-0-catherine-street/Plan of Survey 12R-26172.pdf.json\n",
      "File already exists: ./jsons/6412-6560-tecumseh-road-east-0-catherine-street/Plan of Survey Right of Ways 12R-29962.pdf.json\n",
      "File is valid: ./jsons/6412-6560-tecumseh-road-east-0-catherine-street/Plan of Survey Right of Ways 12R-29962.pdf.json\n",
      "File already exists: ./jsons/6412-6560-tecumseh-road-east-0-catherine-street/Planning Rationale Report.pdf.json\n",
      "File is valid: ./jsons/6412-6560-tecumseh-road-east-0-catherine-street/Planning Rationale Report.pdf.json\n",
      "File already exists: ./jsons/6412-6560-tecumseh-road-east-0-catherine-street/Rezoning.pdf.json\n",
      "File is valid: ./jsons/6412-6560-tecumseh-road-east-0-catherine-street/Rezoning.pdf.json\n",
      "File already exists: ./jsons/6412-6560-tecumseh-road-east-0-catherine-street/Schedule A.pdf.json\n",
      "File is valid: ./jsons/6412-6560-tecumseh-road-east-0-catherine-street/Schedule A.pdf.json\n",
      "File already exists: ./jsons/6412-6560-tecumseh-road-east-0-catherine-street/Schedule FGN-2.pdf.json\n",
      "File is valid: ./jsons/6412-6560-tecumseh-road-east-0-catherine-street/Schedule FGN-2.pdf.json\n",
      "File already exists: ./jsons/6412-6560-tecumseh-road-east-0-catherine-street/Species at Risk Impact Assessment.pdf.json\n",
      "File is valid: ./jsons/6412-6560-tecumseh-road-east-0-catherine-street/Species at Risk Impact Assessment.pdf.json\n",
      "File already exists: ./jsons/6412-6560-tecumseh-road-east-0-catherine-street/Topographic Survey.pdf.json\n",
      "File is valid: ./jsons/6412-6560-tecumseh-road-east-0-catherine-street/Topographic Survey.pdf.json\n",
      "File already exists: ./jsons/6412-6560-tecumseh-road-east-0-catherine-street/Transportation Impact Study.pdf.json\n",
      "File is valid: ./jsons/6412-6560-tecumseh-road-east-0-catherine-street/Transportation Impact Study.pdf.json\n",
      "File already exists: ./jsons/3161-jefferson-boulevard-west-side-of-jefferson-south-of-queen-elizabeth-drive/Conceptual Elevations.pdf.json\n",
      "File is valid: ./jsons/3161-jefferson-boulevard-west-side-of-jefferson-south-of-queen-elizabeth-drive/Conceptual Elevations.pdf.json\n",
      "File already exists: ./jsons/3161-jefferson-boulevard-west-side-of-jefferson-south-of-queen-elizabeth-drive/Conceptual Floor Plans.pdf.json\n",
      "File is valid: ./jsons/3161-jefferson-boulevard-west-side-of-jefferson-south-of-queen-elizabeth-drive/Conceptual Floor Plans.pdf.json\n",
      "File already exists: ./jsons/3161-jefferson-boulevard-west-side-of-jefferson-south-of-queen-elizabeth-drive/Conceptual Site Plan.pdf.json\n",
      "File is valid: ./jsons/3161-jefferson-boulevard-west-side-of-jefferson-south-of-queen-elizabeth-drive/Conceptual Site Plan.pdf.json\n",
      "File already exists: ./jsons/3161-jefferson-boulevard-west-side-of-jefferson-south-of-queen-elizabeth-drive/Environmental Noise and Vibration Assessment.pdf.json\n",
      "File is valid: ./jsons/3161-jefferson-boulevard-west-side-of-jefferson-south-of-queen-elizabeth-drive/Environmental Noise and Vibration Assessment.pdf.json\n",
      "File already exists: ./jsons/3161-jefferson-boulevard-west-side-of-jefferson-south-of-queen-elizabeth-drive/Key Map.pdf.json\n",
      "File is valid: ./jsons/3161-jefferson-boulevard-west-side-of-jefferson-south-of-queen-elizabeth-drive/Key Map.pdf.json\n",
      "File already exists: ./jsons/3161-jefferson-boulevard-west-side-of-jefferson-south-of-queen-elizabeth-drive/Neighbourhood Map.pdf.json\n",
      "Error in file: ./jsons/3161-jefferson-boulevard-west-side-of-jefferson-south-of-queen-elizabeth-drive/Neighbourhood Map.pdf.json\n",
      "Saved response to ./jsons/3161-jefferson-boulevard-west-side-of-jefferson-south-of-queen-elizabeth-drive/Neighbourhood Map.pdf.json\n",
      "File already exists: ./jsons/3161-jefferson-boulevard-west-side-of-jefferson-south-of-queen-elizabeth-drive/Planning Rationale Report.pdf.json\n",
      "File is valid: ./jsons/3161-jefferson-boulevard-west-side-of-jefferson-south-of-queen-elizabeth-drive/Planning Rationale Report.pdf.json\n",
      "File already exists: ./jsons/3161-jefferson-boulevard-west-side-of-jefferson-south-of-queen-elizabeth-drive/Rezoning.pdf.json\n",
      "File is valid: ./jsons/3161-jefferson-boulevard-west-side-of-jefferson-south-of-queen-elizabeth-drive/Rezoning.pdf.json\n",
      "File already exists: ./jsons/3161-jefferson-boulevard-west-side-of-jefferson-south-of-queen-elizabeth-drive/Topographic Survey.pdf.json\n",
      "File is valid: ./jsons/3161-jefferson-boulevard-west-side-of-jefferson-south-of-queen-elizabeth-drive/Topographic Survey.pdf.json\n",
      "File already exists: ./jsons/3161-jefferson-boulevard-west-side-of-jefferson-south-of-queen-elizabeth-drive/Waste Disposal Letter.pdf.json\n",
      "File is valid: ./jsons/3161-jefferson-boulevard-west-side-of-jefferson-south-of-queen-elizabeth-drive/Waste Disposal Letter.pdf.json\n",
      "File already exists: ./jsons/3161-jefferson-boulevard-west-side-of-jefferson-south-of-queen-elizabeth-drive/Zoning By-law Amendment Application.pdf.json\n",
      "File is valid: ./jsons/3161-jefferson-boulevard-west-side-of-jefferson-south-of-queen-elizabeth-drive/Zoning By-law Amendment Application.pdf.json\n",
      "File already exists: ./jsons/1576-randolph-avenue/Conceptual Elevations.pdf.json\n",
      "File is valid: ./jsons/1576-randolph-avenue/Conceptual Elevations.pdf.json\n",
      "File already exists: ./jsons/1576-randolph-avenue/Conceptual Floor Plans.pdf.json\n",
      "File is valid: ./jsons/1576-randolph-avenue/Conceptual Floor Plans.pdf.json\n",
      "File already exists: ./jsons/1576-randolph-avenue/Conceptual Site Plan.pdf.json\n",
      "File is valid: ./jsons/1576-randolph-avenue/Conceptual Site Plan.pdf.json\n",
      "File already exists: ./jsons/1576-randolph-avenue/Plan of Survey.pdf.json\n",
      "File is valid: ./jsons/1576-randolph-avenue/Plan of Survey.pdf.json\n",
      "File already exists: ./jsons/1576-randolph-avenue/Planning Rationale Report (Revised).pdf.json\n",
      "Error in file: ./jsons/1576-randolph-avenue/Planning Rationale Report (Revised).pdf.json\n",
      "Saved response to ./jsons/1576-randolph-avenue/Planning Rationale Report (Revised).pdf.json\n",
      "File already exists: ./jsons/1576-randolph-avenue/Zoning By-law Amendment (ZBA) Application.pdf.json\n",
      "Error in file: ./jsons/1576-randolph-avenue/Zoning By-law Amendment (ZBA) Application.pdf.json\n",
      "File already exists: ./jsons/1576-randolph-avenue/Key Map.pdf.json\n",
      "File is valid: ./jsons/1576-randolph-avenue/Key Map.pdf.json\n",
      "File already exists: ./jsons/1576-randolph-avenue/Neighbourhood Map.pdf.json\n",
      "File is valid: ./jsons/1576-randolph-avenue/Neighbourhood Map.pdf.json\n",
      "File already exists: ./jsons/1576-randolph-avenue/Rezoning.pdf.json\n",
      "File is valid: ./jsons/1576-randolph-avenue/Rezoning.pdf.json\n",
      "File already exists: ./jsons/960-hanna-street-east-northeast-corner-at-hanna-street-east-and-langlois-street/Official Plan Amendment Application.pdf.json\n",
      "File is valid: ./jsons/960-hanna-street-east-northeast-corner-at-hanna-street-east-and-langlois-street/Official Plan Amendment Application.pdf.json\n",
      "File already exists: ./jsons/960-hanna-street-east-northeast-corner-at-hanna-street-east-and-langlois-street/ Zoning By-law Amendment Application.pdf.json\n",
      "File is valid: ./jsons/960-hanna-street-east-northeast-corner-at-hanna-street-east-and-langlois-street/ Zoning By-law Amendment Application.pdf.json\n",
      "File already exists: ./jsons/960-hanna-street-east-northeast-corner-at-hanna-street-east-and-langlois-street/Corporate Profile.pdf.json\n",
      "File is valid: ./jsons/960-hanna-street-east-northeast-corner-at-hanna-street-east-and-langlois-street/Corporate Profile.pdf.json\n",
      "File already exists: ./jsons/960-hanna-street-east-northeast-corner-at-hanna-street-east-and-langlois-street/Floor Plan.pdf.json\n",
      "File is valid: ./jsons/960-hanna-street-east-northeast-corner-at-hanna-street-east-and-langlois-street/Floor Plan.pdf.json\n",
      "File already exists: ./jsons/960-hanna-street-east-northeast-corner-at-hanna-street-east-and-langlois-street/Official Plan - Schedule A.pdf.json\n",
      "File is valid: ./jsons/960-hanna-street-east-northeast-corner-at-hanna-street-east-and-langlois-street/Official Plan - Schedule A.pdf.json\n",
      "File already exists: ./jsons/960-hanna-street-east-northeast-corner-at-hanna-street-east-and-langlois-street/Official Plan - Schedule D.pdf.json\n",
      "File is valid: ./jsons/960-hanna-street-east-northeast-corner-at-hanna-street-east-and-langlois-street/Official Plan - Schedule D.pdf.json\n",
      "File already exists: ./jsons/960-hanna-street-east-northeast-corner-at-hanna-street-east-and-langlois-street/Open House Notice.pdf.json\n",
      "Error in file: ./jsons/960-hanna-street-east-northeast-corner-at-hanna-street-east-and-langlois-street/Open House Notice.pdf.json\n",
      "Saved response to ./jsons/960-hanna-street-east-northeast-corner-at-hanna-street-east-and-langlois-street/Open House Notice.pdf.json\n",
      "File already exists: ./jsons/960-hanna-street-east-northeast-corner-at-hanna-street-east-and-langlois-street/Planning Rationale Report.pdf.json\n",
      "File is valid: ./jsons/960-hanna-street-east-northeast-corner-at-hanna-street-east-and-langlois-street/Planning Rationale Report.pdf.json\n",
      "File already exists: ./jsons/960-hanna-street-east-northeast-corner-at-hanna-street-east-and-langlois-street/Site Plan.pdf.json\n",
      "File is valid: ./jsons/960-hanna-street-east-northeast-corner-at-hanna-street-east-and-langlois-street/Site Plan.pdf.json\n",
      "File already exists: ./jsons/960-hanna-street-east-northeast-corner-at-hanna-street-east-and-langlois-street/Rezoning.pdf.json\n",
      "File is valid: ./jsons/960-hanna-street-east-northeast-corner-at-hanna-street-east-and-langlois-street/Rezoning.pdf.json\n",
      "File already exists: ./jsons/960-hanna-street-east-northeast-corner-at-hanna-street-east-and-langlois-street/Key Map.pdf.json\n",
      "File is valid: ./jsons/960-hanna-street-east-northeast-corner-at-hanna-street-east-and-langlois-street/Key Map.pdf.json\n",
      "File already exists: ./jsons/960-hanna-street-east-northeast-corner-at-hanna-street-east-and-langlois-street/Neighbourhood Map.pdf.json\n",
      "File is valid: ./jsons/960-hanna-street-east-northeast-corner-at-hanna-street-east-and-langlois-street/Neighbourhood Map.pdf.json\n",
      "File already exists: ./jsons/0-wyandotte-street-east-lakefront-heights/Concept Plan.pdf.json\n",
      "File is valid: ./jsons/0-wyandotte-street-east-lakefront-heights/Concept Plan.pdf.json\n",
      "File already exists: ./jsons/0-wyandotte-street-east-lakefront-heights/Energy Strategy Report.pdf.json\n",
      "File is valid: ./jsons/0-wyandotte-street-east-lakefront-heights/Energy Strategy Report.pdf.json\n",
      "File already exists: ./jsons/0-wyandotte-street-east-lakefront-heights/Engagement Summary Report.pdf.json\n",
      "File is valid: ./jsons/0-wyandotte-street-east-lakefront-heights/Engagement Summary Report.pdf.json\n",
      "File already exists: ./jsons/0-wyandotte-street-east-lakefront-heights/Environmental Evaluation Report.pdf.json\n",
      "File is valid: ./jsons/0-wyandotte-street-east-lakefront-heights/Environmental Evaluation Report.pdf.json\n",
      "File already exists: ./jsons/0-wyandotte-street-east-lakefront-heights/Functional Servicing Report.pdf.json\n",
      "File is valid: ./jsons/0-wyandotte-street-east-lakefront-heights/Functional Servicing Report.pdf.json\n",
      "File already exists: ./jsons/0-wyandotte-street-east-lakefront-heights/Information Gathering Form.pdf.json\n",
      "File is valid: ./jsons/0-wyandotte-street-east-lakefront-heights/Information Gathering Form.pdf.json\n",
      "File already exists: ./jsons/0-wyandotte-street-east-lakefront-heights/Natural Features Inventory & Preservation Study Riverside.pdf.json\n",
      "File is valid: ./jsons/0-wyandotte-street-east-lakefront-heights/Natural Features Inventory & Preservation Study Riverside.pdf.json\n",
      "File already exists: ./jsons/0-wyandotte-street-east-lakefront-heights/Noise Study.pdf.json\n",
      "File is valid: ./jsons/0-wyandotte-street-east-lakefront-heights/Noise Study.pdf.json\n",
      "File already exists: ./jsons/0-wyandotte-street-east-lakefront-heights/Official Plan Amendment Application.pdf.json\n",
      "File is valid: ./jsons/0-wyandotte-street-east-lakefront-heights/Official Plan Amendment Application.pdf.json\n",
      "File already exists: ./jsons/0-wyandotte-street-east-lakefront-heights/Planning Justification Report.pdf.json\n",
      "File is valid: ./jsons/0-wyandotte-street-east-lakefront-heights/Planning Justification Report.pdf.json\n",
      "File already exists: ./jsons/0-wyandotte-street-east-lakefront-heights/Stage 1–2 Archaeological Assessment.pdf.json\n",
      "File is valid: ./jsons/0-wyandotte-street-east-lakefront-heights/Stage 1–2 Archaeological Assessment.pdf.json\n",
      "File already exists: ./jsons/0-wyandotte-street-east-lakefront-heights/Stormwater Management Report.pdf.json\n",
      "File is valid: ./jsons/0-wyandotte-street-east-lakefront-heights/Stormwater Management Report.pdf.json\n",
      "File already exists: ./jsons/0-wyandotte-street-east-lakefront-heights/Traffic Impact Study.pdf.json\n",
      "File is valid: ./jsons/0-wyandotte-street-east-lakefront-heights/Traffic Impact Study.pdf.json\n",
      "File already exists: ./jsons/0-wyandotte-street-east-lakefront-heights/Zoning By-law Amendment Application.pdf.json\n",
      "File is valid: ./jsons/0-wyandotte-street-east-lakefront-heights/Zoning By-law Amendment Application.pdf.json\n",
      "File already exists: ./jsons/z-00625-zng7288/Z 006-25 [ZNG-7288] Notice & Schedule A.pdf.json\n",
      "File is valid: ./jsons/z-00625-zng7288/Z 006-25 [ZNG-7288] Notice & Schedule A.pdf.json\n",
      "File already exists: ./jsons/673-wellington-avenue/Conceptual Site Plan.pdf.json\n",
      "File is valid: ./jsons/673-wellington-avenue/Conceptual Site Plan.pdf.json\n",
      "File already exists: ./jsons/673-wellington-avenue/Deed.pdf.json\n",
      "File is valid: ./jsons/673-wellington-avenue/Deed.pdf.json\n",
      "File already exists: ./jsons/673-wellington-avenue/Official Plan Amendment Application (Revised Pages 3–6).pdf.json\n",
      "File is valid: ./jsons/673-wellington-avenue/Official Plan Amendment Application (Revised Pages 3–6).pdf.json\n",
      "File already exists: ./jsons/673-wellington-avenue/Official Plan Amendment Application.pdf.json\n",
      "File is valid: ./jsons/673-wellington-avenue/Official Plan Amendment Application.pdf.json\n",
      "File already exists: ./jsons/673-wellington-avenue/Phase 1 - Environmental Site Assessment.pdf.json\n",
      "File is valid: ./jsons/673-wellington-avenue/Phase 1 - Environmental Site Assessment.pdf.json\n",
      "File already exists: ./jsons/673-wellington-avenue/Planning Justification Report.pdf.json\n",
      "File is valid: ./jsons/673-wellington-avenue/Planning Justification Report.pdf.json\n",
      "File already exists: ./jsons/673-wellington-avenue/Topographic Survey.pdf.json\n",
      "File is valid: ./jsons/673-wellington-avenue/Topographic Survey.pdf.json\n",
      "File already exists: ./jsons/673-wellington-avenue/Traffic Impact - Parking Study.pdf.json\n",
      "File is valid: ./jsons/673-wellington-avenue/Traffic Impact - Parking Study.pdf.json\n",
      "File already exists: ./jsons/673-wellington-avenue/Zoning By-law Amendment Application (Revised Pages 4–6).pdf.json\n",
      "File is valid: ./jsons/673-wellington-avenue/Zoning By-law Amendment Application (Revised Pages 4–6).pdf.json\n",
      "File already exists: ./jsons/673-wellington-avenue/Zoning By-law Amendment Application.pdf.json\n",
      "File is valid: ./jsons/673-wellington-avenue/Zoning By-law Amendment Application.pdf.json\n",
      "File already exists: ./jsons/residential-corridors/OPA 194 [OPA-7279] - Notice & Schedule A.pdf.json\n",
      "File is valid: ./jsons/residential-corridors/OPA 194 [OPA-7279] - Notice & Schedule A.pdf.json\n"
     ]
    }
   ],
   "source": [
    "pdfs_folder = \"./pdfs\"\n",
    "jsons_folder = \"./jsons\"\n",
    "for root, dirs, files in os.walk(pdfs_folder):\n",
    "    for file in files:\n",
    "        if file.endswith(\".pdf\"):\n",
    "            pdf_path = os.path.join(root, file)\n",
    "            # Determine the corresponding JSON file path\n",
    "            json_file_path = os.path.join(jsons_folder, os.path.relpath(pdf_path, pdfs_folder) + \".json\")\n",
    "            \n",
    "            # Skip processing if the JSON file already exists\n",
    "            error = False\n",
    "            if os.path.exists(json_file_path):\n",
    "                # print(f\"Skipping {pdf_path} as JSON already exists.\")\n",
    "                print(f\"File already exists: {json_file_path}\")\n",
    "                # read file, if file contains \"type\" key, it is an error\n",
    "                with open(json_file_path, \"r\") as json_file:\n",
    "                    data = json.load(json_file)\n",
    "                    if \"type\" in data:\n",
    "                        print(f\"Error in file: {json_file_path}\")\n",
    "                        error = True\n",
    "                        continue\n",
    "                    elif \"message\" in data:\n",
    "                        print(f\"Error in file: {json_file_path}\")\n",
    "                        error = True\n",
    "                        # continue\n",
    "                    else:\n",
    "                        print(f\"File is valid: {json_file_path}\")\n",
    "                        continue\n",
    "                # continue\n",
    "            \n",
    "            # Encode the PDF to base64\n",
    "            # [TODO] check for error and try with a smaller version of this file\n",
    "            base64_pdf = encode_pdf(pdf_path)\n",
    "            if base64_pdf is None:\n",
    "                continue\n",
    "            \n",
    "            # Make a POST request to the Mistral OCR URL\n",
    "            mistral_response = requests.post(\n",
    "                mistral_ocr_url,\n",
    "                headers={\n",
    "                    \"Authorization\": f\"Bearer {mistral_api_key}\",\n",
    "                    \"Content-Type\": \"application/json\"\n",
    "                },\n",
    "                json={\n",
    "                    \"model\": ocr_model,\n",
    "                    \"document\": {\n",
    "                        \"type\": \"document_url\",\n",
    "                        \"document_url\": f\"data:application/pdf;base64,{base64_pdf}\"\n",
    "                    }\n",
    "                }\n",
    "            )\n",
    "            \n",
    "            # Save the response to a JSON file\n",
    "            os.makedirs(os.path.dirname(json_file_path), exist_ok=True)\n",
    "            with open(json_file_path, \"w\") as json_file:\n",
    "                json.dump(mistral_response.json(), json_file)\n",
    "            print(f\"Saved response to {json_file_path}\")\n"
   ]
  },
  {
   "cell_type": "code",
   "execution_count": 1,
   "id": "37885945",
   "metadata": {},
   "outputs": [
    {
     "ename": "NameError",
     "evalue": "name 'ocr_response' is not defined",
     "output_type": "error",
     "traceback": [
      "\u001b[31m---------------------------------------------------------------------------\u001b[39m",
      "\u001b[31mNameError\u001b[39m                                 Traceback (most recent call last)",
      "\u001b[36mCell\u001b[39m\u001b[36m \u001b[39m\u001b[32mIn[1]\u001b[39m\u001b[32m, line 1\u001b[39m\n\u001b[32m----> \u001b[39m\u001b[32m1\u001b[39m \u001b[38;5;28mprint\u001b[39m(\u001b[43mocr_response\u001b[49m)\n",
      "\u001b[31mNameError\u001b[39m: name 'ocr_response' is not defined"
     ]
    }
   ],
   "source": [
    "print(ocr_response)"
   ]
  },
  {
   "cell_type": "code",
   "execution_count": 7,
   "id": "978c31e9",
   "metadata": {},
   "outputs": [
    {
     "name": "stdout",
     "output_type": "stream",
     "text": [
      "<Response [200]>\n",
      "{'pages': [{'index': 0, 'markdown': '# SUBDIVISION/CONDOMINIUM APPLICATION \\n\\n## INSTRUCTIONS\\n\\n## Verify that you are using the most current application form.\\n\\nThis application is valid for: Plan of Subdivision, Plan of Condominium, Condominium Conversion, Extension of Draft Approval, Amendment to Draft Approval, Final Approval \\\\& Registration, Amendment to Agreement, or Amalgamation of Condominium Corporation. Discuss with a staff Planner to determine what must be completed for the application type.\\n\\nSection 1: Pre-Submission consultation with a staff Planner is mandatory per By-law 199-2007. If you do not have a valid Pre-Submission Letter, you must meet with a staff Planner who must sign and date this section.\\nSection 2: During Pre-Submission consultation a staff Planner will indicate what supporting information must be submitted with the application. Read Pages 2 to 4 before submitting this application and other documents.\\n\\nSection 3: Provide the full name, address, phone number, fax number and email address of the applicant, registered owner, agent, and Ontario Land Surveyor. For a corporation, provide full corporate name. Include the full name of a contact person. For more than one person, corporation, or registered owner, use additional sheets.\\nSection 4: Indicate if you are resubmitting a previous or earlier plan and if yes, provide the file number.\\nSection 5: Provide information about the Subject Land. This information is used to determine supporting information requirements and to assist in the review of the application.\\n\\nSection 6: Indicate if the plan is consistent with the Provincial Policy Statement and conforms to the City of Windsor Official Plan and the appropriate Zoning By-law. If an Official Plan Amendment and/or Zoning By-law Amendment is required, you must have already submitted those applications, or must submit them with this application, otherwise this application will be returned.\\n\\nSection 7: Complete this section if you are applying for approval of a Plan of Condominium. New construction applies to buildings that were recently built, under construction, or not yet under construction. Conversion applies to existing buildings that contain residential rental units that are being converted to Condominium Status. To be considered for an exemption from Section 9(3) of the Condominium Act, you must formally request such exemption. Submit all the documents indicated in Section 7 with this application.\\n\\nSection 8: Provide the number of lots, blocks, units or dwellings, the number of hectares, the density measured as units per hectare and the number of parking spaces for the proposed land use for all applications. For Plan of Condominium applications also provide the date of construction and the floor coverage in square metres.\\n\\nSection 9: Indicate how the property is accessed. Check all boxes that apply.\\nSection 10: Provide information about water service, sanitary sewage disposal and storm drainage. Submit all required documents indicated in Section 10 with this application.\\n\\nSection 11: Provide a description of the existing land use, buildings \\\\& infrastructure, vegetation, topography \\\\& drainage of the subject land or check the box beside \"See Planning Rationale Report\" if described in the report.\\n\\nSection 12: Provide a description of what measures have been or will be taken to mitigate adverse environmental effects from the proposed development on the surrounding areas and from the surrounding areas on the proposed development or check the box beside \"See Planning Rationale Report\" if described in the report.\\n\\nSection 13: Explain your proposed strategy for consulting with the public.\\nSection 14: Check the appropriate application fee box based on the pre-submission\\n\\nDATE RECEIVED STAMP consultation with the Planner.\\n\\nSection 15: Print you name in full and sign the sworn declaration in the presence of a Commissioner for Taking Affidavits.\\n\\nSchedules: Read, complete in full, and sign Schedules A \\\\& E.\\nSubmit application form, supporting information, \\\\& application fee/credit card authorization to Senior Steno Clerk at Planning Division, Suite 210, 350 City Hall Square West, Windsor ON N9A 6S1 or planningdept@citywindsor.ca', 'images': [], 'dimensions': {'dpi': 200, 'height': 2200, 'width': 1700}}, {'index': 1, 'markdown': '# SUBDIVISION/CONDOMINIUM APPLICATION \\n\\n## PLAN REQUIREMENTS\\n\\n## A. NUMBER OF COPIES REQUIRED\\n\\nThe Planning Act, R.S.O. 1990, c. P.13, requires that copies of the draft plan as required by the Minister must accompany all applications.\\nA1. Submit six (6) full size paper copies of the draft plan; AND\\nA2. A digital copy of the CAD files of the draft plan in DWG, PDF, and JPG formats.\\nFile names should be logical and clearly indicate the nature of the file and include either the SDN or CDM file number (SDN 000-00 or CDM 000-00) or the name of the applicant and site location.\\nFor example, \"SDN000-00 draft plan.dwg\" or \"Applicant Name-Site Location-Draft Plan.dwg\".\\nIf further copies are required, we will notify you. To submit drawings on an alternate device, please discuss with the assigned Planner.\\n\\n## B. DRAFT PLAN REQUIREMENTS\\n\\nAll plans and measurements must be in metric. Draft plans must be drawn to scale and indicate all items as required by Section 51(17) of the Planning Act and the City of Windsor as follows:\\n\\nB1. Boundaries of the land to be subdivided, certified by an Ontario Land Surveyor, and based on NAD83, Zone 17.\\nB2. Locations, widths and names of proposed roads, streets, highways and rights-of-way within the proposed subdivision and existing roads, streets, highways, and rights-of-way abutting the proposed subdivision;\\nB3. On a small key plan, with a scale of not less than one centimetre to 100 metres, all of the land adjacent to the proposed subdivision that is owned by the applicant or in which the applicant has an interest, every subdivision adjacent to the proposed subdivision and the relationship of the boundaries of the land to be subdivided to the boundaries of the township lot or other original grant of which such land forms the whole or part;\\nB4. Purpose for which the proposed lots are to be used;\\nB5. Existing uses of all adjoining lands;\\nB6. Approximate dimensions and layout of the proposed lots and/or blocks;\\nB7. If any affordable housing units are being proposed, the shape and dimensions of each proposed affordable housing unit and the approximate location of each proposed affordable housing unit in relation to other proposed residential units;\\nB8. Natural and artificial features such as buildings or other structures or installations, railways and rail yards, highways, roads, streets and recreational trails, hydro lines and other public utilities, watercourses, drainage ditches, wetlands and wooded areas, archaeological or heritage features, and significant plant and wildlife habitat (including ESAs \\\\& ANSIs) within or adjacent to the land proposed to be subdivided;\\nB9. Availability and nature of domestic water supplies;\\nB10. Nature and porosity of the soil;\\nB11. Existing contours or elevations as may be required to determine the grade of the streets, roads and highways and the drainage of the land proposed to be subdivided;\\nB12. Municipal services available or are to be available to the land proposed to be subdivided;\\nB13. Nature and extent of any restrictions affecting the land proposed to be subdivided including restrictive covenants, easements, or the Airport Operating Area; and\\nB14. Floodplains, flood ways, flood prone areas, and flood elevations\\n\\n## C. CONDOMINIUM DRAFT PLAN REQUIREMENTS\\n\\nIn addition to the above requirements, draft plans proposing condominium ownership must include:\\nC1. Proposed exclusive use areas of the common element such as backyards and parking;\\nC2. Roadways and pedestrian access to proposed private units.', 'images': [], 'dimensions': {'dpi': 200, 'height': 2200, 'width': 1700}}, {'index': 2, 'markdown': '# SUBDIVISION/CONDOMINIUM APPLICATION \\n\\n## APPLICATION PROCESSING\\n\\nThe applicant or their agent is responsible for researching and evaluating the site and the proposal to ensure that the development will conform to the interests of the health, safety, and welfare of existing and future residents, and for filling in the application and for supplying all documents necessary to constitute a complete application. Supporting studies must be conducted prior to the submission of the application. This information will used to review and assess the application\\nSection 51(24) of the Planning Act and Section 11.4.2.3 of the City of Windsor Official Plan list the criteria that are used in evaluating a draft plan. Where additional copies of the plan or supporting documents are subsequently requested by staff or review agencies, the applicant is responsible for supplying them at their cost\\nTimelines in the Planning Act have been suspended during the State of Emergency. The following is for your information only. Review the Planning Act and relevant regulations for statutory requirements. The processing of the application is subject to change. The application will be terminated without notice after 60 days of inactivity. Direct all questions about the application to the assigned Planner. The procedure generally encompasses the following steps:\\n\\n1. Within 30 days of receiving this application, the City Planner, or their designate, will review the application to determine if it is or is not complete. If deemed incomplete, the application, supporting documents, and fee may be returned for completion, correction, or clarification, or the applicant may be requested to submit additional or revised supporting information. Administration, the Development \\\\& Heritage Standing Committee (DHSC), and City of Windsor Council reserve the right to request additional information any time during the processing of the application.\\n2. If deemed complete, fees are not refundable, the application is circulated to departments and external agencies for review and comment, and all submitted documents are made available to the public.\\n3. Following circulation, a draft staff report containing a recommendation and any conditions is prepared. The City Planner and other staff review the draft staff report.\\n4. When the staff report is approved by appropriate municipal staff, it will be scheduled for a future meeting of the Development and Heritage Standing Committee (DHSC).\\n5. Mandatory public notice of the DHSC meeting is advertised in the Windsor Star at least 20 days in advance of the DHSC meeting. A courtesy notice may be mailed to all property owners and/or tenants within 120 metres of the subject land. The DHSC meeting is the public meeting required by the Planning Act. The staff report is provided to the applicant and DHSC members, and is made available to the public, 10 days before the DHSC meeting.\\n6. At the DHSC meeting, a staff planner introduces the application and reviews the recommendation in the staff report. The applicant and other interested parties are given an opportunity to make verbal or written submissions. The DHSC may ask questions of the staff planner, the applicant and their representatives and any party that made verbal or written submissions. The DHSC may choose to recommend draft approval, denial or deferral of the application. It may also modify the recommendation of the Planning Division.\\n7. If recommended for draft approval or denial, the staff report and the minutes of the DHSC meeting are forwarded to City of Windsor Council for consideration at a future date. The Planning Division has no control over the placement of an application on a Council Meeting agenda. The City Clerk will forward the date and time of the Council Meeting to the contacts in Section 3. Call 311 or contact the City Clerk at 519-255-6211 or clerks@citywindsor.ca\\n8. The Council meeting, the applicant and the other parties may make verbal or written submissions. If the applicant concurs with the recommendation of DHSC, and there is no opposition to the application, Council may place the application on the Consent Agenda, a part of the Council meeting containing items that are grouped together and passed with one motion. Council may choose to draft approve, deny, or defer the application.\\n9. Applications may be referred, or the decision of Council may be appealed, to the Ontario Land Tribunal (OLT). Appeals are filed with the City Clerk. Contact the City Clerk at 519-255-6211 or clerks@citywindsor.ca\\n10. If Council approves the draft plan and no appeals are received, an agreement is prepared for signature and registration on title.\\n11. The conditions of draft approval must be fulfilled prior to the expiry of draft approval. It is the responsibility of the property owner or applicant to obtain confirmation from agencies and departments that the conditions of draft approval have been fulfilled. Some agencies may require that a copy of the completed subdivision agreement be forwarded to them prior to notifying the City that the conditions have been fulfilled.', 'images': [], 'dimensions': {'dpi': 200, 'height': 2200, 'width': 1700}}, {'index': 3, 'markdown': '# SUBDIVISION/CONDOMINIUM APPLICATION \\n\\n## FINAL APPROVAL \\\\& REGISTRATION REQUIREMENTS\\n\\nWhen you are ready to obtain final approval and register the plan, the following must be submitted:\\n\\n1. Fee for Final Approval \\\\& Registration - see Section 14 - Fees on page 13;\\n2. One (1) mylar copy of the plan to be registered;\\n3. Five (5) paper copies of the plan to be registered, one of which has the AOLS Plans Submission Form attached to it; and\\n4. One digital file transfer device containing geo-referenced CAD files of the plan to be registered.\\n\\n## OTHER INFORMATION\\n\\nRead the staff report, draft approval, final approval, and agreements carefully and take note of all conditions and expiry dates in these documents.\\n\\nOther municipal departments and external agencies may have their own requirements, fees and approvals in addition to the requirements, fees and approvals listed in this application form.\\n\\nThe City of Windsor does not send reminders regarding conditions and expiry dates. It is the responsibility of the property owner to complete all conditions or obtain approval from Council or the delegated approval authority to extend draft approval, prior to the expiry date.\\n\\nWhen submitting an extension to draft approval, you must allow for sufficient time to process the application and to obtain approval of the extension. Submission, or acceptance, of an application for an extension to draft approval does not automatically extend the expiry date. It is the responsibility of the property owner to be aware of all conditions and expiry dates.\\n\\nPlanning legislation, regulations, fees, and processes are subject to change.\\n\\n## CONTACT INFORMATION\\n\\nPlanning \\\\& Building Department - Planning Division\\nSt.\\n\\n350 City Hall Square West Windsor ON N9A 6S1\\n\\nTelephone: 519-255-6543\\nFax: 519-255-6544\\nEmail: planningdept@citywindsor.ca\\nWeb Site: www.citywindsor.ca', 'images': [], 'dimensions': {'dpi': 200, 'height': 2200, 'width': 1700}}, {'index': 4, 'markdown': '# SUBDIVISION/CONDOMINIUM APPLICATION \\n\\n## 1. PRE-SUBMISSION CONSULTATION\\n\\nBy-law 199-2007 requires pre-submission consultation with a staff Planner to determine what supporting information is required, to verify fee payable, and to review the process. This application is incomplete unless you have a valid Pre-Submission Letter or a staff Planner signs below.\\n\\nValid Pre-Submission Letter? NO $\\\\square$ YES $\\\\square$ File Number: PS-\\nStaff Use Only\\n\\nSignature of Staff Planner\\nDate of Consultation\\n$\\\\square$ Jim Abbs\\n$\\\\square$ Justina Nwaesei\\n\\n## 2. REQUIRED SUPPORTING INFORMATION (To be completed by a staff Planner)\\n\\nIf you do not have a valid Pre-submission Letter, a staff Planner will indicate below what supporting information must be submitted with the application. The City of Windsor reserves the right to require additional supporting information during the processing of the application. All documents submitted are made available for public review.\\nUnless otherwise indicated, for each document, provide one paper copy and one digital copy. Draft Plans shall be provided in DWG, PDF \\\\& JPG format. Other drawings shall be provided in letter size ( 8.5 by 11 inches) in JPG and PDF format. All other documents shall be provided in Word and PDF format. PDF documents shall be flattened with no layers.\\nIf you are submitting a companion planning application (official plan or rezoning), you need only submit one set of the required supporting information. Include checked supporting information with this application:\\n![img-0.jpeg](img-0.jpeg)', 'images': [{'id': 'img-0.jpeg', 'top_left_x': 85, 'top_left_y': 1234, 'bottom_right_x': 1526, 'bottom_right_y': 1958, 'image_base64': None}], 'dimensions': {'dpi': 200, 'height': 2200, 'width': 1700}}, {'index': 5, 'markdown': '# SUBDIVISION/CONDOMINIUM APPLICATION \\n\\n## 3. CONTACT INFORMATION\\n\\nProvide in full the name of the applicant \\\\& contact person, registered owner, agent, \\\\& Ontario Land Surveyor and mailing address, phone \\\\& fax number and email address. If the case of a numbered company, provide the name of the principals of the company. If there is more than one applicant or registered owner, copy this page, complete in full and submit with this application. All communication regarding the application will be with the Agent authorized by the Owner to file the application. If there is no Agent, all communication will be with the Applicant.\\n\\n## Applicant\\n\\n| Name: | Farhi Holding Corporation | Contact: | Shmuel Farhi |\\n| :--: | :--: | :--: | :--: |\\n| Address: | 484 Richmond Street, Suite 200 |  | Name of Contact Person |\\n| Address: | London, ON |  | Postal Code: N6A 3E6 |\\n| Phone: | 519-645-6666 | Fax: | 519-645-7735 |\\n| Email: | farhi@farhi.ca |  |  |\\n\\n## Registered Owner $\\\\square$ Same as Applicant\\n\\n| Name: | Contact: | Name of Contact Person |\\n| :--: | :--: | :--: |\\n| Address: |  |  |\\n| Address: |  | Postal Code: |\\n| Phone: | Fax: |  |\\n| Email: |  |  |\\n\\nAgent Authorized by the Owner to File the Application (If applicable, complete Section A1 in Schedule A)\\n\\n| Name: | Dillon Consulting Limited | Contact: | Karl Tanner |\\n| :--: | :--: | :--: | :--: |\\n| Address: | 3200 Deziel Drive, Suite 608 |  |  |\\n| Address: | Windsor, ON |  | Postal Code: N5W 5K8 |\\n| Phone: | 519-948-5000 Ext. 3227 | Fax: | 519-948-5054 |\\n| Email: | ktanner@dillon.ca |  |  |\\n\\n## Ontario Land Surveyor\\n\\n| Name: | Verhaegen Land Surveyors | Contact: | Roy Simone |\\n| :--: | :--: | :--: | :--: |\\n| Address: | 944 Ottawa Street, Windsor, ON |  |  |\\n| Address: |  |  | Postal Code: N8X 2E1 |\\n| Phone: | 519-258-1772 | Fax: |  |\\n| Email: | rsimone@vshbbsurveys.com |  |  |', 'images': [], 'dimensions': {'dpi': 200, 'height': 2200, 'width': 1700}}, {'index': 6, 'markdown': \"# SUBDIVISION/CONDOMINIUM APPLICATION \\n\\n## 4. RESUBMISSION OF A PREVIOUS PLAN?\\n\\nNo $\\\\mathbb{R}$ Yes $\\\\square$ Previous Plan/File No. $\\\\qquad$ Do Not Know $\\\\square$\\n\\n## 5. SUBJECT LAND INFORMATION (attach additional sheets as required)\\n\\n| Municipal Address | 1600 Lauzon Road, Windsor, ON |\\n| :--: | :--: |\\n| Legal <br> Description | Pt of Lots 128, 129E, 129W, \\\\& 132, Concession 1; Pts 1,5,6, 12R 22910 |\\n| Assessment Roll Number | 373907072000194 |\\n| Frontage (m) | 217m (McHugh St.) Depth (m) 167m Area (sq m) 1.94ha |\\n| Official Plan Designation Commercial, Institutional, and Residential designations |  |\\n| Current Zoning RD3.1 |  |\\n| Existing Uses Residential |  |\\n| Previous Uses | Previously used as a manufacturing facility |\\n\\nList the names \\\\& addresses of the holders of any mortgages, charges or encumbrances in respect of the subject land:\\n\\nAre there any easements or restrictive covenants affecting the subject land? No $\\\\square$ Yes $\\\\square$\\nIf YES, describe the easement or restrictive covenant and its effect:\\n\\nIs the subject land located in an area of high archaeological potential? No $\\\\mathbb{R}$ Yes $\\\\square$\\nWill the plan permit development on land that has high archaeological potential? No $\\\\mathbb{R}$ Yes $\\\\square$\\nIf YES, submit: An Archaeological Assessment prepared by a person who holds a licence that is effective with respect to the subject land, issued under Part VI (Conservation of Resources of Archaeological Value) on the Ontario Heritage Act; and a Conservation Plan for any archaeological resources identified in the Archaeological Assessment.\\nHas the subject land ever been subject of: (leave blank if unknown)\\nAn application for a plan of subdivision/condominium or consent? No $\\\\square$ Yes $\\\\mathbb{R}$ File:\\nAn application for a zoning by-law amendment or a minor variance? No $\\\\square$ Yes $\\\\mathbb{R}$ File:\\nAn application for approval of a site plan? No $\\\\square$ Yes $\\\\square$ File:\\nA Minister's Zoning Order (Ontario Regulation)? No $\\\\square$ Yes $\\\\square$ OR\\\\# $\\\\qquad$ Ontario Regulation\", 'images': [], 'dimensions': {'dpi': 200, 'height': 2200, 'width': 1700}}, {'index': 7, 'markdown': '# SUBDIVISION/CONDOMINIUM APPLICATION \\n\\n## 6. PLANNING CONFORMITY\\n\\nIf an Official Plan Amendment and/or a Zoning By-law Amendment is required, the Planning Division must have already received it or it must be submitted with this application, otherwise this application will be returned as incomplete.\\n\\nIs the plan consistent with Provincial Policy Statement?\\n$\\\\square$\\n$\\\\square$\\nYes\\nNo Yes\\nIf No, you must submit a companion application for an Amendment to the Official Plan.\\nDoes the plan conform to the Zoning By-law?\\nNo Yes\\nIf No, you must submit a companion application for an Amendment to the Zoning By-law.\\n\\n## 7. PLAN OF CONDOMINIUM INFORMATION\\n\\n## New Construction\\n\\nHas the City approved a Site Plan? No $\\\\square$ Yes $\\\\square$ If Yes, attach the approved Site Plan.\\nSite Plan Agreement registered? No $\\\\square$ Yes $\\\\square$ If Yes, attach the Site Plan Agreement.\\nHas a Building Permit been issued? No $\\\\square$ Yes $\\\\square$ If Yes, attach the Building Permit.\\nStatus of Building: Not Under Construction $\\\\square$ Under Construction $\\\\square$ Completed $\\\\square$ Date Completed: $\\\\qquad$\\nAre any units occupied?\\nNo $\\\\square$\\nYes $\\\\square$ If Yes, number of units: $\\\\qquad$\\n\\n## Conversion of a Building Containing Residential Rental Units (Condominium Conversion)\\n\\nIs this an application to convert a building containing residential units to condominium status?\\nNo $\\\\square \\\\quad$ Yes $\\\\square$ If Yes, submit a Structural Integrity Report\\nDoes the building contain any residential rental units?\\nNo $\\\\square \\\\quad$ Yes $\\\\square$ If Yes, attach a Rent Roll with the names of all tenants, the rent paid by each tenant and their apartment number.\\nHow many rental units are to be converted: $\\\\qquad$ units\\n\\nAre tenants willing to purchase units if converted to condominium?\\nNo $\\\\square$ Yes $\\\\square$ If Yes, attach documentation signed by tenants. Do Not Know $\\\\square$\\n\\n## Exemption from Section 9(3) of the Condominium Act\\n\\nAre you applying for an exemption pursuant to Section 9(3) of the Condominium Act?\\nNo $\\\\square \\\\quad$ Yes $\\\\square$ If Yes, attach a request for such exemption signed by the owner or agent.', 'images': [], 'dimensions': {'dpi': 200, 'height': 2200, 'width': 1700}}, {'index': 8, 'markdown': '# SUBDIVISION/CONDOMINIUM APPLICATION \\n\\n## 7. PROPOSED LAND USES\\n\\nIndicate the intended uses of the land in the proposal. Complete this section in full.\\n\\n| All Applications |  |  |  |  |  | Condominium Only |  |\\n| :--: | :--: | :--: | :--: | :--: | :--: | :--: | :--: |\\n| Proposed Use | Number of Lots or Blocks | Number of Units or Dwellings | Hectares (ha) | Density (units/ ha) | Number of Parking Spaces | Date of Construction | Floor Coverage |\\n| Detached <br> Residential |  |  |  |  | Condo Only |  |  |\\n| Semi-detached <br> Residential |  |  |  |  | Condo Only |  |  |\\n| Multiple Attached Residential |  |  |  |  |  |  |  |\\n| Apartment <br> Residential | 4 | 232 | 1.97 | 117 | 290 |  |  |\\n| Seasonal <br> Residential |  |  |  |  |  |  |  |\\n| Mobile Home |  |  |  |  |  |  |  |\\n| Other Residential |  |  |  |  |  |  |  |\\n| Commercial |  |  |  |  |  |  |  |\\n| Industrial |  |  |  |  |  |  |  |\\n| Institutional (specify) |  |  |  |  |  |  |  |\\n| Park or Open Space |  |  |  |  |  |  |  |\\n| Roads |  |  |  |  |  |  |  |\\n| Other (specify) |  |  |  |  |  |  |  |\\n| TOTAL |  |  |  |  |  |  |  |', 'images': [], 'dimensions': {'dpi': 200, 'height': 2200, 'width': 1700}}, {'index': 9, 'markdown': '# SUBDIVISION/CONDOMINIUM APPLICATION \\n\\n## 9. ACCESS TO SUBJECT LAND\\n\\nIndicate if access to subject land is by: (check all that apply)\\n$\\\\square$ Provincial Highway $\\\\square$ Municipal Road $\\\\square$ Another Public Road or a Right-Of-Way\\n$\\\\square$ Water - If access to the subject land is by water only, describe the parking and docking facilities uses or to be used and provide the approximate distance of these facilities from the subject land and the nearest public road:\\n\\n## 10. WATER, SANITARY SEWAGE AND STORM DRAINAGE\\n\\nWater - Indicate whether water will be provided to the subject land by:\\n$\\\\square$ Publicly owned \\\\& operated piped water system\\n$\\\\square$ Other $\\\\qquad$\\n$\\\\square$ Privately owned \\\\& operated individual well\\n$\\\\square$ Privately owned/operated communal well\\nSanitary - Indicate whether sewage disposal will be provided to the subject land by:\\n$\\\\square$ Publicly owned \\\\& operated sanitary sewage system\\n$\\\\square$ Other $\\\\qquad$\\n$\\\\square$ Privately owned \\\\& operated individual septic system\\n$\\\\square$ Privately owned \\\\& operated communal septic system\\n\\nSubmit a Servicing Options Report and a Hydrogeological Report if any of the following apply:\\na. More than five lots or units on privately owned \\\\& operated individual or communal wells;\\nb. Five or more lots or units on privately owned \\\\& operated individual or communal septic systems; or\\nc. Less than five lots or units on privately owned \\\\& operated individual or communal septic systems, and more than 4,500 litres of effluent would be produced per day as a result of the development being completed;\\n\\nSubmit a Hydrogeological Report if the plan would permit development of less than five lots or units on privately owned \\\\& operated individual or communal septic systems, and 4,500 litres of effluent or less would be produced per day as a result of the development being completed.\\n\\nStorm Drainage - Indicate whether storm drainage will be provided by:\\n$\\\\square$ Sewers\\n$\\\\square$ Ditches\\n$\\\\square$ Swales\\n$\\\\square$ Other $\\\\qquad$', 'images': [], 'dimensions': {'dpi': 200, 'height': 2200, 'width': 1700}}, {'index': 10, 'markdown': '# SUBDIVISION/CONDOMINIUM APPLICATION \\n\\n## 11. SITE APPRAISAL AND EVALUATION\\n\\nGive a brief description of the existing land use, buildings and infrastructure, vegetation, topography and drainage of the subject land:\\nSee Planning Rationale Report $\\\\qquad$\\n$\\\\qquad$\\n$\\\\qquad$\\n$\\\\qquad$\\n$\\\\qquad$\\n\\n## 12. MITIGATION OF ENVIRONMENTAL EFFECTS\\n\\nWhat measures (such as buffering, berms, setbacks, barriers, etc.) have been or will be taken to mitigate adverse environmental effects (such as traffic, noise, odours, pollution of nearby water bodies, etc.) from the proposed development on the surrounding areas and to mitigate adverse effects from the surrounding areas on the proposed development? In agricultural areas, refer to the Agricultural Code of Practice.\\nWhere potential adverse environmental effects (species-at-risk, wetland protection, floodplains, etc.) are foreseen, consultation with the Ministry of Natural Resources and Forestry, the Ministry of Environment, Conservation and Parks, and/or the Essex Region Conservation Authority is recommended.\\n\\nSee Planning Rationale Report\\n$\\\\qquad$\\n$\\\\qquad$\\n$\\\\qquad$\\n$\\\\qquad$\\n\\n## 13. PROPOSED PUBLIC CONSULTATION STRATEGY\\n\\nSelect or describe your proposed strategy for consulting with the public with respect to the application:\\n$\\\\square$ Required Public Consultation (Public Notice \\\\& Public Meeting as required per the Planning Act)\\n$\\\\square$ Open House $\\\\square$ Website\\nOther $\\\\qquad$\\n$\\\\qquad$\\n$\\\\qquad$', 'images': [], 'dimensions': {'dpi': 200, 'height': 2200, 'width': 1700}}, {'index': 11, 'markdown': '# SUBDIVISION/CONDOMINIUM APPLICATION \\n\\n## 14. FEES\\n\\nVerify fees before submitting the application. Fees are subject to change and are not refundable when the application is deemed complete. Method of payment: Cash, Mastercard or Visa (complete and attach Credit Card Authorization), or by Certified Cheque or Personal Cheque payable to The Corporation of the City of Windsor.\\n\\n| Plan of Subdivision - Draft Approval |  |  |  |\\n| :--: | :--: | :--: | :--: |\\n| Code 53007 | Base Fee: | lots/blocks at $\\\\$ 684.00$ per lot/block | \\\\$ |\\n| Code 63024 | GIS Fee | $+\\\\$ 50.00$ |  |\\n| Code 53023 | Essex Region Conservation Authority Fee | $+\\\\$ 300.00$ |  |\\n| Code 53010 | Legal Fee - Agreement Preparation | $+\\\\$ 2,184.78$ |  |\\n| Code 53010 | Legal Variable Fee: $\\\\qquad$ lots/blocks at $\\\\$ 50.00$ per lot/block | $\\\\$ \\\\$$ |  |\\n|  | Plan of Subdivision (Draft Approval) Total Fee | $=$ |  |\\n\\n## [⿴囗 Plan of Condominium - Draft Approval - New Building\\n\\n| Code 53007 | Base Fee: $\\\\quad 232$ | lots/units at $\\\\$ 185.00$ per lot/unit | \\\\$ 42,920.00 |\\n| :--: | :--: | :--: | :--: |\\n| Code 63024 | GIS Fee | $+\\\\$ 50.00$ |  |\\n| Code 53023 | Essex Region Conservation Authority Fee | $+\\\\$ 300.00$ |  |\\n| Code 53010 | Legal Fee - Agreement Preparation | $+\\\\$ 1,714.98$ |  |\\n| Code 53010 | Legal Variable Fee: $\\\\qquad$ lots/units at $\\\\$ 50.00$ per lot/unit | $+\\\\$ 11,600.00$ |  |\\n|  | Plan of Condominium (Draft Approval) Total Fee | $=\\\\$ 56,584.98$ |  |\\n\\n## $\\\\square$ Condominium Conversion - Draft Approval - Existing Building\\n\\n| Code 53009 | Base Fee | \\\\$ | 7,575.00 |\\n| :--: | :--: | :--: | :--: |\\n| Code 53009 | Base Fee per Unit: $\\\\qquad$ units at $\\\\$ 71.40$ per unit | $+\\\\$ \\\\$$ |  |\\n| Code 63024 | GIS Fee | $+\\\\$ 50.00$ |  |\\n| Code 53023 | Essex Region Conservation Authority Fee | $+\\\\$ 300.00$ |  |\\n| Code 53010 | Legal Fee - Agreement Preparation | $+\\\\$ 1,714.98$ |  |\\n| Code 53010 | Legal Variable Fee: $\\\\qquad$ units at $\\\\$ 50.00$ per unit | $+\\\\$ \\\\$$ |  |\\n|  | Condominium Conversion (Draft Approval) Total Fee | $=\\\\$ \\\\$$ |  |\\n\\nA Building Division Inspection Fee for an inspection and report preparation will be invoiced separately. Contact the Building Division at 519-255-6267 for additional information.\\n\\n## Fees Continued on Next Page', 'images': [], 'dimensions': {'dpi': 200, 'height': 2200, 'width': 1700}}, {'index': 12, 'markdown': \"# SUBDIVISION/CONDOMINIUM APPLICATION \\n\\n## 14. FEES (continued)\\n\\nPlan of Subdivision/Condominium - Extension of Draft Approval\\nCode 53035\\nTotal Fee $=\\\\$ 3,329.60$\\n\\nPlan of Subdivision/Condominium - Amendment to Draft Approval\\nCode 53007\\nBase Fee $\\\\quad \\\\$ 3,646.30$\\nCode 63024\\nGIS Fee + $\\\\$ 50.00$\\nAmendment to Draft Approval Total Fee $=\\\\$ 3,696.30$\\n\\n## Plan of Subdivision/Condominium - Final Approval \\\\& Registration\\n\\nPayment of this fee is per registration and is required prior to final approval and registration of every draft approved Plan of Subdivision, Plan of Condominium, and Condominium Conversion.\\n\\nCode 71130\\nPer Registration $=\\\\$ 519.60$\\n\\nPlan of Subdivision/Condominium - Amendment to Agreement\\nCode 71102\\nBase Fee $\\\\quad \\\\$ 3,048.00$\\nCode 53010\\nLegal Fee - Agreement Preparation + $\\\\$ \\\\quad 857.49$\\nAmendment to Agreement Total Fee $=\\\\$ 3,905.49$\\n\\nPlan of Condominium - Amalgamation of Condominium Corporation\\nCode 53009\\nTotal Fee $=\\\\$ 1,863.00$\\n\\n## Re-notification of Public Notice/Applicant Request for Deferral Fee\\n\\nRequired when an applicant requests a deferral after notice of a public meeting has been given.\\nCode 53016\\nTotal Fee $=\\\\$ \\\\$ 2,258.40$\\n\\n## Ontario Land Tribunal (OLT) Appeal Fee - \\\\$1,100.00\\n\\nAn appeal is made through the Office of the City Clerk (519-255-6211). Fees, forms, and processes are subject to change. Visit https://olt.gov.on.ca for additional information.\\n\\nEngineering Review Fee - The Office of the City Engineer will collect a fee equal to 4\\\\% of total municipal infrastructure construction costs excluding water, hydro, telecommunication, and gas infrastructure. The fee is payable at the time construction drawings are submitted to the City Engineer for signature. The total value of construction will be confirmed based on an estimate provided by the developer's Consulting Engineer. Contact Patrick Winters, Development Engineer, at 519-255-6100 ext 6462 or pwinters@citywindsor.ca for additional information.\", 'images': [], 'dimensions': {'dpi': 200, 'height': 2200, 'width': 1700}}, {'index': 13, 'markdown': '# SUBDIVISION/CONDOMINIUM APPLICATION \\n\\n## 15. SWORN DECLARATION OF APPLICANT\\n\\nComplete in the presence of a Commissioner for Taking Affidavits. If the declaration is to be administered remotely, you must be able to see, hear and communicate with the Commissioner and show documentation that confirms your identity.\\nI. Karl Tanner, Dillon Consulting Limited $\\\\qquad$ solemnly declare that the information required under Schedule 1 to Ontario Regulation 544/06 and provided by the applicant is accurate and that the information contained in the documents that accompany this application is accurate, that if this declaration was administered remotely that it was in accordance with Ontario Regulation 431/20, and I make this solemn declaration conscientiously believing it to be true, and knowing that it is of the same force and effect as if made under oath.\\n![img-1.jpeg](img-1.jpeg)\\n\\nSignature of Applicant\\nSign in the presence of a Commissioner\\nFor Taking Affidavits\\n$\\\\square$ This declaration was administered remotely in accordance with Ontario Regulation 431/20\\nDeclared before me $\\\\qquad$ at the Dillon Consulting Limited in the City of Windsor Signature of Commissioner\\n\\nLocation of Commissioner\\nthis $\\\\qquad$ day of $\\\\qquad$ December $\\\\qquad$ 2021\\nday $\\\\qquad$ month $\\\\qquad$ year\\nPLACE AN IMPRINT OF YOUR STAMP BELOW\\nMelanie Anne Muir,\\na Commissioner, etc., Province of Ontario\\nfor Dillon Consulting Limited\\nExpires May 3, 2022\\n\\n## COMPLETE SCHEDULES A \\\\& E IN FULL \\\\& SIGN', 'images': [{'id': 'img-1.jpeg', 'top_left_x': 100, 'top_left_y': 671, 'bottom_right_x': 799, 'bottom_right_y': 809, 'image_base64': None}], 'dimensions': {'dpi': 200, 'height': 2200, 'width': 1700}}, {'index': 14, 'markdown': '# SUBDIVISION/CONDOMINIUM APPLICATION \\n\\n## SCHEDULE A - Authorizations \\\\& Acknowledgement\\n\\n## A1. Authorization of Registered Owner for Agent to Make the Application\\n\\nIf the applicant is not the registered owner of the land that is the subject of this application, the written authorization of the registered owner that the agent is authorized to make the application must be included with this application form or the authorization below must be completed.\\n\\n## I, $\\\\underline{\\\\text { Shmuel Farhi }}$ <br> name of registered owner\\n\\nam the registered owner of the land that is subject of this application and I authorize\\n![img-2.jpeg](img-2.jpeg)\\n\\nSignature of Registered Owner\\nto make this application on my behalf.\\n![img-3.jpeg](img-3.jpeg)\\n\\n## A2. Authorization to Enter Upon the Subject Lands and Premises\\n\\nI. Shmuel Farhi\\n, hereby authorize the members of the Planning, Heritage\\n\\\\& Economic Development Standing Committee and City Council and staff of The Corporation of the City of Windsor to enter upon the subject land and premises described in Section 5 of the application form for the purpose of evaluating the merits of this application and subsequently to conduct any inspections on the subject land that may be required as condition of approval. This is their authority for doing so.\\n![img-4.jpeg](img-4.jpeg)\\n\\nSignature of Registered Owner\\nDate\\n\\nIf Corporation - I have authority to bind the corporation\\n\\n## SCHEDULE A CONTINUES ON NEXT PAGE', 'images': [{'id': 'img-2.jpeg', 'top_left_x': 100, 'top_left_y': 770, 'bottom_right_x': 748, 'bottom_right_y': 990, 'image_base64': None}, {'id': 'img-3.jpeg', 'top_left_x': 321, 'top_left_y': 990, 'bottom_right_x': 715, 'bottom_right_y': 1100, 'image_base64': None}, {'id': 'img-4.jpeg', 'top_left_x': 309, 'top_left_y': 1427, 'bottom_right_x': 680, 'bottom_right_y': 1599, 'image_base64': None}], 'dimensions': {'dpi': 200, 'height': 2200, 'width': 1700}}, {'index': 15, 'markdown': \"# SUBDIVISION/CONDOMINIUM APPLICATION \\n\\n## SCHEDULE A - Authorizations \\\\& Acknowledgements - Continued\\n\\n## A3. Acknowledgements\\n\\n## Receipt \\\\& Review, Fees \\\\& Termination, Other Requirements \\\\& Expiry Dates, and Freedom of Information\\n\\nI acknowledge that receipt of this application by the City of Windsor does not guarantee it to be a complete application and that further review of the application will occur and that I may be contacted to provide additional information and/or resolve any discrepancies or issues with the application as submitted.\\nI further acknowledge that after the application is deemed complete, fees are not refundable, additional information may be requested, and that after 60 days of inactivity the City of Windsor may terminate the application without notice.\\nI further acknowledge that other municipal departments and external agencies may have their own requirements, fees and approvals in addition to the requirements, fees and approvals described throughout this application form, in any staff reports, and in any agreements, and that it is my responsibility to read the staff report, draft approval, final approval and agreements and to note any expiry dates in any of these documents.\\nI further acknowledge that pursuant to the provisions of the Planning Act and the Municipal Freedom of Information and Protection of Privacy Act, this application and all material and information provided with this application are made available to the public.\\n\\n## Species at Risk\\n\\nOntario's Endangered Species Act protects endangered and threatened species - animals and plants in decline and at risk of disappearing from the province by restricting activities that may affect these plants, animals or their habitats.\\nI acknowledge that it is my sole responsibility as the Applicant to comply with the provisions of the Endangered Species Act, 2007, S. O. c.6. This could require me to register an activity, get a permit or other authorization from the Ministry of the Environment, Conservation and Parks (MECP) prior to conducting an activity that could impact an endangered or threatened plant or animal or its habitat. I further acknowledge that any Planning Act, R.S.O. 1990, c.P. 13 approval given by the City of Windsor does not constitute an approval under the Endangered Species Act, nor does it absolve me from seeking the necessary authorization, approvals or permits from the MECP prior to conducting any activity that may affect endangered or threatened plant or animal or its habitat.\\nAdditional information can be found at:\\nhttps://www.ontario.ca/page/development-and-infrastructure-projects-and-endangered-or-threatened-species or by contacting MECP at SAROntario@ontario.ca\\n\\n## Acknowledgement\\n\\nI acknowledge that I have read and understand the above statements:\\n![img-5.jpeg](img-5.jpeg)\\n\\nSignature of Applicant or Agent\\nDate\\n\\n## END OF SCHEDULE A - COMPLETE SCHEDULE E ON NEXT PAGE\", 'images': [{'id': 'img-5.jpeg', 'top_left_x': 277, 'top_left_y': 1643, 'bottom_right_x': 625, 'bottom_right_y': 1786, 'image_base64': None}], 'dimensions': {'dpi': 200, 'height': 2200, 'width': 1700}}, {'index': 16, 'markdown': \"# SUBDIVISION/CONDOMINIUM APPLICATION \\n\\n## SCHEDULE E - Environmental Site Screening Questionnaire\\n\\nPrevious Use of Property\\n$\\\\square$ Residential $\\\\quad$ Industrial $\\\\quad \\\\square$ Commercial $\\\\quad \\\\square$ Institutional\\n$\\\\square$ Agricultural $\\\\quad \\\\square$ Parkland $\\\\quad \\\\square$ Vacant $\\\\quad \\\\square$ Other $\\\\qquad$\\na) If previous use of the property is Industrial or Commercial, specify use:\\n\\n## Manufacturing facility for automobile industry\\n\\nb) Has the grading of the subject land been changed by adding earth or material? Has filling occurred on the subject land?\\n$\\\\square$ Yes\\n$\\\\square$ No\\n$\\\\square$ Unknown\\nc) Has a gasoline station and/or automobile service station been located on the subject land or adjacent lands at any time?\\n$\\\\square$ Yes\\n$\\\\square$ No\\n$\\\\square$ Unknown\\nd) Has there been petroleum or other fuel stored on the subject land or adjacent lands?\\n$\\\\square$ Yes\\n$\\\\square$ No\\n$\\\\square$ Unknown\\ne) Are there or have there ever been underground storage tanks or buried waste on the subject land or adjacent lands?\\n$\\\\square$ Yes\\n$\\\\square$ No\\n$\\\\square$ Unknown\\nf) Have the lands or adjacent lands ever been used as an agricultural operation where cyanide products may have been applied as pesticides and/or sewage sludge applied to the lands?\\n$\\\\square$ Yes\\n$\\\\square$ No\\n$\\\\square$ Unknown\\ng) Have the lands or adjacent lands ever been used as a weapons firing range?\\n$\\\\square$ Yes\\n$\\\\square$ No\\n$\\\\square$ Unknown\\nh) Is the nearest boundary line of the application within 500 metres of the boundary line of an operational/nonoperational public or private waste disposal site, landfill or dump?\\n$\\\\square$ Yes\\n$\\\\square$ No\\n$\\\\square$ Unknown\\ni) If there are existing or previously existing buildings on the subject lands, are there any building materials remaining on site which are potentially hazardous to public health (e.g., asbestos, PCB's)?\\n$\\\\square$ Yes\\n$\\\\square$ No\\n$\\\\square$ Unknown\\nj) Is there reason to believe the subject lands may have been contaminated by existing or former uses on the site or adjacent sites?*\\n$\\\\square$ Yes\\n$\\\\square$ No\\n$\\\\square$ Unknown\\n\\n* Possible uses that can cause contamination include but are not limited to: operation of electrical transformer stations, disposal of waste minerals, raw material storage, and residues left in containers, maintenance activities and spills. Some commercial properties such as gasoline stations, automotive repair garages, and dry cleaning plants have similar potential. The longer a property is under industrial or similar use, the greater the potential for site contamination. Also, a series of different industrial or similar uses upon a site could potentially increase the number of chemicals that are present.\\nk) If current or previous use of the property is industrial or commercial, or if YES to any of a) to j) above, please attach a previous use inventory showing all former uses of the subject land, or if applicable, the land(s) adjacent to the subject lands.\", 'images': [], 'dimensions': {'dpi': 200, 'height': 2200, 'width': 1700}}, {'index': 17, 'markdown': \"# SUBDIVISION/CONDOMINIUM APPLICATION \\n\\n## SCHEDULE E - Environmental Site Screening Questionnaire - Continued\\n\\n## Environmental Site Screening Questionnaire Acknowledgement Clause\\n\\nI hereby acknowledge that it is my responsibility to ensure that I am in compliance with all applicable laws, regulations, guidelines and the City's Official Plan policies pertaining to potentially contaminated sites, and to use all reasonable effort to identify the potential for contamination on the subject property.\\n\\nI acknowledge that as a condition of approval of this application that the City may require me to file a Record of Site Condition signed by a qualified person in the provincial Environmental Site Registry, and provide verification to the City of Windsor of acknowledgement of this Record of Site Condition by the Ministry of Environment.\\n\\nI acknowledge that the City may require the qualified person signing the Record of Site Condition to submit to the City a Declaration acknowledging that the City of Windsor may rely on the statements in the Record of Site Condition.\\n\\nI further acknowledge that the City of Windsor is not responsible for the identification and/or remediation of contaminated sites, and I agree, whether in, through, or as a result of any action or proceeding for environmental clean-up of any damage or otherwise, I will not sue or make claim whatsoever against the City of Windsor, its officers, officials, employees or agents for or in respect of any loss, damage, injury or costs.\\n\\n## Stmuel Tahr:\\n\\nName of Applicant (print)\\n\\n## Karl Tanner\\n\\nName of Agent (print)\\n![img-6.jpeg](img-6.jpeg)\\n\\nSignature of Agent\\n\\nDecember 15, 2021\\nDate\\n\\n## END OF SCHEDULE E\", 'images': [{'id': 'img-6.jpeg', 'top_left_x': 827, 'top_left_y': 809, 'bottom_right_x': 1543, 'bottom_right_y': 1454, 'image_base64': None}], 'dimensions': {'dpi': 200, 'height': 2200, 'width': 1700}}, {'index': 18, 'markdown': '# SUBDIVISION/CONDOMINIUM APPLICATION \\n\\n## DO NOT COMPLETE BELOW - STAFF USE ONLY\\n\\n## Receipt and Assignment of Application\\n\\nDate Received Stamp\\nThis application has been assigned to:\\nJim Abbs (JA)\\n$\\\\square$ Justina Nwaesei (JN)\\n$\\\\square$ $\\\\qquad$\\n\\n## Complete Application\\n\\nThis application is deemed complete on $\\\\qquad$ Date\\n\\nSignature of Delegated Authority\\n$\\\\square$ Neil Robertson, MCIP, RPP\\nManager of Urban Design\\n$\\\\square$ Michael Cooke, MCIP, RPP\\nManager of Planning Policy\\n$\\\\square$ Thom Hunt, MCIP, RPP\\nCity Planner \\\\& Executive Director\\n\\n## Internal Information\\n\\n| Fee Paid: \\\\$ | Receipt No: | Date: |\\n| :--: | :--: | :--: |\\n| Payment Type: $\\\\square$ Cash | $\\\\square$ Certified Cheque | $\\\\square$ Personal Cheque |\\n| NEW File No. SDN/ | Previous File No. SDN/ |  |\\n| NEW File No. CDM/ | Previous File No. CDM/ |  |\\n| Related ZNG File No. ZNG/ | Related OPA File No. OPA |  |\\n| Other File Numbers: |  |  |\\n| Notes: |  |  |\\n|  |  |  |\\n|  |  |  |\\n\\nTHIS IS THE LAST PAGE OF THE APPLICATION FORM', 'images': [], 'dimensions': {'dpi': 200, 'height': 2200, 'width': 1700}}], 'model': 'mistral-ocr-2503-completion', 'usage_info': {'pages_processed': 19, 'doc_size_bytes': 1868141}}\n"
     ]
    }
   ],
   "source": [
    "print(mistral_response)\n",
    "print(mistral_response.json())"
   ]
  },
  {
   "cell_type": "code",
   "execution_count": 80,
   "id": "5e4da52b",
   "metadata": {},
   "outputs": [],
   "source": [
    "# save ocr_response as json\n",
    "import json\n",
    "with open(\"ocr_response.json\", \"w\") as f:\n",
    "    json.dump(mistral_response.json(), f, indent=4)\n",
    "# save ocr_response as text\n",
    "# with open(\"ocr_response.txt\", \"w\") as f:\n",
    "#     for page in mistral_response.json():\n",
    "#         f.write(page.text)\n",
    "#         f.write(\"\\n\")"
   ]
  },
  {
   "cell_type": "code",
   "execution_count": 81,
   "id": "d538c74a",
   "metadata": {},
   "outputs": [
    {
     "name": "stdout",
     "output_type": "stream",
     "text": [
      "{'pages': [{'index': 8, 'markdown': '# SUBDIVISION/CONDOMINIUM APPLICATION \\n\\n## 7. PROPOSED LAND USES\\n\\nIndicate the intended uses of the land in the proposal. Complete this section in full.\\n\\n| All Applications |  |  |  |  |  | Condominium Only |  |\\n| :--: | :--: | :--: | :--: | :--: | :--: | :--: | :--: |\\n| Proposed Use | Number of Lots or Blocks | Number of Units or Dwellings | Hectares (ha) | Density (units/ ha) | Number of Parking Spaces | Date of Construction | Floor Coverage |\\n| Detached <br> Residential |  |  |  |  | Condo Only |  |  |\\n| Semi-detached <br> Residential |  |  |  |  | Condo Only |  |  |\\n| Multiple Attached Residential |  |  |  |  |  |  |  |\\n| Apartment <br> Residential | 4 | 232 | 1.97 | 117 | 290 |  |  |\\n| Seasonal <br> Residential |  |  |  |  |  |  |  |\\n| Mobile Home |  |  |  |  |  |  |  |\\n| Other Residential |  |  |  |  |  |  |  |\\n| Commercial |  |  |  |  |  |  |  |\\n| Industrial |  |  |  |  |  |  |  |\\n| Institutional (specify) |  |  |  |  |  |  |  |\\n| Park or Open Space |  |  |  |  |  |  |  |\\n| Roads |  |  |  |  |  |  |  |\\n| Other (specify) |  |  |  |  |  |  |  |\\n| TOTAL |  |  |  |  |  |  |  |', 'images': [], 'dimensions': {'dpi': 200, 'height': 2200, 'width': 1700}}], 'model': 'mistral-ocr-2503-completion', 'usage_info': {'pages_processed': 19, 'doc_size_bytes': 1868141}}\n",
      "{'pages': [{'index': 0, 'markdown': '# SUBDIVISION/CONDOMINIUM APPLICATION \\n\\n## INSTRUCTIONS\\n\\n## Verify that you are using the most current application form.\\n\\nThis application is valid for: Plan of Subdivision, Plan of Condominium, Condominium Conversion, Extension of Draft Approval, Amendment to Draft Approval, Final Approval \\\\& Registration, Amendment to Agreement, or Amalgamation of Condominium Corporation. Discuss with a staff Planner to determine what must be completed for the application type.\\n\\nSection 1: Pre-Submission consultation with a staff Planner is mandatory per By-law 199-2007. If you do not have a valid Pre-Submission Letter, you must meet with a staff Planner who must sign and date this section.\\nSection 2: During Pre-Submission consultation a staff Planner will indicate what supporting information must be submitted with the application. Read Pages 2 to 4 before submitting this application and other documents.\\n\\nSection 3: Provide the full name, address, phone number, fax number and email address of the applicant, registered owner, agent, and Ontario Land Surveyor. For a corporation, provide full corporate name. Include the full name of a contact person. For more than one person, corporation, or registered owner, use additional sheets.\\nSection 4: Indicate if you are resubmitting a previous or earlier plan and if yes, provide the file number.\\nSection 5: Provide information about the Subject Land. This information is used to determine supporting information requirements and to assist in the review of the application.\\n\\nSection 6: Indicate if the plan is consistent with the Provincial Policy Statement and conforms to the City of Windsor Official Plan and the appropriate Zoning By-law. If an Official Plan Amendment and/or Zoning By-law Amendment is required, you must have already submitted those applications, or must submit them with this application, otherwise this application will be returned.\\n\\nSection 7: Complete this section if you are applying for approval of a Plan of Condominium. New construction applies to buildings that were recently built, under construction, or not yet under construction. Conversion applies to existing buildings that contain residential rental units that are being converted to Condominium Status. To be considered for an exemption from Section 9(3) of the Condominium Act, you must formally request such exemption. Submit all the documents indicated in Section 7 with this application.\\n\\nSection 8: Provide the number of lots, blocks, units or dwellings, the number of hectares, the density measured as units per hectare and the number of parking spaces for the proposed land use for all applications. For Plan of Condominium applications also provide the date of construction and the floor coverage in square metres.\\n\\nSection 9: Indicate how the property is accessed. Check all boxes that apply.\\nSection 10: Provide information about water service, sanitary sewage disposal and storm drainage. Submit all required documents indicated in Section 10 with this application.\\n\\nSection 11: Provide a description of the existing land use, buildings \\\\& infrastructure, vegetation, topography \\\\& drainage of the subject land or check the box beside \"See Planning Rationale Report\" if described in the report.\\n\\nSection 12: Provide a description of what measures have been or will be taken to mitigate adverse environmental effects from the proposed development on the surrounding areas and from the surrounding areas on the proposed development or check the box beside \"See Planning Rationale Report\" if described in the report.\\n\\nSection 13: Explain your proposed strategy for consulting with the public.\\nSection 14: Check the appropriate application fee box based on the pre-submission\\n\\nDATE RECEIVED STAMP consultation with the Planner.\\n\\nSection 15: Print you name in full and sign the sworn declaration in the presence of a Commissioner for Taking Affidavits.\\n\\nSchedules: Read, complete in full, and sign Schedules A \\\\& E.\\nSubmit application form, supporting information, \\\\& application fee/credit card authorization to Senior Steno Clerk at Planning Division, Suite 210, 350 City Hall Square West, Windsor ON N9A 6S1 or planningdept@citywindsor.ca', 'images': [], 'dimensions': {'dpi': 200, 'height': 2200, 'width': 1700}}, {'index': 1, 'markdown': '# SUBDIVISION/CONDOMINIUM APPLICATION \\n\\n## PLAN REQUIREMENTS\\n\\n## A. NUMBER OF COPIES REQUIRED\\n\\nThe Planning Act, R.S.O. 1990, c. P.13, requires that copies of the draft plan as required by the Minister must accompany all applications.\\nA1. Submit six (6) full size paper copies of the draft plan; AND\\nA2. A digital copy of the CAD files of the draft plan in DWG, PDF, and JPG formats.\\nFile names should be logical and clearly indicate the nature of the file and include either the SDN or CDM file number (SDN 000-00 or CDM 000-00) or the name of the applicant and site location.\\nFor example, \"SDN000-00 draft plan.dwg\" or \"Applicant Name-Site Location-Draft Plan.dwg\".\\nIf further copies are required, we will notify you. To submit drawings on an alternate device, please discuss with the assigned Planner.\\n\\n## B. DRAFT PLAN REQUIREMENTS\\n\\nAll plans and measurements must be in metric. Draft plans must be drawn to scale and indicate all items as required by Section 51(17) of the Planning Act and the City of Windsor as follows:\\n\\nB1. Boundaries of the land to be subdivided, certified by an Ontario Land Surveyor, and based on NAD83, Zone 17.\\nB2. Locations, widths and names of proposed roads, streets, highways and rights-of-way within the proposed subdivision and existing roads, streets, highways, and rights-of-way abutting the proposed subdivision;\\nB3. On a small key plan, with a scale of not less than one centimetre to 100 metres, all of the land adjacent to the proposed subdivision that is owned by the applicant or in which the applicant has an interest, every subdivision adjacent to the proposed subdivision and the relationship of the boundaries of the land to be subdivided to the boundaries of the township lot or other original grant of which such land forms the whole or part;\\nB4. Purpose for which the proposed lots are to be used;\\nB5. Existing uses of all adjoining lands;\\nB6. Approximate dimensions and layout of the proposed lots and/or blocks;\\nB7. If any affordable housing units are being proposed, the shape and dimensions of each proposed affordable housing unit and the approximate location of each proposed affordable housing unit in relation to other proposed residential units;\\nB8. Natural and artificial features such as buildings or other structures or installations, railways and rail yards, highways, roads, streets and recreational trails, hydro lines and other public utilities, watercourses, drainage ditches, wetlands and wooded areas, archaeological or heritage features, and significant plant and wildlife habitat (including ESAs \\\\& ANSIs) within or adjacent to the land proposed to be subdivided;\\nB9. Availability and nature of domestic water supplies;\\nB10. Nature and porosity of the soil;\\nB11. Existing contours or elevations as may be required to determine the grade of the streets, roads and highways and the drainage of the land proposed to be subdivided;\\nB12. Municipal services available or are to be available to the land proposed to be subdivided;\\nB13. Nature and extent of any restrictions affecting the land proposed to be subdivided including restrictive covenants, easements, or the Airport Operating Area; and\\nB14. Floodplains, flood ways, flood prone areas, and flood elevations\\n\\n## C. CONDOMINIUM DRAFT PLAN REQUIREMENTS\\n\\nIn addition to the above requirements, draft plans proposing condominium ownership must include:\\nC1. Proposed exclusive use areas of the common element such as backyards and parking;\\nC2. Roadways and pedestrian access to proposed private units.', 'images': [], 'dimensions': {'dpi': 200, 'height': 2200, 'width': 1700}}, {'index': 2, 'markdown': '# SUBDIVISION/CONDOMINIUM APPLICATION \\n\\n## APPLICATION PROCESSING\\n\\nThe applicant or their agent is responsible for researching and evaluating the site and the proposal to ensure that the development will conform to the interests of the health, safety, and welfare of existing and future residents, and for filling in the application and for supplying all documents necessary to constitute a complete application. Supporting studies must be conducted prior to the submission of the application. This information will used to review and assess the application\\nSection 51(24) of the Planning Act and Section 11.4.2.3 of the City of Windsor Official Plan list the criteria that are used in evaluating a draft plan. Where additional copies of the plan or supporting documents are subsequently requested by staff or review agencies, the applicant is responsible for supplying them at their cost\\nTimelines in the Planning Act have been suspended during the State of Emergency. The following is for your information only. Review the Planning Act and relevant regulations for statutory requirements. The processing of the application is subject to change. The application will be terminated without notice after 60 days of inactivity. Direct all questions about the application to the assigned Planner. The procedure generally encompasses the following steps:\\n\\n1. Within 30 days of receiving this application, the City Planner, or their designate, will review the application to determine if it is or is not complete. If deemed incomplete, the application, supporting documents, and fee may be returned for completion, correction, or clarification, or the applicant may be requested to submit additional or revised supporting information. Administration, the Development \\\\& Heritage Standing Committee (DHSC), and City of Windsor Council reserve the right to request additional information any time during the processing of the application.\\n2. If deemed complete, fees are not refundable, the application is circulated to departments and external agencies for review and comment, and all submitted documents are made available to the public.\\n3. Following circulation, a draft staff report containing a recommendation and any conditions is prepared. The City Planner and other staff review the draft staff report.\\n4. When the staff report is approved by appropriate municipal staff, it will be scheduled for a future meeting of the Development and Heritage Standing Committee (DHSC).\\n5. Mandatory public notice of the DHSC meeting is advertised in the Windsor Star at least 20 days in advance of the DHSC meeting. A courtesy notice may be mailed to all property owners and/or tenants within 120 metres of the subject land. The DHSC meeting is the public meeting required by the Planning Act. The staff report is provided to the applicant and DHSC members, and is made available to the public, 10 days before the DHSC meeting.\\n6. At the DHSC meeting, a staff planner introduces the application and reviews the recommendation in the staff report. The applicant and other interested parties are given an opportunity to make verbal or written submissions. The DHSC may ask questions of the staff planner, the applicant and their representatives and any party that made verbal or written submissions. The DHSC may choose to recommend draft approval, denial or deferral of the application. It may also modify the recommendation of the Planning Division.\\n7. If recommended for draft approval or denial, the staff report and the minutes of the DHSC meeting are forwarded to City of Windsor Council for consideration at a future date. The Planning Division has no control over the placement of an application on a Council Meeting agenda. The City Clerk will forward the date and time of the Council Meeting to the contacts in Section 3. Call 311 or contact the City Clerk at 519-255-6211 or clerks@citywindsor.ca\\n8. The Council meeting, the applicant and the other parties may make verbal or written submissions. If the applicant concurs with the recommendation of DHSC, and there is no opposition to the application, Council may place the application on the Consent Agenda, a part of the Council meeting containing items that are grouped together and passed with one motion. Council may choose to draft approve, deny, or defer the application.\\n9. Applications may be referred, or the decision of Council may be appealed, to the Ontario Land Tribunal (OLT). Appeals are filed with the City Clerk. Contact the City Clerk at 519-255-6211 or clerks@citywindsor.ca\\n10. If Council approves the draft plan and no appeals are received, an agreement is prepared for signature and registration on title.\\n11. The conditions of draft approval must be fulfilled prior to the expiry of draft approval. It is the responsibility of the property owner or applicant to obtain confirmation from agencies and departments that the conditions of draft approval have been fulfilled. Some agencies may require that a copy of the completed subdivision agreement be forwarded to them prior to notifying the City that the conditions have been fulfilled.', 'images': [], 'dimensions': {'dpi': 200, 'height': 2200, 'width': 1700}}, {'index': 3, 'markdown': '# SUBDIVISION/CONDOMINIUM APPLICATION \\n\\n## FINAL APPROVAL \\\\& REGISTRATION REQUIREMENTS\\n\\nWhen you are ready to obtain final approval and register the plan, the following must be submitted:\\n\\n1. Fee for Final Approval \\\\& Registration - see Section 14 - Fees on page 13;\\n2. One (1) mylar copy of the plan to be registered;\\n3. Five (5) paper copies of the plan to be registered, one of which has the AOLS Plans Submission Form attached to it; and\\n4. One digital file transfer device containing geo-referenced CAD files of the plan to be registered.\\n\\n## OTHER INFORMATION\\n\\nRead the staff report, draft approval, final approval, and agreements carefully and take note of all conditions and expiry dates in these documents.\\n\\nOther municipal departments and external agencies may have their own requirements, fees and approvals in addition to the requirements, fees and approvals listed in this application form.\\n\\nThe City of Windsor does not send reminders regarding conditions and expiry dates. It is the responsibility of the property owner to complete all conditions or obtain approval from Council or the delegated approval authority to extend draft approval, prior to the expiry date.\\n\\nWhen submitting an extension to draft approval, you must allow for sufficient time to process the application and to obtain approval of the extension. Submission, or acceptance, of an application for an extension to draft approval does not automatically extend the expiry date. It is the responsibility of the property owner to be aware of all conditions and expiry dates.\\n\\nPlanning legislation, regulations, fees, and processes are subject to change.\\n\\n## CONTACT INFORMATION\\n\\nPlanning \\\\& Building Department - Planning Division\\nSt.\\n\\n350 City Hall Square West Windsor ON N9A 6S1\\n\\nTelephone: 519-255-6543\\nFax: 519-255-6544\\nEmail: planningdept@citywindsor.ca\\nWeb Site: www.citywindsor.ca', 'images': [], 'dimensions': {'dpi': 200, 'height': 2200, 'width': 1700}}, {'index': 4, 'markdown': '# SUBDIVISION/CONDOMINIUM APPLICATION \\n\\n## 1. PRE-SUBMISSION CONSULTATION\\n\\nBy-law 199-2007 requires pre-submission consultation with a staff Planner to determine what supporting information is required, to verify fee payable, and to review the process. This application is incomplete unless you have a valid Pre-Submission Letter or a staff Planner signs below.\\n\\nValid Pre-Submission Letter? NO $\\\\square$ YES $\\\\square$ File Number: PS-\\nStaff Use Only\\n\\nSignature of Staff Planner\\nDate of Consultation\\n$\\\\square$ Jim Abbs\\n$\\\\square$ Justina Nwaesei\\n\\n## 2. REQUIRED SUPPORTING INFORMATION (To be completed by a staff Planner)\\n\\nIf you do not have a valid Pre-submission Letter, a staff Planner will indicate below what supporting information must be submitted with the application. The City of Windsor reserves the right to require additional supporting information during the processing of the application. All documents submitted are made available for public review.\\nUnless otherwise indicated, for each document, provide one paper copy and one digital copy. Draft Plans shall be provided in DWG, PDF \\\\& JPG format. Other drawings shall be provided in letter size ( 8.5 by 11 inches) in JPG and PDF format. All other documents shall be provided in Word and PDF format. PDF documents shall be flattened with no layers.\\nIf you are submitting a companion planning application (official plan or rezoning), you need only submit one set of the required supporting information. Include checked supporting information with this application:\\n![img-0.jpeg](img-0.jpeg)', 'images': [{'id': 'img-0.jpeg', 'top_left_x': 85, 'top_left_y': 1234, 'bottom_right_x': 1526, 'bottom_right_y': 1958, 'image_base64': None}], 'dimensions': {'dpi': 200, 'height': 2200, 'width': 1700}}, {'index': 5, 'markdown': '# SUBDIVISION/CONDOMINIUM APPLICATION \\n\\n## 3. CONTACT INFORMATION\\n\\nProvide in full the name of the applicant \\\\& contact person, registered owner, agent, \\\\& Ontario Land Surveyor and mailing address, phone \\\\& fax number and email address. If the case of a numbered company, provide the name of the principals of the company. If there is more than one applicant or registered owner, copy this page, complete in full and submit with this application. All communication regarding the application will be with the Agent authorized by the Owner to file the application. If there is no Agent, all communication will be with the Applicant.\\n\\n## Applicant\\n\\n| Name: | Farhi Holding Corporation | Contact: | Shmuel Farhi |\\n| :--: | :--: | :--: | :--: |\\n| Address: | 484 Richmond Street, Suite 200 |  | Name of Contact Person |\\n| Address: | London, ON |  | Postal Code: N6A 3E6 |\\n| Phone: | 519-645-6666 | Fax: | 519-645-7735 |\\n| Email: | farhi@farhi.ca |  |  |\\n\\n## Registered Owner $\\\\square$ Same as Applicant\\n\\n| Name: | Contact: | Name of Contact Person |\\n| :--: | :--: | :--: |\\n| Address: |  |  |\\n| Address: |  | Postal Code: |\\n| Phone: | Fax: |  |\\n| Email: |  |  |\\n\\nAgent Authorized by the Owner to File the Application (If applicable, complete Section A1 in Schedule A)\\n\\n| Name: | Dillon Consulting Limited | Contact: | Karl Tanner |\\n| :--: | :--: | :--: | :--: |\\n| Address: | 3200 Deziel Drive, Suite 608 |  |  |\\n| Address: | Windsor, ON |  | Postal Code: N5W 5K8 |\\n| Phone: | 519-948-5000 Ext. 3227 | Fax: | 519-948-5054 |\\n| Email: | ktanner@dillon.ca |  |  |\\n\\n## Ontario Land Surveyor\\n\\n| Name: | Verhaegen Land Surveyors | Contact: | Roy Simone |\\n| :--: | :--: | :--: | :--: |\\n| Address: | 944 Ottawa Street, Windsor, ON |  |  |\\n| Address: |  |  | Postal Code: N8X 2E1 |\\n| Phone: | 519-258-1772 | Fax: |  |\\n| Email: | rsimone@vshbbsurveys.com |  |  |', 'images': [], 'dimensions': {'dpi': 200, 'height': 2200, 'width': 1700}}, {'index': 6, 'markdown': \"# SUBDIVISION/CONDOMINIUM APPLICATION \\n\\n## 4. RESUBMISSION OF A PREVIOUS PLAN?\\n\\nNo $\\\\mathbb{R}$ Yes $\\\\square$ Previous Plan/File No. $\\\\qquad$ Do Not Know $\\\\square$\\n\\n## 5. SUBJECT LAND INFORMATION (attach additional sheets as required)\\n\\n| Municipal Address | 1600 Lauzon Road, Windsor, ON |\\n| :--: | :--: |\\n| Legal <br> Description | Pt of Lots 128, 129E, 129W, \\\\& 132, Concession 1; Pts 1,5,6, 12R 22910 |\\n| Assessment Roll Number | 373907072000194 |\\n| Frontage (m) | 217m (McHugh St.) Depth (m) 167m Area (sq m) 1.94ha |\\n| Official Plan Designation Commercial, Institutional, and Residential designations |  |\\n| Current Zoning RD3.1 |  |\\n| Existing Uses Residential |  |\\n| Previous Uses | Previously used as a manufacturing facility |\\n\\nList the names \\\\& addresses of the holders of any mortgages, charges or encumbrances in respect of the subject land:\\n\\nAre there any easements or restrictive covenants affecting the subject land? No $\\\\square$ Yes $\\\\square$\\nIf YES, describe the easement or restrictive covenant and its effect:\\n\\nIs the subject land located in an area of high archaeological potential? No $\\\\mathbb{R}$ Yes $\\\\square$\\nWill the plan permit development on land that has high archaeological potential? No $\\\\mathbb{R}$ Yes $\\\\square$\\nIf YES, submit: An Archaeological Assessment prepared by a person who holds a licence that is effective with respect to the subject land, issued under Part VI (Conservation of Resources of Archaeological Value) on the Ontario Heritage Act; and a Conservation Plan for any archaeological resources identified in the Archaeological Assessment.\\nHas the subject land ever been subject of: (leave blank if unknown)\\nAn application for a plan of subdivision/condominium or consent? No $\\\\square$ Yes $\\\\mathbb{R}$ File:\\nAn application for a zoning by-law amendment or a minor variance? No $\\\\square$ Yes $\\\\mathbb{R}$ File:\\nAn application for approval of a site plan? No $\\\\square$ Yes $\\\\square$ File:\\nA Minister's Zoning Order (Ontario Regulation)? No $\\\\square$ Yes $\\\\square$ OR\\\\# $\\\\qquad$ Ontario Regulation\", 'images': [], 'dimensions': {'dpi': 200, 'height': 2200, 'width': 1700}}, {'index': 7, 'markdown': '# SUBDIVISION/CONDOMINIUM APPLICATION \\n\\n## 6. PLANNING CONFORMITY\\n\\nIf an Official Plan Amendment and/or a Zoning By-law Amendment is required, the Planning Division must have already received it or it must be submitted with this application, otherwise this application will be returned as incomplete.\\n\\nIs the plan consistent with Provincial Policy Statement?\\n$\\\\square$\\n$\\\\square$\\nYes\\nNo Yes\\nIf No, you must submit a companion application for an Amendment to the Official Plan.\\nDoes the plan conform to the Zoning By-law?\\nNo Yes\\nIf No, you must submit a companion application for an Amendment to the Zoning By-law.\\n\\n## 7. PLAN OF CONDOMINIUM INFORMATION\\n\\n## New Construction\\n\\nHas the City approved a Site Plan? No $\\\\square$ Yes $\\\\square$ If Yes, attach the approved Site Plan.\\nSite Plan Agreement registered? No $\\\\square$ Yes $\\\\square$ If Yes, attach the Site Plan Agreement.\\nHas a Building Permit been issued? No $\\\\square$ Yes $\\\\square$ If Yes, attach the Building Permit.\\nStatus of Building: Not Under Construction $\\\\square$ Under Construction $\\\\square$ Completed $\\\\square$ Date Completed: $\\\\qquad$\\nAre any units occupied?\\nNo $\\\\square$\\nYes $\\\\square$ If Yes, number of units: $\\\\qquad$\\n\\n## Conversion of a Building Containing Residential Rental Units (Condominium Conversion)\\n\\nIs this an application to convert a building containing residential units to condominium status?\\nNo $\\\\square \\\\quad$ Yes $\\\\square$ If Yes, submit a Structural Integrity Report\\nDoes the building contain any residential rental units?\\nNo $\\\\square \\\\quad$ Yes $\\\\square$ If Yes, attach a Rent Roll with the names of all tenants, the rent paid by each tenant and their apartment number.\\nHow many rental units are to be converted: $\\\\qquad$ units\\n\\nAre tenants willing to purchase units if converted to condominium?\\nNo $\\\\square$ Yes $\\\\square$ If Yes, attach documentation signed by tenants. Do Not Know $\\\\square$\\n\\n## Exemption from Section 9(3) of the Condominium Act\\n\\nAre you applying for an exemption pursuant to Section 9(3) of the Condominium Act?\\nNo $\\\\square \\\\quad$ Yes $\\\\square$ If Yes, attach a request for such exemption signed by the owner or agent.', 'images': [], 'dimensions': {'dpi': 200, 'height': 2200, 'width': 1700}}, {'index': 8, 'markdown': '# SUBDIVISION/CONDOMINIUM APPLICATION \\n\\n## 7. PROPOSED LAND USES\\n\\nIndicate the intended uses of the land in the proposal. Complete this section in full.\\n\\n| All Applications |  |  |  |  |  | Condominium Only |  |\\n| :--: | :--: | :--: | :--: | :--: | :--: | :--: | :--: |\\n| Proposed Use | Number of Lots or Blocks | Number of Units or Dwellings | Hectares (ha) | Density (units/ ha) | Number of Parking Spaces | Date of Construction | Floor Coverage |\\n| Detached <br> Residential |  |  |  |  | Condo Only |  |  |\\n| Semi-detached <br> Residential |  |  |  |  | Condo Only |  |  |\\n| Multiple Attached Residential |  |  |  |  |  |  |  |\\n| Apartment <br> Residential | 4 | 232 | 1.97 | 117 | 290 |  |  |\\n| Seasonal <br> Residential |  |  |  |  |  |  |  |\\n| Mobile Home |  |  |  |  |  |  |  |\\n| Other Residential |  |  |  |  |  |  |  |\\n| Commercial |  |  |  |  |  |  |  |\\n| Industrial |  |  |  |  |  |  |  |\\n| Institutional (specify) |  |  |  |  |  |  |  |\\n| Park or Open Space |  |  |  |  |  |  |  |\\n| Roads |  |  |  |  |  |  |  |\\n| Other (specify) |  |  |  |  |  |  |  |\\n| TOTAL |  |  |  |  |  |  |  |', 'images': [], 'dimensions': {'dpi': 200, 'height': 2200, 'width': 1700}}, {'index': 9, 'markdown': '# SUBDIVISION/CONDOMINIUM APPLICATION \\n\\n## 9. ACCESS TO SUBJECT LAND\\n\\nIndicate if access to subject land is by: (check all that apply)\\n$\\\\square$ Provincial Highway $\\\\square$ Municipal Road $\\\\square$ Another Public Road or a Right-Of-Way\\n$\\\\square$ Water - If access to the subject land is by water only, describe the parking and docking facilities uses or to be used and provide the approximate distance of these facilities from the subject land and the nearest public road:\\n\\n## 10. WATER, SANITARY SEWAGE AND STORM DRAINAGE\\n\\nWater - Indicate whether water will be provided to the subject land by:\\n$\\\\square$ Publicly owned \\\\& operated piped water system\\n$\\\\square$ Other $\\\\qquad$\\n$\\\\square$ Privately owned \\\\& operated individual well\\n$\\\\square$ Privately owned/operated communal well\\nSanitary - Indicate whether sewage disposal will be provided to the subject land by:\\n$\\\\square$ Publicly owned \\\\& operated sanitary sewage system\\n$\\\\square$ Other $\\\\qquad$\\n$\\\\square$ Privately owned \\\\& operated individual septic system\\n$\\\\square$ Privately owned \\\\& operated communal septic system\\n\\nSubmit a Servicing Options Report and a Hydrogeological Report if any of the following apply:\\na. More than five lots or units on privately owned \\\\& operated individual or communal wells;\\nb. Five or more lots or units on privately owned \\\\& operated individual or communal septic systems; or\\nc. Less than five lots or units on privately owned \\\\& operated individual or communal septic systems, and more than 4,500 litres of effluent would be produced per day as a result of the development being completed;\\n\\nSubmit a Hydrogeological Report if the plan would permit development of less than five lots or units on privately owned \\\\& operated individual or communal septic systems, and 4,500 litres of effluent or less would be produced per day as a result of the development being completed.\\n\\nStorm Drainage - Indicate whether storm drainage will be provided by:\\n$\\\\square$ Sewers\\n$\\\\square$ Ditches\\n$\\\\square$ Swales\\n$\\\\square$ Other $\\\\qquad$', 'images': [], 'dimensions': {'dpi': 200, 'height': 2200, 'width': 1700}}, {'index': 10, 'markdown': '# SUBDIVISION/CONDOMINIUM APPLICATION \\n\\n## 11. SITE APPRAISAL AND EVALUATION\\n\\nGive a brief description of the existing land use, buildings and infrastructure, vegetation, topography and drainage of the subject land:\\nSee Planning Rationale Report $\\\\qquad$\\n$\\\\qquad$\\n$\\\\qquad$\\n$\\\\qquad$\\n$\\\\qquad$\\n\\n## 12. MITIGATION OF ENVIRONMENTAL EFFECTS\\n\\nWhat measures (such as buffering, berms, setbacks, barriers, etc.) have been or will be taken to mitigate adverse environmental effects (such as traffic, noise, odours, pollution of nearby water bodies, etc.) from the proposed development on the surrounding areas and to mitigate adverse effects from the surrounding areas on the proposed development? In agricultural areas, refer to the Agricultural Code of Practice.\\nWhere potential adverse environmental effects (species-at-risk, wetland protection, floodplains, etc.) are foreseen, consultation with the Ministry of Natural Resources and Forestry, the Ministry of Environment, Conservation and Parks, and/or the Essex Region Conservation Authority is recommended.\\n\\nSee Planning Rationale Report\\n$\\\\qquad$\\n$\\\\qquad$\\n$\\\\qquad$\\n$\\\\qquad$\\n\\n## 13. PROPOSED PUBLIC CONSULTATION STRATEGY\\n\\nSelect or describe your proposed strategy for consulting with the public with respect to the application:\\n$\\\\square$ Required Public Consultation (Public Notice \\\\& Public Meeting as required per the Planning Act)\\n$\\\\square$ Open House $\\\\square$ Website\\nOther $\\\\qquad$\\n$\\\\qquad$\\n$\\\\qquad$', 'images': [], 'dimensions': {'dpi': 200, 'height': 2200, 'width': 1700}}, {'index': 11, 'markdown': '# SUBDIVISION/CONDOMINIUM APPLICATION \\n\\n## 14. FEES\\n\\nVerify fees before submitting the application. Fees are subject to change and are not refundable when the application is deemed complete. Method of payment: Cash, Mastercard or Visa (complete and attach Credit Card Authorization), or by Certified Cheque or Personal Cheque payable to The Corporation of the City of Windsor.\\n\\n| Plan of Subdivision - Draft Approval |  |  |  |\\n| :--: | :--: | :--: | :--: |\\n| Code 53007 | Base Fee: | lots/blocks at $\\\\$ 684.00$ per lot/block | \\\\$ |\\n| Code 63024 | GIS Fee | $+\\\\$ 50.00$ |  |\\n| Code 53023 | Essex Region Conservation Authority Fee | $+\\\\$ 300.00$ |  |\\n| Code 53010 | Legal Fee - Agreement Preparation | $+\\\\$ 2,184.78$ |  |\\n| Code 53010 | Legal Variable Fee: $\\\\qquad$ lots/blocks at $\\\\$ 50.00$ per lot/block | $\\\\$ \\\\$$ |  |\\n|  | Plan of Subdivision (Draft Approval) Total Fee | $=$ |  |\\n\\n## [⿴囗 Plan of Condominium - Draft Approval - New Building\\n\\n| Code 53007 | Base Fee: $\\\\quad 232$ | lots/units at $\\\\$ 185.00$ per lot/unit | \\\\$ 42,920.00 |\\n| :--: | :--: | :--: | :--: |\\n| Code 63024 | GIS Fee | $+\\\\$ 50.00$ |  |\\n| Code 53023 | Essex Region Conservation Authority Fee | $+\\\\$ 300.00$ |  |\\n| Code 53010 | Legal Fee - Agreement Preparation | $+\\\\$ 1,714.98$ |  |\\n| Code 53010 | Legal Variable Fee: $\\\\qquad$ lots/units at $\\\\$ 50.00$ per lot/unit | $+\\\\$ 11,600.00$ |  |\\n|  | Plan of Condominium (Draft Approval) Total Fee | $=\\\\$ 56,584.98$ |  |\\n\\n## $\\\\square$ Condominium Conversion - Draft Approval - Existing Building\\n\\n| Code 53009 | Base Fee | \\\\$ | 7,575.00 |\\n| :--: | :--: | :--: | :--: |\\n| Code 53009 | Base Fee per Unit: $\\\\qquad$ units at $\\\\$ 71.40$ per unit | $+\\\\$ \\\\$$ |  |\\n| Code 63024 | GIS Fee | $+\\\\$ 50.00$ |  |\\n| Code 53023 | Essex Region Conservation Authority Fee | $+\\\\$ 300.00$ |  |\\n| Code 53010 | Legal Fee - Agreement Preparation | $+\\\\$ 1,714.98$ |  |\\n| Code 53010 | Legal Variable Fee: $\\\\qquad$ units at $\\\\$ 50.00$ per unit | $+\\\\$ \\\\$$ |  |\\n|  | Condominium Conversion (Draft Approval) Total Fee | $=\\\\$ \\\\$$ |  |\\n\\nA Building Division Inspection Fee for an inspection and report preparation will be invoiced separately. Contact the Building Division at 519-255-6267 for additional information.\\n\\n## Fees Continued on Next Page', 'images': [], 'dimensions': {'dpi': 200, 'height': 2200, 'width': 1700}}, {'index': 12, 'markdown': \"# SUBDIVISION/CONDOMINIUM APPLICATION \\n\\n## 14. FEES (continued)\\n\\nPlan of Subdivision/Condominium - Extension of Draft Approval\\nCode 53035\\nTotal Fee $=\\\\$ 3,329.60$\\n\\nPlan of Subdivision/Condominium - Amendment to Draft Approval\\nCode 53007\\nBase Fee $\\\\quad \\\\$ 3,646.30$\\nCode 63024\\nGIS Fee + $\\\\$ 50.00$\\nAmendment to Draft Approval Total Fee $=\\\\$ 3,696.30$\\n\\n## Plan of Subdivision/Condominium - Final Approval \\\\& Registration\\n\\nPayment of this fee is per registration and is required prior to final approval and registration of every draft approved Plan of Subdivision, Plan of Condominium, and Condominium Conversion.\\nCode 71130\\nPer Registration $=\\\\$ 519.60$\\n\\n## Plan of Subdivision/Condominium - Amendment to Agreement\\n\\nCode 71102\\nBase Fee $\\\\quad \\\\$ 3,048.00$\\nCode 53010\\nLegal Fee - Agreement Preparation + $\\\\$ \\\\quad 857.49$\\nAmendment to Agreement Total Fee $=\\\\$ 3,905.49$\\n\\nPlan of Condominium - Amalgamation of Condominium Corporation\\nCode 53009\\nTotal Fee $=\\\\$ 1,863.00$\\n\\n## Re-notification of Public Notice/Applicant Request for Deferral Fee\\n\\nRequired when an applicant requests a deferral after notice of a public meeting has been given.\\nCode 53016\\nTotal Fee $=\\\\$ \\\\$ 2,258.40$\\n\\n## Ontario Land Tribunal (OLT) Appeal Fee - \\\\$1,100.00\\n\\nAn appeal is made through the Office of the City Clerk (519-255-6211). Fees, forms, and processes are subject to change. Visit https://olt.gov.on.ca for additional information.\\n\\nEngineering Review Fee - The Office of the City Engineer will collect a fee equal to 4\\\\% of total municipal infrastructure construction costs excluding water, hydro, telecommunication, and gas infrastructure. The fee is payable at the time construction drawings are submitted to the City Engineer for signature. The total value of construction will be confirmed based on an estimate provided by the developer's Consulting Engineer. Contact Patrick Winters, Development Engineer, at 519-255-6100 ext 6462 or pwinters@citywindsor.ca for additional information.\", 'images': [], 'dimensions': {'dpi': 200, 'height': 2200, 'width': 1700}}, {'index': 13, 'markdown': '# SUBDIVISION/CONDOMINIUM APPLICATION \\n\\n## 15. SWORN DECLARATION OF APPLICANT\\n\\nComplete in the presence of a Commissioner for Taking Affidavits. If the declaration is to be administered remotely, you must be able to see, hear and communicate with the Commissioner and show documentation that confirms your identity.\\nI. Karl Tanner, Dillon Consulting Limited $\\\\qquad$ solemnly declare that the information required under Schedule 1 to Ontario Regulation 544/06 and provided by the applicant is accurate and that the information contained in the documents that accompany this application is accurate, that if this declaration was administered remotely that it was in accordance with Ontario Regulation 431/20, and I make this solemn declaration conscientiously believing it to be true, and knowing that it is of the same force and effect as if made under oath.\\n![img-1.jpeg](img-1.jpeg)\\n\\nSignature of Applicant\\nSign in the presence of a Commissioner\\nFor Taking Affidavits\\n$\\\\square$ This declaration was administered remotely in accordance with Ontario Regulation 431/20\\nDeclared before me $\\\\qquad$ at the Dillon Consulting Limited in the City of Windsor Signature of Commissioner\\n\\nLocation of Commissioner\\nthis $\\\\qquad$ day of $\\\\qquad$ December $\\\\qquad$ 2021\\nday $\\\\qquad$ month $\\\\qquad$ year\\nPLACE AN IMPRINT OF YOUR STAMP BELOW\\nMelanie Anne Muir,\\na Commissioner, etc., Province of Ontario\\nfor Dillon Consulting Limited\\nExpires May 3, 2022\\n\\n## COMPLETE SCHEDULES A \\\\& E IN FULL \\\\& SIGN', 'images': [{'id': 'img-1.jpeg', 'top_left_x': 100, 'top_left_y': 673, 'bottom_right_x': 799, 'bottom_right_y': 814, 'image_base64': None}], 'dimensions': {'dpi': 200, 'height': 2200, 'width': 1700}}, {'index': 14, 'markdown': '# SUBDIVISION/CONDOMINIUM APPLICATION \\n\\n## SCHEDULE A - Authorizations \\\\& Acknowledgement\\n\\n## A1. Authorization of Registered Owner for Agent to Make the Application\\n\\nIf the applicant is not the registered owner of the land that is the subject of this application, the written authorization of the registered owner that the agent is authorized to make the application must be included with this application form or the authorization below must be completed.\\n\\n## I, $\\\\underline{\\\\text { Shmuel Farhi }}$ <br> name of registered owner\\n\\nam the registered owner of the land that is subject of this application and I authorize\\n![img-2.jpeg](img-2.jpeg)\\n\\nSignature of Registered Owner\\nto make this application on my behalf.\\n![img-3.jpeg](img-3.jpeg)\\n\\n## A2. Authorization to Enter Upon the Subject Lands and Premises\\n\\nI. Shmuel Farhi\\n, hereby authorize the members of the Planning, Heritage\\n\\\\& Economic Development Standing Committee and City Council and staff of The Corporation of the City of Windsor to enter upon the subject land and premises described in Section 5 of the application form for the purpose of evaluating the merits of this application and subsequently to conduct any inspections on the subject land that may be required as condition of approval. This is their authority for doing so.\\n![img-4.jpeg](img-4.jpeg)\\n\\nSignature of Registered Owner\\nDate\\n\\nIf Corporation - I have authority to bind the corporation\\n\\n## SCHEDULE A CONTINUES ON NEXT PAGE', 'images': [{'id': 'img-2.jpeg', 'top_left_x': 100, 'top_left_y': 770, 'bottom_right_x': 748, 'bottom_right_y': 990, 'image_base64': None}, {'id': 'img-3.jpeg', 'top_left_x': 309, 'top_left_y': 990, 'bottom_right_x': 697, 'bottom_right_y': 1100, 'image_base64': None}, {'id': 'img-4.jpeg', 'top_left_x': 309, 'top_left_y': 1427, 'bottom_right_x': 680, 'bottom_right_y': 1599, 'image_base64': None}], 'dimensions': {'dpi': 200, 'height': 2200, 'width': 1700}}, {'index': 15, 'markdown': \"# SUBDIVISION/CONDOMINIUM APPLICATION \\n\\n## SCHEDULE A - Authorizations \\\\& Acknowledgements - Continued\\n\\n## A3. Acknowledgements\\n\\n## Receipt \\\\& Review, Fees \\\\& Termination, Other Requirements \\\\& Expiry Dates, and Freedom of Information\\n\\nI acknowledge that receipt of this application by the City of Windsor does not guarantee it to be a complete application and that further review of the application will occur and that I may be contacted to provide additional information and/or resolve any discrepancies or issues with the application as submitted.\\nI further acknowledge that after the application is deemed complete, fees are not refundable, additional information may be requested, and that after 60 days of inactivity the City of Windsor may terminate the application without notice.\\nI further acknowledge that other municipal departments and external agencies may have their own requirements, fees and approvals in addition to the requirements, fees and approvals described throughout this application form, in any staff reports, and in any agreements, and that it is my responsibility to read the staff report, draft approval, final approval and agreements and to note any expiry dates in any of these documents.\\nI further acknowledge that pursuant to the provisions of the Planning Act and the Municipal Freedom of Information and Protection of Privacy Act, this application and all material and information provided with this application are made available to the public.\\n\\n## Species at Risk\\n\\nOntario's Endangered Species Act protects endangered and threatened species - animals and plants in decline and at risk of disappearing from the province by restricting activities that may affect these plants, animals or their habitats.\\nI acknowledge that it is my sole responsibility as the Applicant to comply with the provisions of the Endangered Species Act, 2007, S. O. c.6. This could require me to register an activity, get a permit or other authorization from the Ministry of the Environment, Conservation and Parks (MECP) prior to conducting an activity that could impact an endangered or threatened plant or animal or its habitat. I further acknowledge that any Planning Act, R.S.O. 1990, c.P. 13 approval given by the City of Windsor does not constitute an approval under the Endangered Species Act, nor does it absolve me from seeking the necessary authorization, approvals or permits from the MECP prior to conducting any activity that may affect endangered or threatened plant or animal or its habitat.\\n\\nAdditional information can be found at:\\nhttps://www.ontario.ca/page/development-and-infrastructure-projects-and-endangered-or-threatened-species or by contacting MECP at SAROntario@ontario.ca\\n\\n## Acknowledgement\\n\\nI acknowledge that I have read and understand the above statements:\\n![img-5.jpeg](img-5.jpeg)\\n\\nSignature of Applicant or Agent\\nDate\\n\\n## END OF SCHEDULE A - COMPLETE SCHEDULE E ON NEXT PAGE\", 'images': [{'id': 'img-5.jpeg', 'top_left_x': 277, 'top_left_y': 1643, 'bottom_right_x': 625, 'bottom_right_y': 1786, 'image_base64': None}], 'dimensions': {'dpi': 200, 'height': 2200, 'width': 1700}}, {'index': 16, 'markdown': \"# SUBDIVISION/CONDOMINIUM APPLICATION \\n\\n## SCHEDULE E - Environmental Site Screening Questionnaire\\n\\nPrevious Use of Property\\n$\\\\square$ Residential $\\\\quad$ Industrial $\\\\quad \\\\square$ Commercial $\\\\quad \\\\square$ Institutional\\n$\\\\square$ Agricultural $\\\\quad \\\\square$ Parkland $\\\\quad \\\\square$ Vacant $\\\\quad \\\\square$ Other $\\\\qquad$\\na) If previous use of the property is Industrial or Commercial, specify use:\\n\\n## Manufacturing facility for automobile industry\\n\\nb) Has the grading of the subject land been changed by adding earth or material? Has filling occurred on the subject land?\\n$\\\\square$ Yes\\n$\\\\square$ No\\n$\\\\square$ Unknown\\nc) Has a gasoline station and/or automobile service station been located on the subject land or adjacent lands at any time?\\n$\\\\square$ Yes\\n$\\\\square$ No\\n$\\\\square$ Unknown\\nd) Has there been petroleum or other fuel stored on the subject land or adjacent lands?\\n$\\\\square$ Yes\\n$\\\\square$ No\\n$\\\\square$ Unknown\\ne) Are there or have there ever been underground storage tanks or buried waste on the subject land or adjacent lands?\\n$\\\\square$ Yes\\n$\\\\square$ No\\n$\\\\square$ Unknown\\nf) Have the lands or adjacent lands ever been used as an agricultural operation where cyanide products may have been applied as pesticides and/or sewage sludge applied to the lands?\\n$\\\\square$ Yes\\n$\\\\square$ No\\n$\\\\square$ Unknown\\ng) Have the lands or adjacent lands ever been used as a weapons firing range?\\n$\\\\square$ Yes\\n$\\\\square$ No\\n$\\\\square$ Unknown\\nh) Is the nearest boundary line of the application within 500 metres of the boundary line of an operational/nonoperational public or private waste disposal site, landfill or dump?\\n$\\\\square$ Yes\\n$\\\\square$ No\\n$\\\\square$ Unknown\\ni) If there are existing or previously existing buildings on the subject lands, are there any building materials remaining on site which are potentially hazardous to public health (e.g., asbestos, PCB's)?\\n$\\\\square$ Yes\\n$\\\\square$ No\\n$\\\\square$ Unknown\\nj) Is there reason to believe the subject lands may have been contaminated by existing or former uses on the site or adjacent sites?*\\n$\\\\square$ Yes\\n$\\\\square$ No\\n$\\\\square$ Unknown\\n\\n* Possible uses that can cause contamination include but are not limited to: operation of electrical transformer stations, disposal of waste minerals, raw material storage, and residues left in containers, maintenance activities and spills. Some commercial properties such as gasoline stations, automotive repair garages, and dry cleaning plants have similar potential. The longer a property is under industrial or similar use, the greater the potential for site contamination. Also, a series of different industrial or similar uses upon a site could potentially increase the number of chemicals that are present.\\nk) If current or previous use of the property is industrial or commercial, or if YES to any of a) to j) above, please attach a previous use inventory showing all former uses of the subject land, or if applicable, the land(s) adjacent to the subject lands.\", 'images': [], 'dimensions': {'dpi': 200, 'height': 2200, 'width': 1700}}, {'index': 17, 'markdown': \"# SUBDIVISION/CONDOMINIUM APPLICATION \\n\\n## SCHEDULE E - Environmental Site Screening Questionnaire - Continued\\n\\n## Environmental Site Screening Questionnaire Acknowledgement Clause\\n\\nI hereby acknowledge that it is my responsibility to ensure that I am in compliance with all applicable laws, regulations, guidelines and the City's Official Plan policies pertaining to potentially contaminated sites, and to use all reasonable effort to identify the potential for contamination on the subject property.\\nI acknowledge that as a condition of approval of this application that the City may require me to file a Record of Site Condition signed by a qualified person in the provincial Environmental Site Registry, and provide verification to the City of Windsor of acknowledgement of this Record of Site Condition by the Ministry of Environment.\\nI acknowledge that the City may require the qualified person signing the Record of Site Condition to submit to the City a Declaration acknowledging that the City of Windsor may rely on the statements in the Record of Site Condition.\\nI further acknowledge that the City of Windsor is not responsible for the identification and/or remediation of contaminated sites, and I agree, whether in, through, or as a result of any action or proceeding for environmental clean-up of any damage or otherwise, I will not sue or make claim whatsoever against the City of Windsor, its officers, officials, employees or agents for or in respect of any loss, damage, injury or costs.\\n\\n## Stmuel Tahr:\\n\\nName of Applicant (print)\\n\\n## Karl Tanner\\n\\nName of Agent (print)\\n![img-6.jpeg](img-6.jpeg)\\n\\nSignature of Agent\\n\\nDecember 15, 2021\\nDate\\n\\n## END OF SCHEDULE E\", 'images': [{'id': 'img-6.jpeg', 'top_left_x': 827, 'top_left_y': 809, 'bottom_right_x': 1543, 'bottom_right_y': 1454, 'image_base64': None}], 'dimensions': {'dpi': 200, 'height': 2200, 'width': 1700}}, {'index': 18, 'markdown': '# SUBDIVISION/CONDOMINIUM APPLICATION \\n\\n## DO NOT COMPLETE BELOW - STAFF USE ONLY\\n\\n## Receipt and Assignment of Application\\n\\nDate Received Stamp\\nThis application has been assigned to:\\nJim Abbs (JA)\\n$\\\\square$ Justina Nwaesei (JN)\\n$\\\\square$ $\\\\qquad$\\n\\n## Complete Application\\n\\nThis application is deemed complete on $\\\\qquad$ Date\\n\\nSignature of Delegated Authority\\n$\\\\square$ Neil Robertson, MCIP, RPP\\nManager of Urban Design\\n$\\\\square$ Michael Cooke, MCIP, RPP\\nManager of Planning Policy\\n$\\\\square$ Thom Hunt, MCIP, RPP\\nCity Planner \\\\& Executive Director\\n\\n## Internal Information\\n\\n| Fee Paid: \\\\$ | Receipt No: | Date: |\\n| :--: | :--: | :--: |\\n| Payment Type: $\\\\square$ Cash | $\\\\square$ Certified Cheque | $\\\\square$ Personal Cheque |\\n| NEW File No. SDN/ | Previous File No. SDN/ |  |\\n| NEW File No. CDM/ | Previous File No. CDM/ |  |\\n| Related ZNG File No. ZNG/ | Related OPA File No. OPA |  |\\n| Other File Numbers: |  |  |\\n| Notes: |  |  |\\n|  |  |  |\\n|  |  |  |\\n\\nTHIS IS THE LAST PAGE OF THE APPLICATION FORM', 'images': [], 'dimensions': {'dpi': 200, 'height': 2200, 'width': 1700}}], 'model': 'mistral-ocr-2503-completion', 'usage_info': {'pages_processed': 19, 'doc_size_bytes': 1868141}}\n"
     ]
    }
   ],
   "source": [
    "# read json from response.json\n",
    "with open(\"response.json\", \"r\") as f:\n",
    "    pdf_data = json.load(f)\n",
    "    # print the text from the json\n",
    "    print(pdf_data)\n",
    "print(mistral_response.json())"
   ]
  },
  {
   "cell_type": "code",
   "execution_count": 82,
   "id": "058cebbe",
   "metadata": {},
   "outputs": [
    {
     "name": "stdout",
     "output_type": "stream",
     "text": [
      "[]\n",
      "[]\n",
      "[]\n",
      "[]\n",
      "[]\n",
      "[646, 710, 740, 814, 866, 914, 998, 1044, 1067, 1086, 1117, 1138, 1262, 1325, 1355, 1405, 1458, 1516, 1580, 1641, 1671, 1723, 1765, 1801]\n",
      "inside this loop\n",
      "capturing non-table text\n",
      "inside this loop\n",
      "capturing non-table text\n",
      "inside this loop\n",
      "capturing non-table text\n",
      "[235, 289, 305, 405, 450, 521, 610, 638, 671]\n",
      "inside this loop\n",
      "capturing non-table text\n",
      "[]\n",
      "[153, 211, 269, 449, 510, 576, 631, 697, 748, 785, 828, 864, 900, 949, 993, 1024, 1065]\n",
      "inside this loop\n",
      "capturing non-table text\n",
      "[]\n",
      "[]\n",
      "[377, 427, 457, 532, 574, 649, 720, 819, 943, 1038, 1068, 1110, 1185, 1256, 1361, 1511, 1553, 1583, 1671, 1713, 1788, 1859, 1948]\n",
      "inside this loop\n",
      "capturing non-table text\n",
      "inside this loop\n",
      "capturing non-table text\n",
      "[]\n",
      "[]\n",
      "[]\n",
      "[]\n",
      "[]\n",
      "[]\n",
      "[574, 613, 636, 726, 776, 826, 886, 916, 933, 944]\n",
      "inside this loop\n",
      "capturing non-table text\n"
     ]
    }
   ],
   "source": [
    "def create_chunks(data, chunk_size = 512, overlap=256):\n",
    "    chunks = []\n",
    "    for page in data[\"pages\"]:\n",
    "        # split the markdown into chunks\n",
    "        text = page[\"markdown\"]\n",
    "        # split the text into chunks of size chunk_size\n",
    "        for i in range(0, len(text), chunk_size):\n",
    "            chunk = text[i:i+chunk_size]\n",
    "            chunks.append(chunk)\n",
    "    return chunks\n",
    "\n",
    "def create_smart_chunks(data, chunk_size=512, overlap=256):\n",
    "    import re\n",
    "    chunks = []\n",
    "    page_numbers = {}\n",
    "    # for page in data[\"pages\"]:\n",
    "    for page_number, page in enumerate(data[\"pages\"]):\n",
    "        text = page[\"markdown\"]\n",
    "        table_start_pattern = r\"(\\n\\|)\"\n",
    "        table_end_pattern = r\"(\\|\\n(?!\\|))\"\n",
    "        \n",
    "        # Find table starts and ends\n",
    "        table_starts = [m.start() for m in re.finditer(table_start_pattern, text)]\n",
    "        table_ends = [m.start() for m in re.finditer(table_end_pattern, text)]\n",
    "        \n",
    "        char_index = 0\n",
    "        i = 0\n",
    "        j = 0\n",
    "        # for i in range(len(table_starts)):\n",
    "        temp_chunks = []\n",
    "        print(table_starts)\n",
    "        while i < len(table_starts) and j < max(len(table_ends), 1):\n",
    "            print(\"inside this loop\")\n",
    "            # Capture non-table text before the current table\n",
    "            if table_starts[i] > char_index:\n",
    "                print(\"capturing non-table text\")\n",
    "                non_table_chunk = text[char_index:table_starts[i]].strip()\n",
    "                if non_table_chunk:\n",
    "                    # call create_chunks on the non-table chunk\n",
    "                    non_table_chunks = create_chunks({\"pages\": [{\"index\": page_number, \"markdown\": non_table_chunk}]}, chunk_size, overlap)\n",
    "                    for chunk in non_table_chunks:\n",
    "                        if chunk not in page_numbers:\n",
    "                            page_numbers[chunk] = []\n",
    "                        page_numbers[chunk].append(page_number+1)\n",
    "                    temp_chunks.extend(non_table_chunks)\n",
    "                    # char_index = table_starts[i]\n",
    "                # continue\n",
    "            \n",
    "            # Capture the table chunk\n",
    "            start = table_starts[i]\n",
    "            end = table_ends[j] if j < len(table_ends) else len(text)\n",
    "\n",
    "            char_index = end + 1\n",
    "            j += 1\n",
    "            i += 1\n",
    "            # check if table_starts[i] is greater than table_ends[j]\n",
    "            # if not skip table starts until it is\n",
    "            while i < len(table_starts) and j < len(table_ends) and table_starts[i] < table_ends[j]:\n",
    "                i += 1\n",
    "            # add some pre-start context to the table:\n",
    "            table_chunk = text[start:end+1].strip()\n",
    "            if table_chunk:\n",
    "                temp_chunks.append(table_chunk)\n",
    "        \n",
    "        # Capture any remaining non-table text after the last table\n",
    "        if char_index < len(text):\n",
    "            remaining_chunk = text[char_index:].strip()\n",
    "            if remaining_chunk:\n",
    "                # temp_chunks.append(remaining_chunk)\n",
    "                # call create_chunks on the remaining chunk\n",
    "                remaining_chunks = create_chunks({\"pages\": [{\"index\": page_number, \"markdown\": remaining_chunk}]}, chunk_size, overlap)\n",
    "                for chunk in remaining_chunks:\n",
    "                    if chunk not in page_numbers:\n",
    "                        page_numbers[chunk] = []\n",
    "                    page_numbers[chunk].append(page_number+1)\n",
    "                temp_chunks.extend(remaining_chunks)\n",
    "        # add page number to each chunk\n",
    "        for chunk in temp_chunks:\n",
    "            if chunk not in page_numbers:\n",
    "                page_numbers[chunk] = []\n",
    "                page_numbers[chunk].append(page_number+1)\n",
    "        \n",
    "        chunks.extend(temp_chunks)\n",
    "\n",
    "    return chunks, page_numbers\n",
    "chunks, page_numbers = create_smart_chunks(mistral_response.json(), chunk_size=512, overlap=256)\n",
    "# chunks, page_numbers = create_smart_chunks(pdf_data, chunk_size=512, overlap=256)\n",
    "# if there are any chunks that are smaller than 512 characters, move them to the previous chunk\n",
    "for i in range(len(chunks)):\n",
    "    if len(chunks[i]) < 512:\n",
    "        # move the chunk to the previous chunk\n",
    "        if i > 0:\n",
    "            chunks[i-1] += \"\\n\" + chunks[i]\n",
    "            chunks[i] = \"\"\n",
    "# remove empty chunks and page entries for removed chunks\n",
    "chunks = [chunk for chunk in chunks if chunk != \"\"]\n",
    "for chunk in chunks:\n",
    "    if chunk in page_numbers:\n",
    "        del page_numbers[chunk]"
   ]
  },
  {
   "cell_type": "code",
   "execution_count": 117,
   "id": "2fcd9423",
   "metadata": {},
   "outputs": [
    {
     "name": "stdout",
     "output_type": "stream",
     "text": [
      "0\n"
     ]
    },
    {
     "data": {
      "text/markdown": [
       "# SUBDIVISION/CONDOMINIUM APPLICATION \n",
       "\n",
       "## INSTRUCTIONS\n",
       "\n",
       "## Verify that you are using the most current application form.\n",
       "\n",
       "This application is valid for: Plan of Subdivision, Plan of Condominium, Condominium Conversion, Extension of Draft Approval, Amendment to Draft Approval, Final Approval \\& Registration, Amendment to Agreement, or Amalgamation of Condominium Corporation. Discuss with a staff Planner to determine what must be completed for the application type.\n",
       "\n",
       "Section 1: Pre-Submission consultation with"
      ],
      "text/plain": [
       "<IPython.core.display.Markdown object>"
      ]
     },
     "metadata": {},
     "output_type": "display_data"
    },
    {
     "name": "stdout",
     "output_type": "stream",
     "text": [
      "1\n"
     ]
    },
    {
     "data": {
      "text/markdown": [
       " a staff Planner is mandatory per By-law 199-2007. If you do not have a valid Pre-Submission Letter, you must meet with a staff Planner who must sign and date this section.\n",
       "Section 2: During Pre-Submission consultation a staff Planner will indicate what supporting information must be submitted with the application. Read Pages 2 to 4 before submitting this application and other documents.\n",
       "\n",
       "Section 3: Provide the full name, address, phone number, fax number and email address of the applicant, registered owner"
      ],
      "text/plain": [
       "<IPython.core.display.Markdown object>"
      ]
     },
     "metadata": {},
     "output_type": "display_data"
    },
    {
     "name": "stdout",
     "output_type": "stream",
     "text": [
      "2\n"
     ]
    },
    {
     "data": {
      "text/markdown": [
       ", agent, and Ontario Land Surveyor. For a corporation, provide full corporate name. Include the full name of a contact person. For more than one person, corporation, or registered owner, use additional sheets.\n",
       "Section 4: Indicate if you are resubmitting a previous or earlier plan and if yes, provide the file number.\n",
       "Section 5: Provide information about the Subject Land. This information is used to determine supporting information requirements and to assist in the review of the application.\n",
       "\n",
       "Section 6: Indic"
      ],
      "text/plain": [
       "<IPython.core.display.Markdown object>"
      ]
     },
     "metadata": {},
     "output_type": "display_data"
    },
    {
     "name": "stdout",
     "output_type": "stream",
     "text": [
      "3\n"
     ]
    },
    {
     "data": {
      "text/markdown": [
       "ate if the plan is consistent with the Provincial Policy Statement and conforms to the City of Windsor Official Plan and the appropriate Zoning By-law. If an Official Plan Amendment and/or Zoning By-law Amendment is required, you must have already submitted those applications, or must submit them with this application, otherwise this application will be returned.\n",
       "\n",
       "Section 7: Complete this section if you are applying for approval of a Plan of Condominium. New construction applies to buildings that were recen"
      ],
      "text/plain": [
       "<IPython.core.display.Markdown object>"
      ]
     },
     "metadata": {},
     "output_type": "display_data"
    },
    {
     "name": "stdout",
     "output_type": "stream",
     "text": [
      "4\n"
     ]
    },
    {
     "data": {
      "text/markdown": [
       "tly built, under construction, or not yet under construction. Conversion applies to existing buildings that contain residential rental units that are being converted to Condominium Status. To be considered for an exemption from Section 9(3) of the Condominium Act, you must formally request such exemption. Submit all the documents indicated in Section 7 with this application.\n",
       "\n",
       "Section 8: Provide the number of lots, blocks, units or dwellings, the number of hectares, the density measured as units per hectare "
      ],
      "text/plain": [
       "<IPython.core.display.Markdown object>"
      ]
     },
     "metadata": {},
     "output_type": "display_data"
    },
    {
     "name": "stdout",
     "output_type": "stream",
     "text": [
      "5\n"
     ]
    },
    {
     "data": {
      "text/markdown": [
       "and the number of parking spaces for the proposed land use for all applications. For Plan of Condominium applications also provide the date of construction and the floor coverage in square metres.\n",
       "\n",
       "Section 9: Indicate how the property is accessed. Check all boxes that apply.\n",
       "Section 10: Provide information about water service, sanitary sewage disposal and storm drainage. Submit all required documents indicated in Section 10 with this application.\n",
       "\n",
       "Section 11: Provide a description of the existing land use, "
      ],
      "text/plain": [
       "<IPython.core.display.Markdown object>"
      ]
     },
     "metadata": {},
     "output_type": "display_data"
    },
    {
     "name": "stdout",
     "output_type": "stream",
     "text": [
      "6\n"
     ]
    },
    {
     "data": {
      "text/markdown": [
       "buildings \\& infrastructure, vegetation, topography \\& drainage of the subject land or check the box beside \"See Planning Rationale Report\" if described in the report.\n",
       "\n",
       "Section 12: Provide a description of what measures have been or will be taken to mitigate adverse environmental effects from the proposed development on the surrounding areas and from the surrounding areas on the proposed development or check the box beside \"See Planning Rationale Report\" if described in the report.\n",
       "\n",
       "Section 13: Explain your"
      ],
      "text/plain": [
       "<IPython.core.display.Markdown object>"
      ]
     },
     "metadata": {},
     "output_type": "display_data"
    },
    {
     "name": "stdout",
     "output_type": "stream",
     "text": [
      "7\n"
     ]
    },
    {
     "data": {
      "text/markdown": [
       " proposed strategy for consulting with the public.\n",
       "Section 14: Check the appropriate application fee box based on the pre-submission\n",
       "\n",
       "DATE RECEIVED STAMP consultation with the Planner.\n",
       "\n",
       "Section 15: Print you name in full and sign the sworn declaration in the presence of a Commissioner for Taking Affidavits.\n",
       "\n",
       "Schedules: Read, complete in full, and sign Schedules A \\& E.\n",
       "Submit application form, supporting information, \\& application fee/credit card authorization to Senior Steno Clerk at Planning Division, Su\n",
       "ite 210, 350 City Hall Square West, Windsor ON N9A 6S1 or planningdept@citywindsor.ca"
      ],
      "text/plain": [
       "<IPython.core.display.Markdown object>"
      ]
     },
     "metadata": {},
     "output_type": "display_data"
    },
    {
     "name": "stdout",
     "output_type": "stream",
     "text": [
      "8\n"
     ]
    },
    {
     "data": {
      "text/markdown": [
       "# SUBDIVISION/CONDOMINIUM APPLICATION \n",
       "\n",
       "## PLAN REQUIREMENTS\n",
       "\n",
       "## A. NUMBER OF COPIES REQUIRED\n",
       "\n",
       "The Planning Act, R.S.O. 1990, c. P.13, requires that copies of the draft plan as required by the Minister must accompany all applications.\n",
       "A1. Submit six (6) full size paper copies of the draft plan; AND\n",
       "A2. A digital copy of the CAD files of the draft plan in DWG, PDF, and JPG formats.\n",
       "File names should be logical and clearly indicate the nature of the file and include either the SDN or CDM file number (SDN 000-"
      ],
      "text/plain": [
       "<IPython.core.display.Markdown object>"
      ]
     },
     "metadata": {},
     "output_type": "display_data"
    },
    {
     "name": "stdout",
     "output_type": "stream",
     "text": [
      "9\n"
     ]
    },
    {
     "data": {
      "text/markdown": [
       "00 or CDM 000-00) or the name of the applicant and site location.\n",
       "For example, \"SDN000-00 draft plan.dwg\" or \"Applicant Name-Site Location-Draft Plan.dwg\".\n",
       "If further copies are required, we will notify you. To submit drawings on an alternate device, please discuss with the assigned Planner.\n",
       "\n",
       "## B. DRAFT PLAN REQUIREMENTS\n",
       "\n",
       "All plans and measurements must be in metric. Draft plans must be drawn to scale and indicate all items as required by Section 51(17) of the Planning Act and the City of Windsor as follow"
      ],
      "text/plain": [
       "<IPython.core.display.Markdown object>"
      ]
     },
     "metadata": {},
     "output_type": "display_data"
    },
    {
     "name": "stdout",
     "output_type": "stream",
     "text": [
      "10\n"
     ]
    },
    {
     "data": {
      "text/markdown": [
       "s:\n",
       "\n",
       "B1. Boundaries of the land to be subdivided, certified by an Ontario Land Surveyor, and based on NAD83, Zone 17.\n",
       "B2. Locations, widths and names of proposed roads, streets, highways and rights-of-way within the proposed subdivision and existing roads, streets, highways, and rights-of-way abutting the proposed subdivision;\n",
       "B3. On a small key plan, with a scale of not less than one centimetre to 100 metres, all of the land adjacent to the proposed subdivision that is owned by the applicant or in which the"
      ],
      "text/plain": [
       "<IPython.core.display.Markdown object>"
      ]
     },
     "metadata": {},
     "output_type": "display_data"
    },
    {
     "name": "stdout",
     "output_type": "stream",
     "text": [
      "11\n"
     ]
    },
    {
     "data": {
      "text/markdown": [
       " applicant has an interest, every subdivision adjacent to the proposed subdivision and the relationship of the boundaries of the land to be subdivided to the boundaries of the township lot or other original grant of which such land forms the whole or part;\n",
       "B4. Purpose for which the proposed lots are to be used;\n",
       "B5. Existing uses of all adjoining lands;\n",
       "B6. Approximate dimensions and layout of the proposed lots and/or blocks;\n",
       "B7. If any affordable housing units are being proposed, the shape and dimensions of"
      ],
      "text/plain": [
       "<IPython.core.display.Markdown object>"
      ]
     },
     "metadata": {},
     "output_type": "display_data"
    },
    {
     "name": "stdout",
     "output_type": "stream",
     "text": [
      "12\n"
     ]
    },
    {
     "data": {
      "text/markdown": [
       " each proposed affordable housing unit and the approximate location of each proposed affordable housing unit in relation to other proposed residential units;\n",
       "B8. Natural and artificial features such as buildings or other structures or installations, railways and rail yards, highways, roads, streets and recreational trails, hydro lines and other public utilities, watercourses, drainage ditches, wetlands and wooded areas, archaeological or heritage features, and significant plant and wildlife habitat (includi"
      ],
      "text/plain": [
       "<IPython.core.display.Markdown object>"
      ]
     },
     "metadata": {},
     "output_type": "display_data"
    },
    {
     "name": "stdout",
     "output_type": "stream",
     "text": [
      "13\n"
     ]
    },
    {
     "data": {
      "text/markdown": [
       "ng ESAs \\& ANSIs) within or adjacent to the land proposed to be subdivided;\n",
       "B9. Availability and nature of domestic water supplies;\n",
       "B10. Nature and porosity of the soil;\n",
       "B11. Existing contours or elevations as may be required to determine the grade of the streets, roads and highways and the drainage of the land proposed to be subdivided;\n",
       "B12. Municipal services available or are to be available to the land proposed to be subdivided;\n",
       "B13. Nature and extent of any restrictions affecting the land proposed to be\n",
       " subdivided including restrictive covenants, easements, or the Airport Operating Area; and\n",
       "B14. Floodplains, flood ways, flood prone areas, and flood elevations\n",
       "\n",
       "## C. CONDOMINIUM DRAFT PLAN REQUIREMENTS\n",
       "\n",
       "In addition to the above requirements, draft plans proposing condominium ownership must include:\n",
       "C1. Proposed exclusive use areas of the common element such as backyards and parking;\n",
       "C2. Roadways and pedestrian access to proposed private units."
      ],
      "text/plain": [
       "<IPython.core.display.Markdown object>"
      ]
     },
     "metadata": {},
     "output_type": "display_data"
    },
    {
     "name": "stdout",
     "output_type": "stream",
     "text": [
      "14\n"
     ]
    },
    {
     "data": {
      "text/markdown": [
       "# SUBDIVISION/CONDOMINIUM APPLICATION \n",
       "\n",
       "## APPLICATION PROCESSING\n",
       "\n",
       "The applicant or their agent is responsible for researching and evaluating the site and the proposal to ensure that the development will conform to the interests of the health, safety, and welfare of existing and future residents, and for filling in the application and for supplying all documents necessary to constitute a complete application. Supporting studies must be conducted prior to the submission of the application. This information w"
      ],
      "text/plain": [
       "<IPython.core.display.Markdown object>"
      ]
     },
     "metadata": {},
     "output_type": "display_data"
    },
    {
     "name": "stdout",
     "output_type": "stream",
     "text": [
      "15\n"
     ]
    },
    {
     "data": {
      "text/markdown": [
       "ill used to review and assess the application\n",
       "Section 51(24) of the Planning Act and Section 11.4.2.3 of the City of Windsor Official Plan list the criteria that are used in evaluating a draft plan. Where additional copies of the plan or supporting documents are subsequently requested by staff or review agencies, the applicant is responsible for supplying them at their cost\n",
       "Timelines in the Planning Act have been suspended during the State of Emergency. The following is for your information only. Review the"
      ],
      "text/plain": [
       "<IPython.core.display.Markdown object>"
      ]
     },
     "metadata": {},
     "output_type": "display_data"
    },
    {
     "name": "stdout",
     "output_type": "stream",
     "text": [
      "16\n"
     ]
    },
    {
     "data": {
      "text/markdown": [
       " Planning Act and relevant regulations for statutory requirements. The processing of the application is subject to change. The application will be terminated without notice after 60 days of inactivity. Direct all questions about the application to the assigned Planner. The procedure generally encompasses the following steps:\n",
       "\n",
       "1. Within 30 days of receiving this application, the City Planner, or their designate, will review the application to determine if it is or is not complete. If deemed incomplete, the a"
      ],
      "text/plain": [
       "<IPython.core.display.Markdown object>"
      ]
     },
     "metadata": {},
     "output_type": "display_data"
    },
    {
     "name": "stdout",
     "output_type": "stream",
     "text": [
      "17\n"
     ]
    },
    {
     "data": {
      "text/markdown": [
       "pplication, supporting documents, and fee may be returned for completion, correction, or clarification, or the applicant may be requested to submit additional or revised supporting information. Administration, the Development \\& Heritage Standing Committee (DHSC), and City of Windsor Council reserve the right to request additional information any time during the processing of the application.\n",
       "2. If deemed complete, fees are not refundable, the application is circulated to departments and external agencies f"
      ],
      "text/plain": [
       "<IPython.core.display.Markdown object>"
      ]
     },
     "metadata": {},
     "output_type": "display_data"
    },
    {
     "name": "stdout",
     "output_type": "stream",
     "text": [
      "18\n"
     ]
    },
    {
     "data": {
      "text/markdown": [
       "or review and comment, and all submitted documents are made available to the public.\n",
       "3. Following circulation, a draft staff report containing a recommendation and any conditions is prepared. The City Planner and other staff review the draft staff report.\n",
       "4. When the staff report is approved by appropriate municipal staff, it will be scheduled for a future meeting of the Development and Heritage Standing Committee (DHSC).\n",
       "5. Mandatory public notice of the DHSC meeting is advertised in the Windsor Star at le"
      ],
      "text/plain": [
       "<IPython.core.display.Markdown object>"
      ]
     },
     "metadata": {},
     "output_type": "display_data"
    },
    {
     "name": "stdout",
     "output_type": "stream",
     "text": [
      "19\n"
     ]
    },
    {
     "data": {
      "text/markdown": [
       "ast 20 days in advance of the DHSC meeting. A courtesy notice may be mailed to all property owners and/or tenants within 120 metres of the subject land. The DHSC meeting is the public meeting required by the Planning Act. The staff report is provided to the applicant and DHSC members, and is made available to the public, 10 days before the DHSC meeting.\n",
       "6. At the DHSC meeting, a staff planner introduces the application and reviews the recommendation in the staff report. The applicant and other interested pa"
      ],
      "text/plain": [
       "<IPython.core.display.Markdown object>"
      ]
     },
     "metadata": {},
     "output_type": "display_data"
    },
    {
     "name": "stdout",
     "output_type": "stream",
     "text": [
      "20\n"
     ]
    },
    {
     "data": {
      "text/markdown": [
       "rties are given an opportunity to make verbal or written submissions. The DHSC may ask questions of the staff planner, the applicant and their representatives and any party that made verbal or written submissions. The DHSC may choose to recommend draft approval, denial or deferral of the application. It may also modify the recommendation of the Planning Division.\n",
       "7. If recommended for draft approval or denial, the staff report and the minutes of the DHSC meeting are forwarded to City of Windsor Council for "
      ],
      "text/plain": [
       "<IPython.core.display.Markdown object>"
      ]
     },
     "metadata": {},
     "output_type": "display_data"
    },
    {
     "name": "stdout",
     "output_type": "stream",
     "text": [
      "21\n"
     ]
    },
    {
     "data": {
      "text/markdown": [
       "consideration at a future date. The Planning Division has no control over the placement of an application on a Council Meeting agenda. The City Clerk will forward the date and time of the Council Meeting to the contacts in Section 3. Call 311 or contact the City Clerk at 519-255-6211 or clerks@citywindsor.ca\n",
       "8. The Council meeting, the applicant and the other parties may make verbal or written submissions. If the applicant concurs with the recommendation of DHSC, and there is no opposition to the applicatio"
      ],
      "text/plain": [
       "<IPython.core.display.Markdown object>"
      ]
     },
     "metadata": {},
     "output_type": "display_data"
    },
    {
     "name": "stdout",
     "output_type": "stream",
     "text": [
      "22\n"
     ]
    },
    {
     "data": {
      "text/markdown": [
       "n, Council may place the application on the Consent Agenda, a part of the Council meeting containing items that are grouped together and passed with one motion. Council may choose to draft approve, deny, or defer the application.\n",
       "9. Applications may be referred, or the decision of Council may be appealed, to the Ontario Land Tribunal (OLT). Appeals are filed with the City Clerk. Contact the City Clerk at 519-255-6211 or clerks@citywindsor.ca\n",
       "10. If Council approves the draft plan and no appeals are received\n",
       ", an agreement is prepared for signature and registration on title.\n",
       "11. The conditions of draft approval must be fulfilled prior to the expiry of draft approval. It is the responsibility of the property owner or applicant to obtain confirmation from agencies and departments that the conditions of draft approval have been fulfilled. Some agencies may require that a copy of the completed subdivision agreement be forwarded to them prior to notifying the City that the conditions have been fulfilled."
      ],
      "text/plain": [
       "<IPython.core.display.Markdown object>"
      ]
     },
     "metadata": {},
     "output_type": "display_data"
    },
    {
     "name": "stdout",
     "output_type": "stream",
     "text": [
      "23\n"
     ]
    },
    {
     "data": {
      "text/markdown": [
       "# SUBDIVISION/CONDOMINIUM APPLICATION \n",
       "\n",
       "## FINAL APPROVAL \\& REGISTRATION REQUIREMENTS\n",
       "\n",
       "When you are ready to obtain final approval and register the plan, the following must be submitted:\n",
       "\n",
       "1. Fee for Final Approval \\& Registration - see Section 14 - Fees on page 13;\n",
       "2. One (1) mylar copy of the plan to be registered;\n",
       "3. Five (5) paper copies of the plan to be registered, one of which has the AOLS Plans Submission Form attached to it; and\n",
       "4. One digital file transfer device containing geo-referenced CAD file"
      ],
      "text/plain": [
       "<IPython.core.display.Markdown object>"
      ]
     },
     "metadata": {},
     "output_type": "display_data"
    },
    {
     "name": "stdout",
     "output_type": "stream",
     "text": [
      "24\n"
     ]
    },
    {
     "data": {
      "text/markdown": [
       "s of the plan to be registered.\n",
       "\n",
       "## OTHER INFORMATION\n",
       "\n",
       "Read the staff report, draft approval, final approval, and agreements carefully and take note of all conditions and expiry dates in these documents.\n",
       "\n",
       "Other municipal departments and external agencies may have their own requirements, fees and approvals in addition to the requirements, fees and approvals listed in this application form.\n",
       "\n",
       "The City of Windsor does not send reminders regarding conditions and expiry dates. It is the responsibility of the prop"
      ],
      "text/plain": [
       "<IPython.core.display.Markdown object>"
      ]
     },
     "metadata": {},
     "output_type": "display_data"
    },
    {
     "name": "stdout",
     "output_type": "stream",
     "text": [
      "25\n"
     ]
    },
    {
     "data": {
      "text/markdown": [
       "erty owner to complete all conditions or obtain approval from Council or the delegated approval authority to extend draft approval, prior to the expiry date.\n",
       "\n",
       "When submitting an extension to draft approval, you must allow for sufficient time to process the application and to obtain approval of the extension. Submission, or acceptance, of an application for an extension to draft approval does not automatically extend the expiry date. It is the responsibility of the property owner to be aware of all condition\n",
       "s and expiry dates.\n",
       "\n",
       "Planning legislation, regulations, fees, and processes are subject to change.\n",
       "\n",
       "## CONTACT INFORMATION\n",
       "\n",
       "Planning \\& Building Department - Planning Division\n",
       "St.\n",
       "\n",
       "350 City Hall Square West Windsor ON N9A 6S1\n",
       "\n",
       "Telephone: 519-255-6543\n",
       "Fax: 519-255-6544\n",
       "Email: planningdept@citywindsor.ca\n",
       "Web Site: www.citywindsor.ca"
      ],
      "text/plain": [
       "<IPython.core.display.Markdown object>"
      ]
     },
     "metadata": {},
     "output_type": "display_data"
    },
    {
     "name": "stdout",
     "output_type": "stream",
     "text": [
      "26\n"
     ]
    },
    {
     "data": {
      "text/markdown": [
       "# SUBDIVISION/CONDOMINIUM APPLICATION \n",
       "\n",
       "## 1. PRE-SUBMISSION CONSULTATION\n",
       "\n",
       "By-law 199-2007 requires pre-submission consultation with a staff Planner to determine what supporting information is required, to verify fee payable, and to review the process. This application is incomplete unless you have a valid Pre-Submission Letter or a staff Planner signs below.\n",
       "\n",
       "Valid Pre-Submission Letter? NO $\\square$ YES $\\square$ File Number: PS-\n",
       "Staff Use Only\n",
       "\n",
       "Signature of Staff Planner\n",
       "Date of Consultation\n",
       "$\\square$ Ji"
      ],
      "text/plain": [
       "<IPython.core.display.Markdown object>"
      ]
     },
     "metadata": {},
     "output_type": "display_data"
    },
    {
     "name": "stdout",
     "output_type": "stream",
     "text": [
      "27\n"
     ]
    },
    {
     "data": {
      "text/markdown": [
       "m Abbs\n",
       "$\\square$ Justina Nwaesei\n",
       "\n",
       "## 2. REQUIRED SUPPORTING INFORMATION (To be completed by a staff Planner)\n",
       "\n",
       "If you do not have a valid Pre-submission Letter, a staff Planner will indicate below what supporting information must be submitted with the application. The City of Windsor reserves the right to require additional supporting information during the processing of the application. All documents submitted are made available for public review.\n",
       "Unless otherwise indicated, for each document, provide one p"
      ],
      "text/plain": [
       "<IPython.core.display.Markdown object>"
      ]
     },
     "metadata": {},
     "output_type": "display_data"
    },
    {
     "name": "stdout",
     "output_type": "stream",
     "text": [
      "28\n"
     ]
    },
    {
     "data": {
      "text/markdown": [
       "aper copy and one digital copy. Draft Plans shall be provided in DWG, PDF \\& JPG format. Other drawings shall be provided in letter size ( 8.5 by 11 inches) in JPG and PDF format. All other documents shall be provided in Word and PDF format. PDF documents shall be flattened with no layers.\n",
       "If you are submitting a companion planning application (official plan or rezoning), you need only submit one set of the required supporting information. Include checked supporting information with this application:\n",
       "![img-\n",
       "0.jpeg](img-0.jpeg)"
      ],
      "text/plain": [
       "<IPython.core.display.Markdown object>"
      ]
     },
     "metadata": {},
     "output_type": "display_data"
    },
    {
     "name": "stdout",
     "output_type": "stream",
     "text": [
      "29\n"
     ]
    },
    {
     "data": {
      "text/markdown": [
       "# SUBDIVISION/CONDOMINIUM APPLICATION \n",
       "\n",
       "## 3. CONTACT INFORMATION\n",
       "\n",
       "Provide in full the name of the applicant \\& contact person, registered owner, agent, \\& Ontario Land Surveyor and mailing address, phone \\& fax number and email address. If the case of a numbered company, provide the name of the principals of the company. If there is more than one applicant or registered owner, copy this page, complete in full and submit with this application. All communication regarding the application will be with the Age\n",
       "nt authorized by the Owner to file the application. If there is no Agent, all communication will be with the Applicant.\n",
       "\n",
       "## Applicant"
      ],
      "text/plain": [
       "<IPython.core.display.Markdown object>"
      ]
     },
     "metadata": {},
     "output_type": "display_data"
    },
    {
     "name": "stdout",
     "output_type": "stream",
     "text": [
      "30\n"
     ]
    },
    {
     "data": {
      "text/markdown": [
       "\n",
       "| Name: | Farhi Holding Corporation | Contact: | Shmuel Farhi |\n",
       "| :--: | :--: | :--: | :--: |\n",
       "| Address: | 484 Richmond Street, Suite 200 |  | Name of Contact Person |\n",
       "| Address: | London, ON |  | Postal Code: N6A 3E6 |\n",
       "| Phone: | 519-645-6666 | Fax: | 519-645-7735 |\n",
       "| Email: | farhi@farhi.ca |  |  |"
      ],
      "text/plain": [
       "<IPython.core.display.Markdown object>"
      ]
     },
     "metadata": {},
     "output_type": "display_data"
    },
    {
     "name": "stdout",
     "output_type": "stream",
     "text": [
      "31\n"
     ]
    },
    {
     "data": {
      "text/markdown": [
       "\n",
       "## Registered Owner $\\square$ Same as Applicant\n",
       "\n",
       "| Name: | Contact: | Name of Contact Person |\n",
       "| :--: | :--: | :--: |\n",
       "| Address: |  |  |\n",
       "| Address: |  | Postal Code: |\n",
       "| Phone: | Fax: |  |\n",
       "| Email: |  |  |\n",
       "\n",
       "Agent Authorized by the Owner to File the Application (If applicable, complete Section A1 in Schedule A)"
      ],
      "text/plain": [
       "<IPython.core.display.Markdown object>"
      ]
     },
     "metadata": {},
     "output_type": "display_data"
    },
    {
     "name": "stdout",
     "output_type": "stream",
     "text": [
      "32\n"
     ]
    },
    {
     "data": {
      "text/markdown": [
       "\n",
       "Agent Authorized by the Owner to File the Application (If applicable, complete Section A1 in Schedule A)\n",
       "\n",
       "| Name: | Dillon Consulting Limited | Contact: | Karl Tanner |\n",
       "| :--: | :--: | :--: | :--: |\n",
       "| Address: | 3200 Deziel Drive, Suite 608 |  |  |\n",
       "| Address: | Windsor, ON |  | Postal Code: N5W 5K8 |\n",
       "| Phone: | 519-948-5000 Ext. 3227 | Fax: | 519-948-5054 |\n",
       "| Email: | ktanner@dillon.ca |  |  |\n",
       "\n",
       "## Ontario Land Surveyor"
      ],
      "text/plain": [
       "<IPython.core.display.Markdown object>"
      ]
     },
     "metadata": {},
     "output_type": "display_data"
    },
    {
     "name": "stdout",
     "output_type": "stream",
     "text": [
      "33\n"
     ]
    },
    {
     "data": {
      "text/markdown": [
       "\n",
       "## Ontario Land Surveyor\n",
       "\n",
       "| Name: | Verhaegen Land Surveyors | Contact: | Roy Simone |\n",
       "| :--: | :--: | :--: | :--: |\n",
       "| Address: | 944 Ottawa Street, Windsor, ON |  |  |\n",
       "| Address: |  |  | Postal Code: N8X 2E1 |\n",
       "| Phone: | 519-258-1772 | Fax: |  |\n",
       "| Email: | rsimone@vshbbsurveys.com |  |  |"
      ],
      "text/plain": [
       "<IPython.core.display.Markdown object>"
      ]
     },
     "metadata": {},
     "output_type": "display_data"
    },
    {
     "name": "stdout",
     "output_type": "stream",
     "text": [
      "34\n"
     ]
    },
    {
     "data": {
      "text/markdown": [
       "\n",
       "# SUBDIVISION/CONDOMINIUM APPLICATION \n",
       "\n",
       "## 4. RESUBMISSION OF A PREVIOUS PLAN?\n",
       "\n",
       "No $\\mathbb{R}$ Yes $\\square$ Previous Plan/File No. $\\qquad$ Do Not Know $\\square$\n",
       "\n",
       "## 5. SUBJECT LAND INFORMATION (attach additional sheets as required)"
      ],
      "text/plain": [
       "<IPython.core.display.Markdown object>"
      ]
     },
     "metadata": {},
     "output_type": "display_data"
    },
    {
     "name": "stdout",
     "output_type": "stream",
     "text": [
      "35\n"
     ]
    },
    {
     "data": {
      "text/markdown": [
       "\n",
       "| Municipal Address | 1600 Lauzon Road, Windsor, ON |\n",
       "| :--: | :--: |\n",
       "| Legal <br> Description | Pt of Lots 128, 129E, 129W, \\& 132, Concession 1; Pts 1,5,6, 12R 22910 |\n",
       "| Assessment Roll Number | 373907072000194 |\n",
       "| Frontage (m) | 217m (McHugh St.) Depth (m) 167m Area (sq m) 1.94ha |\n",
       "| Official Plan Designation Commercial, Institutional, and Residential designations |  |\n",
       "| Current Zoning RD3.1 |  |\n",
       "| Existing Uses Residential |  |\n",
       "| Previous Uses | Previously used as a manufacturing facility |"
      ],
      "text/plain": [
       "<IPython.core.display.Markdown object>"
      ]
     },
     "metadata": {},
     "output_type": "display_data"
    },
    {
     "name": "stdout",
     "output_type": "stream",
     "text": [
      "36\n"
     ]
    },
    {
     "data": {
      "text/markdown": [
       "List the names \\& addresses of the holders of any mortgages, charges or encumbrances in respect of the subject land:\n",
       "\n",
       "Are there any easements or restrictive covenants affecting the subject land? No $\\square$ Yes $\\square$\n",
       "If YES, describe the easement or restrictive covenant and its effect:\n",
       "\n",
       "Is the subject land located in an area of high archaeological potential? No $\\mathbb{R}$ Yes $\\square$\n",
       "Will the plan permit development on land that has high archaeological potential? No $\\mathbb{R}$ Yes $\\square$\n",
       "If YE"
      ],
      "text/plain": [
       "<IPython.core.display.Markdown object>"
      ]
     },
     "metadata": {},
     "output_type": "display_data"
    },
    {
     "name": "stdout",
     "output_type": "stream",
     "text": [
      "37\n"
     ]
    },
    {
     "data": {
      "text/markdown": [
       "S, submit: An Archaeological Assessment prepared by a person who holds a licence that is effective with respect to the subject land, issued under Part VI (Conservation of Resources of Archaeological Value) on the Ontario Heritage Act; and a Conservation Plan for any archaeological resources identified in the Archaeological Assessment.\n",
       "Has the subject land ever been subject of: (leave blank if unknown)\n",
       "An application for a plan of subdivision/condominium or consent? No $\\square$ Yes $\\mathbb{R}$ File:\n",
       "An app\n",
       "lication for a zoning by-law amendment or a minor variance? No $\\square$ Yes $\\mathbb{R}$ File:\n",
       "An application for approval of a site plan? No $\\square$ Yes $\\square$ File:\n",
       "A Minister's Zoning Order (Ontario Regulation)? No $\\square$ Yes $\\square$ OR\\# $\\qquad$ Ontario Regulation"
      ],
      "text/plain": [
       "<IPython.core.display.Markdown object>"
      ]
     },
     "metadata": {},
     "output_type": "display_data"
    },
    {
     "name": "stdout",
     "output_type": "stream",
     "text": [
      "38\n"
     ]
    },
    {
     "data": {
      "text/markdown": [
       "# SUBDIVISION/CONDOMINIUM APPLICATION \n",
       "\n",
       "## 6. PLANNING CONFORMITY\n",
       "\n",
       "If an Official Plan Amendment and/or a Zoning By-law Amendment is required, the Planning Division must have already received it or it must be submitted with this application, otherwise this application will be returned as incomplete.\n",
       "\n",
       "Is the plan consistent with Provincial Policy Statement?\n",
       "$\\square$\n",
       "$\\square$\n",
       "Yes\n",
       "No Yes\n",
       "If No, you must submit a companion application for an Amendment to the Official Plan.\n",
       "Does the plan conform to the Zoning "
      ],
      "text/plain": [
       "<IPython.core.display.Markdown object>"
      ]
     },
     "metadata": {},
     "output_type": "display_data"
    },
    {
     "name": "stdout",
     "output_type": "stream",
     "text": [
      "39\n"
     ]
    },
    {
     "data": {
      "text/markdown": [
       "By-law?\n",
       "No Yes\n",
       "If No, you must submit a companion application for an Amendment to the Zoning By-law.\n",
       "\n",
       "## 7. PLAN OF CONDOMINIUM INFORMATION\n",
       "\n",
       "## New Construction\n",
       "\n",
       "Has the City approved a Site Plan? No $\\square$ Yes $\\square$ If Yes, attach the approved Site Plan.\n",
       "Site Plan Agreement registered? No $\\square$ Yes $\\square$ If Yes, attach the Site Plan Agreement.\n",
       "Has a Building Permit been issued? No $\\square$ Yes $\\square$ If Yes, attach the Building Permit.\n",
       "Status of Building: Not Under Construction $\\square$"
      ],
      "text/plain": [
       "<IPython.core.display.Markdown object>"
      ]
     },
     "metadata": {},
     "output_type": "display_data"
    },
    {
     "name": "stdout",
     "output_type": "stream",
     "text": [
      "40\n"
     ]
    },
    {
     "data": {
      "text/markdown": [
       " Under Construction $\\square$ Completed $\\square$ Date Completed: $\\qquad$\n",
       "Are any units occupied?\n",
       "No $\\square$\n",
       "Yes $\\square$ If Yes, number of units: $\\qquad$\n",
       "\n",
       "## Conversion of a Building Containing Residential Rental Units (Condominium Conversion)\n",
       "\n",
       "Is this an application to convert a building containing residential units to condominium status?\n",
       "No $\\square \\quad$ Yes $\\square$ If Yes, submit a Structural Integrity Report\n",
       "Does the building contain any residential rental units?\n",
       "No $\\square \\quad$ Yes $\\squar"
      ],
      "text/plain": [
       "<IPython.core.display.Markdown object>"
      ]
     },
     "metadata": {},
     "output_type": "display_data"
    },
    {
     "name": "stdout",
     "output_type": "stream",
     "text": [
      "41\n"
     ]
    },
    {
     "data": {
      "text/markdown": [
       "e$ If Yes, attach a Rent Roll with the names of all tenants, the rent paid by each tenant and their apartment number.\n",
       "How many rental units are to be converted: $\\qquad$ units\n",
       "\n",
       "Are tenants willing to purchase units if converted to condominium?\n",
       "No $\\square$ Yes $\\square$ If Yes, attach documentation signed by tenants. Do Not Know $\\square$\n",
       "\n",
       "## Exemption from Section 9(3) of the Condominium Act\n",
       "\n",
       "Are you applying for an exemption pursuant to Section 9(3) of the Condominium Act?\n",
       "No $\\square \\quad$ Yes $\\square$\n",
       " If Yes, attach a request for such exemption signed by the owner or agent."
      ],
      "text/plain": [
       "<IPython.core.display.Markdown object>"
      ]
     },
     "metadata": {},
     "output_type": "display_data"
    },
    {
     "name": "stdout",
     "output_type": "stream",
     "text": [
      "42\n"
     ]
    },
    {
     "data": {
      "text/markdown": [
       "\n",
       "# SUBDIVISION/CONDOMINIUM APPLICATION \n",
       "\n",
       "## 7. PROPOSED LAND USES\n",
       "\n",
       "Indicate the intended uses of the land in the proposal. Complete this section in full."
      ],
      "text/plain": [
       "<IPython.core.display.Markdown object>"
      ]
     },
     "metadata": {},
     "output_type": "display_data"
    },
    {
     "name": "stdout",
     "output_type": "stream",
     "text": [
      "43\n"
     ]
    },
    {
     "data": {
      "text/markdown": [
       "| All Applications |  |  |  |  |  | Condominium Only |  |\n",
       "| :--: | :--: | :--: | :--: | :--: | :--: | :--: | :--: |\n",
       "| Proposed Use | Number of Lots or Blocks | Number of Units or Dwellings | Hectares (ha) | Density (units/ ha) | Number of Parking Spaces | Date of Construction | Floor Coverage |\n",
       "| Detached <br> Residential |  |  |  |  | Condo Only |  |  |\n",
       "| Semi-detached <br> Residential |  |  |  |  | Condo Only |  |  |\n",
       "| Multiple Attached Residential |  |  |  |  |  |  |  |\n",
       "| Apartment <br> Residential | 4 | 232 | 1.97 | 117 | 290 |  |  |\n",
       "| Seasonal <br> Residential |  |  |  |  |  |  |  |\n",
       "| Mobile Home |  |  |  |  |  |  |  |\n",
       "| Other Residential |  |  |  |  |  |  |  |\n",
       "| Commercial |  |  |  |  |  |  |  |\n",
       "| Industrial |  |  |  |  |  |  |  |\n",
       "| Institutional (specify) |  |  |  |  |  |  |  |\n",
       "| Park or Open Space |  |  |  |  |  |  |  |\n",
       "| Roads |  |  |  |  |  |  |  |\n",
       "| Other (specify) |  |  |  |  |  |  |  |\n",
       "| TOTAL |  |  |  |  |  |  |  |"
      ],
      "text/plain": [
       "<IPython.core.display.Markdown object>"
      ]
     },
     "metadata": {},
     "output_type": "display_data"
    },
    {
     "name": "stdout",
     "output_type": "stream",
     "text": [
      "44\n"
     ]
    },
    {
     "data": {
      "text/markdown": [
       "# SUBDIVISION/CONDOMINIUM APPLICATION \n",
       "\n",
       "## 9. ACCESS TO SUBJECT LAND\n",
       "\n",
       "Indicate if access to subject land is by: (check all that apply)\n",
       "$\\square$ Provincial Highway $\\square$ Municipal Road $\\square$ Another Public Road or a Right-Of-Way\n",
       "$\\square$ Water - If access to the subject land is by water only, describe the parking and docking facilities uses or to be used and provide the approximate distance of these facilities from the subject land and the nearest public road:\n",
       "\n",
       "## 10. WATER, SANITARY SEWAGE AND STO"
      ],
      "text/plain": [
       "<IPython.core.display.Markdown object>"
      ]
     },
     "metadata": {},
     "output_type": "display_data"
    },
    {
     "name": "stdout",
     "output_type": "stream",
     "text": [
      "45\n"
     ]
    },
    {
     "data": {
      "text/markdown": [
       "RM DRAINAGE\n",
       "\n",
       "Water - Indicate whether water will be provided to the subject land by:\n",
       "$\\square$ Publicly owned \\& operated piped water system\n",
       "$\\square$ Other $\\qquad$\n",
       "$\\square$ Privately owned \\& operated individual well\n",
       "$\\square$ Privately owned/operated communal well\n",
       "Sanitary - Indicate whether sewage disposal will be provided to the subject land by:\n",
       "$\\square$ Publicly owned \\& operated sanitary sewage system\n",
       "$\\square$ Other $\\qquad$\n",
       "$\\square$ Privately owned \\& operated individual septic system\n",
       "$\\square$ "
      ],
      "text/plain": [
       "<IPython.core.display.Markdown object>"
      ]
     },
     "metadata": {},
     "output_type": "display_data"
    },
    {
     "name": "stdout",
     "output_type": "stream",
     "text": [
      "46\n"
     ]
    },
    {
     "data": {
      "text/markdown": [
       "Privately owned \\& operated communal septic system\n",
       "\n",
       "Submit a Servicing Options Report and a Hydrogeological Report if any of the following apply:\n",
       "a. More than five lots or units on privately owned \\& operated individual or communal wells;\n",
       "b. Five or more lots or units on privately owned \\& operated individual or communal septic systems; or\n",
       "c. Less than five lots or units on privately owned \\& operated individual or communal septic systems, and more than 4,500 litres of effluent would be produced per day as \n",
       "a result of the development being completed;\n",
       "\n",
       "Submit a Hydrogeological Report if the plan would permit development of less than five lots or units on privately owned \\& operated individual or communal septic systems, and 4,500 litres of effluent or less would be produced per day as a result of the development being completed.\n",
       "\n",
       "Storm Drainage - Indicate whether storm drainage will be provided by:\n",
       "$\\square$ Sewers\n",
       "$\\square$ Ditches\n",
       "$\\square$ Swales\n",
       "$\\square$ Other $\\qquad$"
      ],
      "text/plain": [
       "<IPython.core.display.Markdown object>"
      ]
     },
     "metadata": {},
     "output_type": "display_data"
    },
    {
     "name": "stdout",
     "output_type": "stream",
     "text": [
      "47\n"
     ]
    },
    {
     "data": {
      "text/markdown": [
       "# SUBDIVISION/CONDOMINIUM APPLICATION \n",
       "\n",
       "## 11. SITE APPRAISAL AND EVALUATION\n",
       "\n",
       "Give a brief description of the existing land use, buildings and infrastructure, vegetation, topography and drainage of the subject land:\n",
       "See Planning Rationale Report $\\qquad$\n",
       "$\\qquad$\n",
       "$\\qquad$\n",
       "$\\qquad$\n",
       "$\\qquad$\n",
       "\n",
       "## 12. MITIGATION OF ENVIRONMENTAL EFFECTS\n",
       "\n",
       "What measures (such as buffering, berms, setbacks, barriers, etc.) have been or will be taken to mitigate adverse environmental effects (such as traffic, noise, odours, polluti"
      ],
      "text/plain": [
       "<IPython.core.display.Markdown object>"
      ]
     },
     "metadata": {},
     "output_type": "display_data"
    },
    {
     "name": "stdout",
     "output_type": "stream",
     "text": [
      "48\n"
     ]
    },
    {
     "data": {
      "text/markdown": [
       "on of nearby water bodies, etc.) from the proposed development on the surrounding areas and to mitigate adverse effects from the surrounding areas on the proposed development? In agricultural areas, refer to the Agricultural Code of Practice.\n",
       "Where potential adverse environmental effects (species-at-risk, wetland protection, floodplains, etc.) are foreseen, consultation with the Ministry of Natural Resources and Forestry, the Ministry of Environment, Conservation and Parks, and/or the Essex Region Conservat\n",
       "ion Authority is recommended.\n",
       "\n",
       "See Planning Rationale Report\n",
       "$\\qquad$\n",
       "$\\qquad$\n",
       "$\\qquad$\n",
       "$\\qquad$\n",
       "\n",
       "## 13. PROPOSED PUBLIC CONSULTATION STRATEGY\n",
       "\n",
       "Select or describe your proposed strategy for consulting with the public with respect to the application:\n",
       "$\\square$ Required Public Consultation (Public Notice \\& Public Meeting as required per the Planning Act)\n",
       "$\\square$ Open House $\\square$ Website\n",
       "Other $\\qquad$\n",
       "$\\qquad$\n",
       "$\\qquad$"
      ],
      "text/plain": [
       "<IPython.core.display.Markdown object>"
      ]
     },
     "metadata": {},
     "output_type": "display_data"
    },
    {
     "name": "stdout",
     "output_type": "stream",
     "text": [
      "49\n"
     ]
    },
    {
     "data": {
      "text/markdown": [
       "\n",
       "# SUBDIVISION/CONDOMINIUM APPLICATION \n",
       "\n",
       "## 14. FEES\n",
       "\n",
       "Verify fees before submitting the application. Fees are subject to change and are not refundable when the application is deemed complete. Method of payment: Cash, Mastercard or Visa (complete and attach Credit Card Authorization), or by Certified Cheque or Personal Cheque payable to The Corporation of the City of Windsor."
      ],
      "text/plain": [
       "<IPython.core.display.Markdown object>"
      ]
     },
     "metadata": {},
     "output_type": "display_data"
    },
    {
     "name": "stdout",
     "output_type": "stream",
     "text": [
      "50\n"
     ]
    },
    {
     "data": {
      "text/markdown": [
       "\n",
       "| Plan of Subdivision - Draft Approval |  |  |  |\n",
       "| :--: | :--: | :--: | :--: |\n",
       "| Code 53007 | Base Fee: | lots/blocks at $\\$ 684.00$ per lot/block | \\$ |\n",
       "| Code 63024 | GIS Fee | $+\\$ 50.00$ |  |\n",
       "| Code 53023 | Essex Region Conservation Authority Fee | $+\\$ 300.00$ |  |\n",
       "| Code 53010 | Legal Fee - Agreement Preparation | $+\\$ 2,184.78$ |  |\n",
       "| Code 53010 | Legal Variable Fee: $\\qquad$ lots/blocks at $\\$ 50.00$ per lot/block | $\\$ \\$$ |  |\n",
       "|  | Plan of Subdivision (Draft Approval) Total Fee | $=$ |  |"
      ],
      "text/plain": [
       "<IPython.core.display.Markdown object>"
      ]
     },
     "metadata": {},
     "output_type": "display_data"
    },
    {
     "name": "stdout",
     "output_type": "stream",
     "text": [
      "51\n"
     ]
    },
    {
     "data": {
      "text/markdown": [
       "## [⿴囗 Plan of Condominium - Draft Approval - New Building\n",
       "\n",
       "| Code 53007 | Base Fee: $\\quad 232$ | lots/units at $\\$ 185.00$ per lot/unit | \\$ 42,920.00 |\n",
       "| :--: | :--: | :--: | :--: |\n",
       "| Code 63024 | GIS Fee | $+\\$ 50.00$ |  |\n",
       "| Code 53023 | Essex Region Conservation Authority Fee | $+\\$ 300.00$ |  |\n",
       "| Code 53010 | Legal Fee - Agreement Preparation | $+\\$ 1,714.98$ |  |\n",
       "| Code 53010 | Legal Variable Fee: $\\qquad$ lots/units at $\\$ 50.00$ per lot/unit | $+\\$ 11,600.00$ |  |\n",
       "|  | Plan of Condominium (Draft Ap\n",
       "proval) Total Fee | $=\\$ 56,584.98$ |  |\n",
       "\n",
       "## $\\square$ Condominium Conversion - Draft Approval - Existing Building"
      ],
      "text/plain": [
       "<IPython.core.display.Markdown object>"
      ]
     },
     "metadata": {},
     "output_type": "display_data"
    },
    {
     "name": "stdout",
     "output_type": "stream",
     "text": [
      "52\n"
     ]
    },
    {
     "data": {
      "text/markdown": [
       "## $\\square$ Condominium Conversion - Draft Approval - Existing Building\n",
       "\n",
       "| Code 53009 | Base Fee | \\$ | 7,575.00 |\n",
       "| :--: | :--: | :--: | :--: |\n",
       "| Code 53009 | Base Fee per Unit: $\\qquad$ units at $\\$ 71.40$ per unit | $+\\$ \\$$ |  |\n",
       "| Code 63024 | GIS Fee | $+\\$ 50.00$ |  |\n",
       "| Code 53023 | Essex Region Conservation Authority Fee | $+\\$ 300.00$ |  |\n",
       "| Code 53010 | Legal Fee - Agreement Preparation | $+\\$ 1,714.98$ |  |\n",
       "| Code 53010 | Legal Variable Fee: $\\qquad$ units at $\\$ 50.00$ per unit | $+\\$ \\$$ |  |\n",
       "|\n",
       "  | Condominium Conversion (Draft Approval) Total Fee | $=\\$ \\$$ |  |\n",
       "\n",
       "A Building Division Inspection Fee for an inspection and report preparation will be invoiced separately. Contact the Building Division at 519-255-6267 for additional information.\n",
       "\n",
       "## Fees Continued on Next Page"
      ],
      "text/plain": [
       "<IPython.core.display.Markdown object>"
      ]
     },
     "metadata": {},
     "output_type": "display_data"
    },
    {
     "name": "stdout",
     "output_type": "stream",
     "text": [
      "53\n"
     ]
    },
    {
     "data": {
      "text/markdown": [
       "# SUBDIVISION/CONDOMINIUM APPLICATION \n",
       "\n",
       "## 14. FEES (continued)\n",
       "\n",
       "Plan of Subdivision/Condominium - Extension of Draft Approval\n",
       "Code 53035\n",
       "Total Fee $=\\$ 3,329.60$\n",
       "\n",
       "Plan of Subdivision/Condominium - Amendment to Draft Approval\n",
       "Code 53007\n",
       "Base Fee $\\quad \\$ 3,646.30$\n",
       "Code 63024\n",
       "GIS Fee + $\\$ 50.00$\n",
       "Amendment to Draft Approval Total Fee $=\\$ 3,696.30$\n",
       "\n",
       "## Plan of Subdivision/Condominium - Final Approval \\& Registration\n",
       "\n",
       "Payment of this fee is per registration and is required prior to final approval and registr"
      ],
      "text/plain": [
       "<IPython.core.display.Markdown object>"
      ]
     },
     "metadata": {},
     "output_type": "display_data"
    },
    {
     "name": "stdout",
     "output_type": "stream",
     "text": [
      "54\n"
     ]
    },
    {
     "data": {
      "text/markdown": [
       "ation of every draft approved Plan of Subdivision, Plan of Condominium, and Condominium Conversion.\n",
       "Code 71130\n",
       "Per Registration $=\\$ 519.60$\n",
       "\n",
       "## Plan of Subdivision/Condominium - Amendment to Agreement\n",
       "\n",
       "Code 71102\n",
       "Base Fee $\\quad \\$ 3,048.00$\n",
       "Code 53010\n",
       "Legal Fee - Agreement Preparation + $\\$ \\quad 857.49$\n",
       "Amendment to Agreement Total Fee $=\\$ 3,905.49$\n",
       "\n",
       "Plan of Condominium - Amalgamation of Condominium Corporation\n",
       "Code 53009\n",
       "Total Fee $=\\$ 1,863.00$\n",
       "\n",
       "## Re-notification of Public Notice/Applicant Request fo"
      ],
      "text/plain": [
       "<IPython.core.display.Markdown object>"
      ]
     },
     "metadata": {},
     "output_type": "display_data"
    },
    {
     "name": "stdout",
     "output_type": "stream",
     "text": [
      "55\n"
     ]
    },
    {
     "data": {
      "text/markdown": [
       "r Deferral Fee\n",
       "\n",
       "Required when an applicant requests a deferral after notice of a public meeting has been given.\n",
       "Code 53016\n",
       "Total Fee $=\\$ \\$ 2,258.40$\n",
       "\n",
       "## Ontario Land Tribunal (OLT) Appeal Fee - \\$1,100.00\n",
       "\n",
       "An appeal is made through the Office of the City Clerk (519-255-6211). Fees, forms, and processes are subject to change. Visit https://olt.gov.on.ca for additional information.\n",
       "\n",
       "Engineering Review Fee - The Office of the City Engineer will collect a fee equal to 4\\% of total municipal infrastructure con\n",
       "struction costs excluding water, hydro, telecommunication, and gas infrastructure. The fee is payable at the time construction drawings are submitted to the City Engineer for signature. The total value of construction will be confirmed based on an estimate provided by the developer's Consulting Engineer. Contact Patrick Winters, Development Engineer, at 519-255-6100 ext 6462 or pwinters@citywindsor.ca for additional information."
      ],
      "text/plain": [
       "<IPython.core.display.Markdown object>"
      ]
     },
     "metadata": {},
     "output_type": "display_data"
    },
    {
     "name": "stdout",
     "output_type": "stream",
     "text": [
      "56\n"
     ]
    },
    {
     "data": {
      "text/markdown": [
       "# SUBDIVISION/CONDOMINIUM APPLICATION \n",
       "\n",
       "## 15. SWORN DECLARATION OF APPLICANT\n",
       "\n",
       "Complete in the presence of a Commissioner for Taking Affidavits. If the declaration is to be administered remotely, you must be able to see, hear and communicate with the Commissioner and show documentation that confirms your identity.\n",
       "I. Karl Tanner, Dillon Consulting Limited $\\qquad$ solemnly declare that the information required under Schedule 1 to Ontario Regulation 544/06 and provided by the applicant is accurate and that t"
      ],
      "text/plain": [
       "<IPython.core.display.Markdown object>"
      ]
     },
     "metadata": {},
     "output_type": "display_data"
    },
    {
     "name": "stdout",
     "output_type": "stream",
     "text": [
      "57\n"
     ]
    },
    {
     "data": {
      "text/markdown": [
       "he information contained in the documents that accompany this application is accurate, that if this declaration was administered remotely that it was in accordance with Ontario Regulation 431/20, and I make this solemn declaration conscientiously believing it to be true, and knowing that it is of the same force and effect as if made under oath.\n",
       "![img-1.jpeg](img-1.jpeg)\n",
       "\n",
       "Signature of Applicant\n",
       "Sign in the presence of a Commissioner\n",
       "For Taking Affidavits\n",
       "$\\square$ This declaration was administered remotely i\n",
       "n accordance with Ontario Regulation 431/20\n",
       "Declared before me $\\qquad$ at the Dillon Consulting Limited in the City of Windsor Signature of Commissioner\n",
       "\n",
       "Location of Commissioner\n",
       "this $\\qquad$ day of $\\qquad$ December $\\qquad$ 2021\n",
       "day $\\qquad$ month $\\qquad$ year\n",
       "PLACE AN IMPRINT OF YOUR STAMP BELOW\n",
       "Melanie Anne Muir,\n",
       "a Commissioner, etc., Province of Ontario\n",
       "for Dillon Consulting Limited\n",
       "Expires May 3, 2022\n",
       "\n",
       "## COMPLETE SCHEDULES A \\& E IN FULL \\& SIGN"
      ],
      "text/plain": [
       "<IPython.core.display.Markdown object>"
      ]
     },
     "metadata": {},
     "output_type": "display_data"
    },
    {
     "name": "stdout",
     "output_type": "stream",
     "text": [
      "58\n"
     ]
    },
    {
     "data": {
      "text/markdown": [
       "# SUBDIVISION/CONDOMINIUM APPLICATION \n",
       "\n",
       "## SCHEDULE A - Authorizations \\& Acknowledgement\n",
       "\n",
       "## A1. Authorization of Registered Owner for Agent to Make the Application\n",
       "\n",
       "If the applicant is not the registered owner of the land that is the subject of this application, the written authorization of the registered owner that the agent is authorized to make the application must be included with this application form or the authorization below must be completed.\n",
       "\n",
       "## I, $\\underline{\\text { Shmuel Farhi }}$ <br> name "
      ],
      "text/plain": [
       "<IPython.core.display.Markdown object>"
      ]
     },
     "metadata": {},
     "output_type": "display_data"
    },
    {
     "name": "stdout",
     "output_type": "stream",
     "text": [
      "59\n"
     ]
    },
    {
     "data": {
      "text/markdown": [
       "of registered owner\n",
       "\n",
       "am the registered owner of the land that is subject of this application and I authorize\n",
       "![img-2.jpeg](img-2.jpeg)\n",
       "\n",
       "Signature of Registered Owner\n",
       "to make this application on my behalf.\n",
       "![img-3.jpeg](img-3.jpeg)\n",
       "\n",
       "## A2. Authorization to Enter Upon the Subject Lands and Premises\n",
       "\n",
       "I. Shmuel Farhi\n",
       ", hereby authorize the members of the Planning, Heritage\n",
       "\\& Economic Development Standing Committee and City Council and staff of The Corporation of the City of Windsor to enter upon the subject la\n",
       "nd and premises described in Section 5 of the application form for the purpose of evaluating the merits of this application and subsequently to conduct any inspections on the subject land that may be required as condition of approval. This is their authority for doing so.\n",
       "![img-4.jpeg](img-4.jpeg)\n",
       "\n",
       "Signature of Registered Owner\n",
       "Date\n",
       "\n",
       "If Corporation - I have authority to bind the corporation\n",
       "\n",
       "## SCHEDULE A CONTINUES ON NEXT PAGE"
      ],
      "text/plain": [
       "<IPython.core.display.Markdown object>"
      ]
     },
     "metadata": {},
     "output_type": "display_data"
    },
    {
     "name": "stdout",
     "output_type": "stream",
     "text": [
      "60\n"
     ]
    },
    {
     "data": {
      "text/markdown": [
       "# SUBDIVISION/CONDOMINIUM APPLICATION \n",
       "\n",
       "## SCHEDULE A - Authorizations \\& Acknowledgements - Continued\n",
       "\n",
       "## A3. Acknowledgements\n",
       "\n",
       "## Receipt \\& Review, Fees \\& Termination, Other Requirements \\& Expiry Dates, and Freedom of Information\n",
       "\n",
       "I acknowledge that receipt of this application by the City of Windsor does not guarantee it to be a complete application and that further review of the application will occur and that I may be contacted to provide additional information and/or resolve any discrepancies or iss"
      ],
      "text/plain": [
       "<IPython.core.display.Markdown object>"
      ]
     },
     "metadata": {},
     "output_type": "display_data"
    },
    {
     "name": "stdout",
     "output_type": "stream",
     "text": [
      "61\n"
     ]
    },
    {
     "data": {
      "text/markdown": [
       "ues with the application as submitted.\n",
       "I further acknowledge that after the application is deemed complete, fees are not refundable, additional information may be requested, and that after 60 days of inactivity the City of Windsor may terminate the application without notice.\n",
       "I further acknowledge that other municipal departments and external agencies may have their own requirements, fees and approvals in addition to the requirements, fees and approvals described throughout this application form, in any sta"
      ],
      "text/plain": [
       "<IPython.core.display.Markdown object>"
      ]
     },
     "metadata": {},
     "output_type": "display_data"
    },
    {
     "name": "stdout",
     "output_type": "stream",
     "text": [
      "62\n"
     ]
    },
    {
     "data": {
      "text/markdown": [
       "ff reports, and in any agreements, and that it is my responsibility to read the staff report, draft approval, final approval and agreements and to note any expiry dates in any of these documents.\n",
       "I further acknowledge that pursuant to the provisions of the Planning Act and the Municipal Freedom of Information and Protection of Privacy Act, this application and all material and information provided with this application are made available to the public.\n",
       "\n",
       "## Species at Risk\n",
       "\n",
       "Ontario's Endangered Species Act p"
      ],
      "text/plain": [
       "<IPython.core.display.Markdown object>"
      ]
     },
     "metadata": {},
     "output_type": "display_data"
    },
    {
     "name": "stdout",
     "output_type": "stream",
     "text": [
      "63\n"
     ]
    },
    {
     "data": {
      "text/markdown": [
       "rotects endangered and threatened species - animals and plants in decline and at risk of disappearing from the province by restricting activities that may affect these plants, animals or their habitats.\n",
       "I acknowledge that it is my sole responsibility as the Applicant to comply with the provisions of the Endangered Species Act, 2007, S. O. c.6. This could require me to register an activity, get a permit or other authorization from the Ministry of the Environment, Conservation and Parks (MECP) prior to conduc"
      ],
      "text/plain": [
       "<IPython.core.display.Markdown object>"
      ]
     },
     "metadata": {},
     "output_type": "display_data"
    },
    {
     "name": "stdout",
     "output_type": "stream",
     "text": [
      "64\n"
     ]
    },
    {
     "data": {
      "text/markdown": [
       "ting an activity that could impact an endangered or threatened plant or animal or its habitat. I further acknowledge that any Planning Act, R.S.O. 1990, c.P. 13 approval given by the City of Windsor does not constitute an approval under the Endangered Species Act, nor does it absolve me from seeking the necessary authorization, approvals or permits from the MECP prior to conducting any activity that may affect endangered or threatened plant or animal or its habitat.\n",
       "\n",
       "Additional information can be found at:\n",
       "\n",
       "https://www.ontario.ca/page/development-and-infrastructure-projects-and-endangered-or-threatened-species or by contacting MECP at SAROntario@ontario.ca\n",
       "\n",
       "## Acknowledgement\n",
       "\n",
       "I acknowledge that I have read and understand the above statements:\n",
       "![img-5.jpeg](img-5.jpeg)\n",
       "\n",
       "Signature of Applicant or Agent\n",
       "Date\n",
       "\n",
       "## END OF SCHEDULE A - COMPLETE SCHEDULE E ON NEXT PAGE"
      ],
      "text/plain": [
       "<IPython.core.display.Markdown object>"
      ]
     },
     "metadata": {},
     "output_type": "display_data"
    },
    {
     "name": "stdout",
     "output_type": "stream",
     "text": [
      "65\n"
     ]
    },
    {
     "data": {
      "text/markdown": [
       "# SUBDIVISION/CONDOMINIUM APPLICATION \n",
       "\n",
       "## SCHEDULE E - Environmental Site Screening Questionnaire\n",
       "\n",
       "Previous Use of Property\n",
       "$\\square$ Residential $\\quad$ Industrial $\\quad \\square$ Commercial $\\quad \\square$ Institutional\n",
       "$\\square$ Agricultural $\\quad \\square$ Parkland $\\quad \\square$ Vacant $\\quad \\square$ Other $\\qquad$\n",
       "a) If previous use of the property is Industrial or Commercial, specify use:\n",
       "\n",
       "## Manufacturing facility for automobile industry\n",
       "\n",
       "b) Has the grading of the subject land been changed by add"
      ],
      "text/plain": [
       "<IPython.core.display.Markdown object>"
      ]
     },
     "metadata": {},
     "output_type": "display_data"
    },
    {
     "name": "stdout",
     "output_type": "stream",
     "text": [
      "66\n"
     ]
    },
    {
     "data": {
      "text/markdown": [
       "ing earth or material? Has filling occurred on the subject land?\n",
       "$\\square$ Yes\n",
       "$\\square$ No\n",
       "$\\square$ Unknown\n",
       "c) Has a gasoline station and/or automobile service station been located on the subject land or adjacent lands at any time?\n",
       "$\\square$ Yes\n",
       "$\\square$ No\n",
       "$\\square$ Unknown\n",
       "d) Has there been petroleum or other fuel stored on the subject land or adjacent lands?\n",
       "$\\square$ Yes\n",
       "$\\square$ No\n",
       "$\\square$ Unknown\n",
       "e) Are there or have there ever been underground storage tanks or buried waste on the subject land o"
      ],
      "text/plain": [
       "<IPython.core.display.Markdown object>"
      ]
     },
     "metadata": {},
     "output_type": "display_data"
    },
    {
     "name": "stdout",
     "output_type": "stream",
     "text": [
      "67\n"
     ]
    },
    {
     "data": {
      "text/markdown": [
       "r adjacent lands?\n",
       "$\\square$ Yes\n",
       "$\\square$ No\n",
       "$\\square$ Unknown\n",
       "f) Have the lands or adjacent lands ever been used as an agricultural operation where cyanide products may have been applied as pesticides and/or sewage sludge applied to the lands?\n",
       "$\\square$ Yes\n",
       "$\\square$ No\n",
       "$\\square$ Unknown\n",
       "g) Have the lands or adjacent lands ever been used as a weapons firing range?\n",
       "$\\square$ Yes\n",
       "$\\square$ No\n",
       "$\\square$ Unknown\n",
       "h) Is the nearest boundary line of the application within 500 metres of the boundary line of an ope"
      ],
      "text/plain": [
       "<IPython.core.display.Markdown object>"
      ]
     },
     "metadata": {},
     "output_type": "display_data"
    },
    {
     "name": "stdout",
     "output_type": "stream",
     "text": [
      "68\n"
     ]
    },
    {
     "data": {
      "text/markdown": [
       "rational/nonoperational public or private waste disposal site, landfill or dump?\n",
       "$\\square$ Yes\n",
       "$\\square$ No\n",
       "$\\square$ Unknown\n",
       "i) If there are existing or previously existing buildings on the subject lands, are there any building materials remaining on site which are potentially hazardous to public health (e.g., asbestos, PCB's)?\n",
       "$\\square$ Yes\n",
       "$\\square$ No\n",
       "$\\square$ Unknown\n",
       "j) Is there reason to believe the subject lands may have been contaminated by existing or former uses on the site or adjacent sites?*\n",
       "$\\"
      ],
      "text/plain": [
       "<IPython.core.display.Markdown object>"
      ]
     },
     "metadata": {},
     "output_type": "display_data"
    },
    {
     "name": "stdout",
     "output_type": "stream",
     "text": [
      "69\n"
     ]
    },
    {
     "data": {
      "text/markdown": [
       "square$ Yes\n",
       "$\\square$ No\n",
       "$\\square$ Unknown\n",
       "\n",
       "* Possible uses that can cause contamination include but are not limited to: operation of electrical transformer stations, disposal of waste minerals, raw material storage, and residues left in containers, maintenance activities and spills. Some commercial properties such as gasoline stations, automotive repair garages, and dry cleaning plants have similar potential. The longer a property is under industrial or similar use, the greater the potential for site conta\n",
       "mination. Also, a series of different industrial or similar uses upon a site could potentially increase the number of chemicals that are present.\n",
       "k) If current or previous use of the property is industrial or commercial, or if YES to any of a) to j) above, please attach a previous use inventory showing all former uses of the subject land, or if applicable, the land(s) adjacent to the subject lands."
      ],
      "text/plain": [
       "<IPython.core.display.Markdown object>"
      ]
     },
     "metadata": {},
     "output_type": "display_data"
    },
    {
     "name": "stdout",
     "output_type": "stream",
     "text": [
      "70\n"
     ]
    },
    {
     "data": {
      "text/markdown": [
       "# SUBDIVISION/CONDOMINIUM APPLICATION \n",
       "\n",
       "## SCHEDULE E - Environmental Site Screening Questionnaire - Continued\n",
       "\n",
       "## Environmental Site Screening Questionnaire Acknowledgement Clause\n",
       "\n",
       "I hereby acknowledge that it is my responsibility to ensure that I am in compliance with all applicable laws, regulations, guidelines and the City's Official Plan policies pertaining to potentially contaminated sites, and to use all reasonable effort to identify the potential for contamination on the subject property.\n",
       "I acknowle"
      ],
      "text/plain": [
       "<IPython.core.display.Markdown object>"
      ]
     },
     "metadata": {},
     "output_type": "display_data"
    },
    {
     "name": "stdout",
     "output_type": "stream",
     "text": [
      "71\n"
     ]
    },
    {
     "data": {
      "text/markdown": [
       "dge that as a condition of approval of this application that the City may require me to file a Record of Site Condition signed by a qualified person in the provincial Environmental Site Registry, and provide verification to the City of Windsor of acknowledgement of this Record of Site Condition by the Ministry of Environment.\n",
       "I acknowledge that the City may require the qualified person signing the Record of Site Condition to submit to the City a Declaration acknowledging that the City of Windsor may rely on"
      ],
      "text/plain": [
       "<IPython.core.display.Markdown object>"
      ]
     },
     "metadata": {},
     "output_type": "display_data"
    },
    {
     "name": "stdout",
     "output_type": "stream",
     "text": [
      "72\n"
     ]
    },
    {
     "data": {
      "text/markdown": [
       " the statements in the Record of Site Condition.\n",
       "I further acknowledge that the City of Windsor is not responsible for the identification and/or remediation of contaminated sites, and I agree, whether in, through, or as a result of any action or proceeding for environmental clean-up of any damage or otherwise, I will not sue or make claim whatsoever against the City of Windsor, its officers, officials, employees or agents for or in respect of any loss, damage, injury or costs.\n",
       "\n",
       "## Stmuel Tahr:\n",
       "\n",
       "Name of Appl\n",
       "icant (print)\n",
       "\n",
       "## Karl Tanner\n",
       "\n",
       "Name of Agent (print)\n",
       "![img-6.jpeg](img-6.jpeg)\n",
       "\n",
       "Signature of Agent\n",
       "\n",
       "December 15, 2021\n",
       "Date\n",
       "\n",
       "## END OF SCHEDULE E"
      ],
      "text/plain": [
       "<IPython.core.display.Markdown object>"
      ]
     },
     "metadata": {},
     "output_type": "display_data"
    },
    {
     "name": "stdout",
     "output_type": "stream",
     "text": [
      "73\n"
     ]
    },
    {
     "data": {
      "text/markdown": [
       "# SUBDIVISION/CONDOMINIUM APPLICATION \n",
       "\n",
       "## DO NOT COMPLETE BELOW - STAFF USE ONLY\n",
       "\n",
       "## Receipt and Assignment of Application\n",
       "\n",
       "Date Received Stamp\n",
       "This application has been assigned to:\n",
       "Jim Abbs (JA)\n",
       "$\\square$ Justina Nwaesei (JN)\n",
       "$\\square$ $\\qquad$\n",
       "\n",
       "## Complete Application\n",
       "\n",
       "This application is deemed complete on $\\qquad$ Date\n",
       "\n",
       "Signature of Delegated Authority\n",
       "$\\square$ Neil Robertson, MCIP, RPP\n",
       "Manager of Urban Design\n",
       "$\\square$ Michael Cooke, MCIP, RPP\n",
       "Manager of Planning Policy\n",
       "$\\square$ Thom Hunt, MCIP, RP\n",
       "P\n",
       "City Planner \\& Executive Director\n",
       "\n",
       "## Internal Information"
      ],
      "text/plain": [
       "<IPython.core.display.Markdown object>"
      ]
     },
     "metadata": {},
     "output_type": "display_data"
    },
    {
     "name": "stdout",
     "output_type": "stream",
     "text": [
      "74\n"
     ]
    },
    {
     "data": {
      "text/markdown": [
       "\n",
       "| Fee Paid: \\$ | Receipt No: | Date: |\n",
       "| :--: | :--: | :--: |\n",
       "| Payment Type: $\\square$ Cash | $\\square$ Certified Cheque | $\\square$ Personal Cheque |\n",
       "| NEW File No. SDN/ | Previous File No. SDN/ |  |\n",
       "| NEW File No. CDM/ | Previous File No. CDM/ |  |\n",
       "| Related ZNG File No. ZNG/ | Related OPA File No. OPA |  |\n",
       "| Other File Numbers: |  |  |\n",
       "| Notes: |  |  |\n",
       "|  |  |  |\n",
       "|  |  |  |"
      ],
      "text/plain": [
       "<IPython.core.display.Markdown object>"
      ]
     },
     "metadata": {},
     "output_type": "display_data"
    },
    {
     "name": "stdout",
     "output_type": "stream",
     "text": [
      "75\n"
     ]
    },
    {
     "data": {
      "text/markdown": [
       "\n",
       "THIS IS THE LAST PAGE OF THE APPLICATION FORM"
      ],
      "text/plain": [
       "<IPython.core.display.Markdown object>"
      ]
     },
     "metadata": {},
     "output_type": "display_data"
    }
   ],
   "source": [
    "from IPython.display import Markdown, display\n",
    "def print_markdown(text, index = None):\n",
    "    if index is not None:\n",
    "        print(index)\n",
    "    try:\n",
    "        display(Markdown(text))\n",
    "    except Exception as e:\n",
    "        print(f\"Error displaying markdown: {e}\")\n",
    "        print(text)\n",
    "# display chunks as markdown blocks\n",
    "for i, chunk in enumerate(chunks):\n",
    "    print_markdown(chunk, i)"
   ]
  },
  {
   "cell_type": "code",
   "execution_count": null,
   "id": "b7be4609",
   "metadata": {},
   "outputs": [],
   "source": [
    "def extract_embeddings(chunks):\n",
    "    import cohere\n",
    "    model_name = \"embed-v4.0\"\n",
    "    api_key = os.getenv(\"COHERE_API_KEY\")\n",
    "    input_type = 'search_document'\n",
    "    embedding_types = ['float']\n",
    "    embedding_dimensions = 1536\n",
    "\n",
    "    co = cohere.ClientV2(api_key)\n",
    "\n",
    "    response = co.embed(\n",
    "        texts = chunks,\n",
    "        model = model_name,\n",
    "        input_type = input_type,\n",
    "        embedding_types=embedding_types,\n",
    "        output_dimension=embedding_dimensions,\n",
    "    )\n",
    "\n",
    "    return response.embeddings.float\n",
    "\n",
    "def create_vector_store(embeddings, chunks, force_rebuild=False):\n",
    "    from annoy import AnnoyIndex\n",
    "    index_file = \"testing.ann\"\n",
    "    search_index = AnnoyIndex(1536, \"angular\")\n",
    "\n",
    "    if force_rebuild or not os.path.exists(index_file):\n",
    "        for i, embedding in enumerate(embeddings):\n",
    "            search_index.add_item(i, embedding)\n",
    "        search_index.build(10)\n",
    "        search_index.save(index_file)\n",
    "    else:\n",
    "        search_index.load(index_file)\n",
    "\n",
    "    return search_index\n"
   ]
  },
  {
   "cell_type": "code",
   "execution_count": 85,
   "id": "b50826ec",
   "metadata": {},
   "outputs": [
    {
     "name": "stdout",
     "output_type": "stream",
     "text": [
      "76\n"
     ]
    }
   ],
   "source": [
    "print(len(chunks))"
   ]
  },
  {
   "cell_type": "code",
   "execution_count": 86,
   "id": "2ca5d7d4",
   "metadata": {},
   "outputs": [],
   "source": [
    "\n",
    "vector_store = create_vector_store(extract_embeddings(chunks), chunks, force_rebuild=True)\n",
    "# vector_store = create_vector_store(None, None, force_rebuild=False)"
   ]
  },
  {
   "cell_type": "code",
   "execution_count": null,
   "id": "3d34d887",
   "metadata": {},
   "outputs": [],
   "source": [
    "def get_similar_chunks(query, vector_store, chunks, n=5):\n",
    "    import numpy as np\n",
    "    # get the embedding for the query\n",
    "    query_embedding = extract_embeddings([query])[0]\n",
    "    # get the top n most similar chunks\n",
    "    if n == None:\n",
    "        n = len(chunks)\n",
    "    similar_items = vector_store.get_nns_by_vector(query_embedding, n, include_distances=True)\n",
    "    indices, distances = similar_items\n",
    "    # get the chunks\n",
    "    similar_chunks = [chunks[index] for index in indices]\n",
    "    # also get distances\n",
    "    return similar_chunks, indices, distances\n",
    "\n",
    "# get user input\n",
    "def get_user_input():\n",
    "    query = input(\"Enter your query: \")\n",
    "    return query\n",
    "import cohere\n",
    "api_key = os.getenv(\"COHERE_API_KEY\")\n",
    "co = cohere.ClientV2(api_key)\n",
    "\n",
    "\n",
    "def query(message, history):\n",
    "    query = message\n",
    "    print(f\"Query: {query}\")\n",
    "    # get the embedding for the query\n",
    "    chunk = get_similar_chunks(query, vector_store, chunks, 10)\n",
    "    similar_chunks, indices, distances = chunk\n",
    "    documents = []\n",
    "    for id, chunk in zip(indices, similar_chunks):\n",
    "        # context_string += f\"chunk {id}: {chunk}\\n\"\n",
    "        documents.append({\"id\": str(id), \"data\": chunk})\n",
    "    response = co.chat(\n",
    "        model=\"command-r\",\n",
    "        messages=[\n",
    "            {\"role\": \"system\", \"content\": \"You are a helpful assistant in construction/manufacturing industry. Your responses must be professional and concise. You must only return answers if you can answer it from the context provided. If you cannot answer it from the context, you must say 'I cannot answer that question.'\"},\n",
    "            {\"role\": \"user\", \"content\": \" \" + query}\n",
    "            ],\n",
    "        documents=documents,\n",
    "    )\n",
    "    references = [\n",
    "        source.id \n",
    "        for citation in response.message.citations\n",
    "        for source in citation.sources\n",
    "    ]\n",
    "    citation_range = [\n",
    "        (citation.start, citation.end)\n",
    "        for citation in response.message.citations\n",
    "    ]\n",
    "    pages = []\n",
    "    for reference in references:\n",
    "        chunk = chunks[int(reference)]\n",
    "        if chunk in page_numbers:\n",
    "            pages.append(page_numbers[chunk])\n",
    "    # create intext markdown references\n",
    "    # markdown text should include the text and citations\n",
    "    markdown_text = response.message.content[0].text\n",
    "    for citation, page_no in zip(reversed(citation_range), pages):\n",
    "        start, end = citation\n",
    "        # get the citation text\n",
    "        citation_text = markdown_text[start:end]\n",
    "        url = str(page_no[0])\n",
    "        # print(url)\n",
    "        # replace the citation text with the citation text and page number\n",
    "        markdown_text = markdown_text[:start] + f\"[{citation_text}](https://www.citywindsor.ca/Documents/residents/planning/land-development/development-applications/current-development-applications/8607,%208649,%208675,%208699%20McHugh%20Street%20-%2021-3096%20-%20Application%20Form%20Plan%20of%20Subdivision%20or%20Condominium-FHC.pdf#page={url})\" + markdown_text[end:]\n",
    "    return markdown_text"
   ]
  },
  {
   "cell_type": "code",
   "execution_count": 136,
   "id": "bf0b3ea0",
   "metadata": {},
   "outputs": [
    {
     "name": "stdout",
     "output_type": "stream",
     "text": [
      "Query: Who is the agent for this application\n"
     ]
    },
    {
     "data": {
      "text/markdown": [
       "The agent for this application is Karl Tanner from Dillon Consulting Limited."
      ],
      "text/plain": [
       "<IPython.core.display.Markdown object>"
      ]
     },
     "metadata": {},
     "output_type": "display_data"
    }
   ],
   "source": [
    "response = query(\"Who is the agent for this application\", [])\n",
    "# print(response)\n",
    "# show response in a markdown cell\n",
    "from IPython.display import Markdown, display\n",
    "def print_markdown(text):\n",
    "    display(Markdown(text))\n",
    "print_markdown(response)"
   ]
  },
  {
   "cell_type": "code",
   "execution_count": 100,
   "id": "6ecf7c9a",
   "metadata": {},
   "outputs": [],
   "source": [
    "user_query = \"Who is the agent for this application?\"\n",
    "similar_chunks, indices, distances = get_similar_chunks(user_query, vector_store, chunks, None)"
   ]
  },
  {
   "cell_type": "code",
   "execution_count": 124,
   "id": "13d07e0d",
   "metadata": {},
   "outputs": [
    {
     "data": {
      "image/png": "[encoded data removed]",
      "text/plain": [
       "<Figure size 640x480 with 1 Axes>"
      ]
     },
     "metadata": {},
     "output_type": "display_data"
    }
   ],
   "source": [
    "# visualize the document similarity by chunks\n",
    "import matplotlib.pyplot as plt\n",
    "import numpy as np\n",
    "\n",
    "# similar chunks ordered by indices\n",
    "# ordered_chunks = [chunks[index] for index in indices]\n",
    "# distances ordered by indices\n",
    "ordered_distances = [distances[indices[i]] for i in range(len(distances)) if i in indices]\n",
    "# get a moving average of the distances\n",
    "moving_average = np.convolve(ordered_distances, np.ones(5)/5, mode='valid')\n",
    "# get lowest 5th percentile of the moving average\n",
    "percentile_5 = np.percentile(moving_average, 5)\n",
    "# create a line at the 5th percentile\n",
    "plt.axhline(y=percentile_5, color='r', linestyle='--', label='5th Percentile')\n",
    "# for bars where moving average is less than 5th percentile, color them red\n",
    "for i in range(len(moving_average)):\n",
    "    if moving_average[i] < percentile_5:\n",
    "        plt.bar(i, ordered_distances[i], color='green')\n",
    "    else:\n",
    "        plt.bar(i, ordered_distances[i], color='lightgray')\n",
    "# create a bar chart\n",
    "# plt.bar(range(len(ordered_distances)), ordered_distances)\n",
    "plt.plot(range(len(moving_average)), moving_average, color='blue', label='Moving Average')\n",
    "plt.xlabel('Chunk Index')\n",
    "plt.ylabel('Distance')\n",
    "plt.title('Document Similarity by Chunks')\n",
    "plt.show()"
   ]
  },
  {
   "cell_type": "code",
   "execution_count": 129,
   "id": "804dd13c",
   "metadata": {},
   "outputs": [
    {
     "data": {
      "image/png": "[encoded data removed]",
      "text/plain": [
       "<Figure size 640x480 with 1 Axes>"
      ]
     },
     "metadata": {},
     "output_type": "display_data"
    },
    {
     "data": {
      "image/png": "[encoded data removed]",
      "text/plain": [
       "<Figure size 640x480 with 1 Axes>"
      ]
     },
     "metadata": {},
     "output_type": "display_data"
    }
   ],
   "source": [
    "# visualize the document similarity by chunks\n",
    "import matplotlib.pyplot as plt\n",
    "import numpy as np\n",
    "\n",
    "# also plot non normalized distances\n",
    "ordered_distances = [distances[indices[i]] for i in range(len(distances)) if i in indices]\n",
    "\n",
    "# get 5th percentile of the distances\n",
    "percentile_5 = np.percentile(ordered_distances, 5)\n",
    "# create a line at the 5th percentile\n",
    "plt.axhline(y=percentile_5, color='r', linestyle='--', label='5th Percentile')\n",
    "# for bars where distance is less than 5th percentile, color them red\n",
    "for i in range(len(ordered_distances)):\n",
    "    if ordered_distances[i] < percentile_5:\n",
    "        plt.bar(i, ordered_distances[i], color='green')\n",
    "    else:\n",
    "        plt.bar(i, ordered_distances[i], color='blue')\n",
    "# create a bar chart\n",
    "plt.bar(range(len(ordered_distances)), ordered_distances)\n",
    "plt.xlabel('Chunk Index')\n",
    "plt.ylabel('Distance')\n",
    "plt.title('Document Similarity by Chunks')\n",
    "plt.show()\n",
    "\n",
    "\n",
    "# similar chunks ordered by indices\n",
    "# ordered_chunks = [chunks[index] for index in indices]\n",
    "# distances ordered by indices\n",
    "\n",
    "# Normalize the distances to amplify differences\n",
    "\n",
    "max_distance = max(ordered_distances)\n",
    "min_distance = min(ordered_distances)\n",
    "min_distance = min_distance - (max_distance - min_distance)*0.1\n",
    "normalized_distances = [(d - min_distance) / (max_distance - min_distance) for d in ordered_distances]\n",
    "\n",
    "# Change size of the figure\n",
    "# plt.figure(figsize=(50, 20))\n",
    "\n",
    "# Get the 5th percentile of the normalized distances\n",
    "percentile_5 = np.percentile(normalized_distances, 5)\n",
    "plt.axhline(y=percentile_5, color='r', linestyle='--', label='5th Percentile')\n",
    "\n",
    "# For bars where normalized distance is less than 5th percentile, color them green\n",
    "for i in range(len(normalized_distances)):\n",
    "    if normalized_distances[i] < percentile_5:\n",
    "        plt.bar(i, normalized_distances[i], color='green')\n",
    "    else:\n",
    "        plt.bar(i, normalized_distances[i], color='lightgray')\n",
    "\n",
    "# Use non-normalized labels on the y-axis\n",
    "# use equidistant ticks\n",
    "plt.yticks(np.arange(0, 1.1, 0.1), [f\"{round(i * (max_distance - min_distance) + min_distance, 2)}\" for i in np.arange(0, 1.1, 0.1)])\n",
    "# plt.bar(range(len(normalized_distances)), normalized_distances)\n",
    "\n",
    "plt.xlabel('Chunk Index')\n",
    "plt.ylabel('Distance (Non-Normalized)')\n",
    "plt.title('Document Similarity by Chunks (Normalized)')\n",
    "plt.show()"
   ]
  },
  {
   "cell_type": "code",
   "execution_count": 126,
   "id": "7168a6bd",
   "metadata": {},
   "outputs": [
    {
     "data": {
      "image/png": "[encoded data removed]",
      "text/plain": [
       "<Figure size 640x480 with 1 Axes>"
      ]
     },
     "metadata": {},
     "output_type": "display_data"
    }
   ],
   "source": [
    "# visualize the document similarity by chunks\n",
    "import matplotlib.pyplot as plt\n",
    "import numpy as np\n",
    "\n",
    "# similar chunks ordered by indices\n",
    "# ordered_chunks = [chunks[index] for index in indices]\n",
    "# distances ordered by indices\n",
    "ordered_distances = [distances[i] for i in range(len(distances)) if i in indices]\n",
    "# create a bar chart\n",
    "plt.bar(range(len(ordered_distances)), ordered_distances)\n",
    "plt.xlabel('Chunk Index')\n",
    "plt.ylabel('Distance')\n",
    "plt.title('Document Similarity by Chunks')\n",
    "plt.show()"
   ]
  },
  {
   "cell_type": "code",
   "execution_count": 135,
   "id": "c45e6469",
   "metadata": {},
   "outputs": [
    {
     "name": "stdout",
     "output_type": "stream",
     "text": [
      "56\n"
     ]
    },
    {
     "data": {
      "text/markdown": [
       "# SUBDIVISION/CONDOMINIUM APPLICATION \n",
       "\n",
       "## 15. SWORN DECLARATION OF APPLICANT\n",
       "\n",
       "Complete in the presence of a Commissioner for Taking Affidavits. If the declaration is to be administered remotely, you must be able to see, hear and communicate with the Commissioner and show documentation that confirms your identity.\n",
       "I. Karl Tanner, Dillon Consulting Limited $\\qquad$ solemnly declare that the information required under Schedule 1 to Ontario Regulation 544/06 and provided by the applicant is accurate and that t"
      ],
      "text/plain": [
       "<IPython.core.display.Markdown object>"
      ]
     },
     "metadata": {},
     "output_type": "display_data"
    },
    {
     "name": "stdout",
     "output_type": "stream",
     "text": [
      "---\n",
      "65\n"
     ]
    },
    {
     "data": {
      "text/markdown": [
       "# SUBDIVISION/CONDOMINIUM APPLICATION \n",
       "\n",
       "## SCHEDULE E - Environmental Site Screening Questionnaire\n",
       "\n",
       "Previous Use of Property\n",
       "$\\square$ Residential $\\quad$ Industrial $\\quad \\square$ Commercial $\\quad \\square$ Institutional\n",
       "$\\square$ Agricultural $\\quad \\square$ Parkland $\\quad \\square$ Vacant $\\quad \\square$ Other $\\qquad$\n",
       "a) If previous use of the property is Industrial or Commercial, specify use:\n",
       "\n",
       "## Manufacturing facility for automobile industry\n",
       "\n",
       "b) Has the grading of the subject land been changed by add"
      ],
      "text/plain": [
       "<IPython.core.display.Markdown object>"
      ]
     },
     "metadata": {},
     "output_type": "display_data"
    },
    {
     "name": "stdout",
     "output_type": "stream",
     "text": [
      "---\n",
      "48\n"
     ]
    },
    {
     "data": {
      "text/markdown": [
       "on of nearby water bodies, etc.) from the proposed development on the surrounding areas and to mitigate adverse effects from the surrounding areas on the proposed development? In agricultural areas, refer to the Agricultural Code of Practice.\n",
       "Where potential adverse environmental effects (species-at-risk, wetland protection, floodplains, etc.) are foreseen, consultation with the Ministry of Natural Resources and Forestry, the Ministry of Environment, Conservation and Parks, and/or the Essex Region Conservat\n",
       "ion Authority is recommended.\n",
       "\n",
       "See Planning Rationale Report\n",
       "$\\qquad$\n",
       "$\\qquad$\n",
       "$\\qquad$\n",
       "$\\qquad$\n",
       "\n",
       "## 13. PROPOSED PUBLIC CONSULTATION STRATEGY\n",
       "\n",
       "Select or describe your proposed strategy for consulting with the public with respect to the application:\n",
       "$\\square$ Required Public Consultation (Public Notice \\& Public Meeting as required per the Planning Act)\n",
       "$\\square$ Open House $\\square$ Website\n",
       "Other $\\qquad$\n",
       "$\\qquad$\n",
       "$\\qquad$"
      ],
      "text/plain": [
       "<IPython.core.display.Markdown object>"
      ]
     },
     "metadata": {},
     "output_type": "display_data"
    },
    {
     "name": "stdout",
     "output_type": "stream",
     "text": [
      "---\n",
      "17\n"
     ]
    },
    {
     "data": {
      "text/markdown": [
       "pplication, supporting documents, and fee may be returned for completion, correction, or clarification, or the applicant may be requested to submit additional or revised supporting information. Administration, the Development \\& Heritage Standing Committee (DHSC), and City of Windsor Council reserve the right to request additional information any time during the processing of the application.\n",
       "2. If deemed complete, fees are not refundable, the application is circulated to departments and external agencies f"
      ],
      "text/plain": [
       "<IPython.core.display.Markdown object>"
      ]
     },
     "metadata": {},
     "output_type": "display_data"
    },
    {
     "name": "stdout",
     "output_type": "stream",
     "text": [
      "---\n",
      "10\n"
     ]
    },
    {
     "data": {
      "text/markdown": [
       "s:\n",
       "\n",
       "B1. Boundaries of the land to be subdivided, certified by an Ontario Land Surveyor, and based on NAD83, Zone 17.\n",
       "B2. Locations, widths and names of proposed roads, streets, highways and rights-of-way within the proposed subdivision and existing roads, streets, highways, and rights-of-way abutting the proposed subdivision;\n",
       "B3. On a small key plan, with a scale of not less than one centimetre to 100 metres, all of the land adjacent to the proposed subdivision that is owned by the applicant or in which the"
      ],
      "text/plain": [
       "<IPython.core.display.Markdown object>"
      ]
     },
     "metadata": {},
     "output_type": "display_data"
    },
    {
     "name": "stdout",
     "output_type": "stream",
     "text": [
      "---\n",
      "3\n"
     ]
    },
    {
     "data": {
      "text/markdown": [
       "ate if the plan is consistent with the Provincial Policy Statement and conforms to the City of Windsor Official Plan and the appropriate Zoning By-law. If an Official Plan Amendment and/or Zoning By-law Amendment is required, you must have already submitted those applications, or must submit them with this application, otherwise this application will be returned.\n",
       "\n",
       "Section 7: Complete this section if you are applying for approval of a Plan of Condominium. New construction applies to buildings that were recen"
      ],
      "text/plain": [
       "<IPython.core.display.Markdown object>"
      ]
     },
     "metadata": {},
     "output_type": "display_data"
    },
    {
     "name": "stdout",
     "output_type": "stream",
     "text": [
      "---\n",
      "51\n"
     ]
    },
    {
     "data": {
      "text/markdown": [
       "## [⿴囗 Plan of Condominium - Draft Approval - New Building\n",
       "\n",
       "| Code 53007 | Base Fee: $\\quad 232$ | lots/units at $\\$ 185.00$ per lot/unit | \\$ 42,920.00 |\n",
       "| :--: | :--: | :--: | :--: |\n",
       "| Code 63024 | GIS Fee | $+\\$ 50.00$ |  |\n",
       "| Code 53023 | Essex Region Conservation Authority Fee | $+\\$ 300.00$ |  |\n",
       "| Code 53010 | Legal Fee - Agreement Preparation | $+\\$ 1,714.98$ |  |\n",
       "| Code 53010 | Legal Variable Fee: $\\qquad$ lots/units at $\\$ 50.00$ per lot/unit | $+\\$ 11,600.00$ |  |\n",
       "|  | Plan of Condominium (Draft Ap\n",
       "proval) Total Fee | $=\\$ 56,584.98$ |  |\n",
       "\n",
       "## $\\square$ Condominium Conversion - Draft Approval - Existing Building"
      ],
      "text/plain": [
       "<IPython.core.display.Markdown object>"
      ]
     },
     "metadata": {},
     "output_type": "display_data"
    },
    {
     "name": "stdout",
     "output_type": "stream",
     "text": [
      "---\n",
      "13\n"
     ]
    },
    {
     "data": {
      "text/markdown": [
       "ng ESAs \\& ANSIs) within or adjacent to the land proposed to be subdivided;\n",
       "B9. Availability and nature of domestic water supplies;\n",
       "B10. Nature and porosity of the soil;\n",
       "B11. Existing contours or elevations as may be required to determine the grade of the streets, roads and highways and the drainage of the land proposed to be subdivided;\n",
       "B12. Municipal services available or are to be available to the land proposed to be subdivided;\n",
       "B13. Nature and extent of any restrictions affecting the land proposed to be\n",
       " subdivided including restrictive covenants, easements, or the Airport Operating Area; and\n",
       "B14. Floodplains, flood ways, flood prone areas, and flood elevations\n",
       "\n",
       "## C. CONDOMINIUM DRAFT PLAN REQUIREMENTS\n",
       "\n",
       "In addition to the above requirements, draft plans proposing condominium ownership must include:\n",
       "C1. Proposed exclusive use areas of the common element such as backyards and parking;\n",
       "C2. Roadways and pedestrian access to proposed private units."
      ],
      "text/plain": [
       "<IPython.core.display.Markdown object>"
      ]
     },
     "metadata": {},
     "output_type": "display_data"
    },
    {
     "name": "stdout",
     "output_type": "stream",
     "text": [
      "---\n",
      "[31, 58, 29, 2, 75, 32, 14, 59, 73, 34, 1, 24, 72, 0, 62, 57, 41, 5, 28, 56, 61, 60, 47, 8, 11, 64, 16, 42, 39, 74, 23, 22, 40, 27, 26, 44, 21, 65, 48, 9, 17, 71, 49, 38, 37, 43, 67, 10, 7, 53, 15, 3, 54, 70, 20, 66, 4, 69, 25, 63, 36, 51, 55, 35, 30, 6, 46, 52, 68, 19, 50, 33, 18, 45, 12, 13]\n"
     ]
    },
    {
     "data": {
      "image/png": "[encoded data removed]",
      "text/plain": [
       "<Figure size 640x480 with 1 Axes>"
      ]
     },
     "metadata": {},
     "output_type": "display_data"
    }
   ],
   "source": [
    "# display chunks in top 5 percentile as markdown, separate by divider\n",
    "def display_chunks(chunks, indices, distances):\n",
    "    # get the top 5 percentile of the distances\n",
    "    percentile_5 = np.percentile(distances, 10)\n",
    "    # get the chunks in the top 5 percentile\n",
    "    top_chunks = [chunks[index] for index in indices if ordered_distances[index] < percentile_5]\n",
    "    top_chunk_indices = [index for index in indices if ordered_distances[index] < percentile_5]\n",
    "    # display the chunks\n",
    "    for chunk, index in zip(top_chunks, top_chunk_indices):\n",
    "        print(index)\n",
    "        print_markdown(chunk)\n",
    "        print(\"---\")\n",
    "    # plot top chunks as green, rest as light gray\n",
    "    for i in range(len(chunks)):\n",
    "        if i in top_chunk_indices:\n",
    "            plt.bar(i, ordered_distances[i], color='green')\n",
    "        else:\n",
    "            plt.bar(i, ordered_distances[i], color='lightgray')\n",
    "    # create a bar chart\n",
    "    # plt.bar(range(len(ordered_distances)), ordered_distances)\n",
    "    plt.xlabel('Chunk Index')\n",
    "    plt.ylabel('Distance')\n",
    "    plt.title('Document Similarity by Chunks')\n",
    "    \n",
    "# display the chunks\n",
    "display_chunks(chunks, indices, distances)\n",
    "print(indices)\n",
    "# get the top 5 percentile of the distances\n",
    "# percentile_5 = np.percentile(distances, 95)\n"
   ]
  }
 ],
 "metadata": {
  "kernelspec": {
   "display_name": "venv",
   "language": "python",
   "name": "python3"
  },
  "language_info": {
   "codemirror_mode": {
    "name": "ipython",
    "version": 3
   },
   "file_extension": ".py",
   "mimetype": "text/x-python",
   "name": "python",
   "nbconvert_exporter": "python",
   "pygments_lexer": "ipython3",
   "version": "3.11.2"
  }
 },
 "nbformat": 4,
 "nbformat_minor": 5
}
