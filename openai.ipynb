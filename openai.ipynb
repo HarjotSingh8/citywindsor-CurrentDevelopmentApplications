{
 "cells": [
  {
   "cell_type": "code",
   "execution_count": null,
   "id": "452d84df",
   "metadata": {},
   "outputs": [],
   "source": [
    "# openai imports\n",
    "import openai\n",
    "from openai import OpenAI\n",
    "import os"
   ]
  },
  {
   "cell_type": "code",
   "execution_count": null,
   "id": "bb724a55",
   "metadata": {},
   "outputs": [
    {
     "name": "stdout",
     "output_type": "stream",
     "text": [
      "Response(id='resp_681b5f78ab508191975311faac094d4d02d6ce063fe7ca1b', created_at=1746624376.0, error=None, incomplete_details=None, instructions=None, metadata={}, model='gpt-4.1-nano-2025-04-14', object='response', output=[ResponseOutputMessage(id='msg_681b5f78cd188191ae0e7a63ab222f2402d6ce063fe7ca1b', content=[ResponseOutputText(annotations=[], text='In a shimmering forest, a brave little unicorn discovered that the true magic was sharing kindness and friendship with others.', type='output_text')], role='assistant', status='completed', type='message')], parallel_tool_calls=True, temperature=1.0, tool_choice='auto', tools=[], top_p=1.0, max_output_tokens=None, previous_response_id=None, reasoning=Reasoning(effort=None, generate_summary=None, summary=None), service_tier='default', status='completed', text=ResponseTextConfig(format=ResponseFormatText(type='text')), truncation='disabled', usage=ResponseUsage(input_tokens=18, input_tokens_details=InputTokensDetails(cached_tokens=0), output_tokens=23, output_tokens_details=OutputTokensDetails(reasoning_tokens=0), total_tokens=41), user=None, store=True)\n"
     ]
    }
   ],
   "source": [
    "# openai api\n",
    "api_key = os.environ.get(\"OPENAI_API_KEY\")\n",
    "\n",
    "openai.api_key = api_key\n",
    "OpenAI.api_key = api_key\n",
    "client = OpenAI(api_key=api_key)\n",
    "\n",
    "# openai model\n",
    "model = \"gpt-4.1-nano\"\n",
    "\n",
    "\n",
    "# openai prompt\n",
    "prompt = \"\"\"\n",
    "What is chandigarh?\n",
    "\"\"\"\n",
    "# openai completion\n",
    "response = client.responses.create(\n",
    "    model=model,\n",
    "    instructions = \"\"\"\n",
    "        \n",
    "    \"\"\",\n",
    "    input=prompt\n",
    ")\n",
    "\n",
    "# openai response\n",
    "print(response.output)"
   ]
  },
  {
   "cell_type": "code",
   "execution_count": 19,
   "id": "e1e70fb4",
   "metadata": {},
   "outputs": [
    {
     "name": "stdout",
     "output_type": "stream",
     "text": [
      "In a shimmering forest, a brave little unicorn discovered that the true magic was sharing kindness and friendship with others.\n"
     ]
    }
   ],
   "source": [
    "print(response.output[0].content[0].text)"
   ]
  }
 ],
 "metadata": {
  "kernelspec": {
   "display_name": "venv",
   "language": "python",
   "name": "python3"
  },
  "language_info": {
   "codemirror_mode": {
    "name": "ipython",
    "version": 3
   },
   "file_extension": ".py",
   "mimetype": "text/x-python",
   "name": "python",
   "nbconvert_exporter": "python",
   "pygments_lexer": "ipython3",
   "version": "3.11.2"
  }
 },
 "nbformat": 4,
 "nbformat_minor": 5
}
