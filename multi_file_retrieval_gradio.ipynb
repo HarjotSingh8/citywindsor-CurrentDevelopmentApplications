{
 "cells": [
  {
   "cell_type": "code",
   "execution_count": 32,
   "id": "2d0cd05c",
   "metadata": {},
   "outputs": [],
   "source": [
    "import os\n",
    "import cohere\n",
    "import json\n",
    "import random\n",
    "import uuid\n",
    "from IPython.display import Markdown, display\n",
    "import time"
   ]
  },
  {
   "cell_type": "code",
   "execution_count": null,
   "id": "8a42368d",
   "metadata": {},
   "outputs": [],
   "source": [
    "# generate embeddings for all files in a directory\n",
    "cohere_api_key = os.getenv('COHERE_API_KEY')\n",
    "co = cohere.ClientV2(cohere_api_key)"
   ]
  },
  {
   "cell_type": "code",
   "execution_count": 12,
   "id": "71643751",
   "metadata": {},
   "outputs": [
    {
     "name": "stdout",
     "output_type": "stream",
     "text": [
      "382 files found\n",
      "Key 'type' found in file: ./jsons/0-1095-1185-North-Talbot-Road/SDN-001_21 - Drawings.pdf.json\n",
      "Key 'type' found in file: ./jsons/0-1095-1185-North-Talbot-Road/SDN-001_21 - Storm Water Management Report (updated).pdf.json\n",
      "Key 'type' found in file: ./jsons/0-1095-1185-North-Talbot-Road/SDN-001_21 - Storm Water Management Report.pdf.json\n",
      "Key 'type' found in file: ./jsons/0-1095-1185-North-Talbot-Road/SDN-001_21 - Phase 1 Environmental Site Assessment.pdf.json\n",
      "Key 'type' found in file: ./jsons/1500-Ouellette-Avenue/Structural Integrity Report.pdf.json\n",
      "Key 'type' found in file: ./jsons/0-Clairview-Avenue/Environmental Evaluation Report.pdf.json\n",
      "Key 'type' found in file: ./jsons/0-Clairview-Avenue/Functional Servicing Report.pdf.json\n",
      "Key 'type' found in file: ./jsons/0-Clairview-Avenue/Planning Justification Report.pdf.json\n",
      "Key 'type' found in file: ./jsons/0-Clairview-Avenue/Species At Risk Considerations Memo.pdf.json\n",
      "Key 'type' found in file: ./jsons/0-Clairview-Avenue/Stormwater Management Brief.pdf.json\n",
      "Key 'type' found in file: ./jsons/0-Wyandotte-Street-East/Environmental Evaluation Report.pdf.json\n",
      "Key 'type' found in file: ./jsons/0-Wyandotte-Street-East/Functional Servicing Report.pdf.json\n",
      "Key 'type' found in file: ./jsons/0-Wyandotte-Street-East/Storm Water Management.pdf.json\n",
      "Key 'type' found in file: ./jsons/1576-randolph-avenue/Zoning By-law Amendment (ZBA) Application.pdf.json\n",
      "368 valid files found\n"
     ]
    }
   ],
   "source": [
    "path = \"./jsons\"\n",
    "# recursively get all files in the directory\n",
    "files = []\n",
    "for root, dirs, filenames in os.walk(path):\n",
    "    for filename in filenames:\n",
    "        if filename.endswith('.json'):\n",
    "            relative_path = os.path.relpath(os.path.join(root, filename), path)\n",
    "            files.append(relative_path)\n",
    "print(len(files), 'files found')\n",
    "\n",
    "valid_files = []\n",
    "for f in files:\n",
    "    # load json\n",
    "    file_path = os.path.join(path, f)\n",
    "    with open(file_path, 'r') as file:\n",
    "        try:\n",
    "            data = json.load(file)\n",
    "        except json.JSONDecodeError:\n",
    "            print(f\"Error decoding JSON from file: {file_path}\")\n",
    "            continue\n",
    "    # check if the json contains the error key\n",
    "    # print(data.keys())\n",
    "    if 'type' in data.keys():\n",
    "        print(f\"Key 'type' found in file: {file_path}\")\n",
    "        continue\n",
    "\n",
    "    valid_files.append(f)\n",
    "\n",
    "print(len(valid_files), 'valid files found')\n"
   ]
  },
  {
   "cell_type": "code",
   "execution_count": 7,
   "id": "f6c4d48d",
   "metadata": {},
   "outputs": [
    {
     "name": "stdout",
     "output_type": "stream",
     "text": [
      "random project: 3161-jefferson-boulevard-west-side-of-jefferson-south-of-queen-elizabeth-drive\n",
      "11 files found in project 3161-jefferson-boulevard-west-side-of-jefferson-south-of-queen-elizabeth-drive\n"
     ]
    }
   ],
   "source": [
    "# select a random project\n",
    "# project is subdirectories of path\n",
    "def get_random_project():\n",
    "    # get all subdirectories of path\n",
    "    subdirs = [d for d in os.listdir(path) if os.path.isdir(os.path.join(path, d))]\n",
    "    # select a random subdirectory\n",
    "    random_subdir = random.choice(subdirs)\n",
    "    # get all files in the subdirectory\n",
    "    return random_subdir\n",
    "\n",
    "random_project = get_random_project()\n",
    "print('random project:', random_project)\n",
    "# get all files in this subdirectory\n",
    "project_files = []\n",
    "for root, dirs, filenames in os.walk(os.path.join(path, random_project)):\n",
    "    for filename in filenames:\n",
    "        if filename.endswith('.json'):\n",
    "            relative_path = os.path.relpath(os.path.join(root, filename), path)\n",
    "            project_files.append(relative_path)\n",
    "print(len(project_files), 'files found in project', random_project)"
   ]
  },
  {
   "cell_type": "code",
   "execution_count": 5,
   "id": "b3e7f584",
   "metadata": {},
   "outputs": [],
   "source": [
    "def create_chunks(data, chunk_size = 512, overlap=256):\n",
    "    chunks = []\n",
    "    for page in data[\"pages\"]:\n",
    "        text = page[\"markdown\"]\n",
    "        for i in range(0, len(text), chunk_size - overlap):\n",
    "            chunk = text[i:i + chunk_size]\n",
    "            chunks.append(chunk)\n",
    "    return chunks\n",
    "\n",
    "def create_smart_chunks(data, chunk_size=512, overlap=256):\n",
    "    import re\n",
    "    chunks = []\n",
    "    page_numbers = {}\n",
    "    # for page in data[\"pages\"]:\n",
    "    for page_number, page in enumerate(data[\"pages\"]):\n",
    "        text = page[\"markdown\"]\n",
    "        table_start_pattern = r\"(\\n\\|)\"\n",
    "        table_end_pattern = r\"(\\|\\n(?!\\|))\"\n",
    "        \n",
    "        # Find table starts and ends\n",
    "        table_starts = [m.start() for m in re.finditer(table_start_pattern, text)]\n",
    "        table_ends = [m.start() for m in re.finditer(table_end_pattern, text)]\n",
    "        \n",
    "        char_index = 0\n",
    "        i = 0\n",
    "        j = 0\n",
    "        # for i in range(len(table_starts)):\n",
    "        temp_chunks = []\n",
    "        print(table_starts)\n",
    "        while i < len(table_starts) and j < max(len(table_ends), 1):\n",
    "            print(\"inside this loop\")\n",
    "            # Capture non-table text before the current table\n",
    "            if table_starts[i] > char_index:\n",
    "                print(\"capturing non-table text\")\n",
    "                non_table_chunk = text[char_index:table_starts[i]].strip()\n",
    "                if non_table_chunk:\n",
    "                    # call create_chunks on the non-table chunk\n",
    "                    non_table_chunks = create_chunks({\"pages\": [{\"index\": page_number, \"markdown\": non_table_chunk}]}, chunk_size, overlap)\n",
    "                    for chunk in non_table_chunks:\n",
    "                        if chunk not in page_numbers:\n",
    "                            page_numbers[chunk] = []\n",
    "                        page_numbers[chunk].append(page_number+1)\n",
    "                    temp_chunks.extend(non_table_chunks)\n",
    "                    # char_index = table_starts[i]\n",
    "                # continue\n",
    "            \n",
    "            # Capture the table chunk\n",
    "            start = table_starts[i]\n",
    "            end = table_ends[j] if j < len(table_ends) else len(text)\n",
    "\n",
    "            char_index = end + 1\n",
    "            j += 1\n",
    "            i += 1\n",
    "            # check if table_starts[i] is greater than table_ends[j]\n",
    "            # if not skip table starts until it is\n",
    "            while i < len(table_starts) and j < len(table_ends) and table_starts[i] < table_ends[j]:\n",
    "                i += 1\n",
    "            # add some pre-start context to the table:\n",
    "            table_chunk = text[start:end+1].strip()\n",
    "            if table_chunk:\n",
    "                temp_chunks.append(table_chunk)\n",
    "        \n",
    "        # Capture any remaining non-table text after the last table\n",
    "        if char_index < len(text):\n",
    "            remaining_chunk = text[char_index:].strip()\n",
    "            if remaining_chunk:\n",
    "                # temp_chunks.append(remaining_chunk)\n",
    "                # call create_chunks on the remaining chunk\n",
    "                remaining_chunks = create_chunks({\"pages\": [{\"index\": page_number, \"markdown\": remaining_chunk}]}, chunk_size, overlap)\n",
    "                for chunk in remaining_chunks:\n",
    "                    if chunk not in page_numbers:\n",
    "                        page_numbers[chunk] = []\n",
    "                    page_numbers[chunk].append(page_number+1)\n",
    "                temp_chunks.extend(remaining_chunks)\n",
    "        # add page number to each chunk\n",
    "        for chunk in temp_chunks:\n",
    "            if chunk not in page_numbers:\n",
    "                page_numbers[chunk] = []\n",
    "                page_numbers[chunk].append(page_number+1)\n",
    "        \n",
    "        chunks.extend(temp_chunks)\n",
    "\n",
    "    return chunks, page_numbers\n",
    "# chunks, page_numbers = create_smart_chunks(mistral_response.json(), chunk_size=512, overlap=256)\n",
    "# # chunks, page_numbers = create_smart_chunks(pdf_data, chunk_size=512, overlap=256)\n",
    "# # if there are any chunks that are smaller than 512 characters, move them to the previous chunk\n",
    "# for i in range(len(chunks)):\n",
    "#     if len(chunks[i]) < 512:\n",
    "#         # move the chunk to the previous chunk\n",
    "#         if i > 0:\n",
    "#             chunks[i-1] += \"\\n\" + chunks[i]\n",
    "#             chunks[i] = \"\"\n",
    "# # remove empty chunks and page entries for removed chunks\n",
    "# chunks = [chunk for chunk in chunks if chunk != \"\"]\n",
    "# for chunk in chunks:\n",
    "#     if chunk in page_numbers:\n",
    "#         del page_numbers[chunk]\n",
    "# create chunks for each file\n",
    "def create_chunks_filepath(file_path):\n",
    "    # read file as json\n",
    "    with open(file_path, 'r') as file:\n",
    "        data = json.load(file)\n",
    "    # create chunks\n",
    "    chunks, page_numbers = create_smart_chunks(data, chunk_size=512, overlap=256)\n",
    "    # remove empty chunks\n",
    "    chunks = [chunk for chunk in chunks if chunk != \"\"]\n",
    "    # # if there are any chunks that are smaller than 512 characters, move them to the previous chunk\n",
    "    smaller_chunks_available = True\n",
    "    while(smaller_chunks_available):\n",
    "        smaller_chunks_available = False\n",
    "        for i in reversed(range(len(chunks))):\n",
    "            if len(chunks[i]) < 512:\n",
    "                # move the chunk to the previous chunk\n",
    "                if i > 0:\n",
    "                    if len(chunks[i])>0:\n",
    "                        print([len(chunk) for chunk in chunks])\n",
    "                        smaller_chunks_available = True\n",
    "                        chunks[i-1] += \"\\n\" + chunks[i]\n",
    "                        chunks[i] = \"\"\n",
    "            \n",
    "    # remove empty chunks and page entries for removed chunks\n",
    "    chunks = [chunk for chunk in chunks if chunk != \"\"]\n",
    "    for chunk in chunks:\n",
    "        if chunk in page_numbers:\n",
    "            del page_numbers[chunk]\n",
    "    # create chunks for each file\n",
    "    return chunks, page_numbers\n",
    "# create chunks for each file"
   ]
  },
  {
   "cell_type": "code",
   "execution_count": 8,
   "id": "fad3fd35",
   "metadata": {},
   "outputs": [
    {
     "name": "stdout",
     "output_type": "stream",
     "text": [
      "[]\n",
      "[]\n",
      "[]\n",
      "[]\n",
      "[]\n",
      "[]\n",
      "[]\n",
      "[]\n",
      "[]\n",
      "[]\n",
      "[25, 86, 50, 25, 25, 25, 25, 32, 25, 56]\n",
      "[25, 86, 50, 25, 25, 25, 25, 32, 82, 0]\n",
      "[25, 86, 50, 25, 25, 25, 25, 115, 0, 0]\n",
      "[25, 86, 50, 25, 25, 25, 141, 0, 0, 0]\n",
      "[25, 86, 50, 25, 25, 167, 0, 0, 0, 0]\n",
      "[25, 86, 50, 25, 193, 0, 0, 0, 0, 0]\n",
      "[25, 86, 50, 219, 0, 0, 0, 0, 0, 0]\n",
      "[25, 86, 270, 0, 0, 0, 0, 0, 0, 0]\n",
      "[25, 357, 0, 0, 0, 0, 0, 0, 0, 0]\n"
     ]
    }
   ],
   "source": [
    "chunks, page_number = create_chunks_filepath(os.path.join(path, project_files[0]))"
   ]
  },
  {
   "cell_type": "code",
   "execution_count": 59,
   "id": "d87a369b",
   "metadata": {},
   "outputs": [
    {
     "name": "stdout",
     "output_type": "stream",
     "text": [
      "[512, 512, 512, 512, 512, 512, 512, 512, 512, 512, 512, 512, 954, 512, 512, 512, 512, 512, 512, 512, 512, 512, 512, 512, 512, 512, 512, 512, 958, 512, 512, 512, 798, 512, 831, 512, 512, 810, 536, 512, 512, 538, 512, 512, 512, 980, 512, 512, 834, 512, 512, 512, 512, 818, 512, 512, 512, 512, 512, 1023, 512, 512, 706, 512, 512, 512, 512, 858, 512, 512, 512, 512, 796, 512, 512, 512, 512, 512, 512, 512, 512, 628, 512, 512, 512, 512, 512, 512, 512, 512, 512, 702, 512, 512, 512, 512, 512, 526, 1017, 616]\n"
     ]
    }
   ],
   "source": [
    "print([len(chunk) for chunk in chunks])"
   ]
  },
  {
   "cell_type": "code",
   "execution_count": 60,
   "id": "c589faf0",
   "metadata": {},
   "outputs": [
    {
     "name": "stdout",
     "output_type": "stream",
     "text": [
      "---------------\n"
     ]
    },
    {
     "data": {
      "text/markdown": [
       "Office of the Commissioner of Economic Development \\& Innovation Planning \\& Development Services\n",
       "\n",
       "# ZONING BY-LAW AMENDMENT APPLICATION \n",
       "\n",
       "## INSTRUCTIONS\n",
       "\n",
       "## Verify that you are using the most current application form.\n",
       "\n",
       "Section 1: Before this application can be submitted, you must complete both Stage 1 and Stage 2 Planning Consultation Applications.\n",
       "Section 2: During the Stage 2 process, any required studies must be completed and submitted for review and comment. The final studies for Stage 2 must be inclu"
      ],
      "text/plain": [
       "<IPython.core.display.Markdown object>"
      ]
     },
     "metadata": {},
     "output_type": "display_data"
    },
    {
     "name": "stdout",
     "output_type": "stream",
     "text": [
      "---------------\n"
     ]
    },
    {
     "data": {
      "text/markdown": [
       "can be submitted, you must complete both Stage 1 and Stage 2 Planning Consultation Applications.\n",
       "Section 2: During the Stage 2 process, any required studies must be completed and submitted for review and comment. The final studies for Stage 2 must be included with this application and the proposal must remain unchanged.\n",
       "Section 3: Provide the full name, address, phone number, fax number and email address of the applicant, agent, and registered owner. If any of these are a corporation, provide the full corpo"
      ],
      "text/plain": [
       "<IPython.core.display.Markdown object>"
      ]
     },
     "metadata": {},
     "output_type": "display_data"
    },
    {
     "name": "stdout",
     "output_type": "stream",
     "text": [
      "---------------\n"
     ]
    },
    {
     "data": {
      "text/markdown": [
       "ded with this application and the proposal must remain unchanged.\n",
       "Section 3: Provide the full name, address, phone number, fax number and email address of the applicant, agent, and registered owner. If any of these are a corporation, provide the full corporate name. Include the full name of the contact person. If there is more than one person, corporation, or registered owner, use additional sheets.\n",
       "Section 4: Indicate if you are submitting other companion applications with this application. Please note tha"
      ],
      "text/plain": [
       "<IPython.core.display.Markdown object>"
      ]
     },
     "metadata": {},
     "output_type": "display_data"
    },
    {
     "name": "stdout",
     "output_type": "stream",
     "text": [
      "---------------\n"
     ]
    },
    {
     "data": {
      "text/markdown": [
       "rate name. Include the full name of the contact person. If there is more than one person, corporation, or registered owner, use additional sheets.\n",
       "Section 4: Indicate if you are submitting other companion applications with this application. Please note that an application to amend the Official Plan or an application for Plan of Subdivision/Condominium are the only applications that will be accepted for processing concurrently with a Zoning Amendment.\n",
       "Section 5: Provide information about the subject land. Th"
      ],
      "text/plain": [
       "<IPython.core.display.Markdown object>"
      ]
     },
     "metadata": {},
     "output_type": "display_data"
    },
    {
     "name": "stdout",
     "output_type": "stream",
     "text": [
      "---------------\n"
     ]
    },
    {
     "data": {
      "text/markdown": [
       "t an application to amend the Official Plan or an application for Plan of Subdivision/Condominium are the only applications that will be accepted for processing concurrently with a Zoning Amendment.\n",
       "Section 5: Provide information about the subject land. This information is used to determine supporting information requirements and to assist in the review of the application.\n",
       "Section 6: Indicate the amendment, proposed uses and describe the nature and extent of the amendment being requested. Indicate why the a"
      ],
      "text/plain": [
       "<IPython.core.display.Markdown object>"
      ]
     },
     "metadata": {},
     "output_type": "display_data"
    },
    {
     "name": "stdout",
     "output_type": "stream",
     "text": [
      "---------------\n"
     ]
    },
    {
     "data": {
      "text/markdown": [
       "is information is used to determine supporting information requirements and to assist in the review of the application.\n",
       "Section 6: Indicate the amendment, proposed uses and describe the nature and extent of the amendment being requested. Indicate why the amendment is being requested and how it is consistent with the Provincial Policy Statement and conforms to the City of Windsor Official Plan.\n",
       "Section 7: If there are any existing buildings or structures on the subject land, provide the required information "
      ],
      "text/plain": [
       "<IPython.core.display.Markdown object>"
      ]
     },
     "metadata": {},
     "output_type": "display_data"
    },
    {
     "name": "stdout",
     "output_type": "stream",
     "text": [
      "---------------\n"
     ]
    },
    {
     "data": {
      "text/markdown": [
       "mendment is being requested and how it is consistent with the Provincial Policy Statement and conforms to the City of Windsor Official Plan.\n",
       "Section 7: If there are any existing buildings or structures on the subject land, provide the required information or submit a sketch, drawing or plan that shows this information.\n",
       "Section 8: If you propose to build any buildings or structures on the subject land, provide the required information or submit a sketch, drawing or plan that shows the information.\n",
       "Section 9:"
      ],
      "text/plain": [
       "<IPython.core.display.Markdown object>"
      ]
     },
     "metadata": {},
     "output_type": "display_data"
    },
    {
     "name": "stdout",
     "output_type": "stream",
     "text": [
      "---------------\n"
     ]
    },
    {
     "data": {
      "text/markdown": [
       "or submit a sketch, drawing or plan that shows this information.\n",
       "Section 8: If you propose to build any buildings or structures on the subject land, provide the required information or submit a sketch, drawing or plan that shows the information.\n",
       "Section 9: Indicate how the property is accessed. Check all boxes that apply.\n",
       "Section 10: Provide information about water service, sanitary sewage disposal, and storm drainage.\n",
       "Section 11: Provide a sketch of the subject land showing, in metric units, the items list"
      ],
      "text/plain": [
       "<IPython.core.display.Markdown object>"
      ]
     },
     "metadata": {},
     "output_type": "display_data"
    },
    {
     "name": "stdout",
     "output_type": "stream",
     "text": [
      "---------------\n"
     ]
    },
    {
     "data": {
      "text/markdown": [
       " Indicate how the property is accessed. Check all boxes that apply.\n",
       "Section 10: Provide information about water service, sanitary sewage disposal, and storm drainage.\n",
       "Section 11: Provide a sketch of the subject land showing, in metric units, the items listed or indicate if this information is provided on an existing plan or a conceptual site plan.\n",
       "Section 12: Please refer to the Stage 2 Planning Consultation letter for details regarding the fees needing to be paid.\n",
       "Section 13: Explain your proposed strategy"
      ],
      "text/plain": [
       "<IPython.core.display.Markdown object>"
      ]
     },
     "metadata": {},
     "output_type": "display_data"
    },
    {
     "name": "stdout",
     "output_type": "stream",
     "text": [
      "---------------\n"
     ]
    },
    {
     "data": {
      "text/markdown": [
       "ed or indicate if this information is provided on an existing plan or a conceptual site plan.\n",
       "Section 12: Please refer to the Stage 2 Planning Consultation letter for details regarding the fees needing to be paid.\n",
       "Section 13: Explain your proposed strategy for consulting with the public with respect to the application.\n",
       "Section 14: Complete and sign in the presence of a Commissioner of Taking Affidavits.\n",
       "Other: Read, complete in full, and sign Schedules A \\& E.\n",
       "Submit application form, supporting information"
      ],
      "text/plain": [
       "<IPython.core.display.Markdown object>"
      ]
     },
     "metadata": {},
     "output_type": "display_data"
    },
    {
     "name": "stdout",
     "output_type": "stream",
     "text": [
      "---------------\n"
     ]
    },
    {
     "data": {
      "text/markdown": [
       " for consulting with the public with respect to the application.\n",
       "Section 14: Complete and sign in the presence of a Commissioner of Taking Affidavits.\n",
       "Other: Read, complete in full, and sign Schedules A \\& E.\n",
       "Submit application form, supporting information, and application fee to Senior Steno Clerk at Planning \\& Development Services, Suite 210, 350 City Hall Square West, Windsor ON N9A 6S1 or planningdept@citywindsor.ca\n",
       "\n",
       "## TYPE OF REZONING AMENDMENT\n",
       "\n",
       "DATE RECEIVED STAMP\n",
       "The type of amendment is stated in "
      ],
      "text/plain": [
       "<IPython.core.display.Markdown object>"
      ]
     },
     "metadata": {},
     "output_type": "display_data"
    },
    {
     "name": "stdout",
     "output_type": "stream",
     "text": [
      "---------------\n"
     ]
    },
    {
     "data": {
      "text/markdown": [
       ", and application fee to Senior Steno Clerk at Planning \\& Development Services, Suite 210, 350 City Hall Square West, Windsor ON N9A 6S1 or planningdept@citywindsor.ca\n",
       "\n",
       "## TYPE OF REZONING AMENDMENT\n",
       "\n",
       "DATE RECEIVED STAMP\n",
       "The type of amendment is stated in the Stage 2 Consultation letter.\n",
       "\n",
       "## Minor Zoning Amendment:\n",
       "\n",
       "- Site zoned commercial, institutional, or manufacturing\n",
       "- Addition to the list of permitted uses\n",
       "- Site already zoned\n",
       "- Change to existing regulations or to zoning district boundary to match lo"
      ],
      "text/plain": [
       "<IPython.core.display.Markdown object>"
      ]
     },
     "metadata": {},
     "output_type": "display_data"
    },
    {
     "name": "stdout",
     "output_type": "stream",
     "text": [
      "---------------\n"
     ]
    },
    {
     "data": {
      "text/markdown": [
       "the Stage 2 Consultation letter.\n",
       "\n",
       "## Minor Zoning Amendment:\n",
       "\n",
       "- Site zoned commercial, institutional, or manufacturing\n",
       "- Addition to the list of permitted uses\n",
       "- Site already zoned\n",
       "- Change to existing regulations or to zoning district boundary to match lot lines\n",
       "- Site designated in the Official Plan for residential use\n",
       "- Rezoning to accommodate a maximum of six dwelling units\n",
       "- Site designated in the Official Plan for the proposed use other than residential\n",
       "- Site-specific zoning for a site with a lot are\n",
       "t lines\n",
       "- Site designated in the Official Plan for residential use\n",
       "- Rezoning to accommodate a maximum of six dwelling units\n",
       "- Site designated in the Official Plan for the proposed use other than residential\n",
       "- Site-specific zoning for a site with a lot area of less than 1,000.0 m²\n",
       "\n",
       "Major Zoning Amendment: Any other amendment not listed as minor.\n",
       "a of less than 1,000.0 m²\n",
       "\n",
       "Major Zoning Amendment: Any other amendment not listed as minor.\n",
       "\n"
      ],
      "text/plain": [
       "<IPython.core.display.Markdown object>"
      ]
     },
     "metadata": {},
     "output_type": "display_data"
    },
    {
     "name": "stdout",
     "output_type": "stream",
     "text": [
      "---------------\n"
     ]
    },
    {
     "data": {
      "text/markdown": [
       "# ZONING BY-LAW AMENDMENT APPLICATION \n",
       "\n",
       "## ZONING BY-LAW AMENDMENT PROCESS\n",
       "\n",
       "The application will be terminated without notice after 60 days of inactivity. The following is for your information only. Review the Planning Act and relevant regulations for statutory requirements. The processing of the application is subject to change. Direct all questions to the assigned Planner. The process is generally as follows:\n",
       "\n",
       "1. The application is reviewed to ensure all prescribed and required information and the fee hav"
      ],
      "text/plain": [
       "<IPython.core.display.Markdown object>"
      ]
     },
     "metadata": {},
     "output_type": "display_data"
    },
    {
     "name": "stdout",
     "output_type": "stream",
     "text": [
      "---------------\n"
     ]
    },
    {
     "data": {
      "text/markdown": [
       "utory requirements. The processing of the application is subject to change. Direct all questions to the assigned Planner. The process is generally as follows:\n",
       "\n",
       "1. The application is reviewed to ensure all prescribed and required information and the fee have been submitted. Within 30 days of the receipt of the application, you will be notified in writing that the application is deemed incomplete or complete.\n",
       "2. If deemed incomplete, the application and fee will be returned. If deemed complete, fees are not r"
      ],
      "text/plain": [
       "<IPython.core.display.Markdown object>"
      ]
     },
     "metadata": {},
     "output_type": "display_data"
    },
    {
     "name": "stdout",
     "output_type": "stream",
     "text": [
      "---------------\n"
     ]
    },
    {
     "data": {
      "text/markdown": [
       "e been submitted. Within 30 days of the receipt of the application, you will be notified in writing that the application is deemed incomplete or complete.\n",
       "2. If deemed incomplete, the application and fee will be returned. If deemed complete, fees are not refundable, the application is circulated to departments and external agencies for review and comment, and all submitted documents are made available to the public.\n",
       "3. Following circulation, a draft staff report containing a recommendation and any condition"
      ],
      "text/plain": [
       "<IPython.core.display.Markdown object>"
      ]
     },
     "metadata": {},
     "output_type": "display_data"
    },
    {
     "name": "stdout",
     "output_type": "stream",
     "text": [
      "---------------\n"
     ]
    },
    {
     "data": {
      "text/markdown": [
       "efundable, the application is circulated to departments and external agencies for review and comment, and all submitted documents are made available to the public.\n",
       "3. Following circulation, a draft staff report containing a recommendation and any conditions is prepared. The City Planner and other staff review the draft staff report.\n",
       "4. When the staff report is approved by appropriate municipal staff, it will be scheduled for a future meeting of the Development and Heritage Standing Committee (DHSC).\n",
       "5. The "
      ],
      "text/plain": [
       "<IPython.core.display.Markdown object>"
      ]
     },
     "metadata": {},
     "output_type": "display_data"
    },
    {
     "name": "stdout",
     "output_type": "stream",
     "text": [
      "---------------\n"
     ]
    },
    {
     "data": {
      "text/markdown": [
       "s is prepared. The City Planner and other staff review the draft staff report.\n",
       "4. When the staff report is approved by appropriate municipal staff, it will be scheduled for a future meeting of the Development and Heritage Standing Committee (DHSC).\n",
       "5. The DHSC meeting is the public meeting required by the Planning Act. Public notice of the DHSC meeting is advertised in the Windsor Star, a local newspaper, at least 20 days in advance of the DHSC meeting. A courtesy notice may be mailed to property owners and"
      ],
      "text/plain": [
       "<IPython.core.display.Markdown object>"
      ]
     },
     "metadata": {},
     "output_type": "display_data"
    },
    {
     "name": "stdout",
     "output_type": "stream",
     "text": [
      "---------------\n"
     ]
    },
    {
     "data": {
      "text/markdown": [
       "DHSC meeting is the public meeting required by the Planning Act. Public notice of the DHSC meeting is advertised in the Windsor Star, a local newspaper, at least 20 days in advance of the DHSC meeting. A courtesy notice may be mailed to property owners and/or tenants within 120 metres or more of the subject land.\n",
       "6. 10 days prior to the DHSC meeting, the staff report is circulated to the applicant and DHSC members and made available to the public. All supporting documentation submitted by the applicant is a"
      ],
      "text/plain": [
       "<IPython.core.display.Markdown object>"
      ]
     },
     "metadata": {},
     "output_type": "display_data"
    },
    {
     "name": "stdout",
     "output_type": "stream",
     "text": [
      "---------------\n"
     ]
    },
    {
     "data": {
      "text/markdown": [
       "/or tenants within 120 metres or more of the subject land.\n",
       "6. 10 days prior to the DHSC meeting, the staff report is circulated to the applicant and DHSC members and made available to the public. All supporting documentation submitted by the applicant is available for review.\n",
       "7. At the DHSC meeting, a staff planner may make a presentation. The applicant and other parties have an opportunity to provide verbal and/or written submissions. The DHSC may ask questions of staff, the applicant, agent, and other par"
      ],
      "text/plain": [
       "<IPython.core.display.Markdown object>"
      ]
     },
     "metadata": {},
     "output_type": "display_data"
    },
    {
     "name": "stdout",
     "output_type": "stream",
     "text": [
      "---------------\n"
     ]
    },
    {
     "data": {
      "text/markdown": [
       "vailable for review.\n",
       "7. At the DHSC meeting, a staff planner may make a presentation. The applicant and other parties have an opportunity to provide verbal and/or written submissions. The DHSC may ask questions of staff, the applicant, agent, and other parties. The DHSC may decide to defer or recommend approval or denial of the application.\n",
       "8. If deferred, the application along with any additional information or a new staff report will be considered at a future DHSC meeting. If recommended for approval or d"
      ],
      "text/plain": [
       "<IPython.core.display.Markdown object>"
      ]
     },
     "metadata": {},
     "output_type": "display_data"
    },
    {
     "name": "stdout",
     "output_type": "stream",
     "text": [
      "---------------\n"
     ]
    },
    {
     "data": {
      "text/markdown": [
       "ties. The DHSC may decide to defer or recommend approval or denial of the application.\n",
       "8. If deferred, the application along with any additional information or a new staff report will be considered at a future DHSC meeting. If recommended for approval or denial, the staff report, the minutes of the DHSC meeting, and the amending by-law are forwarded to City of Windsor Council for consideration at a future date. The applicant, agent and all interested parties will be notified by Council Services of the date,"
      ],
      "text/plain": [
       "<IPython.core.display.Markdown object>"
      ]
     },
     "metadata": {},
     "output_type": "display_data"
    },
    {
     "name": "stdout",
     "output_type": "stream",
     "text": [
      "---------------\n"
     ]
    },
    {
     "data": {
      "text/markdown": [
       "enial, the staff report, the minutes of the DHSC meeting, and the amending by-law are forwarded to City of Windsor Council for consideration at a future date. The applicant, agent and all interested parties will be notified by Council Services of the date, time, and location of the Council meeting. Call 311 or contact Council Services at 519-255-6211 or clerks@citywindsor.ca.\n",
       "9. The application may be placed on the Consent Agenda of the Council Meeting, a part of the meeting where Council approves several m"
      ],
      "text/plain": [
       "<IPython.core.display.Markdown object>"
      ]
     },
     "metadata": {},
     "output_type": "display_data"
    },
    {
     "name": "stdout",
     "output_type": "stream",
     "text": [
      "---------------\n"
     ]
    },
    {
     "data": {
      "text/markdown": [
       " time, and location of the Council meeting. Call 311 or contact Council Services at 519-255-6211 or clerks@citywindsor.ca.\n",
       "9. The application may be placed on the Consent Agenda of the Council Meeting, a part of the meeting where Council approves several matters with a single motion. If the application is not on the Consent Agenda, the staff planner may introduce the application, review the staff recommendation and any additional information provided to Council, and advise Council of any differences between"
      ],
      "text/plain": [
       "<IPython.core.display.Markdown object>"
      ]
     },
     "metadata": {},
     "output_type": "display_data"
    },
    {
     "name": "stdout",
     "output_type": "stream",
     "text": [
      "---------------\n"
     ]
    },
    {
     "data": {
      "text/markdown": [
       "atters with a single motion. If the application is not on the Consent Agenda, the staff planner may introduce the application, review the staff recommendation and any additional information provided to Council, and advise Council of any differences between the staff and DHSC recommendations. The applicant and other interested parties have an opportunity to make verbal and/or written submissions. Council may decide to approve, deny, or defer the application. If Council approves the application, the amending "
      ],
      "text/plain": [
       "<IPython.core.display.Markdown object>"
      ]
     },
     "metadata": {},
     "output_type": "display_data"
    },
    {
     "name": "stdout",
     "output_type": "stream",
     "text": [
      "---------------\n"
     ]
    },
    {
     "data": {
      "text/markdown": [
       " the staff and DHSC recommendations. The applicant and other interested parties have an opportunity to make verbal and/or written submissions. Council may decide to approve, deny, or defer the application. If Council approves the application, the amending by-law may be approved at the same Council meeting, otherwise it will be approved at a future Council meeting.\n",
       "10. When the amending by-law is passed, Council Services will mail a notice of the passing of the amending by-law to property owners and various "
      ],
      "text/plain": [
       "<IPython.core.display.Markdown object>"
      ]
     },
     "metadata": {},
     "output_type": "display_data"
    },
    {
     "name": "stdout",
     "output_type": "stream",
     "text": [
      "---------------\n"
     ]
    },
    {
     "data": {
      "text/markdown": [
       "by-law may be approved at the same Council meeting, otherwise it will be approved at a future Council meeting.\n",
       "10. When the amending by-law is passed, Council Services will mail a notice of the passing of the amending by-law to property owners and various public agencies within 15 days. There is a 20-day appeal period commencing the day after this notice is given. The notice will include the last day to file an appeal. An appeal is made to the Ontario Land Tribunal (OLT) through Council Services. If no appe"
      ],
      "text/plain": [
       "<IPython.core.display.Markdown object>"
      ]
     },
     "metadata": {},
     "output_type": "display_data"
    },
    {
     "name": "stdout",
     "output_type": "stream",
     "text": [
      "---------------\n"
     ]
    },
    {
     "data": {
      "text/markdown": [
       "public agencies within 15 days. There is a 20-day appeal period commencing the day after this notice is given. The notice will include the last day to file an appeal. An appeal is made to the Ontario Land Tribunal (OLT) through Council Services. If no appeal is filed, the amending by-law is final and binding as of the date of Council's passing of the by-law. Contact Council Services at 519-255-6211 or clerks@citywindsor.ca.\n",
       "11. If the rezoning is subject to a holding symbol, it is the responsibility of the "
      ],
      "text/plain": [
       "<IPython.core.display.Markdown object>"
      ]
     },
     "metadata": {},
     "output_type": "display_data"
    },
    {
     "name": "stdout",
     "output_type": "stream",
     "text": [
      "---------------\n"
     ]
    },
    {
     "data": {
      "text/markdown": [
       "al is filed, the amending by-law is final and binding as of the date of Council's passing of the by-law. Contact Council Services at 519-255-6211 or clerks@citywindsor.ca.\n",
       "11. If the rezoning is subject to a holding symbol, it is the responsibility of the property owner to satisfy the conditions to remove the holding symbol, to apply, and to pay the fee to remove the holding symbol.\n",
       "\n",
       "## CONTACT INFORMATION\n",
       "\n",
       "Planning \\& Development Services\n",
       "Suite 210\n",
       "350 City Hall Square West\n",
       "Windsor ON N9A 6S1\n",
       "\n",
       "Telephone: 5\n",
       "property owner to satisfy the conditions to remove the holding symbol, to apply, and to pay the fee to remove the holding symbol.\n",
       "\n",
       "## CONTACT INFORMATION\n",
       "\n",
       "Planning \\& Development Services\n",
       "Suite 210\n",
       "350 City Hall Square West\n",
       "Windsor ON N9A 6S1\n",
       "\n",
       "Telephone: 519-255-6543\n",
       "Fax: 519-255-6544\n",
       "Email: planningdept@citywindsor.ca\n",
       "Web Site: www.citywindsor.ca\n",
       "19-255-6543\n",
       "Fax: 519-255-6544\n",
       "Email: planningdept@citywindsor.ca\n",
       "Web Site: www.citywindsor.ca\n",
       "\n"
      ],
      "text/plain": [
       "<IPython.core.display.Markdown object>"
      ]
     },
     "metadata": {},
     "output_type": "display_data"
    },
    {
     "name": "stdout",
     "output_type": "stream",
     "text": [
      "---------------\n"
     ]
    },
    {
     "data": {
      "text/markdown": [
       "# ZONING BY-LAW AMENDMENT APPLICATION \n",
       "\n",
       "## 1. PLANNING CONSULTATION - Completion of Stage 2\n",
       "\n",
       "Planning Consultation (Stage 2 Application) must be completed before this application can be submitted.\n",
       "Has the Planning Consultation Stage 2 Application been completed? NO $\\square$ YES $\\square$ File Number: PC-\n",
       "Staff Use Only\n",
       "\n",
       "Signature of Staff Planner\n",
       "$\\square$ Jim Abbs\n",
       "$\\square$ Brian Nagata\n",
       "$\\square$ Adam Szymczak\n",
       "\n",
       "Date of Consultation\n",
       "$\\square$ K. Kevin Alexander\n",
       "$\\square$ Justina Nwaesei\n",
       "$\\square$ $\\square$"
      ],
      "text/plain": [
       "<IPython.core.display.Markdown object>"
      ]
     },
     "metadata": {},
     "output_type": "display_data"
    },
    {
     "name": "stdout",
     "output_type": "stream",
     "text": [
      "---------------\n"
     ]
    },
    {
     "data": {
      "text/markdown": [
       "leted? NO $\\square$ YES $\\square$ File Number: PC-\n",
       "Staff Use Only\n",
       "\n",
       "Signature of Staff Planner\n",
       "$\\square$ Jim Abbs\n",
       "$\\square$ Brian Nagata\n",
       "$\\square$ Adam Szymczak\n",
       "\n",
       "Date of Consultation\n",
       "$\\square$ K. Kevin Alexander\n",
       "$\\square$ Justina Nwaesei\n",
       "$\\square$ $\\square$ Tracy Tang\n",
       "$\\square$ Simona Simion\n",
       "\n",
       "## 2. REQUIRED SUPPORTING INFORMATION as Identified in the Planning Consultation Stage 2 Process:\n",
       "\n",
       "For each document, provide one paper copy, and where possible, one digital copy on a USB flash drive or by email. All dr"
      ],
      "text/plain": [
       "<IPython.core.display.Markdown object>"
      ]
     },
     "metadata": {},
     "output_type": "display_data"
    },
    {
     "name": "stdout",
     "output_type": "stream",
     "text": [
      "---------------\n"
     ]
    },
    {
     "data": {
      "text/markdown": [
       " Tracy Tang\n",
       "$\\square$ Simona Simion\n",
       "\n",
       "## 2. REQUIRED SUPPORTING INFORMATION as Identified in the Planning Consultation Stage 2 Process:\n",
       "\n",
       "For each document, provide one paper copy, and where possible, one digital copy on a USB flash drive or by email. All drawings or plans shall be in letter size ( $8.5 \\times 11$ inches) in JPG and PDF format. All other document shall be provided in Word and PDF format. All PDF documents shall be flattened with no layers.\n",
       "\n",
       "The City of Windsor reserves the right to require ad"
      ],
      "text/plain": [
       "<IPython.core.display.Markdown object>"
      ]
     },
     "metadata": {},
     "output_type": "display_data"
    },
    {
     "name": "stdout",
     "output_type": "stream",
     "text": [
      "---------------\n"
     ]
    },
    {
     "data": {
      "text/markdown": [
       "awings or plans shall be in letter size ( $8.5 \\times 11$ inches) in JPG and PDF format. All other document shall be provided in Word and PDF format. All PDF documents shall be flattened with no layers.\n",
       "\n",
       "The City of Windsor reserves the right to require additional supporting information during the processing of the application. All supporting information submitted is made available for public review.\n",
       "\n",
       "If you are submitting a companion application submit only one set of documents.\n",
       "Staff Use Only\n",
       "![img-0.jpeg\n",
       "ditional supporting information during the processing of the application. All supporting information submitted is made available for public review.\n",
       "\n",
       "If you are submitting a companion application submit only one set of documents.\n",
       "Staff Use Only\n",
       "![img-0.jpeg](img-0.jpeg)\n",
       "](img-0.jpeg)\n",
       "\n"
      ],
      "text/plain": [
       "<IPython.core.display.Markdown object>"
      ]
     },
     "metadata": {},
     "output_type": "display_data"
    },
    {
     "name": "stdout",
     "output_type": "stream",
     "text": [
      "---------------\n"
     ]
    },
    {
     "data": {
      "text/markdown": [
       "# ZONING BY-LAW AMENDMENT APPLICATION \n",
       "\n",
       "## 3. APPLICANT, REGISTERED OWNER, AND AGENT INFORMATION\n",
       "\n",
       "Provide in full the name of the applicant, registered owner, and agent, the name of the contact person, and address, postal code, phone number, fax number and email address.\n",
       "\n",
       "If the applicant or registered owner is a numbered company, provide the name of the principals of the company. If there is more than one applicant or registered owner, copy this page, complete in full and submit with this application.\n",
       "\n",
       "All"
      ],
      "text/plain": [
       "<IPython.core.display.Markdown object>"
      ]
     },
     "metadata": {},
     "output_type": "display_data"
    },
    {
     "name": "stdout",
     "output_type": "stream",
     "text": [
      "---------------\n"
     ]
    },
    {
     "data": {
      "text/markdown": [
       " email address.\n",
       "\n",
       "If the applicant or registered owner is a numbered company, provide the name of the principals of the company. If there is more than one applicant or registered owner, copy this page, complete in full and submit with this application.\n",
       "\n",
       "All communication is with the Agent authorized by the Owner to file the application. If there is no Agent, all communication is with the Applicant.\n",
       "\n",
       "## Applicant\n",
       " communication is with the Agent authorized by the Owner to file the application. If there is no Agent, all communication is with the Applicant.\n",
       "\n",
       "## Applicant\n",
       "| Name: | Cindy Prince | Contact: Cindy Prince |  |\n",
       "| :--: | :--: | :--: | :--: |\n",
       "| Address: | 3240 McCormick Road |  |  |\n",
       "| Address: | Harrow Ontario |  | Postal Code: N0R1G0 |\n",
       "| Phone: | 5197966400 | Fax: |  |\n",
       "| Email: | cindy/prince@amico.build |  |  |\n",
       "\n"
      ],
      "text/plain": [
       "<IPython.core.display.Markdown object>"
      ]
     },
     "metadata": {},
     "output_type": "display_data"
    },
    {
     "name": "stdout",
     "output_type": "stream",
     "text": [
      "---------------\n"
     ]
    },
    {
     "data": {
      "text/markdown": [
       "## Registered Owner $\\square$ Same as Applicant\n",
       "\n",
       "Name: $\\quad$| Kushal and Krupa Dighe | Contact: |\n",
       "| :-- | :-- | :-- | :-- | :-- | :-- | :-- | :-- | :-- | :-- |\n",
       "| Address: | 3589 Victoria Boulevard |  |  |\n",
       "| Address: | Windsor Ontario |  | Postal Code: N9E3L4 |\n",
       "| Phone: | na | Fax: na |  |\n",
       "| Email: | na |  |  |\n",
       "\n",
       "Agent Authorized by the Owner to File the Application (Also complete Section A1 in Schedule A)\n",
       "Name: Cindy Prince\n",
       "Contact: Cindy Prince\n",
       "Address: 3240 McCormick Road\n",
       "Address: Harrow, Ontario\n",
       "Postal "
      ],
      "text/plain": [
       "<IPython.core.display.Markdown object>"
      ]
     },
     "metadata": {},
     "output_type": "display_data"
    },
    {
     "name": "stdout",
     "output_type": "stream",
     "text": [
      "---------------\n"
     ]
    },
    {
     "data": {
      "text/markdown": [
       "E3L4 |\n",
       "| Phone: | na | Fax: na |  |\n",
       "| Email: | na |  |  |\n",
       "\n",
       "Agent Authorized by the Owner to File the Application (Also complete Section A1 in Schedule A)\n",
       "Name: Cindy Prince\n",
       "Contact: Cindy Prince\n",
       "Address: 3240 McCormick Road\n",
       "Address: Harrow, Ontario\n",
       "Postal Code: N0R1G0\n",
       "Phone: 5197966400\n",
       "Fax: $\\qquad$\n",
       "Email: cindy.prince@amico.build\n",
       "\n",
       "## 4. COMPANION APPLICATIONS\n",
       "\n",
       "Are you submitting a companion Official Plan Amendment application?\n",
       "NO\n",
       "YES $\\square$\n",
       "Are you submitting a companion Plan of Subdivision/Condominium "
      ],
      "text/plain": [
       "<IPython.core.display.Markdown object>"
      ]
     },
     "metadata": {},
     "output_type": "display_data"
    },
    {
     "name": "stdout",
     "output_type": "stream",
     "text": [
      "---------------\n"
     ]
    },
    {
     "data": {
      "text/markdown": [
       "Code: N0R1G0\n",
       "Phone: 5197966400\n",
       "Fax: $\\qquad$\n",
       "Email: cindy.prince@amico.build\n",
       "\n",
       "## 4. COMPANION APPLICATIONS\n",
       "\n",
       "Are you submitting a companion Official Plan Amendment application?\n",
       "NO\n",
       "YES $\\square$\n",
       "Are you submitting a companion Plan of Subdivision/Condominium application?\n",
       "NO\n",
       "YES $\\square$\n",
       "Please note that if a development proposal requires site plan approval, that application can only be submitted after the zoning amendment has been considered by City Council and the appeal period has concluded.\n",
       "application?\n",
       "NO\n",
       "YES $\\square$\n",
       "Please note that if a development proposal requires site plan approval, that application can only be submitted after the zoning amendment has been considered by City Council and the appeal period has concluded.\n",
       "# ZONING BY-LAW AMENDMENT APPLICATION \n",
       "\n",
       "## 5. SUBJECT LAND INFORMATION\n",
       "\n"
      ],
      "text/plain": [
       "<IPython.core.display.Markdown object>"
      ]
     },
     "metadata": {},
     "output_type": "display_data"
    },
    {
     "name": "stdout",
     "output_type": "stream",
     "text": [
      "---------------\n"
     ]
    },
    {
     "data": {
      "text/markdown": [
       "| Municipal <br> Address | 3589 Victoria Boulevard |\n",
       "| :--: | :--: |\n",
       "|  | Windsor Ontario |\n",
       "| Legal <br> Description | Plan 1124, S Part Lot 223 N Part Lot 225 |\n",
       "| Assessment <br> Roll Number | 373908005009200 |\n",
       "| If known, the date the subject land was acquired by the current owner: |  |\n",
       "| Frontage (m) | 30.48 Depth (m) 45.72 Area (sq m) 1393 square metres |\n",
       "| Official Plan <br> Designation | Residential |\n",
       "| Current <br> Zoning | Residential RD1.4 |\n",
       "| Existing Uses | Vacant residential. Single unit dwelling recently demolished. |"
      ],
      "text/plain": [
       "<IPython.core.display.Markdown object>"
      ]
     },
     "metadata": {},
     "output_type": "display_data"
    },
    {
     "name": "stdout",
     "output_type": "stream",
     "text": [
      "---------------\n"
     ]
    },
    {
     "data": {
      "text/markdown": [
       "If known, the lengths of time that the existing uses have continued: $\\qquad$ since 1964. Demolition within the last two years\n",
       "Previous Uses $\\qquad$\n",
       "List the names and addresses of the holders of any mortgages, charges, or other encumbrances in respect of the subject land:\n",
       "\n",
       "## No mortgage\n",
       "\n",
       "Are there any easements or restrictive covenants affecting the subject lands? NO $\\square$ YES $\\qquad$\n",
       "If yes, describe the easement or restrictive covenant and its effect:\n",
       "\n",
       "If known, has the subject land ever been subj"
      ],
      "text/plain": [
       "<IPython.core.display.Markdown object>"
      ]
     },
     "metadata": {},
     "output_type": "display_data"
    },
    {
     "name": "stdout",
     "output_type": "stream",
     "text": [
      "---------------\n"
     ]
    },
    {
     "data": {
      "text/markdown": [
       " the subject land:\n",
       "\n",
       "## No mortgage\n",
       "\n",
       "Are there any easements or restrictive covenants affecting the subject lands? NO $\\square$ YES $\\qquad$\n",
       "If yes, describe the easement or restrictive covenant and its effect:\n",
       "\n",
       "If known, has the subject land ever been subject of: (leave blank if unknown)\n",
       "An application for a Plan of Subdivision or Consent: NO $\\square$ YES $\\square$ File: $\\qquad$\n",
       "An application for an amendment to a Zoning By-law: NO $\\square$ YES $\\square$ File: $\\qquad$\n",
       "An application for approval of a S"
      ],
      "text/plain": [
       "<IPython.core.display.Markdown object>"
      ]
     },
     "metadata": {},
     "output_type": "display_data"
    },
    {
     "name": "stdout",
     "output_type": "stream",
     "text": [
      "---------------\n"
     ]
    },
    {
     "data": {
      "text/markdown": [
       "ect of: (leave blank if unknown)\n",
       "An application for a Plan of Subdivision or Consent: NO $\\square$ YES $\\square$ File: $\\qquad$\n",
       "An application for an amendment to a Zoning By-law: NO $\\square$ YES $\\square$ File: $\\qquad$\n",
       "An application for approval of a Site Plan: NO $\\square$ YES $\\square$ SPC- $\\qquad$\n",
       "A Minister's Zoning Order (Ontario Regulation): NO $\\square$ YES $\\square$ OR\\#: $\\qquad$\n",
       "ite Plan: NO $\\square$ YES $\\square$ SPC- $\\qquad$\n",
       "A Minister's Zoning Order (Ontario Regulation): NO $\\square$ YES $\\square$ OR\\#: $\\qquad$\n"
      ],
      "text/plain": [
       "<IPython.core.display.Markdown object>"
      ]
     },
     "metadata": {},
     "output_type": "display_data"
    },
    {
     "name": "stdout",
     "output_type": "stream",
     "text": [
      "---------------\n"
     ]
    },
    {
     "data": {
      "text/markdown": [
       "# ZONING BY-LAW AMENDMENT APPLICATION \n",
       "\n",
       "## 6. DESCRIPTION OF AMENDMENT\n",
       "\n",
       "Amendment to Zoning By-law from: RD1.4\n",
       "to: RD1.4 with special provisions\n",
       "Proposed uses of subject land: Residential single unit dwelliling\n",
       "\n",
       "Describe the nature and extent of the amendment(s) being requested:\n",
       "In the RD1.4 zone, the maximum allowable building height is 9.0 metres. This proposal is to permit a maximum building height of 9.75 metres.\n",
       "In addition, the maximum gross floor area in the RD1.4 zone is 400 square metres.\n",
       "This prop"
      ],
      "text/plain": [
       "<IPython.core.display.Markdown object>"
      ]
     },
     "metadata": {},
     "output_type": "display_data"
    },
    {
     "name": "stdout",
     "output_type": "stream",
     "text": [
      "---------------\n"
     ]
    },
    {
     "data": {
      "text/markdown": [
       "ent(s) being requested:\n",
       "In the RD1.4 zone, the maximum allowable building height is 9.0 metres. This proposal is to permit a maximum building height of 9.75 metres.\n",
       "In addition, the maximum gross floor area in the RD1.4 zone is 400 square metres.\n",
       "This proposal is to permit a maximum gross floor area of 647 square metres.\n",
       "\n",
       "Why is this amendment or these amendments being requested?\n",
       "To allow for the construction of a new home that is consistent with the size and quality of the existing neighbourhood.\n",
       "\n",
       "Explain "
      ],
      "text/plain": [
       "<IPython.core.display.Markdown object>"
      ]
     },
     "metadata": {},
     "output_type": "display_data"
    },
    {
     "name": "stdout",
     "output_type": "stream",
     "text": [
      "---------------\n"
     ]
    },
    {
     "data": {
      "text/markdown": [
       "osal is to permit a maximum gross floor area of 647 square metres.\n",
       "\n",
       "Why is this amendment or these amendments being requested?\n",
       "To allow for the construction of a new home that is consistent with the size and quality of the existing neighbourhood.\n",
       "\n",
       "Explain how the amendment to the Zoning By-law is consistent with the Provincial Policy Statement:\n",
       "$\\square$ See Planning Rationale Report\n",
       "Redevelopment in a fully serviced area within the urban boundary.\n",
       "\n",
       "Explain how the application conforms to the City of Windso"
      ],
      "text/plain": [
       "<IPython.core.display.Markdown object>"
      ]
     },
     "metadata": {},
     "output_type": "display_data"
    },
    {
     "name": "stdout",
     "output_type": "stream",
     "text": [
      "---------------\n"
     ]
    },
    {
     "data": {
      "text/markdown": [
       "how the amendment to the Zoning By-law is consistent with the Provincial Policy Statement:\n",
       "$\\square$ See Planning Rationale Report\n",
       "Redevelopment in a fully serviced area within the urban boundary.\n",
       "\n",
       "Explain how the application conforms to the City of Windsor Official Plan:\n",
       "$\\square$ See Planning Rationale Report The Official Plan designates the subject property for residential use.\n",
       "\n",
       "If this application is to remove land from an area of employment, details of the official plan or official plan amendment that \n",
       "r Official Plan:\n",
       "$\\square$ See Planning Rationale Report The Official Plan designates the subject property for residential use.\n",
       "\n",
       "If this application is to remove land from an area of employment, details of the official plan or official plan amendment that deals with this matter:\n",
       "$\\square$ See Planning Rationale Report\n",
       "$\\square$ See Official Plan Amendment\n",
       "na\n",
       "deals with this matter:\n",
       "$\\square$ See Planning Rationale Report\n",
       "$\\square$ See Official Plan Amendment\n",
       "na\n",
       "\n"
      ],
      "text/plain": [
       "<IPython.core.display.Markdown object>"
      ]
     },
     "metadata": {},
     "output_type": "display_data"
    },
    {
     "name": "stdout",
     "output_type": "stream",
     "text": [
      "---------------\n"
     ]
    },
    {
     "data": {
      "text/markdown": [
       "# ZONING BY-LAW AMENDMENT APPLICATION \n",
       "\n",
       "## 7. EXISTING BUILDINGS / STRUCTURES ON SUBJECT LAND\n",
       "\n",
       "Are there any buildings or structures on the subject land?\n",
       "NO Continue to Section 8\n",
       "$\\square$ YES Indicate the type of building or structure, the date of construction (if known), and, in metric units, the setback from the front lot line, rear lot line and side lot lines, the height of the building or structure and its dimensions or floor area.\n",
       "\n",
       "See attached Existing Plan or Sketch of Subject Land\n",
       "\n",
       "## Currently vac"
      ],
      "text/plain": [
       "<IPython.core.display.Markdown object>"
      ]
     },
     "metadata": {},
     "output_type": "display_data"
    },
    {
     "name": "stdout",
     "output_type": "stream",
     "text": [
      "---------------\n"
     ]
    },
    {
     "data": {
      "text/markdown": [
       "ction (if known), and, in metric units, the setback from the front lot line, rear lot line and side lot lines, the height of the building or structure and its dimensions or floor area.\n",
       "\n",
       "See attached Existing Plan or Sketch of Subject Land\n",
       "\n",
       "## Currently vacant.\n",
       "\n",
       "## 8. PROPOSED BUILDINGS / STRUCTURES ON SUBJECT LAND\n",
       "\n",
       "Do you propose to build any buildings or structures on the subject land?\n",
       "$\\square$ NO Continue to Section 9\n",
       "YES Indicate the type of building or structure and, in metric units, the setback from t"
      ],
      "text/plain": [
       "<IPython.core.display.Markdown object>"
      ]
     },
     "metadata": {},
     "output_type": "display_data"
    },
    {
     "name": "stdout",
     "output_type": "stream",
     "text": [
      "---------------\n"
     ]
    },
    {
     "data": {
      "text/markdown": [
       "ant.\n",
       "\n",
       "## 8. PROPOSED BUILDINGS / STRUCTURES ON SUBJECT LAND\n",
       "\n",
       "Do you propose to build any buildings or structures on the subject land?\n",
       "$\\square$ NO Continue to Section 9\n",
       "YES Indicate the type of building or structure and, in metric units, the setback from the front lot line, rear lot line and side lot lines, the height of the building or structure, and its dimensions or floor area.\n",
       "\n",
       "See attached concept plan\n",
       "\n",
       "New single unit dwelling with setbacks as follows:\n",
       "Front Yard 11.6 metres\n",
       "Rear Yard 11.6 metres\n",
       "Side\n",
       "he front lot line, rear lot line and side lot lines, the height of the building or structure, and its dimensions or floor area.\n",
       "\n",
       "See attached concept plan\n",
       "\n",
       "New single unit dwelling with setbacks as follows:\n",
       "Front Yard 11.6 metres\n",
       "Rear Yard 11.6 metres\n",
       "Side Yard 1.8 metres and 4.8 metres\n",
       " Yard 1.8 metres and 4.8 metres\n",
       "\n"
      ],
      "text/plain": [
       "<IPython.core.display.Markdown object>"
      ]
     },
     "metadata": {},
     "output_type": "display_data"
    },
    {
     "name": "stdout",
     "output_type": "stream",
     "text": [
      "---------------\n"
     ]
    },
    {
     "data": {
      "text/markdown": [
       "# ZONING BY-LAW AMENDMENT APPLICATION \n",
       "\n",
       "## 9. ACCESS TO SUBJECT LAND\n",
       "\n",
       "Indicate if access to subject land is by: (check all that apply)\n",
       "$\\square$ Municipal Road $\\square$ Provincial Highway $\\square$ Another public road or a right-of-way\n",
       "$\\square$ Water - If access to the subject land is by water only, describe the parking and docking facilities used or to be used and provide the approximate distance in metric of these facilities from the subject land and the nearest public road:\n",
       "\n",
       "## 10. WATER, SANITARY SEWA"
      ],
      "text/plain": [
       "<IPython.core.display.Markdown object>"
      ]
     },
     "metadata": {},
     "output_type": "display_data"
    },
    {
     "name": "stdout",
     "output_type": "stream",
     "text": [
      "---------------\n"
     ]
    },
    {
     "data": {
      "text/markdown": [
       "f access to the subject land is by water only, describe the parking and docking facilities used or to be used and provide the approximate distance in metric of these facilities from the subject land and the nearest public road:\n",
       "\n",
       "## 10. WATER, SANITARY SEWAGE AND STORM DRAINAGE\n",
       "\n",
       "WATER - Indicate whether water will be provided to the subject land by:\n",
       "$\\square$ Publicly owned \\& operated piped water system\n",
       "$\\square$ Privately owned \\& operated individual well\n",
       "$\\square$ Privately owned \\& operated communal well"
      ],
      "text/plain": [
       "<IPython.core.display.Markdown object>"
      ]
     },
     "metadata": {},
     "output_type": "display_data"
    },
    {
     "name": "stdout",
     "output_type": "stream",
     "text": [
      "---------------\n"
     ]
    },
    {
     "data": {
      "text/markdown": [
       "GE AND STORM DRAINAGE\n",
       "\n",
       "WATER - Indicate whether water will be provided to the subject land by:\n",
       "$\\square$ Publicly owned \\& operated piped water system\n",
       "$\\square$ Privately owned \\& operated individual well\n",
       "$\\square$ Privately owned \\& operated communal well\n",
       "$\\square$ Other\n",
       "\n",
       "SANITARY - Indicate whether sewage disposal will be provided to the subject land by:\n",
       "$\\square$ Publicly owned \\& operated sanitary sewage system\n",
       "$\\square$ Privately owned \\& operated individual septic system - See Note below\n",
       "$\\square$ Pri"
      ],
      "text/plain": [
       "<IPython.core.display.Markdown object>"
      ]
     },
     "metadata": {},
     "output_type": "display_data"
    },
    {
     "name": "stdout",
     "output_type": "stream",
     "text": [
      "---------------\n"
     ]
    },
    {
     "data": {
      "text/markdown": [
       "\n",
       "$\\square$ Other\n",
       "\n",
       "SANITARY - Indicate whether sewage disposal will be provided to the subject land by:\n",
       "$\\square$ Publicly owned \\& operated sanitary sewage system\n",
       "$\\square$ Privately owned \\& operated individual septic system - See Note below\n",
       "$\\square$ Privately owned \\& operated communal septic system - See Note below\n",
       "$\\square$ Other $\\qquad$\n",
       "Note: If the application would permit development on privately owned and operated individual or communal septic systems, and more than 4,500 litres of effluent would "
      ],
      "text/plain": [
       "<IPython.core.display.Markdown object>"
      ]
     },
     "metadata": {},
     "output_type": "display_data"
    },
    {
     "name": "stdout",
     "output_type": "stream",
     "text": [
      "---------------\n"
     ]
    },
    {
     "data": {
      "text/markdown": [
       "vately owned \\& operated communal septic system - See Note below\n",
       "$\\square$ Other $\\qquad$\n",
       "Note: If the application would permit development on privately owned and operated individual or communal septic systems, and more than 4,500 litres of effluent would be produced per day as a result of the development being completed, you must submit a Servicing Options Report and a Hydrogeological Report.\n",
       "\n",
       "STORM DRAINAGE - Indicate whether storm drainage will be provided by:\n",
       "$\\square$ Sewers\n",
       "$\\square$ Ditches\n",
       "$\\square$\n",
       "be produced per day as a result of the development being completed, you must submit a Servicing Options Report and a Hydrogeological Report.\n",
       "\n",
       "STORM DRAINAGE - Indicate whether storm drainage will be provided by:\n",
       "$\\square$ Sewers\n",
       "$\\square$ Ditches\n",
       "$\\square$ Swales\n",
       "$\\square$ Other\n",
       " Swales\n",
       "$\\square$ Other\n",
       "\n"
      ],
      "text/plain": [
       "<IPython.core.display.Markdown object>"
      ]
     },
     "metadata": {},
     "output_type": "display_data"
    },
    {
     "name": "stdout",
     "output_type": "stream",
     "text": [
      "---------------\n"
     ]
    },
    {
     "data": {
      "text/markdown": [
       "# ZONING BY-LAW AMENDMENT APPLICATION \n",
       "\n",
       "## 11. SKETCH OF SUBJECT LAND\n",
       "\n",
       "Provide a sketch showing, in metric units,\n",
       "a) the boundaries and dimensions of the subject land;\n",
       "b) the location, size, and type of all existing and proposed buildings and structures on the subject land, including their distance from the front lot line, rear lot line, and side lines;\n",
       "c) the approximate location of all natural and artificial features (for example, buildings, railways, roads, watercourses, drainage ditches, banks of rivers"
      ],
      "text/plain": [
       "<IPython.core.display.Markdown object>"
      ]
     },
     "metadata": {},
     "output_type": "display_data"
    },
    {
     "name": "stdout",
     "output_type": "stream",
     "text": [
      "---------------\n"
     ]
    },
    {
     "data": {
      "text/markdown": [
       " the subject land, including their distance from the front lot line, rear lot line, and side lines;\n",
       "c) the approximate location of all natural and artificial features (for example, buildings, railways, roads, watercourses, drainage ditches, banks of rivers or streams, wetlands, wooded areas, wells and septic tanks) that are located on the subject land and on land that is adjacent to it, and in the applicant's opinion, may affect the application;\n",
       "d) the current uses of all land that is adjacent to the subjec"
      ],
      "text/plain": [
       "<IPython.core.display.Markdown object>"
      ]
     },
     "metadata": {},
     "output_type": "display_data"
    },
    {
     "name": "stdout",
     "output_type": "stream",
     "text": [
      "---------------\n"
     ]
    },
    {
     "data": {
      "text/markdown": [
       " or streams, wetlands, wooded areas, wells and septic tanks) that are located on the subject land and on land that is adjacent to it, and in the applicant's opinion, may affect the application;\n",
       "d) the current uses of all land that is adjacent to the subject land;\n",
       "e) the location, width and name of any roads within or abutting the subject land, indicating whether it is an unopened road allowance, a public travelled road, a private road, or a right of way;\n",
       "f) if access to the subject land will be water only, "
      ],
      "text/plain": [
       "<IPython.core.display.Markdown object>"
      ]
     },
     "metadata": {},
     "output_type": "display_data"
    },
    {
     "name": "stdout",
     "output_type": "stream",
     "text": [
      "---------------\n"
     ]
    },
    {
     "data": {
      "text/markdown": [
       "t land;\n",
       "e) the location, width and name of any roads within or abutting the subject land, indicating whether it is an unopened road allowance, a public travelled road, a private road, or a right of way;\n",
       "f) if access to the subject land will be water only, the location of the parking and docking facilities to be used; and\n",
       "g) the location and nature of any easement affecting the subject land.\n",
       "\n",
       "## 12. APPLICATION FEE \\& OTHER FEES\n",
       "\n",
       "The amendment type and corresponding application fees are identified in the Pla"
      ],
      "text/plain": [
       "<IPython.core.display.Markdown object>"
      ]
     },
     "metadata": {},
     "output_type": "display_data"
    },
    {
     "name": "stdout",
     "output_type": "stream",
     "text": [
      "---------------\n"
     ]
    },
    {
     "data": {
      "text/markdown": [
       "the location of the parking and docking facilities to be used; and\n",
       "g) the location and nature of any easement affecting the subject land.\n",
       "\n",
       "## 12. APPLICATION FEE \\& OTHER FEES\n",
       "\n",
       "The amendment type and corresponding application fees are identified in the Planning Consultation Stage 2 process.\n",
       "Fees may be subject to change and are not refundable once the application is deemed complete. Method of payment: Cash, Mastercard, Visa or Certified Cheque or Personal Cheque payable to The Corporation of the City of Win"
      ],
      "text/plain": [
       "<IPython.core.display.Markdown object>"
      ]
     },
     "metadata": {},
     "output_type": "display_data"
    },
    {
     "name": "stdout",
     "output_type": "stream",
     "text": [
      "---------------\n"
     ]
    },
    {
     "data": {
      "text/markdown": [
       "nning Consultation Stage 2 process.\n",
       "Fees may be subject to change and are not refundable once the application is deemed complete. Method of payment: Cash, Mastercard, Visa or Certified Cheque or Personal Cheque payable to The Corporation of the City of Windsor. If paying by Mastercard or Visa, contact the Senior Steno Clerk for further direction at planningdept@citywindsor.ca or $519-255-6543$.\n",
       "\n",
       "## APPLICATION FEE\n",
       "\n",
       "Amendment Type\n",
       "Base Fee\n",
       "GIS Fee\n",
       "Essex Region Conservation Authority Fee\n",
       "Total Application Fee\n",
       "dsor. If paying by Mastercard or Visa, contact the Senior Steno Clerk for further direction at planningdept@citywindsor.ca or $519-255-6543$.\n",
       "\n",
       "## APPLICATION FEE\n",
       "\n",
       "Amendment Type\n",
       "Base Fee\n",
       "GIS Fee\n",
       "Essex Region Conservation Authority Fee\n",
       "Total Application Fee\n",
       "| Code | $\\square$ Minor Rezoning | $\\square$ Major Rezoning |\n",
       "| :--: | :--: | :--: |\n",
       "| 53001 | $\\$ 4,347.00$ | $\\$ 5,837.40$ |\n",
       "| + $\\$ 50.00$ | $+\\quad \\$ 50.00$ |  |\n",
       "| + $\\$ 200.00$ | $+\\quad \\$ 300.00$ |  |\n",
       "| $=$ $\\$ 4,597.00$ | $=\\$ 6,187.40$ |  |\n",
       "\n"
      ],
      "text/plain": [
       "<IPython.core.display.Markdown object>"
      ]
     },
     "metadata": {},
     "output_type": "display_data"
    },
    {
     "name": "stdout",
     "output_type": "stream",
     "text": [
      "---------------\n"
     ]
    },
    {
     "data": {
      "text/markdown": [
       "The following fees are provided for information purposes. They are not due at this time but may be assessed depending on the type(s) of applications associated with the development proposal\n",
       "\n",
       "## OTHER FEES\n",
       "\n",
       "Re-Notification/Deferral Fee\n",
       "Code 53016\n",
       "$\\$ 2,258.40$\n",
       "Required when an applicant requests a deferral after notice of a public meeting has been given.\n",
       "Legal Fee - Servicing Agreement\n",
       "Code 63002\n",
       "$\\$ 597.64$ plus $\\$ 50$ per unit, lot, or block\n",
       "Required when the preparation of a servicing agreement is a cond"
      ],
      "text/plain": [
       "<IPython.core.display.Markdown object>"
      ]
     },
     "metadata": {},
     "output_type": "display_data"
    },
    {
     "name": "stdout",
     "output_type": "stream",
     "text": [
      "---------------\n"
     ]
    },
    {
     "data": {
      "text/markdown": [
       "40$\n",
       "Required when an applicant requests a deferral after notice of a public meeting has been given.\n",
       "Legal Fee - Servicing Agreement\n",
       "Code 63002\n",
       "$\\$ 597.64$ plus $\\$ 50$ per unit, lot, or block\n",
       "Required when the preparation of a servicing agreement is a condition of approval.\n",
       "Removal of the Holding Symbol Application Code 53001\n",
       "$\\$ 1,536.00$\n",
       "It is the responsibility of the property owner to satisfy the conditions to remove the holding symbol and to apply and fee to remove the holding symbol.\n",
       "Ontario Land Trib"
      ],
      "text/plain": [
       "<IPython.core.display.Markdown object>"
      ]
     },
     "metadata": {},
     "output_type": "display_data"
    },
    {
     "name": "stdout",
     "output_type": "stream",
     "text": [
      "---------------\n"
     ]
    },
    {
     "data": {
      "text/markdown": [
       "ition of approval.\n",
       "Removal of the Holding Symbol Application Code 53001\n",
       "$\\$ 1,536.00$\n",
       "It is the responsibility of the property owner to satisfy the conditions to remove the holding symbol and to apply and fee to remove the holding symbol.\n",
       "Ontario Land Tribunal (OLT) Appeal Fee\n",
       "$\\$ 1,100.00$\n",
       "An appeal is made through Council Services (519-255-6211 or clerks@citywindsor.ca). Fees, forms, and processes are subject to change. Visit https://olt.gov.on.ca for additional information\n",
       "unal (OLT) Appeal Fee\n",
       "$\\$ 1,100.00$\n",
       "An appeal is made through Council Services (519-255-6211 or clerks@citywindsor.ca). Fees, forms, and processes are subject to change. Visit https://olt.gov.on.ca for additional information\n"
      ],
      "text/plain": [
       "<IPython.core.display.Markdown object>"
      ]
     },
     "metadata": {},
     "output_type": "display_data"
    },
    {
     "name": "stdout",
     "output_type": "stream",
     "text": [
      "---------------\n"
     ]
    },
    {
     "data": {
      "text/markdown": [
       "# ZONING BY-LAW AMENDMENT APPLICATION \n",
       "\n",
       "## 13. PROPOSED PUBLIC CONSULTATION STRATEGY\n",
       "\n",
       "Select or describe your proposed strategy for consulting with the public with respect to the application:\n",
       "$\\square$ Required Public Consultation (Public Notice \\& Public Meeting as required per the Planning Act)\n",
       "$\\square$ Open House $\\square$ Website\n",
       "Other $\\qquad$\n",
       "\n",
       "## 14. SWORN DECLARATION OF APPLICANT\n",
       "\n",
       "Complete in the presence of a Commissioner for Taking Affidavits. If the declaration is to be administered remotely, you"
      ],
      "text/plain": [
       "<IPython.core.display.Markdown object>"
      ]
     },
     "metadata": {},
     "output_type": "display_data"
    },
    {
     "name": "stdout",
     "output_type": "stream",
     "text": [
      "---------------\n"
     ]
    },
    {
     "data": {
      "text/markdown": [
       "Meeting as required per the Planning Act)\n",
       "$\\square$ Open House $\\square$ Website\n",
       "Other $\\qquad$\n",
       "\n",
       "## 14. SWORN DECLARATION OF APPLICANT\n",
       "\n",
       "Complete in the presence of a Commissioner for Taking Affidavits. If the declaration is to be administered remotely, you must be able to see, hear and communicate with the Commissioner and show documentation that confirms your identity.\n",
       "\n",
       "## 1.Cindy Prince\n",
       "\n",
       ", solemnly declare that the information required under\n",
       "Schedule 1 to Ontario Regulation 545/06 and provided by the appl"
      ],
      "text/plain": [
       "<IPython.core.display.Markdown object>"
      ]
     },
     "metadata": {},
     "output_type": "display_data"
    },
    {
     "name": "stdout",
     "output_type": "stream",
     "text": [
      "---------------\n"
     ]
    },
    {
     "data": {
      "text/markdown": [
       " must be able to see, hear and communicate with the Commissioner and show documentation that confirms your identity.\n",
       "\n",
       "## 1.Cindy Prince\n",
       "\n",
       ", solemnly declare that the information required under\n",
       "Schedule 1 to Ontario Regulation 545/06 and provided by the applicant is accurate and that the information contained in the documents that accompany this application is accurate, that if this declaration was administered remotely that it was in accordance with Ontario Regulation 431/20, and I make this solemn declarati"
      ],
      "text/plain": [
       "<IPython.core.display.Markdown object>"
      ]
     },
     "metadata": {},
     "output_type": "display_data"
    },
    {
     "name": "stdout",
     "output_type": "stream",
     "text": [
      "---------------\n"
     ]
    },
    {
     "data": {
      "text/markdown": [
       "icant is accurate and that the information contained in the documents that accompany this application is accurate, that if this declaration was administered remotely that it was in accordance with Ontario Regulation 431/20, and I make this solemn declaration conscientiously believing it to be true, and knowing that it is of the same force and effect as if made under oath.\n",
       "![img-1.jpeg](img-1.jpeg)\n",
       "\n",
       "Signature of Applicant\n",
       "Sign in the presence of a Commissioner For Taking Affidavits\n",
       "\n",
       "## Town of Tecumseh\n",
       "\n",
       "Loca"
      ],
      "text/plain": [
       "<IPython.core.display.Markdown object>"
      ]
     },
     "metadata": {},
     "output_type": "display_data"
    },
    {
     "name": "stdout",
     "output_type": "stream",
     "text": [
      "---------------\n"
     ]
    },
    {
     "data": {
      "text/markdown": [
       "on conscientiously believing it to be true, and knowing that it is of the same force and effect as if made under oath.\n",
       "![img-1.jpeg](img-1.jpeg)\n",
       "\n",
       "Signature of Applicant\n",
       "Sign in the presence of a Commissioner For Taking Affidavits\n",
       "\n",
       "## Town of Tecumseh\n",
       "\n",
       "Location of Applicant at time of declaration\n",
       "\n",
       "This declaration was administered remotely in accordance with Ontario Regulation 431/20\n",
       "![img-2.jpeg](img-2.jpeg)\n",
       "this $\\underline{27 \\text { th }}$ day of February $\\quad 2024$\n",
       "![img-3.jpeg](img-3.jpeg)\n",
       "\n",
       "## READ \\\n",
       "tion of Applicant at time of declaration\n",
       "\n",
       "This declaration was administered remotely in accordance with Ontario Regulation 431/20\n",
       "![img-2.jpeg](img-2.jpeg)\n",
       "this $\\underline{27 \\text { th }}$ day of February $\\quad 2024$\n",
       "![img-3.jpeg](img-3.jpeg)\n",
       "\n",
       "## READ \\& COMPLETE SCHEDULES A \\& E IN FULL \\& SIGN\n",
       "& COMPLETE SCHEDULES A \\& E IN FULL \\& SIGN\n",
       "\n"
      ],
      "text/plain": [
       "<IPython.core.display.Markdown object>"
      ]
     },
     "metadata": {},
     "output_type": "display_data"
    },
    {
     "name": "stdout",
     "output_type": "stream",
     "text": [
      "---------------\n"
     ]
    },
    {
     "data": {
      "text/markdown": [
       "# ZONING BY-LAW AMENDMENT APPLICATION \n",
       "\n",
       "## SCHEDULE A - Authorizations \\& Acknowledgements\n",
       "\n",
       "## A1. Authorization of Registered Owner for Agent to Make the Application\n",
       "\n",
       "If the applicant is not the registered owner of the land that is the subject of this application, the written authorization of the registered owner that the agent is authorized to make the application must be included with this application form or the authorization below must be completed.\n",
       "\n",
       "## Kushal Dighe\n",
       "\n",
       "Name of Registered Owner\n",
       "subject of"
      ],
      "text/plain": [
       "<IPython.core.display.Markdown object>"
      ]
     },
     "metadata": {},
     "output_type": "display_data"
    },
    {
     "name": "stdout",
     "output_type": "stream",
     "text": [
      "---------------\n"
     ]
    },
    {
     "data": {
      "text/markdown": [
       "lication, the written authorization of the registered owner that the agent is authorized to make the application must be included with this application form or the authorization below must be completed.\n",
       "\n",
       "## Kushal Dighe\n",
       "\n",
       "Name of Registered Owner\n",
       "subject of this application for an amendment to the City of Windsor Zoning By-law and I authorize\n",
       "\n",
       "## Cindy Prince\n",
       "\n",
       "![img-4.jpeg](img-4.jpeg)\n",
       "\n",
       "Signature of Registered Owner\n",
       "to make this application on my behalf.\n",
       "\n",
       "## February 27th, 2024\n",
       "\n",
       "Date\n",
       "\n",
       "If Corporation - I have"
      ],
      "text/plain": [
       "<IPython.core.display.Markdown object>"
      ]
     },
     "metadata": {},
     "output_type": "display_data"
    },
    {
     "name": "stdout",
     "output_type": "stream",
     "text": [
      "---------------\n"
     ]
    },
    {
     "data": {
      "text/markdown": [
       " this application for an amendment to the City of Windsor Zoning By-law and I authorize\n",
       "\n",
       "## Cindy Prince\n",
       "\n",
       "![img-4.jpeg](img-4.jpeg)\n",
       "\n",
       "Signature of Registered Owner\n",
       "to make this application on my behalf.\n",
       "\n",
       "## February 27th, 2024\n",
       "\n",
       "Date\n",
       "\n",
       "If Corporation - I have authority to bind the corporation\n",
       "\n",
       "## A2. Authorization to Enter Upon the Subject Lands and Premises 1 Kushal Dighe\n",
       "\n",
       "Name of Registered Owner\n",
       "hereby authorize the Development and Heritage Standing Committee or their successor, City Council, and staff of T"
      ],
      "text/plain": [
       "<IPython.core.display.Markdown object>"
      ]
     },
     "metadata": {},
     "output_type": "display_data"
    },
    {
     "name": "stdout",
     "output_type": "stream",
     "text": [
      "---------------\n"
     ]
    },
    {
     "data": {
      "text/markdown": [
       " authority to bind the corporation\n",
       "\n",
       "## A2. Authorization to Enter Upon the Subject Lands and Premises 1 Kushal Dighe\n",
       "\n",
       "Name of Registered Owner\n",
       "hereby authorize the Development and Heritage Standing Committee or their successor, City Council, and staff of The Corporation of the City of Windsor to enter upon the subject lands and premises described in Section 5 of the application form for the purpose of evaluating the merits of this application and subsequently to conduct any inspections on the subject lands "
      ],
      "text/plain": [
       "<IPython.core.display.Markdown object>"
      ]
     },
     "metadata": {},
     "output_type": "display_data"
    },
    {
     "name": "stdout",
     "output_type": "stream",
     "text": [
      "---------------\n"
     ]
    },
    {
     "data": {
      "text/markdown": [
       "he Corporation of the City of Windsor to enter upon the subject lands and premises described in Section 5 of the application form for the purpose of evaluating the merits of this application and subsequently to conduct any inspections on the subject lands that may be required as a condition of approval. This is their authority for doing so.\n",
       "![img-5.jpeg](img-5.jpeg)\n",
       "\n",
       "Signature of Registered Owner\n",
       "\n",
       "## February 27, 2024\n",
       "\n",
       "Date\n",
       "\n",
       "If Corporation - I have authority to bind the corporation\n",
       "\n",
       "## SCHEDULE A CONTINUES \n",
       "that may be required as a condition of approval. This is their authority for doing so.\n",
       "![img-5.jpeg](img-5.jpeg)\n",
       "\n",
       "Signature of Registered Owner\n",
       "\n",
       "## February 27, 2024\n",
       "\n",
       "Date\n",
       "\n",
       "If Corporation - I have authority to bind the corporation\n",
       "\n",
       "## SCHEDULE A CONTINUES ON NEXT PAGE\n",
       "ON NEXT PAGE\n",
       "\n"
      ],
      "text/plain": [
       "<IPython.core.display.Markdown object>"
      ]
     },
     "metadata": {},
     "output_type": "display_data"
    },
    {
     "name": "stdout",
     "output_type": "stream",
     "text": [
      "---------------\n"
     ]
    },
    {
     "data": {
      "text/markdown": [
       "# ZONING BY-LAW AMENDMENT APPLICATION \n",
       "\n",
       "## SCHEDULE A - Authorizations \\& Acknowledgements - Continued\n",
       "\n",
       "## A3. Acknowledgements\n",
       "\n",
       "## Receipt, Fees, Additional Information, Termination, and Freedom of Information\n",
       "\n",
       "I acknowledge that receipt of this application by the City of Windsor does not guarantee it to be a complete application, that further review of the application will occur, and that I may be contacted to provide additional information and/or resolve any discrepancies or issues with the application a"
      ],
      "text/plain": [
       "<IPython.core.display.Markdown object>"
      ]
     },
     "metadata": {},
     "output_type": "display_data"
    },
    {
     "name": "stdout",
     "output_type": "stream",
     "text": [
      "---------------\n"
     ]
    },
    {
     "data": {
      "text/markdown": [
       "on by the City of Windsor does not guarantee it to be a complete application, that further review of the application will occur, and that I may be contacted to provide additional information and/or resolve any discrepancies or issues with the application as submitted.\n",
       "I further acknowledge that after the application is deemed complete, fees are not refundable, additional information may be requested, and that after 60 days of inactivity the City of Windsor may terminate the application without notice.\n",
       "I fur"
      ],
      "text/plain": [
       "<IPython.core.display.Markdown object>"
      ]
     },
     "metadata": {},
     "output_type": "display_data"
    },
    {
     "name": "stdout",
     "output_type": "stream",
     "text": [
      "---------------\n"
     ]
    },
    {
     "data": {
      "text/markdown": [
       "s submitted.\n",
       "I further acknowledge that after the application is deemed complete, fees are not refundable, additional information may be requested, and that after 60 days of inactivity the City of Windsor may terminate the application without notice.\n",
       "I further acknowledge that pursuant to the provisions of the Planning Act and the Municipal Freedom of Information and Protection of Privacy Act, this application and all material and information provided with this application are made available to the public.\n"
      ],
      "text/plain": [
       "<IPython.core.display.Markdown object>"
      ]
     },
     "metadata": {},
     "output_type": "display_data"
    },
    {
     "name": "stdout",
     "output_type": "stream",
     "text": [
      "---------------\n"
     ]
    },
    {
     "data": {
      "text/markdown": [
       "ther acknowledge that pursuant to the provisions of the Planning Act and the Municipal Freedom of Information and Protection of Privacy Act, this application and all material and information provided with this application are made available to the public.\n",
       "\n",
       "## Species at Risk\n",
       "\n",
       "Ontario's Endangered Species Act protects endangered and threatened species - animals and plants in decline and at risk of disappearing from the province by restricting activities that may affect these plants, animals or their habitats"
      ],
      "text/plain": [
       "<IPython.core.display.Markdown object>"
      ]
     },
     "metadata": {},
     "output_type": "display_data"
    },
    {
     "name": "stdout",
     "output_type": "stream",
     "text": [
      "---------------\n"
     ]
    },
    {
     "data": {
      "text/markdown": [
       "\n",
       "## Species at Risk\n",
       "\n",
       "Ontario's Endangered Species Act protects endangered and threatened species - animals and plants in decline and at risk of disappearing from the province by restricting activities that may affect these plants, animals or their habitats.\n",
       "I acknowledge that it is my sole responsibility as the Applicant to comply with the provisions of the Endangered Species Act, 2007, S. O. c.6. This could require me to register an activity, get a permit or other authorization from the Ministry of the Env"
      ],
      "text/plain": [
       "<IPython.core.display.Markdown object>"
      ]
     },
     "metadata": {},
     "output_type": "display_data"
    },
    {
     "name": "stdout",
     "output_type": "stream",
     "text": [
      "---------------\n"
     ]
    },
    {
     "data": {
      "text/markdown": [
       ".\n",
       "I acknowledge that it is my sole responsibility as the Applicant to comply with the provisions of the Endangered Species Act, 2007, S. O. c.6. This could require me to register an activity, get a permit or other authorization from the Ministry of the Environment, Conservation and Parks (MECP) prior to conducting an activity that could impact an endangered or threatened plant or animal or its habitat. I further acknowledge that any Planning Act, R.S.O. 1990, c.P. 13 approval given by the City of Windsor do"
      ],
      "text/plain": [
       "<IPython.core.display.Markdown object>"
      ]
     },
     "metadata": {},
     "output_type": "display_data"
    },
    {
     "name": "stdout",
     "output_type": "stream",
     "text": [
      "---------------\n"
     ]
    },
    {
     "data": {
      "text/markdown": [
       "ironment, Conservation and Parks (MECP) prior to conducting an activity that could impact an endangered or threatened plant or animal or its habitat. I further acknowledge that any Planning Act, R.S.O. 1990, c.P. 13 approval given by the City of Windsor does not constitute an approval under the Endangered Species Act, nor does it absolve me from seeking the necessary authorization, approvals or permits from the MECP prior to conducting any activity that may affect endangered or threatened plant or animal or"
      ],
      "text/plain": [
       "<IPython.core.display.Markdown object>"
      ]
     },
     "metadata": {},
     "output_type": "display_data"
    },
    {
     "name": "stdout",
     "output_type": "stream",
     "text": [
      "---------------\n"
     ]
    },
    {
     "data": {
      "text/markdown": [
       "es not constitute an approval under the Endangered Species Act, nor does it absolve me from seeking the necessary authorization, approvals or permits from the MECP prior to conducting any activity that may affect endangered or threatened plant or animal or its habitat.\n",
       "\n",
       "Additional information can be found at:\n",
       "https://www.ontario.ca/page/development-and-infrastructure-projects-and-endangered-or-threatened-species or by contacting MECP at SAROntario@ontario.ca\n",
       "\n",
       "## Acknowledgement\n",
       "\n",
       "I acknowledge that I have re"
      ],
      "text/plain": [
       "<IPython.core.display.Markdown object>"
      ]
     },
     "metadata": {},
     "output_type": "display_data"
    },
    {
     "name": "stdout",
     "output_type": "stream",
     "text": [
      "---------------\n"
     ]
    },
    {
     "data": {
      "text/markdown": [
       " its habitat.\n",
       "\n",
       "Additional information can be found at:\n",
       "https://www.ontario.ca/page/development-and-infrastructure-projects-and-endangered-or-threatened-species or by contacting MECP at SAROntario@ontario.ca\n",
       "\n",
       "## Acknowledgement\n",
       "\n",
       "I acknowledge that I have read and understand the above statements:\n",
       "![img-6.jpeg](img-6.jpeg)\n",
       "\n",
       "Signature of Applicant or Agent\n",
       "\n",
       "## February 27, 2024\n",
       "\n",
       "Date\n",
       "\n",
       "## END OF SCHEDULE A\n",
       "\n",
       "## COMPLETE SCHEDULE E ON NEXT PAGE\n",
       "ad and understand the above statements:\n",
       "![img-6.jpeg](img-6.jpeg)\n",
       "\n",
       "Signature of Applicant or Agent\n",
       "\n",
       "## February 27, 2024\n",
       "\n",
       "Date\n",
       "\n",
       "## END OF SCHEDULE A\n",
       "\n",
       "## COMPLETE SCHEDULE E ON NEXT PAGE\n"
      ],
      "text/plain": [
       "<IPython.core.display.Markdown object>"
      ]
     },
     "metadata": {},
     "output_type": "display_data"
    },
    {
     "name": "stdout",
     "output_type": "stream",
     "text": [
      "---------------\n"
     ]
    },
    {
     "data": {
      "text/markdown": [
       "# ZONING BY-LAW AMENDMENT APPLICATION \n",
       "\n",
       "## SCHEDULE E - Environmental Site Screening Questionnaire\n",
       "\n",
       "Previous Use of Property\n",
       "![img-7.jpeg](img-7.jpeg)\n",
       "a) If previous use of the property is Industrial or Commercial, specify use:\n",
       "b) Has the grading of the subject land been changed by adding earth or material? Has filling occurred on the subject land?\n",
       "$\\square$ Yes\n",
       "$\\square$ No\n",
       "$\\square$ Unknown\n",
       "c) Has a gasoline station and/or automobile service station been located on the subject land or adjacent lands at an"
      ],
      "text/plain": [
       "<IPython.core.display.Markdown object>"
      ]
     },
     "metadata": {},
     "output_type": "display_data"
    },
    {
     "name": "stdout",
     "output_type": "stream",
     "text": [
      "---------------\n"
     ]
    },
    {
     "data": {
      "text/markdown": [
       "bject land been changed by adding earth or material? Has filling occurred on the subject land?\n",
       "$\\square$ Yes\n",
       "$\\square$ No\n",
       "$\\square$ Unknown\n",
       "c) Has a gasoline station and/or automobile service station been located on the subject land or adjacent lands at any time?\n",
       "$\\square$ Yes\n",
       "$\\square$ No\n",
       "$\\square$ Unknown\n",
       "d) Has there been petroleum or other fuel stored on the subject land or adjacent lands?\n",
       "$\\square$ Yes\n",
       "$\\square$ No\n",
       "$\\square$ Unknown\n",
       "e) Are there or have there ever been underground storage tanks or buri"
      ],
      "text/plain": [
       "<IPython.core.display.Markdown object>"
      ]
     },
     "metadata": {},
     "output_type": "display_data"
    },
    {
     "name": "stdout",
     "output_type": "stream",
     "text": [
      "---------------\n"
     ]
    },
    {
     "data": {
      "text/markdown": [
       "y time?\n",
       "$\\square$ Yes\n",
       "$\\square$ No\n",
       "$\\square$ Unknown\n",
       "d) Has there been petroleum or other fuel stored on the subject land or adjacent lands?\n",
       "$\\square$ Yes\n",
       "$\\square$ No\n",
       "$\\square$ Unknown\n",
       "e) Are there or have there ever been underground storage tanks or buried waste on the subject land or adjacent lands?\n",
       "$\\square$ Yes\n",
       "$\\square$ No\n",
       "$\\square$ Unknown\n",
       "f) Have the lands or adjacent lands ever been used as an agricultural operation where cyanide products may have been applied as pesticides and/or sewage sludge app"
      ],
      "text/plain": [
       "<IPython.core.display.Markdown object>"
      ]
     },
     "metadata": {},
     "output_type": "display_data"
    },
    {
     "name": "stdout",
     "output_type": "stream",
     "text": [
      "---------------\n"
     ]
    },
    {
     "data": {
      "text/markdown": [
       "ed waste on the subject land or adjacent lands?\n",
       "$\\square$ Yes\n",
       "$\\square$ No\n",
       "$\\square$ Unknown\n",
       "f) Have the lands or adjacent lands ever been used as an agricultural operation where cyanide products may have been applied as pesticides and/or sewage sludge applied to the lands?\n",
       "$\\square$ Yes\n",
       "$\\square$ No\n",
       "$\\square$ Unknown\n",
       "g) Have the lands or adjacent lands ever been used as a weapons firing range?\n",
       "$\\square$ Yes\n",
       "$\\square$ No\n",
       "$\\square$ Unknown\n",
       "h) Is the nearest boundary line of the application within 500 metres "
      ],
      "text/plain": [
       "<IPython.core.display.Markdown object>"
      ]
     },
     "metadata": {},
     "output_type": "display_data"
    },
    {
     "name": "stdout",
     "output_type": "stream",
     "text": [
      "---------------\n"
     ]
    },
    {
     "data": {
      "text/markdown": [
       "lied to the lands?\n",
       "$\\square$ Yes\n",
       "$\\square$ No\n",
       "$\\square$ Unknown\n",
       "g) Have the lands or adjacent lands ever been used as a weapons firing range?\n",
       "$\\square$ Yes\n",
       "$\\square$ No\n",
       "$\\square$ Unknown\n",
       "h) Is the nearest boundary line of the application within 500 metres ( 1,640 feet) of the boundary line of an operational/non-operational public or private waste disposal site, landfill or dump?\n",
       "$\\square$ Yes\n",
       "$\\square$ No\n",
       "$\\square$ Unknown\n",
       "i) If there are existing or previously existing buildings on the subject lands, are t"
      ],
      "text/plain": [
       "<IPython.core.display.Markdown object>"
      ]
     },
     "metadata": {},
     "output_type": "display_data"
    },
    {
     "name": "stdout",
     "output_type": "stream",
     "text": [
      "---------------\n"
     ]
    },
    {
     "data": {
      "text/markdown": [
       "( 1,640 feet) of the boundary line of an operational/non-operational public or private waste disposal site, landfill or dump?\n",
       "$\\square$ Yes\n",
       "$\\square$ No\n",
       "$\\square$ Unknown\n",
       "i) If there are existing or previously existing buildings on the subject lands, are there any building materials remaining on site which are potentially hazardous to public health (e.g., asbestos, PCB's)?\n",
       "$\\square$ Yes\n",
       "$\\square$ No\n",
       "$\\square$ Unknown\n",
       "j) Is there reason to believe the subject lands may have been contaminated by existing or f"
      ],
      "text/plain": [
       "<IPython.core.display.Markdown object>"
      ]
     },
     "metadata": {},
     "output_type": "display_data"
    },
    {
     "name": "stdout",
     "output_type": "stream",
     "text": [
      "---------------\n"
     ]
    },
    {
     "data": {
      "text/markdown": [
       "here any building materials remaining on site which are potentially hazardous to public health (e.g., asbestos, PCB's)?\n",
       "$\\square$ Yes\n",
       "$\\square$ No\n",
       "$\\square$ Unknown\n",
       "j) Is there reason to believe the subject lands may have been contaminated by existing or former uses on the site or adjacent sites?*\n",
       "$\\square$ Yes\n",
       "$\\square$ No\n",
       "$\\square$ Unknown\n",
       "\n",
       "* Possible uses that can cause contamination include but are not limited to: operation of electrical transformer stations, disposal of waste minerals, raw material sto"
      ],
      "text/plain": [
       "<IPython.core.display.Markdown object>"
      ]
     },
     "metadata": {},
     "output_type": "display_data"
    },
    {
     "name": "stdout",
     "output_type": "stream",
     "text": [
      "---------------\n"
     ]
    },
    {
     "data": {
      "text/markdown": [
       "ormer uses on the site or adjacent sites?*\n",
       "$\\square$ Yes\n",
       "$\\square$ No\n",
       "$\\square$ Unknown\n",
       "\n",
       "* Possible uses that can cause contamination include but are not limited to: operation of electrical transformer stations, disposal of waste minerals, raw material storage, and residues left in containers, maintenance activities and spills. Some commercial properties such as gasoline stations, automotive repair garages, and dry cleaning plants have similar potential. The longer a property is under industrial or similar "
      ],
      "text/plain": [
       "<IPython.core.display.Markdown object>"
      ]
     },
     "metadata": {},
     "output_type": "display_data"
    },
    {
     "name": "stdout",
     "output_type": "stream",
     "text": [
      "---------------\n"
     ]
    },
    {
     "data": {
      "text/markdown": [
       "rage, and residues left in containers, maintenance activities and spills. Some commercial properties such as gasoline stations, automotive repair garages, and dry cleaning plants have similar potential. The longer a property is under industrial or similar use, the greater the potential for site contamination. Also, a series of different industrial or similar uses upon a site could potentially increase the number of chemicals that are present.\n",
       "k) If current or previous use of the property is Industrial or Co"
      ],
      "text/plain": [
       "<IPython.core.display.Markdown object>"
      ]
     },
     "metadata": {},
     "output_type": "display_data"
    },
    {
     "name": "stdout",
     "output_type": "stream",
     "text": [
      "---------------\n"
     ]
    },
    {
     "data": {
      "text/markdown": [
       "use, the greater the potential for site contamination. Also, a series of different industrial or similar uses upon a site could potentially increase the number of chemicals that are present.\n",
       "k) If current or previous use of the property is Industrial or Commercial, or if YES to any of a) to j) above, attach a previous use inventory showing all former uses of the subject land, or if applicable, the land(s) adjacent to the subject lands.\n",
       "\n",
       "\n",
       "## SCHEDULE E CONTINUES ON NEXT PAGE\n",
       "mmercial, or if YES to any of a) to j) above, attach a previous use inventory showing all former uses of the subject land, or if applicable, the land(s) adjacent to the subject lands.\n",
       "\n",
       "\n",
       "## SCHEDULE E CONTINUES ON NEXT PAGE\n"
      ],
      "text/plain": [
       "<IPython.core.display.Markdown object>"
      ]
     },
     "metadata": {},
     "output_type": "display_data"
    },
    {
     "name": "stdout",
     "output_type": "stream",
     "text": [
      "---------------\n"
     ]
    },
    {
     "data": {
      "text/markdown": [
       "# ZONING BY-LAW AMENDMENT APPLICATION \n",
       "\n",
       "## SCHEDULE E - CONTINUED\n",
       "\n",
       "## Acknowledgement Clause\n",
       "\n",
       "I hereby acknowledge that it is my responsibility to ensure that I am in compliance with all applicable laws, regulations, guidelines and the City's Official Plan policies pertaining to potentially contaminated sites, and to use all reasonable effort to identify the potential for contamination on the subject property.\n",
       "\n",
       "I acknowledge that as a condition of approval of this application that the City may require me to"
      ],
      "text/plain": [
       "<IPython.core.display.Markdown object>"
      ]
     },
     "metadata": {},
     "output_type": "display_data"
    },
    {
     "name": "stdout",
     "output_type": "stream",
     "text": [
      "---------------\n"
     ]
    },
    {
     "data": {
      "text/markdown": [
       " policies pertaining to potentially contaminated sites, and to use all reasonable effort to identify the potential for contamination on the subject property.\n",
       "\n",
       "I acknowledge that as a condition of approval of this application that the City may require me to file a Record of Site Condition signed by a qualified person in the provincial Environmental Site Registry, and provide verification to the City of Windsor of acknowledgement of this Record of Site Condition by the Ministry of Environment.\n",
       "\n",
       "I acknowledge "
      ],
      "text/plain": [
       "<IPython.core.display.Markdown object>"
      ]
     },
     "metadata": {},
     "output_type": "display_data"
    },
    {
     "name": "stdout",
     "output_type": "stream",
     "text": [
      "---------------\n"
     ]
    },
    {
     "data": {
      "text/markdown": [
       " file a Record of Site Condition signed by a qualified person in the provincial Environmental Site Registry, and provide verification to the City of Windsor of acknowledgement of this Record of Site Condition by the Ministry of Environment.\n",
       "\n",
       "I acknowledge that the City may require the qualified person signing the Record of Site Condition to submit to the City a Declaration acknowledging that the City of Windsor may rely on the statements in the Record of Site Condition.\n",
       "\n",
       "I acknowledge that the City of Winds"
      ],
      "text/plain": [
       "<IPython.core.display.Markdown object>"
      ]
     },
     "metadata": {},
     "output_type": "display_data"
    },
    {
     "name": "stdout",
     "output_type": "stream",
     "text": [
      "---------------\n"
     ]
    },
    {
     "data": {
      "text/markdown": [
       "that the City may require the qualified person signing the Record of Site Condition to submit to the City a Declaration acknowledging that the City of Windsor may rely on the statements in the Record of Site Condition.\n",
       "\n",
       "I acknowledge that the City of Windsor is not responsible for the identification and/or remediation of contaminated sites, and I agree, whether in, through, or as a result of any action or proceeding for environmental clean-up of any damage or otherwise, I will not sue or make claim whatsoev"
      ],
      "text/plain": [
       "<IPython.core.display.Markdown object>"
      ]
     },
     "metadata": {},
     "output_type": "display_data"
    },
    {
     "name": "stdout",
     "output_type": "stream",
     "text": [
      "---------------\n"
     ]
    },
    {
     "data": {
      "text/markdown": [
       "or is not responsible for the identification and/or remediation of contaminated sites, and I agree, whether in, through, or as a result of any action or proceeding for environmental clean-up of any damage or otherwise, I will not sue or make claim whatsoever against the City of Windsor, its officers, officials, employees or agents for or in respect of any loss, damage, injury or costs.\n",
       "\n",
       "## Kushal Dighe\n",
       "\n",
       "Name of Applicant (print)\n",
       "![img-8.jpeg](img-8.jpeg)\n",
       "\n",
       "Signature of Applicant\n",
       "\n",
       "## February 27, 2024\n",
       "\n",
       "Date\n",
       "\n"
      ],
      "text/plain": [
       "<IPython.core.display.Markdown object>"
      ]
     },
     "metadata": {},
     "output_type": "display_data"
    },
    {
     "name": "stdout",
     "output_type": "stream",
     "text": [
      "---------------\n"
     ]
    },
    {
     "data": {
      "text/markdown": [
       "er against the City of Windsor, its officers, officials, employees or agents for or in respect of any loss, damage, injury or costs.\n",
       "\n",
       "## Kushal Dighe\n",
       "\n",
       "Name of Applicant (print)\n",
       "![img-8.jpeg](img-8.jpeg)\n",
       "\n",
       "Signature of Applicant\n",
       "\n",
       "## February 27, 2024\n",
       "\n",
       "Date\n",
       "\n",
       "## Cindy Prince\n",
       "\n",
       "Name of Agent (print)\n",
       "![img-9.jpeg](img-9.jpeg)\n",
       "\n",
       "Signature of Agent\n",
       "\n",
       "## February 27, 2024\n",
       "\n",
       "Date\n",
       "\n",
       "## END OF SCHEDULE E\n",
       "## Cindy Prince\n",
       "\n",
       "Name of Agent (print)\n",
       "![img-9.jpeg](img-9.jpeg)\n",
       "\n",
       "Signature of Agent\n",
       "\n",
       "## February 27, 2024\n",
       "\n",
       "Date\n",
       "\n",
       "## END OF SCHEDULE E\n"
      ],
      "text/plain": [
       "<IPython.core.display.Markdown object>"
      ]
     },
     "metadata": {},
     "output_type": "display_data"
    },
    {
     "name": "stdout",
     "output_type": "stream",
     "text": [
      "---------------\n"
     ]
    },
    {
     "data": {
      "text/markdown": [
       "# ZONING BY-LAW AMENDMENT APPLICATION \n",
       "\n",
       "## DO NOT COMPLETE BELOW - STAFF USE ONLY\n",
       "\n",
       "## Receipt and Assignment of Application\n",
       "\n",
       "Date Received Stamp\n",
       "This application has been assigned to:\n",
       "Adam Szymczak (AS) $\\square$ Brian Nagata (BN)\n",
       "Frank Garardo (FG)\n",
       "$\\square$ Tracy Tang (TT)\n",
       "$\\square$ Jim Abbs (JA)\n",
       "$\\square$ Justina Nwaesei (JN)\n",
       "$\\square$ Kevin Alexander (KA)\n",
       "$\\square$ Laura Strahl (LS)\n",
       "$\\square$ Simona Simion (SS)\n",
       "$\\square$ $\\qquad$\n",
       "\n",
       "## Complete Application\n",
       "\n",
       "This application is deemed complete on $\\qquad$ \n",
       "re$ Tracy Tang (TT)\n",
       "$\\square$ Jim Abbs (JA)\n",
       "$\\square$ Justina Nwaesei (JN)\n",
       "$\\square$ Kevin Alexander (KA)\n",
       "$\\square$ Laura Strahl (LS)\n",
       "$\\square$ Simona Simion (SS)\n",
       "$\\square$ $\\qquad$\n",
       "\n",
       "## Complete Application\n",
       "\n",
       "This application is deemed complete on $\\qquad$ Date\n",
       "\n",
       "Signature of Delegated Authority\n",
       "$\\square$ Neil Robertson, MCIP, RPP\n",
       "Manager of Urban Design\n",
       "$\\square$ Greg Atkinson, MCIP, RPP\n",
       "Manager of Development\n",
       "$\\square$ Thom Hunt, MCIP, RPP\n",
       "City Planner \\& Executive Director\n",
       "\n",
       "## Internal Information\n"
      ],
      "text/plain": [
       "<IPython.core.display.Markdown object>"
      ]
     },
     "metadata": {},
     "output_type": "display_data"
    },
    {
     "name": "stdout",
     "output_type": "stream",
     "text": [
      "---------------\n"
     ]
    },
    {
     "data": {
      "text/markdown": [
       "Date\n",
       "\n",
       "Signature of Delegated Authority\n",
       "$\\square$ Neil Robertson, MCIP, RPP\n",
       "Manager of Urban Design\n",
       "$\\square$ Greg Atkinson, MCIP, RPP\n",
       "Manager of Development\n",
       "$\\square$ Thom Hunt, MCIP, RPP\n",
       "City Planner \\& Executive Director\n",
       "\n",
       "## Internal Information\n",
       "| Fee Paid: \\$ | Receipt No: | Date: |\n",
       "| :--: | :--: | :--: |\n",
       "| Payment Type: $\\square$ Cash | $\\square$ Certified Cheque | $\\square$ |\n",
       "| NEW Zoning File No. ZNG/ | Z- |  |\n",
       "| Previous Zoning File No. ZNG/ | Z- |  |\n",
       "| Related OPA File No. OPA/ | OPA |  |\n",
       "Other File Numbers: $\\qquad$\n",
       "Notes: $\\qquad$\n",
       "$\\qquad$\n",
       "$\\qquad$\n",
       "\n",
       "## THIS IS THE LAST PAGE OF THE APPLICATION FORM\n",
       "\n"
      ],
      "text/plain": [
       "<IPython.core.display.Markdown object>"
      ]
     },
     "metadata": {},
     "output_type": "display_data"
    }
   ],
   "source": [
    "# show chunks as markdown\n",
    "def show_chunk(chunk):\n",
    "    print(\"---------------\")\n",
    "    display(Markdown(chunk))\n",
    "# show chunks as markdown\n",
    "for chunk in chunks:\n",
    "    show_chunk(chunk)"
   ]
  },
  {
   "cell_type": "code",
   "execution_count": 14,
   "id": "a7f6637e",
   "metadata": {},
   "outputs": [
    {
     "name": "stdout",
     "output_type": "stream",
     "text": [
      "File 1/11: 8607-8649-8675-8699-McHugh-Street/Application Form Plan of Subdivision or Condominium.pdf.json - already exists, skipping\n",
      "File 2/11: 8607-8649-8675-8699-McHugh-Street/Condominium Drawings.pdf.json - already exists, skipping\n",
      "File 3/11: 8607-8649-8675-8699-McHugh-Street/DPC Exemption Cover Letter (December 2021).pdf.json - already exists, skipping\n",
      "File 4/11: 0-1095-1185-North-Talbot-Road/SDN-001_21 - 1095 and 1185 North Talbot Survey.pdf.json - already exists, skipping\n",
      "File 5/11: 0-1095-1185-North-Talbot-Road/SDN-001_21 - Acoustical Report.pdf.json - already exists, skipping\n",
      "File 6/11: 0-1095-1185-North-Talbot-Road/SDN-001_21 - Bellocorp Development - North Talbot Tree Report.pdf.json - already exists, skipping\n",
      "File 7/11: 0-1095-1185-North-Talbot-Road/SDN-001_21 - Draft Plan.pdf.json - already exists, skipping\n",
      "File 8/11: 0-1095-1185-North-Talbot-Road/SDN-001_21 - Endangered Species Act Study.pdf.json - already exists, skipping\n",
      "File 9/11: 0-1095-1185-North-Talbot-Road/SDN-001_21 - Planning Rationale Report.pdf.json - already exists, skipping\n",
      "File 10/11: 0-1095-1185-North-Talbot-Road/SDN-001_21 - Species At Risk (SAR).pdf.json - already exists, skipping\n",
      "File 11/11: 0-1095-1185-North-Talbot-Road/SDN-001_21 - Subdivision Application Signed Commissioned.pdf.json - already exists, skipping\n",
      "File 12/11: 1500-Ouellette-Avenue/Land transfer information.pdf.json - already exists, skipping\n",
      "File 13/11: 1500-Ouellette-Avenue/Application for Plan of Condo.pdf.json - already exists, skipping\n",
      "File 14/11: 1500-Ouellette-Avenue/Architectural drawings.pdf.json - already exists, skipping\n",
      "File 15/11: 1500-Ouellette-Avenue/Draft Plan of Condo.pdf.json - already exists, skipping\n",
      "File 16/11: 1500-Ouellette-Avenue/Survey.pdf.json - already exists, skipping\n",
      "File 17/11: 0-Wyandotte-Sreet-East-Ganatchio-Gardens-Inc/Archaeological Assessment.pdf.json - already exists, skipping\n",
      "File 18/11: 0-Wyandotte-Sreet-East-Ganatchio-Gardens-Inc/Archaeological Supplementary Report.pdf.json - already exists, skipping\n",
      "File 19/11: 0-Wyandotte-Sreet-East-Ganatchio-Gardens-Inc/Concept Plan.pdf.json - already exists, skipping\n",
      "File 20/11: 0-Wyandotte-Sreet-East-Ganatchio-Gardens-Inc/Environmental Evaluation Report Terms of Reference.pdf.json - already exists, skipping\n",
      "File 21/11: 0-Wyandotte-Sreet-East-Ganatchio-Gardens-Inc/Environmental Evaluation Report.pdf.json - already exists, skipping\n",
      "File 22/11: 0-Wyandotte-Sreet-East-Ganatchio-Gardens-Inc/Functional Servicing Report.pdf.json - already exists, skipping\n",
      "File 23/11: 0-Wyandotte-Sreet-East-Ganatchio-Gardens-Inc/Ganatchio Gardens Energy Strategy Report.pdf.json - already exists, skipping\n",
      "File 24/11: 0-Wyandotte-Sreet-East-Ganatchio-Gardens-Inc/Location Map.pdf.json - already exists, skipping\n",
      "File 25/11: 0-Wyandotte-Sreet-East-Ganatchio-Gardens-Inc/Natural Site Features Inventory and Preservation Study.pdf.json - already exists, skipping\n",
      "File 26/11: 0-Wyandotte-Sreet-East-Ganatchio-Gardens-Inc/Odour Assessment.pdf.json - already exists, skipping\n",
      "File 27/11: 0-Wyandotte-Sreet-East-Ganatchio-Gardens-Inc/Official Plan Amendment Application.pdf.json - already exists, skipping\n",
      "File 28/11: 0-Wyandotte-Sreet-East-Ganatchio-Gardens-Inc/Parking Plan.pdf.json - already exists, skipping\n",
      "File 29/11: 0-Wyandotte-Sreet-East-Ganatchio-Gardens-Inc/Phase I Environmental Site Assessment.pdf.json - already exists, skipping\n",
      "File 30/11: 0-Wyandotte-Sreet-East-Ganatchio-Gardens-Inc/Planning Justification Report.pdf.json - already exists, skipping\n",
      "File 31/11: 0-Wyandotte-Sreet-East-Ganatchio-Gardens-Inc/Planning Justification Report - Updated.pdf.json - already exists, skipping\n",
      "File 32/11: 0-Wyandotte-Sreet-East-Ganatchio-Gardens-Inc/Public Information Centre Engagement Summary.pdf.json - already exists, skipping\n",
      "File 33/11: 0-Wyandotte-Sreet-East-Ganatchio-Gardens-Inc/Shadow Impact Study.pdf.json - already exists, skipping\n",
      "File 34/11: 0-Wyandotte-Sreet-East-Ganatchio-Gardens-Inc/Soil Characterization Report.pdf.json - already exists, skipping\n",
      "File 35/11: 0-Wyandotte-Sreet-East-Ganatchio-Gardens-Inc/Stormwater Management Report.pdf.json - already exists, skipping\n",
      "File 36/11: 0-Wyandotte-Sreet-East-Ganatchio-Gardens-Inc/Topographic Survey.pdf.json - already exists, skipping\n",
      "File 37/11: 0-Wyandotte-Sreet-East-Ganatchio-Gardens-Inc/Traffic Impact Study.pdf.json - already exists, skipping\n",
      "File 38/11: 0-Wyandotte-Sreet-East-Ganatchio-Gardens-Inc/Tree Inventory and Preservation Report.pdf.json - already exists, skipping\n",
      "File 39/11: 0-Wyandotte-Sreet-East-Ganatchio-Gardens-Inc/Zoning By-law Amendment Application.pdf.json - already exists, skipping\n",
      "File 40/11: 0-Wyandotte-Sreet-East-Ganatchio-Gardens-Inc/Zoning By-law Amendment Application - Update.pdf.json - already exists, skipping\n",
      "File 41/11: 1460-Lauzon-Road/Elevations.pdf.json - already exists, skipping\n",
      "File 42/11: 1460-Lauzon-Road/Planning Rationale Report.pdf.json - already exists, skipping\n",
      "File 43/11: 1460-Lauzon-Road/Rendering.pdf.json - already exists, skipping\n",
      "File 44/11: 1460-Lauzon-Road/Site Plan.pdf.json - already exists, skipping\n",
      "File 45/11: 1460-Lauzon-Road/Traffic Impact Study Addendum.pdf.json - already exists, skipping\n",
      "File 46/11: 835-Tecumseh-Road-East-2148-Marentette-Avenue-and-2175-Parent-Avenue/Conceptual Elevations (North & East).pdf.json - already exists, skipping\n",
      "File 47/11: 835-Tecumseh-Road-East-2148-Marentette-Avenue-and-2175-Parent-Avenue/Conceptual Elevations (South & West).pdf.json - already exists, skipping\n",
      "File 48/11: 835-Tecumseh-Road-East-2148-Marentette-Avenue-and-2175-Parent-Avenue/Conceptual Floor Plan (1st).pdf.json - already exists, skipping\n",
      "File 49/11: 835-Tecumseh-Road-East-2148-Marentette-Avenue-and-2175-Parent-Avenue/Conceptual Floor Plans (2nd to 6th).pdf.json - already exists, skipping\n",
      "File 50/11: 835-Tecumseh-Road-East-2148-Marentette-Avenue-and-2175-Parent-Avenue/Conceptual Site Plan.pdf.json - already exists, skipping\n",
      "File 51/11: 835-Tecumseh-Road-East-2148-Marentette-Avenue-and-2175-Parent-Avenue/Environmental Noise Assessment.pdf.json - already exists, skipping\n",
      "File 52/11: 835-Tecumseh-Road-East-2148-Marentette-Avenue-and-2175-Parent-Avenue/Existing Tree Inventory & Preservation Plan.pdf.json - already exists, skipping\n",
      "File 53/11: 835-Tecumseh-Road-East-2148-Marentette-Avenue-and-2175-Parent-Avenue/Official Plan Amendment Application.pdf.json - already exists, skipping\n",
      "File 54/11: 835-Tecumseh-Road-East-2148-Marentette-Avenue-and-2175-Parent-Avenue/Planning Rationale Report.pdf.json - already exists, skipping\n",
      "File 55/11: 835-Tecumseh-Road-East-2148-Marentette-Avenue-and-2175-Parent-Avenue/Rendering.pdf.json - already exists, skipping\n",
      "File 56/11: 835-Tecumseh-Road-East-2148-Marentette-Avenue-and-2175-Parent-Avenue/Sanitary Sewer Study.pdf.json - already exists, skipping\n",
      "File 57/11: 835-Tecumseh-Road-East-2148-Marentette-Avenue-and-2175-Parent-Avenue/Topographic Survey.pdf.json - already exists, skipping\n",
      "File 58/11: 835-Tecumseh-Road-East-2148-Marentette-Avenue-and-2175-Parent-Avenue/Zoning By-law Amendment Application.pdf.json - already exists, skipping\n",
      "File 59/11: 0-Clairview-Avenue/Archeological Assessment.pdf.json - already exists, skipping\n",
      "File 60/11: 0-Clairview-Avenue/Transportation Impact Study.pdf.json - already exists, skipping\n",
      "File 61/11: 0-Clairview-Avenue/Conceptual Development Plan.pdf.json - already exists, skipping\n",
      "File 62/11: 0-Clairview-Avenue/Natural Site Features Inventory and Preservation Study.pdf.json - already exists, skipping\n",
      "File 63/11: 0-Clairview-Avenue/Official Plan Amendment Application.pdf.json - already exists, skipping\n",
      "File 64/11: 0-Clairview-Avenue/Public Information Centre Engagement Summary.pdf.json - already exists, skipping\n",
      "File 65/11: 0-Clairview-Avenue/Shadow Impact Study.pdf.json - already exists, skipping\n",
      "File 66/11: 0-Clairview-Avenue/Zoning By-Law Amendment Application.pdf.json - already exists, skipping\n",
      "File 67/11: 0-Wyandotte-Street-East/Application Form Official Plan Amendment.pdf.json - already exists, skipping\n",
      "File 68/11: 0-Wyandotte-Street-East/Application Form Zoning By-law Amendment.pdf.json - already exists, skipping\n",
      "File 69/11: 0-Wyandotte-Street-East/Archaeological Assessment.pdf.json - already exists, skipping\n",
      "File 70/11: 0-Wyandotte-Street-East/Concept Plan.pdf.json - already exists, skipping\n",
      "File 71/11: 0-Wyandotte-Street-East/Location Map.pdf.json - already exists, skipping\n",
      "File 72/11: 0-Wyandotte-Street-East/Natural Site Features Inventory and Preservation Study.pdf.json - already exists, skipping\n",
      "File 73/11: 0-Wyandotte-Street-East/Planning Justification Report.pdf.json - already exists, skipping\n",
      "File 74/11: 0-Wyandotte-Street-East/Public Information Centre Engagement Summary.pdf.json - already exists, skipping\n",
      "File 75/11: 0-Wyandotte-Street-East/Shadow Impact Study.pdf.json - already exists, skipping\n",
      "File 76/11: 0-Wyandotte-Street-East/Transportation Impact Study.pdf.json - already exists, skipping\n",
      "File 77/11: 4170-4190-sixth-concession-road/Acoustical Study.pdf.json - already exists, skipping\n",
      "File 78/11: 4170-4190-sixth-concession-road/Avani Homes 6th Concession Road Public Information Centre (PIC) Invitation.pdf.json - already exists, skipping\n",
      "File 79/11: 4170-4190-sixth-concession-road/Avani Homes PIC Comment Summary.pdf.json - already exists, skipping\n",
      "File 80/11: 4170-4190-sixth-concession-road/Concept Development Plan.pdf.json - already exists, skipping\n",
      "File 81/11: 4170-4190-sixth-concession-road/Deeds - Avani Homes Transfers.pdf.json - already exists, skipping\n",
      "File 82/11: 4170-4190-sixth-concession-road/Draft Plan.pdf.json - already exists, skipping\n",
      "File 83/11: 4170-4190-sixth-concession-road/Energy Strategy.pdf.json - already exists, skipping\n",
      "File 84/11: 4170-4190-sixth-concession-road/Functional Servicing Report.pdf.json - already exists, skipping\n",
      "File 85/11: 4170-4190-sixth-concession-road/Functional Servicing Report - Appendix A.pdf.json - already exists, skipping\n",
      "File 86/11: 4170-4190-sixth-concession-road/Functional Servicing Report - Appendix B (1).pdf.json - already exists, skipping\n",
      "File 87/11: 4170-4190-sixth-concession-road/Functional Servicing Report - Appendix B (2).pdf.json - already exists, skipping\n",
      "File 88/11: 4170-4190-sixth-concession-road/Functional Servicing Report - Appendix C.pdf.json - already exists, skipping\n",
      "File 89/11: 4170-4190-sixth-concession-road/.pdf.json - already exists, skipping\n",
      "File 90/11: 4170-4190-sixth-concession-road/Planning Justification Report.pdf.json - already exists, skipping\n",
      "File 91/11: 4170-4190-sixth-concession-road/Subdivision Application.pdf.json - already exists, skipping\n",
      "File 92/11: 4170-4190-sixth-concession-road/Topographic Survey.pdf.json - already exists, skipping\n",
      "File 93/11: 4170-4190-sixth-concession-road/Traffic Impact Assessment.pdf.json - already exists, skipping\n",
      "File 94/11: 4170-4190-sixth-concession-road/Tree Inventory and Preservation Plan Report.pdf.json - already exists, skipping\n",
      "File 95/11: 4170-4190-sixth-concession-road/Tree Preservation Plan.pdf.json - already exists, skipping\n",
      "File 96/11: 4170-4190-sixth-concession-road/Vibration Study.pdf.json - already exists, skipping\n",
      "File 97/11: 4170-4190-sixth-concession-road/Zoning By-law Amendment Application.pdf.json - already exists, skipping\n",
      "File 98/11: 0-666-676-684-696-chatham-street-west/Official Plan Application.pdf.json - already exists, skipping\n",
      "File 99/11: 0-666-676-684-696-chatham-street-west/Zoning By-law Application.pdf.json - already exists, skipping\n",
      "File 100/11: 0-666-676-684-696-chatham-street-west/Concept Floor and Elevation Plans.pdf.json - already exists, skipping\n",
      "File 101/11: 0-666-676-684-696-chatham-street-west/Concept Site Plan.pdf.json - already exists, skipping\n",
      "File 102/11: 0-666-676-684-696-chatham-street-west/Preliminary Render.pdf.json - already exists, skipping\n",
      "File 103/11: 0-666-676-684-696-chatham-street-west/Planning Justification Report.pdf.json - already exists, skipping\n",
      "File 104/11: 0-666-676-684-696-chatham-street-west/Urban Design Study.pdf.json - already exists, skipping\n",
      "File 105/11: 0-666-676-684-696-chatham-street-west/Acoustical and Vibration Report.pdf.json - already exists, skipping\n",
      "File 106/11: 0-666-676-684-696-chatham-street-west/Micro-Climate Study.pdf.json - already exists, skipping\n",
      "File 107/11: 0-666-676-684-696-chatham-street-west/Energy Strategy.pdf.json - already exists, skipping\n",
      "File 108/11: 0-666-676-684-696-chatham-street-west/Heritage Overview Final Report.pdf.json - already exists, skipping\n",
      "File 109/11: 0-666-676-684-696-chatham-street-west/Stage 1-2 Archaeological Assessment.pdf.json - already exists, skipping\n",
      "File 110/11: 0-666-676-684-696-chatham-street-west/.pdf.json - already exists, skipping\n",
      "File 111/11: 3589-victoria-boulevard/Zoning By-law Application.pdf.json - already exists, skipping\n",
      "File 112/11: 3589-victoria-boulevard/Neighbourhood Map.pdf.json - already exists, skipping\n",
      "File 113/11: 3589-victoria-boulevard/Conceptual Site Plan.pdf.json - already exists, skipping\n",
      "File 114/11: 3589-victoria-boulevard/Rendering - Left.pdf.json - already exists, skipping\n",
      "File 115/11: 3589-victoria-boulevard/Rendering - Right.pdf.json - already exists, skipping\n",
      "File 116/11: 3589-victoria-boulevard/Floor Plans.pdf.json - already exists, skipping\n",
      "File 117/11: 3589-victoria-boulevard/Proposed Building Height Comparison.pdf.json - already exists, skipping\n",
      "File 118/11: 3589-victoria-boulevard/Proposed Building Height.pdf.json - already exists, skipping\n",
      "File 119/11: 3589-victoria-boulevard/.pdf.json - already exists, skipping\n",
      "File 120/11: 285-giles-boulevard-east/Zoning By-law Amendment Application.pdf.json - already exists, skipping\n",
      "File 121/11: 285-giles-boulevard-east/Concept Floor and Elevation Plans.pdf.json - already exists, skipping\n",
      "File 122/11: 285-giles-boulevard-east/Concept Site Plan.pdf.json - already exists, skipping\n",
      "File 123/11: 285-giles-boulevard-east/Rendering.pdf.json - already exists, skipping\n",
      "File 124/11: 285-giles-boulevard-east/Sanitary Sewer Memo.pdf.json - already exists, skipping\n",
      "File 125/11: 285-giles-boulevard-east/Existing Conditions Plan.pdf.json - already exists, skipping\n",
      "File 126/11: 285-giles-boulevard-east/Open House Report.pdf.json - already exists, skipping\n",
      "File 127/11: 285-giles-boulevard-east/.pdf.json - already exists, skipping\n",
      "File 128/11: Windsor-Archaeological-Management-Plan/Official Plan Amendment No. 181 (Revised 2024-05-15).pdf.json - already exists, skipping\n",
      "File 129/11: Windsor-Archaeological-Management-Plan/Official Plan Schedule C-1 - Archaeological Potential (Revised 2024-05-15).pdf.json - already exists, skipping\n",
      "File 130/11: Windsor-Archaeological-Management-Plan/City of Windsor Archaeological Management Plan 2024 Update (Revised 2024-05-15).pdf.json - already exists, skipping\n",
      "File 131/11: Windsor-Archaeological-Management-Plan/Appendix A_ Pre-contact Indigenous Archaeological Site Potential.pdf.json - already exists, skipping\n",
      "File 132/11: Windsor-Archaeological-Management-Plan/Appendix B_ Colonial Period Thematic History.pdf.json - already exists, skipping\n",
      "File 133/11: Windsor-Archaeological-Management-Plan/Appendix C_ Contingency Plan for the Protection of Archaeological Resources in Urgent Situations.pdf.json - already exists, skipping\n",
      "File 134/11: Windsor-Archaeological-Management-Plan/Appendix D_ Proposed Policy Revisions to the City of Windsor Official Plan.pdf.json - already exists, skipping\n",
      "File 135/11: Windsor-Archaeological-Management-Plan/.pdf.json - already exists, skipping\n",
      "File 136/11: 3990-loon-street/Clearance Letter.pdf.json - already exists, skipping\n",
      "File 137/11: 3990-loon-street/Data Matrix - 1.pdf.json - already exists, skipping\n",
      "File 138/11: 3990-loon-street/Data Matrix - 2.pdf.json - already exists, skipping\n",
      "File 139/11: 3990-loon-street/Data Matrix - 3.pdf.json - already exists, skipping\n",
      "File 140/11: 3990-loon-street/Data Matrix- 4 - Site Plan.pdf.json - already exists, skipping\n",
      "File 141/11: 3990-loon-street/Draft Plan of Subdivision.pdf.json - already exists, skipping\n",
      "File 142/11: 3990-loon-street/Fisheries Act Review.pdf.json - already exists, skipping\n",
      "File 143/11: 3990-loon-street/Municipal Servicing Report.pdf.json - already exists, skipping\n",
      "File 144/11: 3990-loon-street/Notice.pdf.json - already exists, skipping\n",
      "File 145/11: 3990-loon-street/Plan of Survey.pdf.json - already exists, skipping\n",
      "File 146/11: 3990-loon-street/Planning Rationale Report.pdf.json - already exists, skipping\n",
      "File 147/11: 3990-loon-street/Planning Rationale Report Final.pdf.json - already exists, skipping\n",
      "File 148/11: 3990-loon-street/Planning Rationale Report (September 26, 2024, Revision).pdf.json - already exists, skipping\n",
      "File 149/11: 3990-loon-street/PreScreening.pdf.json - already exists, skipping\n",
      "File 150/11: 3990-loon-street/Presentation.pdf.json - already exists, skipping\n",
      "File 151/11: 3990-loon-street/Public Consultation Summary.pdf.json - already exists, skipping\n",
      "File 152/11: 3990-loon-street/Secret Garden - Infrastructure Plan & Profile.pdf.json - already exists, skipping\n",
      "File 153/11: 3990-loon-street/Secret Garden - Infrastructure Plan & Storm Sewer Easement.pdf.json - already exists, skipping\n",
      "File 154/11: 3990-loon-street/Secret Garden - Legend.pdf.json - already exists, skipping\n",
      "File 155/11: 3990-loon-street/Secret Garden - Lot Grading.pdf.json - already exists, skipping\n",
      "File 156/11: 3990-loon-street/Secret Garden - Miscellaneous Notes & Details.pdf.json - already exists, skipping\n",
      "File 157/11: 3990-loon-street/Secret Garden - Sanitary & Storm Drainage.pdf.json - already exists, skipping\n",
      "File 158/11: 3990-loon-street/Secret Garden Subdivision.pdf.json - already exists, skipping\n",
      "File 159/11: 3990-loon-street/Subdivision Application.pdf.json - already exists, skipping\n",
      "File 160/11: 3990-loon-street/Topographic Plan.pdf.json - already exists, skipping\n",
      "File 161/11: 3990-loon-street/Tree Inventory Protection Plan.pdf.json - already exists, skipping\n",
      "File 162/11: 3990-loon-street/Zoning By-law Application.pdf.json - already exists, skipping\n",
      "File 163/11: 4088-and-4096-sixth-concession-road/Application Official Plan Amendment.pdf.json - already exists, skipping\n",
      "File 164/11: 4088-and-4096-sixth-concession-road/Application Zoning By-law Amendment.pdf.json - already exists, skipping\n",
      "File 165/11: 4088-and-4096-sixth-concession-road/Architectural Responses.pdf.json - already exists, skipping\n",
      "File 166/11: 4088-and-4096-sixth-concession-road/Conceptual Site Plan.pdf.json - already exists, skipping\n",
      "File 167/11: 4088-and-4096-sixth-concession-road/Elevations.pdf.json - already exists, skipping\n",
      "File 168/11: 4088-and-4096-sixth-concession-road/Floor Plans.pdf.json - already exists, skipping\n",
      "File 169/11: 4088-and-4096-sixth-concession-road/Open House Presentation Package.pdf.json - already exists, skipping\n",
      "File 170/11: 4088-and-4096-sixth-concession-road/Parking Study.pdf.json - already exists, skipping\n",
      "File 171/11: 4088-and-4096-sixth-concession-road/Planning Rationale Report.pdf.json - already exists, skipping\n",
      "File 172/11: 4088-and-4096-sixth-concession-road/Rendering Package.pdf.json - already exists, skipping\n",
      "File 173/11: 4088-and-4096-sixth-concession-road/Sanitary Sewer Study.pdf.json - already exists, skipping\n",
      "File 174/11: 4088-and-4096-sixth-concession-road/Key Map.pdf.json - already exists, skipping\n",
      "File 175/11: 4088-and-4096-sixth-concession-road/Neighbourhood Map.pdf.json - already exists, skipping\n",
      "File 176/11: 4088-and-4096-sixth-concession-road/Official Plan - Schedule A.pdf.json - already exists, skipping\n",
      "File 177/11: 4088-and-4096-sixth-concession-road/Official Plan - Schedule D.pdf.json - already exists, skipping\n",
      "File 178/11: 4088-and-4096-sixth-concession-road/Official Plan - Schedule NR2-7.pdf.json - already exists, skipping\n",
      "File 179/11: 4088-and-4096-sixth-concession-road/Rezoning Map.pdf.json - already exists, skipping\n",
      "File 180/11: 180-california-avenue/Key Map.pdf.json - already exists, skipping\n",
      "File 181/11: 180-california-avenue/Rezoning.pdf.json - already exists, skipping\n",
      "File 182/11: 180-california-avenue/Conceptual Elevations.pdf.json - already exists, skipping\n",
      "File 183/11: 180-california-avenue/Conceptual Floor Plans.pdf.json - already exists, skipping\n",
      "File 184/11: 180-california-avenue/Conceptual Rendering.pdf.json - already exists, skipping\n",
      "File 185/11: 180-california-avenue/Conceptual Site Plan.pdf.json - already exists, skipping\n",
      "File 186/11: 180-california-avenue/Planning Rationale Report.pdf.json - already exists, skipping\n",
      "File 187/11: 180-california-avenue/Topographic Survey.pdf.json - already exists, skipping\n",
      "File 188/11: 180-california-avenue/Zoning By-law Application.pdf.json - already exists, skipping\n",
      "File 189/11: 0-howard-avenue-howard-avenue-tuson-way-howard-place/.pdf.json - already exists, skipping\n",
      "File 190/11: 0-howard-avenue-howard-avenue-tuson-way-howard-place/Z-032_24, ZNG-7237 Notice of Public Meeting.pdf.json - already exists, skipping\n",
      "File 191/11: 0-howard-avenue-howard-avenue-tuson-way-howard-place/Application Zoning By-law Amendment.pdf.json - already exists, skipping\n",
      "File 192/11: 0-howard-avenue-howard-avenue-tuson-way-howard-place/Conceptual Architectural Package.pdf.json - already exists, skipping\n",
      "File 193/11: 0-howard-avenue-howard-avenue-tuson-way-howard-place/Noise Impact Study.pdf.json - already exists, skipping\n",
      "File 194/11: 0-howard-avenue-howard-avenue-tuson-way-howard-place/Open House Report.pdf.json - already exists, skipping\n",
      "File 195/11: 0-howard-avenue-howard-avenue-tuson-way-howard-place/Sanitary Sewer Study.pdf.json - already exists, skipping\n",
      "File 196/11: 0-howard-avenue-howard-avenue-tuson-way-howard-place/Key Map.pdf.json - already exists, skipping\n",
      "File 197/11: 0-howard-avenue-howard-avenue-tuson-way-howard-place/Neighbourhood Map.pdf.json - already exists, skipping\n",
      "File 198/11: 0-howard-avenue-howard-avenue-tuson-way-howard-place/Rezoning.pdf.json - already exists, skipping\n",
      "File 199/11: 0-howard-avenue-howard-avenue-tuson-way-howard-place/Notice of Public Meeting.pdf.json - already exists, skipping\n",
      "File 200/11: 0-wyandotte-street-east-northeast-corner-wyandotte-watson/Application Zoning By-law Amendment.pdf.json - already exists, skipping\n",
      "File 201/11: 0-wyandotte-street-east-northeast-corner-wyandotte-watson/Conceptual Elevations Render Package.pdf.json - already exists, skipping\n",
      "File 202/11: 0-wyandotte-street-east-northeast-corner-wyandotte-watson/Conceptual Floor Plans.pdf.json - already exists, skipping\n",
      "File 203/11: 0-wyandotte-street-east-northeast-corner-wyandotte-watson/Conceptual Site Plan.pdf.json - already exists, skipping\n",
      "File 204/11: 0-wyandotte-street-east-northeast-corner-wyandotte-watson/Open House Notice.pdf.json - already exists, skipping\n",
      "File 205/11: 0-wyandotte-street-east-northeast-corner-wyandotte-watson/Open House Presentation.pdf.json - already exists, skipping\n",
      "File 206/11: 0-wyandotte-street-east-northeast-corner-wyandotte-watson/Planning Rationale Report Revised.pdf.json - already exists, skipping\n",
      "File 207/11: 0-wyandotte-street-east-northeast-corner-wyandotte-watson/Sanitary Sewer Study.pdf.json - already exists, skipping\n",
      "File 208/11: 0-wyandotte-street-east-northeast-corner-wyandotte-watson/Key Map.pdf.json - already exists, skipping\n",
      "File 209/11: 0-wyandotte-street-east-northeast-corner-wyandotte-watson/Neighbourhood Map.pdf.json - already exists, skipping\n",
      "File 210/11: 0-wyandotte-street-east-northeast-corner-wyandotte-watson/Rezoning.pdf.json - already exists, skipping\n",
      "File 211/11: 926-928-giles-boulevard-east/Key Map.pdf.json - already exists, skipping\n",
      "File 212/11: 926-928-giles-boulevard-east/Neighbourhood Map.pdf.json - already exists, skipping\n",
      "File 213/11: 926-928-giles-boulevard-east/Parking Review.pdf.json - already exists, skipping\n",
      "File 214/11: 926-928-giles-boulevard-east/Rezoning.pdf.json - already exists, skipping\n",
      "File 215/11: 926-928-giles-boulevard-east/Site Plan.pdf.json - already exists, skipping\n",
      "File 216/11: 926-928-giles-boulevard-east/Survey.pdf.json - already exists, skipping\n",
      "File 217/11: 926-928-giles-boulevard-east/Zoning By-law Amendment Application.pdf.json - already exists, skipping\n",
      "File 218/11: 926-928-giles-boulevard-east/Rezoning Letter, June 20, 2024.pdf.json - already exists, skipping\n",
      "File 219/11: 0-north-service-road/Official Plan Amendment Application.pdf.json - already exists, skipping\n",
      "File 220/11: 0-north-service-road/.pdf.json - already exists, skipping\n",
      "File 221/11: 0-north-service-road/Open House Notice.pdf.json - already exists, skipping\n",
      "File 222/11: 0-north-service-road/Planning Rationale Report.pdf.json - already exists, skipping\n",
      "File 223/11: 0-north-service-road/Planning Rationale Report (September 27, 2024, Revision).pdf.json - already exists, skipping\n",
      "File 224/11: 0-north-service-road/Planning Rationale Report (December 3, 2024, Revision 4).pdf.json - already exists, skipping\n",
      "File 225/11: 0-north-service-road/Presentation.pdf.json - already exists, skipping\n",
      "File 226/11: 0-north-service-road/Registration Report.pdf.json - already exists, skipping\n",
      "File 227/11: 0-north-service-road/Sample Elevation.pdf.json - already exists, skipping\n",
      "File 228/11: 0-north-service-road/Sample Elevation 2.pdf.json - already exists, skipping\n",
      "File 229/11: 0-north-service-road/Site Plan.pdf.json - already exists, skipping\n",
      "File 230/11: 0-north-service-road/Survey.pdf.json - already exists, skipping\n",
      "File 231/11: 0-north-service-road/Tree Survey.pdf.json - already exists, skipping\n",
      "File 232/11: 0-north-service-road/Zoning By-law Application.pdf.json - already exists, skipping\n",
      "File 233/11: 0-north-service-road/Zoning By-Law Application (Updated).pdf.json - already exists, skipping\n",
      "File 234/11: 51/Conceptual Elevations Sidewall Detail.pdf.json - already exists, skipping\n",
      "File 235/11: 51/Conceptual Elevations.pdf.json - already exists, skipping\n",
      "File 236/11: 51/Conceptual Floor Plans.pdf.json - already exists, skipping\n",
      "File 237/11: 51/Conceptual Site Plan.pdf.json - already exists, skipping\n",
      "File 238/11: 51/Key Map.pdf.json - already exists, skipping\n",
      "File 239/11: 51/Neighbourhood Map.pdf.json - already exists, skipping\n",
      "File 240/11: 51/Rezoning.pdf.json - already exists, skipping\n",
      "File 241/11: 51/Zoning Bylaw Application.pdf.json - already exists, skipping\n",
      "File 242/11: 0-esplanade-drive/Application Form Zoning By-law Amendment.pdf.json - already exists, skipping\n",
      "File 243/11: 0-esplanade-drive/Conceptual Site Plan.pdf.json - already exists, skipping\n",
      "File 244/11: 0-esplanade-drive/Noise Study.pdf.json - already exists, skipping\n",
      "File 245/11: 0-esplanade-drive/Planning Justification Report.pdf.json - already exists, skipping\n",
      "File 246/11: 0-esplanade-drive/Site Renderings.pdf.json - already exists, skipping\n",
      "File 247/11: 0-esplanade-drive/Stormwater Management and Sanitary Report.pdf.json - already exists, skipping\n",
      "File 248/11: 0-esplanade-drive/Transportation Impact Study.pdf.json - already exists, skipping\n",
      "File 249/11: 0-esplanade-drive/Tree Inventory and Preservation Study.pdf.json - already exists, skipping\n",
      "File 250/11: 552-florence-avenue/Z-036_24, ZNG-7248 Notice of Public Meeting.pdf.json - already exists, skipping\n",
      "File 251/11: 552-florence-avenue/.pdf.json - already exists, skipping\n",
      "File 252/11: 552-florence-avenue/Conceptual Site Plan, Floor Plans, Elevations.pdf.json - already exists, skipping\n",
      "File 253/11: 552-florence-avenue/Plan of Survey.pdf.json - already exists, skipping\n",
      "File 254/11: 552-florence-avenue/Planning Rationale Report.pdf.json - already exists, skipping\n",
      "File 255/11: 552-florence-avenue/Zoning By-law Application.pdf.json - already exists, skipping\n",
      "File 256/11: 552-florence-avenue/Key Map.pdf.json - already exists, skipping\n",
      "File 257/11: 552-florence-avenue/Neighbourhood Map.pdf.json - already exists, skipping\n",
      "File 258/11: 552-florence-avenue/Rezoning Map.pdf.json - already exists, skipping\n",
      "File 259/11: 552-florence-avenue/Notice of Public Meeting.pdf.json - already exists, skipping\n",
      "File 260/11: 7100-cantelon-drive/Zoning By-law Amendment.pdf.json - already exists, skipping\n",
      "File 261/11: 7100-cantelon-drive/Concept Elevation Hotel North Elevation.pdf.json - already exists, skipping\n",
      "File 262/11: 7100-cantelon-drive/Concept Elevation Public Hall North Elevation.pdf.json - already exists, skipping\n",
      "File 263/11: 7100-cantelon-drive/Concept Floor Plan Hotel First Floor.pdf.json - already exists, skipping\n",
      "File 264/11: 7100-cantelon-drive/Concept Floor Plan Hotel Typical.pdf.json - already exists, skipping\n",
      "File 265/11: 7100-cantelon-drive/Concept Floor Plan Motel Suite.pdf.json - already exists, skipping\n",
      "File 266/11: 7100-cantelon-drive/Concept Floor Plan Public Hall.pdf.json - already exists, skipping\n",
      "File 267/11: 7100-cantelon-drive/Concept Site Plan.pdf.json - already exists, skipping\n",
      "File 268/11: 7100-cantelon-drive/Key Map.pdf.json - already exists, skipping\n",
      "File 269/11: 7100-cantelon-drive/Neighbourhood Map.pdf.json - already exists, skipping\n",
      "File 270/11: 7100-cantelon-drive/Open House Notice.pdf.json - already exists, skipping\n",
      "File 271/11: 7100-cantelon-drive/Open House Presentation.pdf.json - already exists, skipping\n",
      "File 272/11: 7100-cantelon-drive/Planning Rationale Report.pdf.json - already exists, skipping\n",
      "File 273/11: 7100-cantelon-drive/Rezoning.pdf.json - already exists, skipping\n",
      "File 274/11: 2275-wellesley-avenue/Z-026_24, ZNG-7229 Notice of Public Meeting.pdf.json - already exists, skipping\n",
      "File 275/11: 2275-wellesley-avenue/Notice of Public Meeting.pdf.json - already exists, skipping\n",
      "File 276/11: 0-janette-avenue/Z-037_24, ZNG-7249 Notice of Public Meeting.pdf.json - already exists, skipping\n",
      "File 277/11: 0-janette-avenue/Notice of Public Meeting.pdf.json - already exists, skipping\n",
      "File 278/11: 1110-tecumseh-road-west-northeast-corner-at-benjamin-avenue/Concept Plan.pdf.json - already exists, skipping\n",
      "File 279/11: 1110-tecumseh-road-west-northeast-corner-at-benjamin-avenue/Cover Letter.pdf.json - already exists, skipping\n",
      "File 280/11: 1110-tecumseh-road-west-northeast-corner-at-benjamin-avenue/Key Map.pdf.json - already exists, skipping\n",
      "File 281/11: 1110-tecumseh-road-west-northeast-corner-at-benjamin-avenue/Neighbourhood Map.pdf.json - already exists, skipping\n",
      "File 282/11: 1110-tecumseh-road-west-northeast-corner-at-benjamin-avenue/Noise and Vibration Assessment.pdf.json - already exists, skipping\n",
      "File 283/11: 1110-tecumseh-road-west-northeast-corner-at-benjamin-avenue/Planning Justification Report.pdf.json - already exists, skipping\n",
      "File 284/11: 1110-tecumseh-road-west-northeast-corner-at-benjamin-avenue/Public Information Centre Engagement Summary.pdf.json - already exists, skipping\n",
      "File 285/11: 1110-tecumseh-road-west-northeast-corner-at-benjamin-avenue/Rezoning.pdf.json - already exists, skipping\n",
      "File 286/11: 1110-tecumseh-road-west-northeast-corner-at-benjamin-avenue/Zoning By-law Amendment Application.pdf.json - already exists, skipping\n",
      "File 287/11: 6412-6560-tecumseh-road-east-0-catherine-street/Application Official Plan Amendment.pdf.json - already exists, skipping\n",
      "File 288/11: 6412-6560-tecumseh-road-east-0-catherine-street/Application Zoning By-law Amendment.pdf.json - already exists, skipping\n",
      "File 289/11: 6412-6560-tecumseh-road-east-0-catherine-street/Archaeological Assessment Stage 1 Report.pdf.json - already exists, skipping\n",
      "File 290/11: 6412-6560-tecumseh-road-east-0-catherine-street/Archaeological Assessment Stage 2 Report.pdf.json - already exists, skipping\n",
      "File 291/11: 6412-6560-tecumseh-road-east-0-catherine-street/Concept Elevations.pdf.json - already exists, skipping\n",
      "File 292/11: 6412-6560-tecumseh-road-east-0-catherine-street/Concept Severance Plan.pdf.json - already exists, skipping\n",
      "File 293/11: 6412-6560-tecumseh-road-east-0-catherine-street/Concept Site Plan.pdf.json - already exists, skipping\n",
      "File 294/11: 6412-6560-tecumseh-road-east-0-catherine-street/Environmental Evaluation Report.pdf.json - already exists, skipping\n",
      "File 295/11: 6412-6560-tecumseh-road-east-0-catherine-street/Environmental Site Assessment Phase II.pdf.json - already exists, skipping\n",
      "File 296/11: 6412-6560-tecumseh-road-east-0-catherine-street/Functional Servicing Report.pdf.json - already exists, skipping\n",
      "File 297/11: 6412-6560-tecumseh-road-east-0-catherine-street/Geotechnical Investigation.pdf.json - already exists, skipping\n",
      "File 298/11: 6412-6560-tecumseh-road-east-0-catherine-street/Key Map.pdf.json - already exists, skipping\n",
      "File 299/11: 6412-6560-tecumseh-road-east-0-catherine-street/Neighbourhood Map.pdf.json - already exists, skipping\n",
      "File 300/11: 6412-6560-tecumseh-road-east-0-catherine-street/Open House Display Items.pdf.json - already exists, skipping\n",
      "File 301/11: 6412-6560-tecumseh-road-east-0-catherine-street/Open House Notice.pdf.json - already exists, skipping\n",
      "File 302/11: 6412-6560-tecumseh-road-east-0-catherine-street/Ownership On Lands Map.pdf.json - already exists, skipping\n",
      "File 303/11: 6412-6560-tecumseh-road-east-0-catherine-street/Plan of Survey 12R-26172.pdf.json - already exists, skipping\n",
      "File 304/11: 6412-6560-tecumseh-road-east-0-catherine-street/Plan of Survey Right of Ways 12R-29962.pdf.json - already exists, skipping\n",
      "File 305/11: 6412-6560-tecumseh-road-east-0-catherine-street/Planning Rationale Report.pdf.json - already exists, skipping\n",
      "File 306/11: 6412-6560-tecumseh-road-east-0-catherine-street/Rezoning.pdf.json - already exists, skipping\n",
      "File 307/11: 6412-6560-tecumseh-road-east-0-catherine-street/Schedule A.pdf.json - already exists, skipping\n",
      "File 308/11: 6412-6560-tecumseh-road-east-0-catherine-street/Schedule FGN-2.pdf.json - already exists, skipping\n",
      "File 309/11: 6412-6560-tecumseh-road-east-0-catherine-street/Species at Risk Impact Assessment.pdf.json - already exists, skipping\n",
      "File 310/11: 6412-6560-tecumseh-road-east-0-catherine-street/Topographic Survey.pdf.json - already exists, skipping\n",
      "File 311/11: 6412-6560-tecumseh-road-east-0-catherine-street/Transportation Impact Study.pdf.json - already exists, skipping\n",
      "File 312/11: 3161-jefferson-boulevard-west-side-of-jefferson-south-of-queen-elizabeth-drive/Conceptual Elevations.pdf.json - already exists, skipping\n",
      "File 313/11: 3161-jefferson-boulevard-west-side-of-jefferson-south-of-queen-elizabeth-drive/Conceptual Floor Plans.pdf.json - already exists, skipping\n",
      "File 314/11: 3161-jefferson-boulevard-west-side-of-jefferson-south-of-queen-elizabeth-drive/Conceptual Site Plan.pdf.json - already exists, skipping\n",
      "File 315/11: 3161-jefferson-boulevard-west-side-of-jefferson-south-of-queen-elizabeth-drive/Environmental Noise and Vibration Assessment.pdf.json - already exists, skipping\n",
      "File 316/11: 3161-jefferson-boulevard-west-side-of-jefferson-south-of-queen-elizabeth-drive/Key Map.pdf.json - already exists, skipping\n",
      "File 317/11: 3161-jefferson-boulevard-west-side-of-jefferson-south-of-queen-elizabeth-drive/Neighbourhood Map.pdf.json - already exists, skipping\n",
      "File 318/11: 3161-jefferson-boulevard-west-side-of-jefferson-south-of-queen-elizabeth-drive/Planning Rationale Report.pdf.json - already exists, skipping\n",
      "File 319/11: 3161-jefferson-boulevard-west-side-of-jefferson-south-of-queen-elizabeth-drive/Rezoning.pdf.json - already exists, skipping\n",
      "File 320/11: 3161-jefferson-boulevard-west-side-of-jefferson-south-of-queen-elizabeth-drive/Topographic Survey.pdf.json - already exists, skipping\n",
      "File 321/11: 3161-jefferson-boulevard-west-side-of-jefferson-south-of-queen-elizabeth-drive/Waste Disposal Letter.pdf.json - already exists, skipping\n",
      "File 322/11: 3161-jefferson-boulevard-west-side-of-jefferson-south-of-queen-elizabeth-drive/Zoning By-law Amendment Application.pdf.json - already exists, skipping\n",
      "File 323/11: 1576-randolph-avenue/Conceptual Elevations.pdf.json - already exists, skipping\n",
      "File 324/11: 1576-randolph-avenue/Conceptual Floor Plans.pdf.json - already exists, skipping\n",
      "File 325/11: 1576-randolph-avenue/Conceptual Site Plan.pdf.json - already exists, skipping\n",
      "File 326/11: 1576-randolph-avenue/Plan of Survey.pdf.json - already exists, skipping\n",
      "File 327/11: 1576-randolph-avenue/Planning Rationale Report (Revised).pdf.json - already exists, skipping\n",
      "File 328/11: 1576-randolph-avenue/Key Map.pdf.json - already exists, skipping\n",
      "File 329/11: 1576-randolph-avenue/Neighbourhood Map.pdf.json - already exists, skipping\n",
      "File 330/11: 1576-randolph-avenue/Rezoning.pdf.json - already exists, skipping\n",
      "File 331/11: 960-hanna-street-east-northeast-corner-at-hanna-street-east-and-langlois-street/Official Plan Amendment Application.pdf.json - already exists, skipping\n",
      "File 332/11: 960-hanna-street-east-northeast-corner-at-hanna-street-east-and-langlois-street/ Zoning By-law Amendment Application.pdf.json - already exists, skipping\n",
      "File 333/11: 960-hanna-street-east-northeast-corner-at-hanna-street-east-and-langlois-street/Corporate Profile.pdf.json - already exists, skipping\n",
      "File 334/11: 960-hanna-street-east-northeast-corner-at-hanna-street-east-and-langlois-street/Floor Plan.pdf.json - already exists, skipping\n",
      "File 335/11: 960-hanna-street-east-northeast-corner-at-hanna-street-east-and-langlois-street/Official Plan - Schedule A.pdf.json - already exists, skipping\n",
      "File 336/11: 960-hanna-street-east-northeast-corner-at-hanna-street-east-and-langlois-street/Official Plan - Schedule D.pdf.json - already exists, skipping\n",
      "File 337/11: 960-hanna-street-east-northeast-corner-at-hanna-street-east-and-langlois-street/Open House Notice.pdf.json - already exists, skipping\n",
      "File 338/11: 960-hanna-street-east-northeast-corner-at-hanna-street-east-and-langlois-street/Planning Rationale Report.pdf.json - already exists, skipping\n",
      "File 339/11: 960-hanna-street-east-northeast-corner-at-hanna-street-east-and-langlois-street/Site Plan.pdf.json - already exists, skipping\n",
      "File 340/11: 960-hanna-street-east-northeast-corner-at-hanna-street-east-and-langlois-street/Rezoning.pdf.json - already exists, skipping\n",
      "File 341/11: 960-hanna-street-east-northeast-corner-at-hanna-street-east-and-langlois-street/Key Map.pdf.json - already exists, skipping\n",
      "File 342/11: 960-hanna-street-east-northeast-corner-at-hanna-street-east-and-langlois-street/Neighbourhood Map.pdf.json - already exists, skipping\n",
      "File 343/11: 0-wyandotte-street-east-lakefront-heights/Concept Plan.pdf.json - already exists, skipping\n",
      "File 344/11: 0-wyandotte-street-east-lakefront-heights/Energy Strategy Report.pdf.json - already exists, skipping\n",
      "File 345/11: 0-wyandotte-street-east-lakefront-heights/Engagement Summary Report.pdf.json - already exists, skipping\n",
      "File 346/11: 0-wyandotte-street-east-lakefront-heights/Environmental Evaluation Report.pdf.json - already exists, skipping\n",
      "File 347/11: 0-wyandotte-street-east-lakefront-heights/Functional Servicing Report.pdf.json - already exists, skipping\n",
      "File 348/11: 0-wyandotte-street-east-lakefront-heights/Information Gathering Form.pdf.json - already exists, skipping\n",
      "File 349/11: 0-wyandotte-street-east-lakefront-heights/Natural Features Inventory & Preservation Study Riverside.pdf.json - already exists, skipping\n",
      "File 350/11: 0-wyandotte-street-east-lakefront-heights/Noise Study.pdf.json - already exists, skipping\n",
      "File 351/11: 0-wyandotte-street-east-lakefront-heights/Official Plan Amendment Application.pdf.json - already exists, skipping\n",
      "File 352/11: 0-wyandotte-street-east-lakefront-heights/Planning Justification Report.pdf.json - already exists, skipping\n",
      "File 353/11: 0-wyandotte-street-east-lakefront-heights/Stage 1–2 Archaeological Assessment.pdf.json - already exists, skipping\n",
      "File 354/11: 0-wyandotte-street-east-lakefront-heights/Stormwater Management Report.pdf.json - already exists, skipping\n",
      "File 355/11: 0-wyandotte-street-east-lakefront-heights/Traffic Impact Study.pdf.json - already exists, skipping\n",
      "File 356/11: 0-wyandotte-street-east-lakefront-heights/Zoning By-law Amendment Application.pdf.json - already exists, skipping\n",
      "File 357/11: z-00625-zng7288/Z 006-25 [ZNG-7288] Notice & Schedule A.pdf.json - already exists, skipping\n",
      "File 358/11: 673-wellington-avenue/Conceptual Site Plan.pdf.json - already exists, skipping\n",
      "File 359/11: 673-wellington-avenue/Deed.pdf.json - already exists, skipping\n",
      "File 360/11: 673-wellington-avenue/Official Plan Amendment Application (Revised Pages 3–6).pdf.json - already exists, skipping\n",
      "File 361/11: 673-wellington-avenue/Official Plan Amendment Application.pdf.json - already exists, skipping\n",
      "File 362/11: 673-wellington-avenue/Phase 1 - Environmental Site Assessment.pdf.json - already exists, skipping\n",
      "File 363/11: 673-wellington-avenue/Planning Justification Report.pdf.json - already exists, skipping\n",
      "File 364/11: 673-wellington-avenue/Topographic Survey.pdf.json - already exists, skipping\n",
      "File 365/11: 673-wellington-avenue/Traffic Impact - Parking Study.pdf.json - already exists, skipping\n",
      "File 366/11: 673-wellington-avenue/Zoning By-law Amendment Application (Revised Pages 4–6).pdf.json - already exists, skipping\n",
      "File 367/11: 673-wellington-avenue/Zoning By-law Amendment Application.pdf.json - already exists, skipping\n",
      "File 368/11: residential-corridors/OPA 194 [OPA-7279] - Notice & Schedule A.pdf.json - already exists, skipping\n"
     ]
    }
   ],
   "source": [
    "# save chunks to file\n",
    "chunks_path = \"./chunks\"\n",
    "# cycle through all valid json files and create chunks, save chunks and page numbers to file\n",
    "if not os.path.exists(chunks_path):\n",
    "    os.makedirs(chunks_path)\n",
    "# save chunks to file\n",
    "for i, file in enumerate(valid_files):\n",
    "    # check if sub-folder exists\n",
    "    sub_folder = os.path.join(chunks_path, os.path.dirname(file))\n",
    "    if not os.path.exists(sub_folder):\n",
    "        os.makedirs(sub_folder)\n",
    "    # if json file already exists, skip it\n",
    "    if os.path.exists(os.path.join(chunks_path, file.replace('.json', '.chunks.json'))):\n",
    "        print(f\"File {i+1}/{len(project_files)}: {file} - already exists, skipping\")\n",
    "        continue\n",
    "    \n",
    "    # create chunks\n",
    "    print(f\"Creating chunks for file {i+1}/{len(project_files)}: {file}\")\n",
    "    chunks, page_numbers = create_chunks_filepath(os.path.join(path, file))\n",
    "    # save chunks and page numbers to file\n",
    "    with open(os.path.join(chunks_path, file.replace('.json', '.chunks.json')), 'w') as f:\n",
    "        json.dump({\"chunks\": chunks, \"page_numbers\": page_numbers}, f)\n",
    "    print(f\"File {i+1}/{len(project_files)}: {file} - {len(chunks)} chunks created\")\n"
   ]
  },
  {
   "cell_type": "code",
   "execution_count": 15,
   "id": "c353630b",
   "metadata": {},
   "outputs": [
    {
     "name": "stdout",
     "output_type": "stream",
     "text": [
      "['# NOTICE OF PUBLIC MEETING <br> TO CONSIDER AMENDMENTS TO THE CITY OF WINDSOR OFFICIAL PLAN \\n\\n## FILE NUMBERS OPA 194 [OPA/7279]\\n\\nTAKE NOTICE that a public meeting will be held to consider amendments to the City of Windsor these\\n\\n## DEVELOPMENT \\\\& HERITAGE STANDING COMMITTEE (DHSC) Monday, May 5, 2025 at 4:30 p.m.\\n\\nPlease Note: Members will have the option of participating in person in Council Chambers or electronically and will be counted towards quorum in accordance with Procedure By-law 98-2011 as amende', \" STANDING COMMITTEE (DHSC) Monday, May 5, 2025 at 4:30 p.m.\\n\\nPlease Note: Members will have the option of participating in person in Council Chambers or electronically and will be counted towards quorum in accordance with Procedure By-law 98-2011 as amended to allow for electronic meetings. The minutes will reflect this accordingly. Any personal information may become part of the public record. To register as a delegate, to appear either in person or by electronic participation, contact the City Clerk's off\", \"d to allow for electronic meetings. The minutes will reflect this accordingly. Any personal information may become part of the public record. To register as a delegate, to appear either in person or by electronic participation, contact the City Clerk's office at clerks@citywindsor.ca or 519-255-6432, Monday through Friday, 8:30 a.m. to 4:30 p.m. by $\\\\mathbf{1 2}$ noon on Friday, May 2, 2025. This meeting will be streamed live at https://citywindsor.ca/city-hall/city-council-meetings/streaming-video.\\n\\nThis i\", 'ice at clerks@citywindsor.ca or 519-255-6432, Monday through Friday, 8:30 a.m. to 4:30 p.m. by $\\\\mathbf{1 2}$ noon on Friday, May 2, 2025. This meeting will be streamed live at https://citywindsor.ca/city-hall/city-council-meetings/streaming-video.\\n\\nThis is the statutory public meeting required by the Planning Act. This meeting is to give the public an opportunity to comment, and for the DHSC to make recommendation to Council, on the proposed amendments. Written or oral comments are acceptable. To confirm t', 's the statutory public meeting required by the Planning Act. This meeting is to give the public an opportunity to comment, and for the DHSC to make recommendation to Council, on the proposed amendments. Written or oral comments are acceptable. To confirm the date, time and location of this meeting, or be listed as a delegation call Council Services at 519-255-6432. For more information visit https://www.citywindsor.ca/city-hall/city-council-meetings, \"Click here to access our agendas, reports, videos and mi', 'he date, time and location of this meeting, or be listed as a delegation call Council Services at 519-255-6432. For more information visit https://www.citywindsor.ca/city-hall/city-council-meetings, \"Click here to access our agendas, reports, videos and minutes by meeting date\". The Council Report will be available online ten days before the public meeting. For more information expand DHSC meeting date. All persons interested in attending the Council meeting should call 311 or check the Civic Corner in the ', 'nutes by meeting date\". The Council Report will be available online ten days before the public meeting. For more information expand DHSC meeting date. All persons interested in attending the Council meeting should call 311 or check the Civic Corner in the Windsor Star or expand the most current City Council meeting. This matter may be removed from an agenda after delivery of the notice.\\nSchedule \\'A\\' attached explains the purpose and effect of the proposed amendment and includes a description and a key map r', \"Windsor Star or expand the most current City Council meeting. This matter may be removed from an agenda after delivery of the notice.\\nSchedule 'A' attached explains the purpose and effect of the proposed amendment and includes a description and a key map regarding the subject land, or an explanation why no description or key map is provided.\\nIf you have any questions or wish to view the following proposed amendments, including information about appeal rights or related documents, maps, or studies, contact F\", 'egarding the subject land, or an explanation why no description or key map is provided.\\nIf you have any questions or wish to view the following proposed amendments, including information about appeal rights or related documents, maps, or studies, contact Frank Garardo at FGarardo@citywindsor.ca or 519-255-6543 x.6446.\\nTAKE NOTICE that an appeal to the Ontario Land Tribunal in respect to all or part of this OFFICIAL PLAN may be made by filing a notice of appeal with the City Clerk either via the Ontario Land', 'rank Garardo at FGarardo@citywindsor.ca or 519-255-6543 x.6446.\\nTAKE NOTICE that an appeal to the Ontario Land Tribunal in respect to all or part of this OFFICIAL PLAN may be made by filing a notice of appeal with the City Clerk either via the Ontario Land Tribunal e-file service (first-time users will need to register for a My Ontario Account) at https://olt.gov.on.ca/e-file-service/ by selecting Windsor (City): Clerk as the Approval Authority or by mail to Council Services, City of Windsor, 350 City Hall ', ' Tribunal e-file service (first-time users will need to register for a My Ontario Account) at https://olt.gov.on.ca/e-file-service/ by selecting Windsor (City): Clerk as the Approval Authority or by mail to Council Services, City of Windsor, 350 City Hall Square West, Suite 530, Windsor, Ontario N9A 6S1, no later than 4:30 p.m. at a future determined date. The filing of an appeal after 4:30 p.m., in person or electronically, will be deemed to have been received the next business day. The appeal fee of $\\\\$ 1', 'Square West, Suite 530, Windsor, Ontario N9A 6S1, no later than 4:30 p.m. at a future determined date. The filing of an appeal after 4:30 p.m., in person or electronically, will be deemed to have been received the next business day. The appeal fee of $\\\\$ 1,100$ can be paid online through e-file or by certified cheque/money order to the Minister of Finance, Province of Ontario. If you wish to appeal to the Ontario Land Tribunal (OLT) or request a fee reduction for an appeal, forms are available from the OLT ', ',100$ can be paid online through e-file or by certified cheque/money order to the Minister of Finance, Province of Ontario. If you wish to appeal to the Ontario Land Tribunal (OLT) or request a fee reduction for an appeal, forms are available from the OLT website at www.olt.gov.on.ca. If the e-file portal is down, you can submit your appeal to clerks@citywindsor.ca.\\n\\nNo person or public body shall be added as a party to the hearing of the appeal unless, before the bylaw was passed, the person or public body', 'website at www.olt.gov.on.ca. If the e-file portal is down, you can submit your appeal to clerks@citywindsor.ca.\\n\\nNo person or public body shall be added as a party to the hearing of the appeal unless, before the bylaw was passed, the person or public body made oral or written submissions at the public meeting or to Council or, in the opinion of the Tribunal, there are reasonable grounds to add the person or public body as a party.\\nIf you wish to be notified of the decision to any of the proposed amendments', \" made oral or written submissions at the public meeting or to Council or, in the opinion of the Tribunal, there are reasonable grounds to add the person or public body as a party.\\nIf you wish to be notified of the decision to any of the proposed amendments, send request to the above noted City of Windsor address or email clerks@citywindsor.ca. Persons and/or public bodies that have made a written request to be notified of the decision shall be sent a 'Notice of Decision' of the by-law, if passed.\\nDATED at t\\n, send request to the above noted City of Windsor address or email clerks@citywindsor.ca. Persons and/or public bodies that have made a written request to be notified of the decision shall be sent a 'Notice of Decision' of the by-law, if passed.\\nDATED at the City of Windsor April 4, 2025.\\nhe City of Windsor April 4, 2025.\", \"# SCHEDULE 'A' \\n\\nPART 1 An explanation of the proposed zoning change\\n\\n## APPLICANT: City of Windsor\\n\\n## LOCATION: City Wide\\n\\nProposed Official Plan amendment to introduce land use policies to establish a framework for residential development within intensification priority areas where present and future residents will be in proximity to goods and services, public transportation and employment areas.\\nA Residential Corridor land use designation is intended to encourage residential development that supports co\", 'fication priority areas where present and future residents will be in proximity to goods and services, public transportation and employment areas.\\nA Residential Corridor land use designation is intended to encourage residential development that supports compatible residential development, while acknowledging the transition of the proposed built form to adjacent areas. Land uses within a Residential Corridor will focus exclusively on opportunities for housing while optimizing the use of existing infrastructu', 'mpatible residential development, while acknowledging the transition of the proposed built form to adjacent areas. Land uses within a Residential Corridor will focus exclusively on opportunities for housing while optimizing the use of existing infrastructure and transit.\\nOPEN HOUSE: The Planning Department will host public open house sessions on Tuesday April 22, 2025 from 4:00 pm to 6:00 pm at City Hall - (Meeting Room 204; 350 City Hall Square West, Windsor Ontario N9A 1J3) to present the proposed Officia', 're and transit.\\nOPEN HOUSE: The Planning Department will host public open house sessions on Tuesday April 22, 2025 from 4:00 pm to 6:00 pm at City Hall - (Meeting Room 204; 350 City Hall Square West, Windsor Ontario N9A 1J3) to present the proposed Official Plan Amendment policies. Alternatively, a virtual session will also be held on Tuesday April 22, 2025 from 6:30 pm to 7:30 pm. Please register by contacting Nicholas Yeung, Community Development Planning Assistant, Planning Department Development Divisio', 'l Plan Amendment policies. Alternatively, a virtual session will also be held on Tuesday April 22, 2025 from 6:30 pm to 7:30 pm. Please register by contacting Nicholas Yeung, Community Development Planning Assistant, Planning Department Development Division at nyeung@citywindsor.ca or subscribe to the Lets Talk Windsor project page (letstalk.citywindsor.ca/official-plan-land-use-policy).\\nNOTE: For additional information contact Frank Garardo - Planner Level (Senior Planner/Level II) Development / Growth at \\nn at nyeung@citywindsor.ca or subscribe to the Lets Talk Windsor project page (letstalk.citywindsor.ca/official-plan-land-use-policy).\\nNOTE: For additional information contact Frank Garardo - Planner Level (Senior Planner/Level II) Development / Growth at FGarardo@citywindsor.ca or 519-255-6543 ext. 6446.\\n\\nPART 2 No Map Required\\nFGarardo@citywindsor.ca or 519-255-6543 ext. 6446.\\n\\nPART 2 No Map Required']\n"
     ]
    }
   ],
   "source": [
    "print(chunks)"
   ]
  },
  {
   "cell_type": "code",
   "execution_count": 37,
   "id": "63c9e50c",
   "metadata": {},
   "outputs": [],
   "source": [
    "# create embeddings for each chunk\n",
    "def create_embeddings(chunks):\n",
    "    # create embeddings for each chunk\n",
    "    tries = 0\n",
    "    embeddings = []\n",
    "    i = 0\n",
    "    while True:\n",
    "        tries+=1\n",
    "        try:\n",
    "            \n",
    "            # if len chunks > 96, split into chunks of 96\n",
    "            while i < len(chunks):\n",
    "                # create a chunk of 96\n",
    "                chunk = chunks[i:i+96]\n",
    "                # create embedding\n",
    "                response = co.embed(texts=chunk, model='embed-v4.0', input_type='text', embedding_types=['float'])\n",
    "                embeddings.extend(response.embeddings.float)\n",
    "                i += 96\n",
    "            # response = co.embed(texts=chunks, model='embed-v4.0', input_type='text', embedding_types=['float'])\n",
    "            # embeddings.extend(response.embeddings.float)\n",
    "            # for chunk in chunks:\n",
    "            #     # create embedding\n",
    "            #     embedding = co.embed(texts=[chunk], input type)\n",
    "            #     # add embedding to list\n",
    "            #     embeddings.append(embedding)\n",
    "            return embeddings\n",
    "        except Exception as e:\n",
    "            print(f\"Error creating embeddings: {e}\")\n",
    "            if tries > 5:\n",
    "                print(\"Too many tries, returning None\")\n",
    "                return None\n",
    "            time.sleep(60)\n",
    "# save embeddings to a file\n",
    "def save_embeddings(embeddings, file_path):\n",
    "    # save embeddings to file\n",
    "    with open(file_path, 'w') as f:\n",
    "        json.dump(embeddings, f)\n"
   ]
  },
  {
   "cell_type": "code",
   "execution_count": 28,
   "id": "64270dac",
   "metadata": {},
   "outputs": [],
   "source": [
    "embeddings = create_embeddings(chunks)"
   ]
  },
  {
   "cell_type": "code",
   "execution_count": 30,
   "id": "efb370e1",
   "metadata": {},
   "outputs": [
    {
     "name": "stdout",
     "output_type": "stream",
     "text": [
      "138\n"
     ]
    }
   ],
   "source": [
    "print(len(embeddings))"
   ]
  },
  {
   "cell_type": "code",
   "execution_count": null,
   "id": "5f4f7e71",
   "metadata": {},
   "outputs": [],
   "source": [
    "# save_embeddings(embeddings.embeddings.float, os.path.join(chunks_path, project_files[0].replace('.json', '.embeddings.json')))"
   ]
  },
  {
   "cell_type": "code",
   "execution_count": 38,
   "id": "9f72b318",
   "metadata": {},
   "outputs": [
    {
     "name": "stdout",
     "output_type": "stream",
     "text": [
      "File 1/11: 8607-8649-8675-8699-McHugh-Street/Application Form Plan of Subdivision or Condominium.pdf.json - already exists, skipping\n",
      "File 2/11: 8607-8649-8675-8699-McHugh-Street/Condominium Drawings.pdf.json - already exists, skipping\n",
      "File 3/11: 8607-8649-8675-8699-McHugh-Street/DPC Exemption Cover Letter (December 2021).pdf.json - already exists, skipping\n",
      "File 4/11: 0-1095-1185-North-Talbot-Road/SDN-001_21 - 1095 and 1185 North Talbot Survey.pdf.json - already exists, skipping\n",
      "File 5/11: 0-1095-1185-North-Talbot-Road/SDN-001_21 - Acoustical Report.pdf.json - already exists, skipping\n",
      "File 6/11: 0-1095-1185-North-Talbot-Road/SDN-001_21 - Bellocorp Development - North Talbot Tree Report.pdf.json - already exists, skipping\n",
      "File 7/11: 0-1095-1185-North-Talbot-Road/SDN-001_21 - Draft Plan.pdf.json - already exists, skipping\n",
      "File 8/11: 0-1095-1185-North-Talbot-Road/SDN-001_21 - Endangered Species Act Study.pdf.json - already exists, skipping\n",
      "File 9/11: 0-1095-1185-North-Talbot-Road/SDN-001_21 - Planning Rationale Report.pdf.json - already exists, skipping\n",
      "File 10/11: 0-1095-1185-North-Talbot-Road/SDN-001_21 - Species At Risk (SAR).pdf.json - already exists, skipping\n",
      "File 11/11: 0-1095-1185-North-Talbot-Road/SDN-001_21 - Subdivision Application Signed Commissioned.pdf.json - already exists, skipping\n",
      "File 12/11: 1500-Ouellette-Avenue/Land transfer information.pdf.json - already exists, skipping\n",
      "File 13/11: 1500-Ouellette-Avenue/Application for Plan of Condo.pdf.json - already exists, skipping\n",
      "File 14/11: 1500-Ouellette-Avenue/Architectural drawings.pdf.json - already exists, skipping\n",
      "File 15/11: 1500-Ouellette-Avenue/Draft Plan of Condo.pdf.json - already exists, skipping\n",
      "File 16/11: 1500-Ouellette-Avenue/Survey.pdf.json - already exists, skipping\n",
      "File 17/11: 0-Wyandotte-Sreet-East-Ganatchio-Gardens-Inc/Archaeological Assessment.pdf.json - already exists, skipping\n",
      "File 18/11: 0-Wyandotte-Sreet-East-Ganatchio-Gardens-Inc/Archaeological Supplementary Report.pdf.json - already exists, skipping\n",
      "File 19/11: 0-Wyandotte-Sreet-East-Ganatchio-Gardens-Inc/Concept Plan.pdf.json - already exists, skipping\n",
      "File 20/11: 0-Wyandotte-Sreet-East-Ganatchio-Gardens-Inc/Environmental Evaluation Report Terms of Reference.pdf.json - already exists, skipping\n",
      "File 21/11: 0-Wyandotte-Sreet-East-Ganatchio-Gardens-Inc/Environmental Evaluation Report.pdf.json - already exists, skipping\n",
      "File 22/11: 0-Wyandotte-Sreet-East-Ganatchio-Gardens-Inc/Functional Servicing Report.pdf.json - already exists, skipping\n",
      "File 23/11: 0-Wyandotte-Sreet-East-Ganatchio-Gardens-Inc/Ganatchio Gardens Energy Strategy Report.pdf.json - already exists, skipping\n",
      "File 24/11: 0-Wyandotte-Sreet-East-Ganatchio-Gardens-Inc/Location Map.pdf.json - already exists, skipping\n",
      "File 25/11: 0-Wyandotte-Sreet-East-Ganatchio-Gardens-Inc/Natural Site Features Inventory and Preservation Study.pdf.json - already exists, skipping\n",
      "File 26/11: 0-Wyandotte-Sreet-East-Ganatchio-Gardens-Inc/Odour Assessment.pdf.json - already exists, skipping\n",
      "File 27/11: 0-Wyandotte-Sreet-East-Ganatchio-Gardens-Inc/Official Plan Amendment Application.pdf.json - already exists, skipping\n",
      "File 28/11: 0-Wyandotte-Sreet-East-Ganatchio-Gardens-Inc/Parking Plan.pdf.json - already exists, skipping\n",
      "File 29/11: 0-Wyandotte-Sreet-East-Ganatchio-Gardens-Inc/Phase I Environmental Site Assessment.pdf.json - already exists, skipping\n",
      "File 30/11: 0-Wyandotte-Sreet-East-Ganatchio-Gardens-Inc/Planning Justification Report.pdf.json - already exists, skipping\n",
      "File 31/11: 0-Wyandotte-Sreet-East-Ganatchio-Gardens-Inc/Planning Justification Report - Updated.pdf.json - already exists, skipping\n",
      "File 32/11: 0-Wyandotte-Sreet-East-Ganatchio-Gardens-Inc/Public Information Centre Engagement Summary.pdf.json - already exists, skipping\n",
      "File 33/11: 0-Wyandotte-Sreet-East-Ganatchio-Gardens-Inc/Shadow Impact Study.pdf.json - already exists, skipping\n",
      "File 34/11: 0-Wyandotte-Sreet-East-Ganatchio-Gardens-Inc/Soil Characterization Report.pdf.json - already exists, skipping\n",
      "File 35/11: 0-Wyandotte-Sreet-East-Ganatchio-Gardens-Inc/Stormwater Management Report.pdf.json - already exists, skipping\n",
      "File 36/11: 0-Wyandotte-Sreet-East-Ganatchio-Gardens-Inc/Topographic Survey.pdf.json - already exists, skipping\n",
      "File 37/11: 0-Wyandotte-Sreet-East-Ganatchio-Gardens-Inc/Traffic Impact Study.pdf.json - already exists, skipping\n",
      "File 38/11: 0-Wyandotte-Sreet-East-Ganatchio-Gardens-Inc/Tree Inventory and Preservation Report.pdf.json - already exists, skipping\n",
      "File 39/11: 0-Wyandotte-Sreet-East-Ganatchio-Gardens-Inc/Zoning By-law Amendment Application.pdf.json - already exists, skipping\n",
      "File 40/11: 0-Wyandotte-Sreet-East-Ganatchio-Gardens-Inc/Zoning By-law Amendment Application - Update.pdf.json - already exists, skipping\n",
      "File 41/11: 1460-Lauzon-Road/Elevations.pdf.json - already exists, skipping\n",
      "File 42/11: 1460-Lauzon-Road/Planning Rationale Report.pdf.json - already exists, skipping\n",
      "File 43/11: 1460-Lauzon-Road/Rendering.pdf.json - already exists, skipping\n",
      "File 44/11: 1460-Lauzon-Road/Site Plan.pdf.json - already exists, skipping\n",
      "File 45/11: 1460-Lauzon-Road/Traffic Impact Study Addendum.pdf.json - already exists, skipping\n",
      "File 46/11: 835-Tecumseh-Road-East-2148-Marentette-Avenue-and-2175-Parent-Avenue/Conceptual Elevations (North & East).pdf.json - already exists, skipping\n",
      "File 47/11: 835-Tecumseh-Road-East-2148-Marentette-Avenue-and-2175-Parent-Avenue/Conceptual Elevations (South & West).pdf.json - already exists, skipping\n",
      "File 48/11: 835-Tecumseh-Road-East-2148-Marentette-Avenue-and-2175-Parent-Avenue/Conceptual Floor Plan (1st).pdf.json - already exists, skipping\n",
      "File 49/11: 835-Tecumseh-Road-East-2148-Marentette-Avenue-and-2175-Parent-Avenue/Conceptual Floor Plans (2nd to 6th).pdf.json - already exists, skipping\n",
      "File 50/11: 835-Tecumseh-Road-East-2148-Marentette-Avenue-and-2175-Parent-Avenue/Conceptual Site Plan.pdf.json - already exists, skipping\n",
      "File 51/11: 835-Tecumseh-Road-East-2148-Marentette-Avenue-and-2175-Parent-Avenue/Environmental Noise Assessment.pdf.json - already exists, skipping\n",
      "File 52/11: 835-Tecumseh-Road-East-2148-Marentette-Avenue-and-2175-Parent-Avenue/Existing Tree Inventory & Preservation Plan.pdf.json - already exists, skipping\n",
      "File 53/11: 835-Tecumseh-Road-East-2148-Marentette-Avenue-and-2175-Parent-Avenue/Official Plan Amendment Application.pdf.json - already exists, skipping\n",
      "File 54/11: 835-Tecumseh-Road-East-2148-Marentette-Avenue-and-2175-Parent-Avenue/Planning Rationale Report.pdf.json - already exists, skipping\n",
      "File 55/11: 835-Tecumseh-Road-East-2148-Marentette-Avenue-and-2175-Parent-Avenue/Rendering.pdf.json - already exists, skipping\n",
      "File 56/11: 835-Tecumseh-Road-East-2148-Marentette-Avenue-and-2175-Parent-Avenue/Sanitary Sewer Study.pdf.json - already exists, skipping\n",
      "File 57/11: 835-Tecumseh-Road-East-2148-Marentette-Avenue-and-2175-Parent-Avenue/Topographic Survey.pdf.json - already exists, skipping\n",
      "File 58/11: 835-Tecumseh-Road-East-2148-Marentette-Avenue-and-2175-Parent-Avenue/Zoning By-law Amendment Application.pdf.json - already exists, skipping\n",
      "File 59/11: 0-Clairview-Avenue/Archeological Assessment.pdf.json - already exists, skipping\n",
      "Creating embeddings for file 60/11: 0-Clairview-Avenue/Transportation Impact Study.pdf.json\n",
      "Error creating embeddings: status_code: 429, body: {'message': 'trial token rate limit exceeded, limit is 100000 tokens per minute'}\n"
     ]
    },
    {
     "ename": "KeyboardInterrupt",
     "evalue": "",
     "output_type": "error",
     "traceback": [
      "\u001b[31m---------------------------------------------------------------------------\u001b[39m",
      "\u001b[31mTooManyRequestsError\u001b[39m                      Traceback (most recent call last)",
      "\u001b[36mCell\u001b[39m\u001b[36m \u001b[39m\u001b[32mIn[37]\u001b[39m\u001b[32m, line 16\u001b[39m, in \u001b[36mcreate_embeddings\u001b[39m\u001b[34m(chunks)\u001b[39m\n\u001b[32m     15\u001b[39m \u001b[38;5;66;03m# create embedding\u001b[39;00m\n\u001b[32m---> \u001b[39m\u001b[32m16\u001b[39m response = \u001b[43mco\u001b[49m\u001b[43m.\u001b[49m\u001b[43membed\u001b[49m\u001b[43m(\u001b[49m\u001b[43mtexts\u001b[49m\u001b[43m=\u001b[49m\u001b[43mchunk\u001b[49m\u001b[43m,\u001b[49m\u001b[43m \u001b[49m\u001b[43mmodel\u001b[49m\u001b[43m=\u001b[49m\u001b[33;43m'\u001b[39;49m\u001b[33;43membed-v4.0\u001b[39;49m\u001b[33;43m'\u001b[39;49m\u001b[43m,\u001b[49m\u001b[43m \u001b[49m\u001b[43minput_type\u001b[49m\u001b[43m=\u001b[49m\u001b[33;43m'\u001b[39;49m\u001b[33;43mtext\u001b[39;49m\u001b[33;43m'\u001b[39;49m\u001b[43m,\u001b[49m\u001b[43m \u001b[49m\u001b[43membedding_types\u001b[49m\u001b[43m=\u001b[49m\u001b[43m[\u001b[49m\u001b[33;43m'\u001b[39;49m\u001b[33;43mfloat\u001b[39;49m\u001b[33;43m'\u001b[39;49m\u001b[43m]\u001b[49m\u001b[43m)\u001b[49m\n\u001b[32m     17\u001b[39m embeddings.extend(response.embeddings.float)\n",
      "\u001b[36mFile \u001b[39m\u001b[32m~/citywindsor/venv/lib/python3.11/site-packages/cohere/v2/client.py:900\u001b[39m, in \u001b[36mV2Client.embed\u001b[39m\u001b[34m(self, model, input_type, embedding_types, texts, images, inputs, max_tokens, output_dimension, truncate, request_options)\u001b[39m\n\u001b[32m    899\u001b[39m \u001b[38;5;28;01mif\u001b[39;00m _response.status_code == \u001b[32m429\u001b[39m:\n\u001b[32m--> \u001b[39m\u001b[32m900\u001b[39m     \u001b[38;5;28;01mraise\u001b[39;00m TooManyRequestsError(\n\u001b[32m    901\u001b[39m         typing.cast(\n\u001b[32m    902\u001b[39m             typing.Optional[typing.Any],\n\u001b[32m    903\u001b[39m             construct_type(\n\u001b[32m    904\u001b[39m                 type_=typing.Optional[typing.Any],  \u001b[38;5;66;03m# type: ignore\u001b[39;00m\n\u001b[32m    905\u001b[39m                 object_=_response.json(),\n\u001b[32m    906\u001b[39m             ),\n\u001b[32m    907\u001b[39m         )\n\u001b[32m    908\u001b[39m     )\n\u001b[32m    909\u001b[39m \u001b[38;5;28;01mif\u001b[39;00m _response.status_code == \u001b[32m498\u001b[39m:\n",
      "\u001b[31mTooManyRequestsError\u001b[39m: status_code: 429, body: {'message': 'trial token rate limit exceeded, limit is 100000 tokens per minute'}",
      "\nDuring handling of the above exception, another exception occurred:\n",
      "\u001b[31mKeyboardInterrupt\u001b[39m                         Traceback (most recent call last)",
      "\u001b[36mCell\u001b[39m\u001b[36m \u001b[39m\u001b[32mIn[38]\u001b[39m\u001b[32m, line 27\u001b[39m\n\u001b[32m     23\u001b[39m     page_numbers = data[\u001b[33m\"\u001b[39m\u001b[33mpage_numbers\u001b[39m\u001b[33m\"\u001b[39m]\n\u001b[32m     25\u001b[39m \u001b[38;5;66;03m# create embeddings\u001b[39;00m\n\u001b[32m---> \u001b[39m\u001b[32m27\u001b[39m embeddings = \u001b[43mcreate_embeddings\u001b[49m\u001b[43m(\u001b[49m\u001b[43mchunks\u001b[49m\u001b[43m)\u001b[49m\n\u001b[32m     29\u001b[39m \u001b[38;5;66;03m# save embeddings and page numbers to file\u001b[39;00m\n\u001b[32m     30\u001b[39m \u001b[38;5;28;01mwith\u001b[39;00m \u001b[38;5;28mopen\u001b[39m(os.path.join(embeddings_path, file.replace(\u001b[33m'\u001b[39m\u001b[33m.json\u001b[39m\u001b[33m'\u001b[39m, \u001b[33m'\u001b[39m\u001b[33m.embeddings.json\u001b[39m\u001b[33m'\u001b[39m)), \u001b[33m'\u001b[39m\u001b[33mw\u001b[39m\u001b[33m'\u001b[39m) \u001b[38;5;28;01mas\u001b[39;00m f:\n",
      "\u001b[36mCell\u001b[39m\u001b[36m \u001b[39m\u001b[32mIn[37]\u001b[39m\u001b[32m, line 32\u001b[39m, in \u001b[36mcreate_embeddings\u001b[39m\u001b[34m(chunks)\u001b[39m\n\u001b[32m     30\u001b[39m     \u001b[38;5;28mprint\u001b[39m(\u001b[33m\"\u001b[39m\u001b[33mToo many tries, returning None\u001b[39m\u001b[33m\"\u001b[39m)\n\u001b[32m     31\u001b[39m     \u001b[38;5;28;01mreturn\u001b[39;00m \u001b[38;5;28;01mNone\u001b[39;00m\n\u001b[32m---> \u001b[39m\u001b[32m32\u001b[39m \u001b[43mtime\u001b[49m\u001b[43m.\u001b[49m\u001b[43msleep\u001b[49m\u001b[43m(\u001b[49m\u001b[32;43m60\u001b[39;49m\u001b[43m)\u001b[49m\n",
      "\u001b[31mKeyboardInterrupt\u001b[39m: "
     ]
    }
   ],
   "source": [
    "# iterate through all files in chunks directory and create embeddings for each file\n",
    "embeddings_path = \"./embeddings\"\n",
    "# cycle through all valid json files and create chunks, save chunks and page numbers to file\n",
    "if not os.path.exists(embeddings_path):\n",
    "    os.makedirs(embeddings_path)\n",
    "# extract and save embeddings for each file\n",
    "valid_chunks = []\n",
    "for i, file in enumerate(valid_files):\n",
    "    # check if sub-folder exists\n",
    "    sub_folder = os.path.join(embeddings_path, os.path.dirname(file))\n",
    "    if not os.path.exists(sub_folder):\n",
    "        os.makedirs(sub_folder)\n",
    "    # if json file already exists, skip it\n",
    "    if os.path.exists(os.path.join(embeddings_path, file.replace('.json', '.embeddings.json'))):\n",
    "        print(f\"File {i+1}/{len(project_files)}: {file} - already exists, skipping\")\n",
    "        continue\n",
    "    \n",
    "    # create chunks\n",
    "    print(f\"Creating embeddings for file {i+1}/{len(project_files)}: {file}\")\n",
    "    with open(os.path.join(chunks_path, file.replace('.json', '.chunks.json')), 'r') as f:\n",
    "        data = json.load(f)\n",
    "        chunks = data[\"chunks\"]\n",
    "        page_numbers = data[\"page_numbers\"]\n",
    "    \n",
    "    # create embeddings\n",
    "\n",
    "    embeddings = create_embeddings(chunks)\n",
    "    \n",
    "    # save embeddings and page numbers to file\n",
    "    with open(os.path.join(embeddings_path, file.replace('.json', '.embeddings.json')), 'w') as f:\n",
    "        json.dump({\"embeddings\": embeddings}, f)\n",
    "    print(f\"File {i+1}/{len(project_files)}: {file} - {len(chunks)} chunks created\")"
   ]
  }
 ],
 "metadata": {
  "kernelspec": {
   "display_name": "venv",
   "language": "python",
   "name": "python3"
  },
  "language_info": {
   "codemirror_mode": {
    "name": "ipython",
    "version": 3
   },
   "file_extension": ".py",
   "mimetype": "text/x-python",
   "name": "python",
   "nbconvert_exporter": "python",
   "pygments_lexer": "ipython3",
   "version": "3.11.2"
  }
 },
 "nbformat": 4,
 "nbformat_minor": 5
}
