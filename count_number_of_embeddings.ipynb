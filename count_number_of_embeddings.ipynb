{
 "cells": [
  {
   "cell_type": "code",
   "execution_count": 5,
   "id": "33a6f530",
   "metadata": {},
   "outputs": [],
   "source": [
    "import os\n",
    "import json"
   ]
  },
  {
   "cell_type": "code",
   "execution_count": 2,
   "id": "433badb7",
   "metadata": {},
   "outputs": [
    {
     "name": "stdout",
     "output_type": "stream",
     "text": [
      "Found the following json files:\n",
      "./embeddings/8607-8649-8675-8699-McHugh-Street/Application Form Plan of Subdivision or Condominium.pdf.embeddings.json\n",
      "./embeddings/8607-8649-8675-8699-McHugh-Street/Condominium Drawings.pdf.embeddings.json\n",
      "./embeddings/8607-8649-8675-8699-McHugh-Street/DPC Exemption Cover Letter (December 2021).pdf.embeddings.json\n",
      "./embeddings/0-1095-1185-North-Talbot-Road/SDN-001_21 - 1095 and 1185 North Talbot Survey.pdf.embeddings.json\n",
      "./embeddings/0-1095-1185-North-Talbot-Road/SDN-001_21 - Acoustical Report.pdf.embeddings.json\n",
      "./embeddings/0-1095-1185-North-Talbot-Road/SDN-001_21 - Bellocorp Development - North Talbot Tree Report.pdf.embeddings.json\n",
      "./embeddings/0-1095-1185-North-Talbot-Road/SDN-001_21 - Draft Plan.pdf.embeddings.json\n",
      "./embeddings/0-1095-1185-North-Talbot-Road/SDN-001_21 - Endangered Species Act Study.pdf.embeddings.json\n",
      "./embeddings/0-1095-1185-North-Talbot-Road/SDN-001_21 - Planning Rationale Report.pdf.embeddings.json\n",
      "./embeddings/0-1095-1185-North-Talbot-Road/SDN-001_21 - Species At Risk (SAR).pdf.embeddings.json\n",
      "./embeddings/0-1095-1185-North-Talbot-Road/SDN-001_21 - Subdivision Application Signed Commissioned.pdf.embeddings.json\n",
      "./embeddings/1500-Ouellette-Avenue/Land transfer information.pdf.embeddings.json\n",
      "./embeddings/1500-Ouellette-Avenue/Application for Plan of Condo.pdf.embeddings.json\n",
      "./embeddings/1500-Ouellette-Avenue/Architectural drawings.pdf.embeddings.json\n",
      "./embeddings/1500-Ouellette-Avenue/Draft Plan of Condo.pdf.embeddings.json\n",
      "./embeddings/1500-Ouellette-Avenue/Survey.pdf.embeddings.json\n",
      "./embeddings/0-Wyandotte-Sreet-East-Ganatchio-Gardens-Inc/Archaeological Assessment.pdf.embeddings.json\n",
      "./embeddings/0-Wyandotte-Sreet-East-Ganatchio-Gardens-Inc/Archaeological Supplementary Report.pdf.embeddings.json\n",
      "./embeddings/0-Wyandotte-Sreet-East-Ganatchio-Gardens-Inc/Concept Plan.pdf.embeddings.json\n",
      "./embeddings/0-Wyandotte-Sreet-East-Ganatchio-Gardens-Inc/Environmental Evaluation Report Terms of Reference.pdf.embeddings.json\n",
      "./embeddings/0-Wyandotte-Sreet-East-Ganatchio-Gardens-Inc/Environmental Evaluation Report.pdf.embeddings.json\n",
      "./embeddings/0-Wyandotte-Sreet-East-Ganatchio-Gardens-Inc/Functional Servicing Report.pdf.embeddings.json\n",
      "./embeddings/0-Wyandotte-Sreet-East-Ganatchio-Gardens-Inc/Ganatchio Gardens Energy Strategy Report.pdf.embeddings.json\n",
      "./embeddings/0-Wyandotte-Sreet-East-Ganatchio-Gardens-Inc/Location Map.pdf.embeddings.json\n",
      "./embeddings/0-Wyandotte-Sreet-East-Ganatchio-Gardens-Inc/Natural Site Features Inventory and Preservation Study.pdf.embeddings.json\n",
      "./embeddings/0-Wyandotte-Sreet-East-Ganatchio-Gardens-Inc/Odour Assessment.pdf.embeddings.json\n",
      "./embeddings/0-Wyandotte-Sreet-East-Ganatchio-Gardens-Inc/Official Plan Amendment Application.pdf.embeddings.json\n",
      "./embeddings/0-Wyandotte-Sreet-East-Ganatchio-Gardens-Inc/Parking Plan.pdf.embeddings.json\n",
      "./embeddings/0-Wyandotte-Sreet-East-Ganatchio-Gardens-Inc/Phase I Environmental Site Assessment.pdf.embeddings.json\n",
      "./embeddings/0-Wyandotte-Sreet-East-Ganatchio-Gardens-Inc/Planning Justification Report.pdf.embeddings.json\n",
      "./embeddings/0-Wyandotte-Sreet-East-Ganatchio-Gardens-Inc/Planning Justification Report - Updated.pdf.embeddings.json\n",
      "./embeddings/0-Wyandotte-Sreet-East-Ganatchio-Gardens-Inc/Public Information Centre Engagement Summary.pdf.embeddings.json\n",
      "./embeddings/0-Wyandotte-Sreet-East-Ganatchio-Gardens-Inc/Shadow Impact Study.pdf.embeddings.json\n",
      "./embeddings/0-Wyandotte-Sreet-East-Ganatchio-Gardens-Inc/Soil Characterization Report.pdf.embeddings.json\n",
      "./embeddings/0-Wyandotte-Sreet-East-Ganatchio-Gardens-Inc/Stormwater Management Report.pdf.embeddings.json\n",
      "./embeddings/0-Wyandotte-Sreet-East-Ganatchio-Gardens-Inc/Topographic Survey.pdf.embeddings.json\n",
      "./embeddings/0-Wyandotte-Sreet-East-Ganatchio-Gardens-Inc/Traffic Impact Study.pdf.embeddings.json\n",
      "./embeddings/0-Wyandotte-Sreet-East-Ganatchio-Gardens-Inc/Tree Inventory and Preservation Report.pdf.embeddings.json\n",
      "./embeddings/0-Wyandotte-Sreet-East-Ganatchio-Gardens-Inc/Zoning By-law Amendment Application.pdf.embeddings.json\n"
     ]
    }
   ],
   "source": [
    "# scan for all json files in ./embeddings\n",
    "json_files = []\n",
    "for root, dirs, files in os.walk(\"./embeddings\"):\n",
    "    for file in files:\n",
    "        if file.endswith(\".json\"):\n",
    "            json_files.append(os.path.join\n",
    "                (root, file))\n",
    "# print the list of json files\n",
    "print(\"Found the following json files:\")\n",
    "for json_file in json_files:\n",
    "    print(json_file)"
   ]
  },
  {
   "cell_type": "code",
   "execution_count": null,
   "id": "c63509e9",
   "metadata": {},
   "outputs": [],
   "source": [
    "# embeddings count\n",
    "# for each json file, count the number of embeddings\n",
    "# json file structure: {embeddings: []}\n",
    "embeddings_count = 0\n",
    "for json_file in json_files:\n",
    "    # load json\n",
    "    with open(json_file, \"r\") as f:\n",
    "        data = json.load(f)\n",
    "        # check if the file has the correct structure\n",
    "        if \"embeddings\" in data:\n",
    "            # count the number of embeddings\n",
    "            embeddings_count += len(data[\"embeddings\"])\n",
    "        else:\n",
    "            print(f\"File {json_file} does not have the correct structure\")\n",
    "print(f\"Total number of embeddings: {embeddings_count}\")"
   ]
  }
 ],
 "metadata": {
  "kernelspec": {
   "display_name": "venv",
   "language": "python",
   "name": "python3"
  },
  "language_info": {
   "codemirror_mode": {
    "name": "ipython",
    "version": 3
   },
   "file_extension": ".py",
   "mimetype": "text/x-python",
   "name": "python",
   "nbconvert_exporter": "python",
   "pygments_lexer": "ipython3",
   "version": "3.11.2"
  }
 },
 "nbformat": 4,
 "nbformat_minor": 5
}
